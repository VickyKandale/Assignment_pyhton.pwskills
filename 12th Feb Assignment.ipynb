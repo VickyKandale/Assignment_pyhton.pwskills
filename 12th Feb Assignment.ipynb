{
 "cells": [
  {
   "cell_type": "markdown",
   "id": "1a6221a2-246d-4ccb-960a-896b113e2980",
   "metadata": {},
   "source": [
    "# Q1. What is an Exception in python? Write the difference between Exceptions and syntax errors.\n"
   ]
  },
  {
   "cell_type": "markdown",
   "id": "f364e13d-c1f4-4869-b3f6-b4a9affe6db4",
   "metadata": {},
   "source": [
    "In Python, an exception is an error that occurs during the execution of a program. When an exception occurs, the normal flow of execution is interrupted and the program terminates unless the exception is handled properly using try-except blocks.\n",
    "\n",
    "Exceptions can occur due to various reasons such as invalid input, unexpected conditions, insufficient resources, or programming errors. Python provides built-in exceptions for different types of errors, and users can also create custom exceptions as needed.\n",
    "\n",
    "Syntax errors, on the other hand, occur when the Python interpreter is unable to parse a program due to incorrect syntax. Syntax errors are usually detected during the compilation of the code and cause the program to fail before it even starts running. Common syntax errors include missing parentheses or quotation marks, incorrect indentation, and misspelled keywords.\n",
    "\n",
    "The main difference between exceptions and syntax errors is that syntax errors occur due to mistakes in the code's syntax, whereas exceptions occur during the execution of the program due to unexpected conditions or errors in the logic of the program. Additionally, syntax errors are usually detected during the compilation of the code, while exceptions are detected during the runtime of the program. Finally, while syntax errors cause the program to fail before it starts running, exceptions can be caught and handled during runtime, allowing the program to continue executing."
   ]
  },
  {
   "cell_type": "markdown",
   "id": "741f8d6d-ccd4-44d0-a172-19dedc8cf249",
   "metadata": {},
   "source": [
    "# Q.2 What happen when an exception in not handled ? Explain with example.\n",
    "\n"
   ]
  },
  {
   "cell_type": "markdown",
   "id": "be57391b-7bd2-4b94-969c-bd9665309643",
   "metadata": {},
   "source": [
    "When an exception is not handled, it leads to a program's termination and an error message is displayed. The error message shows the exception type, the line number where the exception occurred, and a traceback that shows the function calls that led up to the exception.\n",
    "\n",
    "Here's an example:"
   ]
  },
  {
   "cell_type": "code",
   "execution_count": 1,
   "id": "c0e7dea7-7910-4357-bd4c-03d7eea8f699",
   "metadata": {},
   "outputs": [
    {
     "ename": "ZeroDivisionError",
     "evalue": "division by zero",
     "output_type": "error",
     "traceback": [
      "\u001b[0;31m---------------------------------------------------------------------------\u001b[0m",
      "\u001b[0;31mZeroDivisionError\u001b[0m                         Traceback (most recent call last)",
      "Cell \u001b[0;32mIn[1], line 6\u001b[0m\n\u001b[1;32m      4\u001b[0m a \u001b[38;5;241m=\u001b[39m \u001b[38;5;241m10\u001b[39m\n\u001b[1;32m      5\u001b[0m b \u001b[38;5;241m=\u001b[39m \u001b[38;5;241m0\u001b[39m\n\u001b[0;32m----> 6\u001b[0m c \u001b[38;5;241m=\u001b[39m \u001b[43mdivide\u001b[49m\u001b[43m(\u001b[49m\u001b[43ma\u001b[49m\u001b[43m,\u001b[49m\u001b[43m \u001b[49m\u001b[43mb\u001b[49m\u001b[43m)\u001b[49m\n\u001b[1;32m      7\u001b[0m \u001b[38;5;28mprint\u001b[39m(c)\n",
      "Cell \u001b[0;32mIn[1], line 2\u001b[0m, in \u001b[0;36mdivide\u001b[0;34m(x, y)\u001b[0m\n\u001b[1;32m      1\u001b[0m \u001b[38;5;28;01mdef\u001b[39;00m \u001b[38;5;21mdivide\u001b[39m(x, y):\n\u001b[0;32m----> 2\u001b[0m     \u001b[38;5;28;01mreturn\u001b[39;00m \u001b[43mx\u001b[49m\u001b[43m \u001b[49m\u001b[38;5;241;43m/\u001b[39;49m\u001b[43m \u001b[49m\u001b[43my\u001b[49m\n",
      "\u001b[0;31mZeroDivisionError\u001b[0m: division by zero"
     ]
    }
   ],
   "source": [
    "def divide(x, y):\n",
    "    return x / y\n",
    "\n",
    "a = 10\n",
    "b = 0\n",
    "c = divide(a, b)\n",
    "print(c)\n"
   ]
  },
  {
   "cell_type": "markdown",
   "id": "7aded349-bc7a-4c9c-bdd3-66ecd1d0e9b5",
   "metadata": {},
   "source": [
    "In this example, the function divide() attempts to divide x by y. However, when y is zero, a ZeroDivisionError exception is raised. Since there is no exception handling code, the exception is not handled, and the program terminates with an error message that looks like above."
   ]
  },
  {
   "cell_type": "markdown",
   "id": "e83d5899-9f1e-41da-9d64-24c4103b4b55",
   "metadata": {},
   "source": [
    "To handle the exception, we can wrap the divide() function call in a try-except block:"
   ]
  },
  {
   "cell_type": "code",
   "execution_count": 2,
   "id": "122ea90f-a6da-429e-a352-631e6b2062bb",
   "metadata": {},
   "outputs": [
    {
     "name": "stdout",
     "output_type": "stream",
     "text": [
      "Cannot divide by zero\n"
     ]
    }
   ],
   "source": [
    "def divide(x, y):\n",
    "    return x / y\n",
    "\n",
    "a = 10\n",
    "b = 0\n",
    "try:\n",
    "    c = divide(a, b)\n",
    "    print(c)\n",
    "except ZeroDivisionError:\n",
    "    print(\"Cannot divide by zero\")\n"
   ]
  },
  {
   "cell_type": "markdown",
   "id": "8069dea5-b88f-4fb7-9f85-6f29a3ae2c54",
   "metadata": {},
   "source": [
    "In this updated example, the divide() function call is wrapped in a try-except block. If a ZeroDivisionError exception is raised, the except block is executed, and the message \"Cannot divide by zero\" is printed. This prevents the program from terminating due to the exception."
   ]
  },
  {
   "cell_type": "markdown",
   "id": "c71923b6-38c1-46d6-8dea-9c52d76a03d9",
   "metadata": {},
   "source": [
    "# Q.3 Which python statements are used to catched and handle exceptions? Explain with an example."
   ]
  },
  {
   "cell_type": "markdown",
   "id": "0c716662-512f-400e-a3bb-44290337a421",
   "metadata": {},
   "source": [
    "In Python, the try-except block is used to catch and handle exceptions. The try block contains the code that may raise an exception, and the except block contains the code that handles the exception.\n",
    "\n",
    "Here's an example:"
   ]
  },
  {
   "cell_type": "code",
   "execution_count": 5,
   "id": "cc55dd20-7155-46d8-b7f5-79a820203cf7",
   "metadata": {},
   "outputs": [
    {
     "name": "stdin",
     "output_type": "stream",
     "text": [
      "Enter a number:  4\n",
      "Enter another number:  m\n"
     ]
    },
    {
     "name": "stdout",
     "output_type": "stream",
     "text": [
      "Invalid input, please enter a number.\n"
     ]
    }
   ],
   "source": [
    "try:\n",
    "    a = int(input(\"Enter a number: \"))\n",
    "    b = int(input(\"Enter another number: \"))\n",
    "    c = a / b\n",
    "    print(\"The result is:\", c)\n",
    "except ValueError:\n",
    "    print(\"Invalid input, please enter a number.\")\n",
    "except ZeroDivisionError:\n",
    "    print(\"Cannot divide by zero.\")\n"
   ]
  },
  {
   "cell_type": "markdown",
   "id": "2924a50d-cc17-48aa-9813-80c091597b2c",
   "metadata": {},
   "source": [
    "In this example, the try block contains code that prompts the user to enter two numbers, divides the first number by the second number, and prints the result. If the user enters invalid input (i.e., a non-integer value), a ValueError exception is raised. If the user enters 0 as the second number, a ZeroDivisionError exception is raised.\n",
    "\n",
    "The except block contains two exception handlers. The first handler catches ValueError exceptions and prints a message informing the user to enter a valid number. The second handler catches ZeroDivisionError exceptions and prints a message informing the user that division by zero is not allowed.\n",
    "\n",
    "By using the try-except block, the program can handle exceptions gracefully and provide informative error messages to the user, rather than simply terminating with a traceback."
   ]
  },
  {
   "cell_type": "markdown",
   "id": "c4b1449d-65b7-42c4-821c-79e256732f39",
   "metadata": {},
   "source": [
    "# Q.4 Explain with an example:\n",
    " a. try and else\n",
    " \n",
    " b. finally\n",
    " \n",
    " c. raise"
   ]
  },
  {
   "cell_type": "markdown",
   "id": "2a87bd9a-a0e3-4880-8030-806b28f759e5",
   "metadata": {},
   "source": [
    "---> a. try and else:\n",
    "In Python, the else block can be used in conjunction with try and except to handle a case where no exceptions are raised. The code inside the else block is executed if the try block does not raise any exceptions.\n",
    "\n",
    "Here's an example:"
   ]
  },
  {
   "cell_type": "code",
   "execution_count": 6,
   "id": "b8e80636-5ab3-47e5-b02f-df2e46a4c32d",
   "metadata": {},
   "outputs": [
    {
     "name": "stdin",
     "output_type": "stream",
     "text": [
      "Enter a number:  5\n",
      "Enter another number:  0\n"
     ]
    },
    {
     "name": "stdout",
     "output_type": "stream",
     "text": [
      "Cannot divide by zero.\n"
     ]
    }
   ],
   "source": [
    "try:\n",
    "    x = int(input(\"Enter a number: \"))\n",
    "    y = int(input(\"Enter another number: \"))\n",
    "    z = x / y\n",
    "except ValueError:\n",
    "    print(\"Invalid input, please enter a number.\")\n",
    "except ZeroDivisionError:\n",
    "    print(\"Cannot divide by zero.\")\n",
    "else:\n",
    "    print(\"The result is:\", z)\n"
   ]
  },
  {
   "cell_type": "markdown",
   "id": "1c8a4a35-7f57-4221-bd0e-9d8c9633ac58",
   "metadata": {},
   "source": [
    "In this example, the try block attempts to divide the first number by the second number. If the user enters invalid input or attempts to divide by zero, the appropriate exception handler is executed. If no exceptions are raised, the else block is executed, which prints the result of the division.\n",
    "\n",
    "b. finally:\n",
    "In Python, the finally block is used to execute code that must always run, regardless of whether an exception was raised or not. The code inside the finally block is executed whether or not an exception occurs.\n",
    "\n",
    "Here's an example:"
   ]
  },
  {
   "cell_type": "code",
   "execution_count": 7,
   "id": "30aa0ec1-61bc-4dd3-b366-fced40e174c7",
   "metadata": {},
   "outputs": [
    {
     "name": "stdout",
     "output_type": "stream",
     "text": [
      "File not found.\n"
     ]
    },
    {
     "ename": "NameError",
     "evalue": "name 'file' is not defined",
     "output_type": "error",
     "traceback": [
      "\u001b[0;31m---------------------------------------------------------------------------\u001b[0m",
      "\u001b[0;31mNameError\u001b[0m                                 Traceback (most recent call last)",
      "Cell \u001b[0;32mIn[7], line 8\u001b[0m\n\u001b[1;32m      6\u001b[0m     \u001b[38;5;28mprint\u001b[39m(\u001b[38;5;124m\"\u001b[39m\u001b[38;5;124mFile not found.\u001b[39m\u001b[38;5;124m\"\u001b[39m)\n\u001b[1;32m      7\u001b[0m \u001b[38;5;28;01mfinally\u001b[39;00m:\n\u001b[0;32m----> 8\u001b[0m     \u001b[43mfile\u001b[49m\u001b[38;5;241m.\u001b[39mclose()\n",
      "\u001b[0;31mNameError\u001b[0m: name 'file' is not defined"
     ]
    }
   ],
   "source": [
    "try:\n",
    "    file = open(\"example.txt\", \"r\")\n",
    "    content = file.read()\n",
    "    print(content)\n",
    "except FileNotFoundError:\n",
    "    print(\"File not found.\")\n",
    "finally:\n",
    "    file.close()\n"
   ]
  },
  {
   "cell_type": "markdown",
   "id": "12effbe9-580d-4f31-a784-a2a4130d1cc5",
   "metadata": {},
   "source": [
    "In this example, the try block attempts to open a file, read its contents, and print them to the console. If the file does not exist, a FileNotFoundError exception is raised, and the appropriate exception handler is executed. Regardless of whether an exception is raised or not, the finally block is executed, which closes the file.\n",
    "\n",
    "c. raise:\n",
    "In Python, the raise statement is used to raise an exception manually. This can be useful in situations where you need to handle a specific error condition that is not handled by any of the built-in exceptions.\n",
    "\n",
    "Here's an example:"
   ]
  },
  {
   "cell_type": "code",
   "execution_count": 8,
   "id": "c3c9c40f-c970-4cae-b156-21aa5f52698d",
   "metadata": {},
   "outputs": [
    {
     "name": "stdout",
     "output_type": "stream",
     "text": [
      "Cannot divide by zero.\n"
     ]
    }
   ],
   "source": [
    "def divide(x, y):\n",
    "    if y == 0:\n",
    "        raise ZeroDivisionError(\"Cannot divide by zero.\")\n",
    "    else:\n",
    "        return x / y\n",
    "\n",
    "try:\n",
    "    a = 10\n",
    "    b = 0\n",
    "    c = divide(a, b)\n",
    "    print(c)\n",
    "except ZeroDivisionError as e:\n",
    "    print(e)\n"
   ]
  },
  {
   "cell_type": "markdown",
   "id": "cd62f674-7f77-4345-b064-0117ae2a4db9",
   "metadata": {},
   "source": [
    "In this example, the divide() function raises a ZeroDivisionError exception if the second argument is 0. The try block calls the divide() function with arguments that will raise an exception, and the except block catches the ZeroDivisionError and prints the error message.\n",
    "\n",
    "Using the raise statement, we can raise our own custom exceptions and handle them in a way that makes sense for our program.\n",
    "\n",
    "\n",
    "\n",
    "\n",
    "\n"
   ]
  },
  {
   "cell_type": "markdown",
   "id": "e07cce17-6ee6-45c6-99cb-a7b2a165829e",
   "metadata": {},
   "source": [
    "# Q.5 What are custom exceptions in python? why do we need custom exceptions? Explain with example?"
   ]
  },
  {
   "cell_type": "markdown",
   "id": "a80d78d2-f977-42f6-8940-3ed919b24978",
   "metadata": {},
   "source": [
    "Custom exceptions in Python are user-defined exceptions that inherit from the built-in Exception class or one of its subclasses. These exceptions are designed to handle specific error conditions that are not handled by any of the built-in exceptions.\n",
    "\n",
    "We need custom exceptions to provide more informative error messages to users or to handle specific error conditions that are unique to our program. By defining our own custom exceptions, we can make our code more readable, maintainable, and easier to debug.\n",
    "\n",
    "Here's an example of a custom exception in Python:"
   ]
  },
  {
   "cell_type": "code",
   "execution_count": 9,
   "id": "7e40bdc2-bee2-4dec-9bba-5a8b96c25dda",
   "metadata": {},
   "outputs": [
    {
     "name": "stdout",
     "output_type": "stream",
     "text": [
      "Cannot take square root of a negative number.\n"
     ]
    }
   ],
   "source": [
    "class NegativeNumberError(Exception):\n",
    "    def __init__(self, message):\n",
    "        self.message = message\n",
    "\n",
    "def square_root(x):\n",
    "    if x < 0:\n",
    "        raise NegativeNumberError(\"Cannot take square root of a negative number.\")\n",
    "    else:\n",
    "        return x ** 0.5\n",
    "\n",
    "try:\n",
    "    a = -10\n",
    "    b = square_root(a)\n",
    "    print(b)\n",
    "except NegativeNumberError as e:\n",
    "    print(e.message)\n"
   ]
  },
  {
   "cell_type": "markdown",
   "id": "d4214992-c73e-4b85-b6b6-17f8fea44812",
   "metadata": {},
   "source": [
    "In this example, we define a custom exception called NegativeNumberError that is raised when the input to the square_root() function is negative. The NegativeNumberError class inherits from the built-in Exception class and defines a constructor that takes a message as an argument.\n",
    "\n",
    "The square_root() function checks if the input is negative, and if so, raises a NegativeNumberError with an informative error message.\n",
    "\n",
    "The try block calls the square_root() function with a negative input, which raises a NegativeNumberError. The except block catches the NegativeNumberError and prints the error message.\n",
    "\n",
    "By using a custom exception, we can provide a more informative error message to the user, which makes our code more readable and easier to debug. Additionally, we can handle specific error conditions that are unique to our program, which makes our code more robust and maintainable."
   ]
  },
  {
   "cell_type": "markdown",
   "id": "ba303364-810f-4330-97ad-83206f62dc5f",
   "metadata": {},
   "source": [
    "# Q.6 Create a custom exception class. use the to handle the exception. "
   ]
  },
  {
   "cell_type": "markdown",
   "id": "04eeecdb-d0a2-4aa7-8e98-e35bb9d87a7a",
   "metadata": {},
   "source": [
    "here's an example of a custom exception class called InvalidEmailException that can be used to handle invalid email addresses:"
   ]
  },
  {
   "cell_type": "code",
   "execution_count": 10,
   "id": "5853bd8f-640e-4713-929b-36e33b561ad0",
   "metadata": {},
   "outputs": [],
   "source": [
    "class InvalidEmailException(Exception):\n",
    "    def __init__(self, message=\"Invalid email address.\"):\n",
    "        self.message = message\n",
    "        super().__init__(self.message)\n"
   ]
  },
  {
   "cell_type": "markdown",
   "id": "df6b2188-2062-4d6b-b330-72c423776ffe",
   "metadata": {},
   "source": [
    "You can use this custom exception class to handle invalid email addresses like this:\n",
    "\n"
   ]
  },
  {
   "cell_type": "code",
   "execution_count": 11,
   "id": "b04dd6ff-3963-458d-b5b9-5366497ca349",
   "metadata": {},
   "outputs": [
    {
     "name": "stdout",
     "output_type": "stream",
     "text": [
      "Email address must contain @ symbol.\n"
     ]
    }
   ],
   "source": [
    "def validate_email(email):\n",
    "    if \"@\" not in email:\n",
    "        raise InvalidEmailException(\"Email address must contain @ symbol.\")\n",
    "    # other validation code here\n",
    "\n",
    "try:\n",
    "    validate_email(\"john.doe.example.com\")\n",
    "except InvalidEmailException as e:\n",
    "    print(e.message)\n"
   ]
  },
  {
   "cell_type": "code",
   "execution_count": null,
   "id": "185200c9-b4f2-4109-b0dc-ab5f22860b0d",
   "metadata": {},
   "outputs": [],
   "source": []
  }
 ],
 "metadata": {
  "kernelspec": {
   "display_name": "Python 3 (ipykernel)",
   "language": "python",
   "name": "python3"
  },
  "language_info": {
   "codemirror_mode": {
    "name": "ipython",
    "version": 3
   },
   "file_extension": ".py",
   "mimetype": "text/x-python",
   "name": "python",
   "nbconvert_exporter": "python",
   "pygments_lexer": "ipython3",
   "version": "3.10.8"
  }
 },
 "nbformat": 4,
 "nbformat_minor": 5
}
