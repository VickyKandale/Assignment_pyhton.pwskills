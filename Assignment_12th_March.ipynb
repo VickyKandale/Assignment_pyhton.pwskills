{
  "nbformat": 4,
  "nbformat_minor": 0,
  "metadata": {
    "colab": {
      "provenance": [],
      "authorship_tag": "ABX9TyPPwlb4OVlXNOt6mV2ZicWM",
      "include_colab_link": true
    },
    "kernelspec": {
      "name": "python3",
      "display_name": "Python 3"
    },
    "language_info": {
      "name": "python"
    }
  },
  "cells": [
    {
      "cell_type": "markdown",
      "metadata": {
        "id": "view-in-github",
        "colab_type": "text"
      },
      "source": [
        "<a href=\"https://colab.research.google.com/github/VickyKandale/Assignment_pyhton.pwskills/blob/main/Assignment_12th_March.ipynb\" target=\"_parent\"><img src=\"https://colab.research.google.com/assets/colab-badge.svg\" alt=\"Open In Colab\"/></a>"
      ]
    },
    {
      "cell_type": "markdown",
      "source": [
        "#Statistics Advance-5"
      ],
      "metadata": {
        "id": "BOHnkXq9PS3s"
      }
    },
    {
      "cell_type": "markdown",
      "source": [
        "##Q1. Calculate the 95% confidence interval for a sample of data with a mean of 50 and a standard deviation of 5 using Python. Interpret the results."
      ],
      "metadata": {
        "id": "15KnegAWPWZR"
      }
    },
    {
      "cell_type": "code",
      "source": [
        "import scipy.stats as stats\n",
        "\n",
        "data_mean = 50\n",
        "data_std = 5\n",
        "n = 100  # sample size\n",
        "confidence_level = 0.95\n",
        "\n",
        "# calculate the standard error\n",
        "se = data_std / (n ** 0.5)\n",
        "\n",
        "# calculate the t-score for the given confidence level and degrees of freedom\n",
        "t = stats.t.ppf((1 + confidence_level) / 2, n - 1)\n",
        "\n",
        "# calculate the confidence interval\n",
        "ci_lower, ci_upper = data_mean - t * se, data_mean + t * se\n",
        "\n",
        "print(\"95% Confidence Interval: [{:.2f}, {:.2f}]\".format(ci_lower, ci_upper))\n"
      ],
      "metadata": {
        "colab": {
          "base_uri": "https://localhost:8080/"
        },
        "id": "c-Il1G6B4qu2",
        "outputId": "3a920a62-fffa-4fbc-d20c-6a28f53476d1"
      },
      "execution_count": 1,
      "outputs": [
        {
          "output_type": "stream",
          "name": "stdout",
          "text": [
            "95% Confidence Interval: [49.01, 50.99]\n"
          ]
        }
      ]
    },
    {
      "cell_type": "markdown",
      "source": [
        "##Q2. Conduct a chi-square goodness of fit test to determine if the distribution of colors of M&Ms in a bag matches the expected distribution of 20% blue, 20% orange, 20% green, 10% yellow, 10% red, and 20% brown. Use Python to perform the test with a significance level of 0.05."
      ],
      "metadata": {
        "id": "i4mRAp1dQs0S"
      }
    },
    {
      "cell_type": "code",
      "source": [
        "import numpy as np\n",
        "from scipy.stats import chisquare\n",
        "\n",
        "# observed frequencies\n",
        "obs = np.array([25, 18, 22, 12, 8, 15])\n",
        "\n",
        "# expected frequencies\n",
        "exp = np.array([0.2, 0.2, 0.2, 0.1, 0.1, 0.2]) * sum(obs)\n",
        "\n",
        "# perform chi-square goodness of fit test\n",
        "chi2, p = chisquare(obs, f_exp=exp)\n",
        "\n",
        "# print results\n",
        "print(\"Chi-square statistic:\", chi2)\n",
        "print(\"P-value:\", p)\n",
        "if p < 0.05:\n",
        "    print(\"Reject null hypothesis: the distribution does not match the expected distribution.\")\n",
        "else:\n",
        "    print(\"Fail to reject null hypothesis: the distribution matches the expected distribution.\")\n"
      ],
      "metadata": {
        "colab": {
          "base_uri": "https://localhost:8080/"
        },
        "id": "7YZsgcJaP94j",
        "outputId": "8db5be53-027c-401b-c976-75ac6ca97921"
      },
      "execution_count": null,
      "outputs": [
        {
          "output_type": "stream",
          "name": "stdout",
          "text": [
            "Chi-square statistic: 3.6999999999999997\n",
            "P-value: 0.5933639617818078\n",
            "Fail to reject null hypothesis: the distribution matches the expected distribution.\n"
          ]
        }
      ]
    },
    {
      "cell_type": "markdown",
      "source": [
        "##Q3.Use Python to calculate the chi-square statistic and p-value for a contingency table with the following data:\n",
        " \n",
        "             Group A     Group B\n",
        "    Outcome1    20          15\n",
        "    Outcome2    10          25\n",
        "    Outcome3    15          20\n",
        "\n",
        "Interpret the results of the test"
      ],
      "metadata": {
        "id": "cAtVN8gy4CPD"
      }
    },
    {
      "cell_type": "code",
      "source": [
        "import numpy as np\n",
        "import scipy.stats as stats\n",
        "\n",
        "# create the contingency table\n",
        "observed = np.array([[20, 15], [10, 25], [15, 20]])\n",
        "\n",
        "# calculate the chi-square test statistic, p-value, degrees of freedom, and expected frequencies\n",
        "chi2, p_value, dof, expected = stats.chi2_contingency(observed)\n",
        "\n",
        "print(\"Chi-square test statistic:\", chi2)\n",
        "print(\"p-value:\", p_value)\n",
        "print(\"Degrees of freedom:\", dof)\n",
        "print(\"Expected frequencies:\\n\", expected)\n"
      ],
      "metadata": {
        "id": "i6_W1FTnP-XP",
        "colab": {
          "base_uri": "https://localhost:8080/"
        },
        "outputId": "5e607eda-a1da-4bce-8ee6-bfafff8a1492"
      },
      "execution_count": 2,
      "outputs": [
        {
          "output_type": "stream",
          "name": "stdout",
          "text": [
            "Chi-square test statistic: 5.833333333333334\n",
            "p-value: 0.05411376622282158\n",
            "Degrees of freedom: 2\n",
            "Expected frequencies:\n",
            " [[15. 20.]\n",
            " [15. 20.]\n",
            " [15. 20.]]\n"
          ]
        }
      ]
    },
    {
      "cell_type": "markdown",
      "source": [],
      "metadata": {
        "id": "TrM4Ass94vZk"
      }
    },
    {
      "cell_type": "markdown",
      "source": [
        "##Q4. A study of the prevalence of smoking in a population of 500 individuals found that 60 individuals smoked. Use Python to calculate the 95% confidence interval for the true proportion of individuals in the population who smoke."
      ],
      "metadata": {
        "id": "TvAo-Z_a4vnT"
      }
    },
    {
      "cell_type": "code",
      "source": [
        "import statsmodels.stats.proportion as prop\n",
        "\n",
        "n = 500  # sample size\n",
        "observed = 60  # number of smokers in the sample\n",
        "alpha = 0.05  # significance level\n",
        "\n",
        "# calculate the lower and upper bounds of the confidence interval\n",
        "ci_lower, ci_upper = prop.proportion_confint(observed, n, alpha)\n",
        "\n",
        "print(\"95% Confidence Interval: [{:.4f}, {:.4f}]\".format(ci_lower, ci_upper))\n"
      ],
      "metadata": {
        "colab": {
          "base_uri": "https://localhost:8080/"
        },
        "id": "1lIUJ0mj40lr",
        "outputId": "53fc2bd4-e931-4b42-ead5-248540925ecb"
      },
      "execution_count": 3,
      "outputs": [
        {
          "output_type": "stream",
          "name": "stdout",
          "text": [
            "95% Confidence Interval: [0.0915, 0.1485]\n"
          ]
        }
      ]
    },
    {
      "cell_type": "markdown",
      "source": [
        "##Q5. Calculate the 90% confidence interval for a sample of data with a mean of 75 and a standard deviation of 12 using Python. Interpret the results."
      ],
      "metadata": {
        "id": "GOk-Pj2J5JWT"
      }
    },
    {
      "cell_type": "code",
      "source": [
        "import scipy.stats as stats\n",
        "\n",
        "data_mean = 75\n",
        "data_std = 12\n",
        "n = 100  # sample size\n",
        "confidence_level = 0.90\n",
        "\n",
        "# calculate the standard error\n",
        "se = data_std / (n ** 0.5)\n",
        "\n",
        "# calculate the t-score for the given confidence level and degrees of freedom\n",
        "t = stats.t.ppf((1 + confidence_level) / 2, n - 1)\n",
        "\n",
        "# calculate the confidence interval\n",
        "ci_lower, ci_upper = data_mean - t * se, data_mean + t * se\n",
        "\n",
        "print(\"90% Confidence Interval: [{:.2f}, {:.2f}]\".format(ci_lower, ci_upper))\n"
      ],
      "metadata": {
        "colab": {
          "base_uri": "https://localhost:8080/"
        },
        "id": "uhI7TM435Ksk",
        "outputId": "44eea1dd-873a-4897-96ca-bdc50027ddc6"
      },
      "execution_count": 4,
      "outputs": [
        {
          "output_type": "stream",
          "name": "stdout",
          "text": [
            "90% Confidence Interval: [73.01, 76.99]\n"
          ]
        }
      ]
    },
    {
      "cell_type": "markdown",
      "source": [
        "##Q6. Use Python to plot the chi-square distribution with 10 degrees of freedom. Label the axes and shade the area corresponding to a chi-square statistic of 15."
      ],
      "metadata": {
        "id": "BST8e5g_5St7"
      }
    },
    {
      "cell_type": "code",
      "source": [
        "import numpy as np\n",
        "import scipy.stats as stats\n",
        "import matplotlib.pyplot as plt\n",
        "\n",
        "# set the degrees of freedom\n",
        "df = 10\n",
        "\n",
        "# define the x range for the plot\n",
        "x = np.linspace(0, 30, 500)\n",
        "\n",
        "# generate the chi-square distribution\n",
        "dist = stats.chi2(df)\n",
        "\n",
        "# plot the chi-square distribution\n",
        "plt.plot(x, dist.pdf(x), label='chi-square pdf')\n",
        "\n",
        "# shade the area corresponding to a chi-square statistic of 15\n",
        "x_shade = np.linspace(15, 30, 100)\n",
        "y_shade = dist.pdf(x_shade)\n",
        "plt.fill_between(x_shade, y_shade, color='blue', alpha=0.2)\n",
        "\n",
        "# label the axes\n",
        "plt.xlabel('x')\n",
        "plt.ylabel('Probability density')\n",
        "plt.title('Chi-square Distribution with df = {}'.format(df))\n",
        "plt.legend()\n",
        "\n",
        "plt.show()\n"
      ],
      "metadata": {
        "colab": {
          "base_uri": "https://localhost:8080/",
          "height": 472
        },
        "id": "MsdMDJSW5UF9",
        "outputId": "25fb2c96-148e-478e-eca9-f60a9fef9d48"
      },
      "execution_count": 5,
      "outputs": [
        {
          "output_type": "display_data",
          "data": {
            "text/plain": [
              "<Figure size 640x480 with 1 Axes>"
            ],
            "image/png": "[encoded data removed]"
          },
          "metadata": {}
        }
      ]
    },
    {
      "cell_type": "markdown",
      "source": [
        "##Q7. A random sample of 1000 people was asked if they preferred Coke or Pepsi. Of the sample, 520 preferred Coke. Calculate a 99% confidence interval for the true proportion of people in the population who prefer Coke."
      ],
      "metadata": {
        "id": "PtdEjWlw5WdL"
      }
    },
    {
      "cell_type": "code",
      "source": [
        "import math\n",
        "\n",
        "n = 1000\n",
        "p = 520/n\n",
        "z = 2.576 # z-score for 99% confidence interval\n",
        "\n",
        "std_err = math.sqrt(p*(1-p)/n)\n",
        "ci_lower = p - z*std_err\n",
        "ci_upper = p + z*std_err\n",
        "\n",
        "print(\"99% Confidence Interval: [{:.4f}, {:.4f}]\".format(ci_lower, ci_upper))\n"
      ],
      "metadata": {
        "colab": {
          "base_uri": "https://localhost:8080/"
        },
        "id": "eqPC79m15ZMK",
        "outputId": "0dde0007-8547-4cdc-f7f1-d4a1143ec36a"
      },
      "execution_count": 6,
      "outputs": [
        {
          "output_type": "stream",
          "name": "stdout",
          "text": [
            "99% Confidence Interval: [0.4793, 0.5607]\n"
          ]
        }
      ]
    },
    {
      "cell_type": "markdown",
      "source": [
        "##Q8. A researcher hypothesizes that a coin is biased towards tails. They flip the coin 100 times and observe 45 tails. Conduct a chi-square goodness of fit test to determine if the observed frequencies match the expected frequencies of a fair coin. Use a significance level of 0.05."
      ],
      "metadata": {
        "id": "uhVgEvGs5gOE"
      }
    },
    {
      "cell_type": "code",
      "source": [
        "import numpy as np\n",
        "import scipy.stats as stats\n",
        "\n",
        "# set the significance level\n",
        "alpha = 0.05\n",
        "\n",
        "# set the expected frequencies for a fair coin\n",
        "expected = [50, 50]\n",
        "\n",
        "# observe the frequencies of tails\n",
        "observed = [45, 55]\n",
        "\n",
        "# conduct the chi-square goodness of fit test\n",
        "chi2_stat, p_val = stats.chisquare(observed, expected)\n",
        "\n",
        "# print the results\n",
        "print(\"Chi-Square Statistic: {:.2f}\".format(chi2_stat))\n",
        "print(\"p-value: {:.4f}\".format(p_val))\n",
        "\n",
        "if p_val < alpha:\n",
        "    print(\"The null hypothesis can be rejected.\")\n",
        "else:\n",
        "    print(\"The null hypothesis cannot be rejected.\")\n"
      ],
      "metadata": {
        "colab": {
          "base_uri": "https://localhost:8080/"
        },
        "id": "upT1VG1l5iXp",
        "outputId": "a8204260-d050-4a0d-aa57-e9c4724e9159"
      },
      "execution_count": 8,
      "outputs": [
        {
          "output_type": "stream",
          "name": "stdout",
          "text": [
            "Chi-Square Statistic: 1.00\n",
            "p-value: 0.3173\n",
            "The null hypothesis cannot be rejected.\n"
          ]
        }
      ]
    },
    {
      "cell_type": "markdown",
      "source": [
        "##Q9. A study was conducted to determine if there is an association between smoking status (smoker or non-smoker) and lung cancer diagnosis (yes or no). The results are shown in the contingency table below.Conduct a chi-square test for independence to determine if there is a significant association between smoking status and lung cancer diagnosis.\n",
        "\n",
        "                Lung Cancer: Yes      Lung Cancer: No\n",
        "    Smoker           60                     140\n",
        "    Non-smoker       30                     170\n",
        "\n",
        "Use a significance level of 0.05.\n"
      ],
      "metadata": {
        "id": "Mtyu00lX5qNr"
      }
    },
    {
      "cell_type": "code",
      "source": [
        "import numpy as np\n",
        "import scipy.stats as stats\n",
        "\n",
        "# create the contingency table\n",
        "observed = np.array([[60, 140], [30, 170]])\n",
        "\n",
        "# conduct the chi-square test\n",
        "chi2_stat, p_val, dof, expected = stats.chi2_contingency(observed)\n",
        "\n",
        "# print the results\n",
        "print(\"Chi-Square Statistic: {:.2f}\".format(chi2_stat))\n",
        "print(\"Degrees of Freedom: {}\".format(dof))\n",
        "print(\"p-value: {:.4f}\".format(p_val))\n"
      ],
      "metadata": {
        "colab": {
          "base_uri": "https://localhost:8080/"
        },
        "id": "ZWE-o35b7YYr",
        "outputId": "f12c4abb-8b04-4f6a-8017-a1c3c1e49c4d"
      },
      "execution_count": 7,
      "outputs": [
        {
          "output_type": "stream",
          "name": "stdout",
          "text": [
            "Chi-Square Statistic: 12.06\n",
            "Degrees of Freedom: 1\n",
            "p-value: 0.0005\n"
          ]
        }
      ]
    },
    {
      "cell_type": "markdown",
      "source": [
        "##Q10. A study was conducted to determine if the proportion of people who prefer milk chocolate, dark chocolate, or white chocolate is different in the U.S. versus the U.K. A random sample of 500 people from the U.S. and a random sample of 500 people from the U.K. were surveyed. The results are shown in the contingency table below. Conduct a chi-square test for independence to determine if there is a significant association between chocolate preference and country of origin.\n",
        "\n",
        "\n",
        "                   Milk Chocolate        Dark Chocolate          White Chocolate\n",
        "    U.S. (n=500)       200                  150                   150\n",
        "    U.K. (n=500)       225                  175                   100\n",
        "Use a significance level of 0.01."
      ],
      "metadata": {
        "id": "6ivyvKY-6gQT"
      }
    },
    {
      "cell_type": "code",
      "source": [
        "import numpy as np\n",
        "import scipy.stats as stats\n",
        "\n",
        "# set the significance level\n",
        "alpha = 0.01\n",
        "\n",
        "# create the contingency table\n",
        "observed = np.array([[200, 150, 150],\n",
        "                     [225, 175, 100]])\n",
        "\n",
        "# conduct the chi-square test for independence\n",
        "chi2_stat, p_val, dof, expected = stats.chi2_contingency(observed)\n",
        "\n",
        "# print the results\n",
        "print(\"Chi-Square Statistic: {:.2f}\".format(chi2_stat))\n",
        "print(\"p-value: {:.4f}\".format(p_val))\n",
        "print(\"Degrees of Freedom: {}\".format(dof))\n",
        "print(\"Expected Frequencies:\\n{}\".format(expected))\n",
        "\n",
        "if p_val < alpha:\n",
        "    print(\"The null hypothesis can be rejected.\")\n",
        "else:\n",
        "    print(\"The null hypothesis cannot be rejected.\")\n"
      ],
      "metadata": {
        "colab": {
          "base_uri": "https://localhost:8080/"
        },
        "id": "T7s-uPjw6ody",
        "outputId": "7b33efc5-fe4b-4eb0-91f4-4feb39e1f994"
      },
      "execution_count": 9,
      "outputs": [
        {
          "output_type": "stream",
          "name": "stdout",
          "text": [
            "Chi-Square Statistic: 13.39\n",
            "p-value: 0.0012\n",
            "Degrees of Freedom: 2\n",
            "Expected Frequencies:\n",
            "[[212.5 162.5 125. ]\n",
            " [212.5 162.5 125. ]]\n",
            "The null hypothesis can be rejected.\n"
          ]
        }
      ]
    },
    {
      "cell_type": "markdown",
      "source": [
        "## Q11. A random sample of 30 people was selected from a population with an unknown mean and standard deviation. The sample mean was found to be 72 and the sample standard deviation was found to be 10. Conduct a hypothesis test to determine if the population mean is significantly different from 70. Use a significance level of 0.05.\n",
        "\n"
      ],
      "metadata": {
        "id": "bBO0sS0W6pCT"
      }
    },
    {
      "cell_type": "code",
      "source": [
        "import numpy as np\n",
        "import scipy.stats as stats\n",
        "\n",
        "# set the significance level\n",
        "alpha = 0.05\n",
        "\n",
        "# define the sample statistics\n",
        "sample_mean = 72\n",
        "sample_std = 10\n",
        "sample_size = 30\n",
        "\n",
        "# define the null hypothesis\n",
        "null_hypothesis = 70\n",
        "\n",
        "# calculate the t-statistic and p-value\n",
        "t_stat, p_val = stats.ttest_1samp(np.random.normal(sample_mean, sample_std, size=sample_size), null_hypothesis)\n",
        "\n",
        "# print the results\n",
        "print(\"t-statistic: {:.2f}\".format(t_stat))\n",
        "print(\"p-value: {:.4f}\".format(p_val))\n",
        "\n",
        "if p_val < alpha:\n",
        "    print(\"The null hypothesis can be rejected.\")\n",
        "else:\n",
        "    print(\"The null hypothesis cannot be rejected.\")\n"
      ],
      "metadata": {
        "colab": {
          "base_uri": "https://localhost:8080/"
        },
        "id": "yOPbaWbt78qN",
        "outputId": "f3dbc6f1-28db-41d5-d867-2f7099225f63"
      },
      "execution_count": 12,
      "outputs": [
        {
          "output_type": "stream",
          "name": "stdout",
          "text": [
            "t-statistic: -0.28\n",
            "p-value: 0.7832\n",
            "The null hypothesis cannot be rejected.\n"
          ]
        }
      ]
    },
    {
      "cell_type": "code",
      "source": [],
      "metadata": {
        "id": "P9WWKV1f8YgF"
      },
      "execution_count": null,
      "outputs": []
    }
  ]
}