{
  "nbformat": 4,
  "nbformat_minor": 0,
  "metadata": {
    "colab": {
      "provenance": [],
      "authorship_tag": "ABX9TyP8inXSd4wzZE33AggScAjQ",
      "include_colab_link": true
    },
    "kernelspec": {
      "name": "python3",
      "display_name": "Python 3"
    },
    "language_info": {
      "name": "python"
    }
  },
  "cells": [
    {
      "cell_type": "markdown",
      "metadata": {
        "id": "view-in-github",
        "colab_type": "text"
      },
      "source": [
        "<a href=\"https://colab.research.google.com/github/VickyKandale/Assignment_pyhton.pwskills/blob/main/8th_Mar_Assignment%20ST.ipynb\" target=\"_parent\"><img src=\"https://colab.research.google.com/assets/colab-badge.svg\" alt=\"Open In Colab\"/></a>"
      ]
    },
    {
      "cell_type": "markdown",
      "source": [
        "##Q1. What are the three measures of central tendency?"
      ],
      "metadata": {
        "id": "aWHnTQaKib-e"
      }
    },
    {
      "cell_type": "markdown",
      "source": [
        "The three measures of central tendency are the `mean`, `median`, and `mode`.\n",
        "\n",
        "\n",
        "\n"
      ],
      "metadata": {
        "id": "ghKhujcvih1T"
      }
    },
    {
      "cell_type": "markdown",
      "source": [
        "##Q2. What are the types of Probability distribution?"
      ],
      "metadata": {
        "id": "JL88YMpVisz6"
      }
    },
    {
      "cell_type": "markdown",
      "source": [
        "The two main types of probability distributions are:\n",
        "\n",
        "`Discrete Probability Distribution:` A discrete probability distribution is a distribution that shows the probabilities of a set of possible outcomes. It is used for data that can only take on certain values, such as counting numbers or integers. Examples of discrete probability distributions include the binomial distribution, the Poisson distribution, and the geometric distribution.\n",
        "\n",
        "`Continuous Probability Distribution:` A continuous probability distribution is a distribution that shows the probabilities of a range of possible outcomes. It is used for data that can take on any value within a certain range, such as height or weight. Examples of continuous probability distributions include the normal distribution, the uniform distribution, and the exponential distribution.\n",
        "\n",
        "`Types of probablility Distribution:`\n",
        "\n",
        "1. Normal/Gaussian Distribution\n",
        "2. Bernouli Distributio\n",
        "3. uniform Distribution\n",
        "4. Poisson Distribution\n",
        "5. Log Normal Distribution\n",
        "6. Binomial Distribution\n"
      ],
      "metadata": {
        "id": "f2G6luTAi6dU"
      }
    },
    {
      "cell_type": "markdown",
      "source": [
        "##Q3. Write a Python function to calculate the probability density function of a normal distribution with given mean and standard deviation at a given point."
      ],
      "metadata": {
        "id": "f37knup0le0y"
      }
    },
    {
      "cell_type": "code",
      "execution_count": 1,
      "metadata": {
        "id": "6nGeUk3bfrwi"
      },
      "outputs": [],
      "source": [
        "import math\n",
        "\n",
        "def normal_pdf(x, mean, std_dev):\n",
        "    \"\"\"\n",
        "    Calculates the probability density function (PDF) of a normal distribution with given mean and standard deviation\n",
        "    at a given point x.\n",
        "\n",
        "    Parameters:\n",
        "    x (float): The point at which to evaluate the PDF.\n",
        "    mean (float): The mean of the normal distribution.\n",
        "    std_dev (float): The standard deviation of the normal distribution.\n",
        "\n",
        "    Returns:\n",
        "    float: The value of the PDF at x.\n",
        "    \"\"\"\n",
        "    exponent = -((x - mean)**2) / (2*(std_dev**2))\n",
        "    denominator = std_dev * math.sqrt(2*math.pi)\n",
        "    pdf = (1/denominator) * math.exp(exponent)\n",
        "    return pdf\n"
      ]
    },
    {
      "cell_type": "code",
      "source": [
        "pdf = normal_pdf(1, 0, 1)\n",
        "print(f'The probability density function (PDF) :',\"%.2f\"% pdf)\n"
      ],
      "metadata": {
        "colab": {
          "base_uri": "https://localhost:8080/"
        },
        "id": "pF409WRMmgNy",
        "outputId": "bee84794-c7fb-4fe6-8165-06d5ff1bdda0"
      },
      "execution_count": 6,
      "outputs": [
        {
          "output_type": "stream",
          "name": "stdout",
          "text": [
            "The probability density function (PDF) : 0.24\n"
          ]
        }
      ]
    },
    {
      "cell_type": "markdown",
      "source": [
        "##Q4. What are the properties of Binomial distribution? Give two examples of events where binomial distribution can be applied."
      ],
      "metadata": {
        "id": "E27biaqOmnaJ"
      }
    },
    {
      "cell_type": "markdown",
      "source": [
        "The binomial distribution is a discrete probability distribution that models the number of successes in a fixed number of independent trials, where each trial has only two possible outcomes: success or failure. The properties of the binomial distribution are:\n",
        "\n",
        "The trials are independent: The outcome of each trial does not affect the outcome of any other trial.\n",
        "There are a fixed number of trials: The number of trials is predetermined and does not change.\n",
        "The probability of success is constant: The probability of success for each trial is the same and does not change.\n",
        "The outcomes of the trials are mutually exclusive: Each trial has only two possible outcomes, success or failure.\n",
        "\n",
        "Two examples of events where the binomial distribution can be applied are:\n",
        "\n",
        "`Flipping a coin:` If you flip a fair coin multiple times, the number of heads that you get follows a binomial distribution. In this case, each trial is independent, there are a fixed number of trials (the number of times the coin is flipped), the probability of success (getting a heads) is constant at 0.5, and the outcomes of the trials are mutually exclusive.\n",
        "\n",
        "`Manufacturing defects:` If a company produces a large number of items and each item can either be defective or non-defective, then the number of defective items follows a binomial distribution. In this case, each item produced is independent, there are a fixed number of items produced, the probability of a defective item is constant, and the outcomes (defective/non-defective) are mutually exclusive."
      ],
      "metadata": {
        "id": "JQn6KYXwrsU5"
      }
    },
    {
      "cell_type": "markdown",
      "source": [
        "##Q5. Generate a random sample of size 1000 from a binomial distribution with probability of success 0.4 and plot a histogram of the results using matplotlib."
      ],
      "metadata": {
        "id": "27FQm6P5n7qh"
      }
    },
    {
      "cell_type": "code",
      "source": [
        "import numpy as np\n",
        "import matplotlib.pyplot as plt\n",
        "\n",
        "# Set the parameters of the binomial distribution\n",
        "n = 10  # number of trials\n",
        "p = 0.4  # probability of success\n",
        "\n",
        "# Generate a random sample of size 1000 from the binomial distribution\n",
        "sample = np.random.binomial(n, p, size=1000)\n",
        "\n",
        "# Plot a histogram of the sample\n",
        "plt.hist(sample, bins=range(n+2), align='left', rwidth=0.8)\n",
        "plt.xticks(range(n+2))\n",
        "plt.xlabel('Number of successes')\n",
        "plt.ylabel('Frequency')\n",
        "plt.title('Binomial Distribution with n=10, p=0.4')\n",
        "plt.show()\n"
      ],
      "metadata": {
        "colab": {
          "base_uri": "https://localhost:8080/",
          "height": 472
        },
        "id": "xc8vhq80n9nH",
        "outputId": "e67adb50-1efd-4ce5-c341-a10151fcf433"
      },
      "execution_count": 7,
      "outputs": [
        {
          "output_type": "display_data",
          "data": {
            "text/plain": [
              "<Figure size 640x480 with 1 Axes>"
            ],
            "image/png": "[encoded data removed]"
          },
          "metadata": {}
        }
      ]
    },
    {
      "cell_type": "markdown",
      "source": [
        "##Q6. Write a Python function to calculate the cumulative distribution function of a Poisson distribution with given mean at a given point."
      ],
      "metadata": {
        "id": "Ng-mp1nOoUJQ"
      }
    },
    {
      "cell_type": "code",
      "source": [
        "import math\n",
        "\n",
        "def poisson_cdf(mu, k):\n",
        "    cdf = 0.0\n",
        "    for i in range(k + 1):\n",
        "        cdf += math.exp(-mu) * mu**i / math.factorial(i)\n",
        "    return cdf\n"
      ],
      "metadata": {
        "id": "Ro8t2x2VoMuJ"
      },
      "execution_count": 11,
      "outputs": []
    },
    {
      "cell_type": "code",
      "source": [
        "poisson_cdf(3, 5)"
      ],
      "metadata": {
        "colab": {
          "base_uri": "https://localhost:8080/"
        },
        "id": "FPSu5g9mrPoR",
        "outputId": "aef7a699-e1d0-402a-b653-fb0f779ee5f9"
      },
      "execution_count": 12,
      "outputs": [
        {
          "output_type": "execute_result",
          "data": {
            "text/plain": [
              "0.9160820579686966"
            ]
          },
          "metadata": {},
          "execution_count": 12
        }
      ]
    },
    {
      "cell_type": "markdown",
      "source": [
        "##Q7. How Binomial distribution different from Poisson distribution?"
      ],
      "metadata": {
        "id": "cgERRMI8pEOr"
      }
    },
    {
      "cell_type": "markdown",
      "source": [
        "The main difference between the binomial distribution and the Poisson distribution is that the binomial distribution is discrete and the Poisson distribution is continuous.\n",
        "\n",
        "The binomial distribution is used to model the number of successes in a fixed number of trials, where each trial has two possible outcomes: success or failure. The key parameters of the binomial distribution are the probability of success on a single trial (denoted by p) and the number of trials (denoted by n). The binomial distribution is characterized by its mean, which is equal to np, and its variance, which is equal to np*(1-p).\n",
        "\n",
        "On the other hand, the Poisson distribution is used to model the number of events that occur in a fixed interval of time or space. The key parameter of the Poisson distribution is the mean number of events in the interval (denoted by lambda). The Poisson distribution is characterized by its mean, which is equal to lambda, and its variance, which is also equal to lambda.\n",
        "\n",
        "While both the binomial and Poisson distributions can be used to model count data, they are typically used in different situations. The binomial distribution is used when the number of trials is fixed and the probability of success is constant. The Poisson distribution is used when the rate of events is constant and the interval is fixed, but the number of events that occur in the interval can vary.\n",
        "\n",
        "In summary, the main differences between the binomial distribution and the Poisson distribution are their underlying assumptions and the situations in which they are used. The binomial distribution is used when there are a fixed number of trials with two possible outcomes, while the Poisson distribution is used when the rate of events is constant over a fixed interval."
      ],
      "metadata": {
        "id": "gvi6urGBpPDx"
      }
    },
    {
      "cell_type": "markdown",
      "source": [
        "##Q8. Generate a random sample of size 1000 from a Poisson distribution with mean 5 and calculate the sample mean and variance."
      ],
      "metadata": {
        "id": "6FYNUu0VpZHB"
      }
    },
    {
      "cell_type": "code",
      "source": [
        "\n",
        "import numpy as np\n",
        "\n",
        "# Set the random seed for reproducibility\n",
        "np.random.seed(int(input(\"Enter the no:\")))\n",
        "\n",
        "# Generate a random sample of size 1000 from a Poisson distribution with mean 5\n",
        "sample = np.random.poisson(5, 1000)\n",
        "\n",
        "# Calculate the sample mean and variance\n",
        "mean = np.mean(sample)\n",
        "variance = np.var(sample)\n",
        "\n",
        "print(\"Sample mean:\", mean)\n",
        "print(\"Sample variance:\", variance)\n"
      ],
      "metadata": {
        "colab": {
          "base_uri": "https://localhost:8080/"
        },
        "id": "do437fbIpFQo",
        "outputId": "1daa759a-5ced-47bf-9fe9-02255bef392e"
      },
      "execution_count": 10,
      "outputs": [
        {
          "output_type": "stream",
          "name": "stdout",
          "text": [
            "Enter the no:123\n",
            "Sample mean: 4.919\n",
            "Sample variance: 5.030439\n"
          ]
        }
      ]
    },
    {
      "cell_type": "markdown",
      "source": [
        "##Q9. How mean and variance are related in Binomial distribution and Poisson distribution?"
      ],
      "metadata": {
        "id": "wMbLwiPjp37i"
      }
    },
    {
      "cell_type": "markdown",
      "source": [
        "In a binomial distribution, the mean (μ) and variance (σ^2) are related by the formula:\n",
        "\n",
        "σ^2 = np(1-p)\n",
        "\n",
        "where n is the number of trials and p is the probability of success on each trial.\n",
        "\n",
        "In a Poisson distribution, the mean (λ) and variance (σ^2) are equal, so:\n",
        "\n",
        "σ^2 = λ\n",
        "\n",
        "Therefore, the mean and variance are not directly related in the same way for binomial and Poisson distributions. However, for large values of n in the binomial distribution, and for small values of p such that np = λ in the Poisson distribution, the two distributions can be approximated by each other. In these cases, the mean and variance of the binomial distribution approach the mean and variance of the Poisson distribution."
      ],
      "metadata": {
        "id": "nK-4jnaKqJ-j"
      }
    },
    {
      "cell_type": "markdown",
      "source": [
        "##Q10. In normal distribution with respect to mean position, where does the least frequent data appear?\n"
      ],
      "metadata": {
        "id": "JS2NvdIpqYQD"
      }
    },
    {
      "cell_type": "markdown",
      "source": [
        "In a normal distribution, the least frequent data appears in the tails of the distribution, which are the regions of the distribution that are farthest from the mean. Specifically, the data that falls beyond 2 or 3 standard deviations from the mean is considered to be rare or unusual, with less than 5% or 0.3% of the data falling beyond 2 or 3 standard deviations from the mean, respectively. The shape of the normal distribution is symmetrical around the mean, so the least frequent data appears at both ends of the distribution, in the tails."
      ],
      "metadata": {
        "id": "5fhuNSrGqdRp"
      }
    },
    {
      "cell_type": "code",
      "source": [],
      "metadata": {
        "id": "_aKOJTahpjA8"
      },
      "execution_count": null,
      "outputs": []
    }
  ]
}