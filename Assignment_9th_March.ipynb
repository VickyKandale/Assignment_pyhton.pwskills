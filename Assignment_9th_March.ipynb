{
  "nbformat": 4,
  "nbformat_minor": 0,
  "metadata": {
    "colab": {
      "provenance": [],
      "authorship_tag": "ABX9TyO+n2sy1InjaWT8NSCba5bo",
      "include_colab_link": true
    },
    "kernelspec": {
      "name": "python3",
      "display_name": "Python 3"
    },
    "language_info": {
      "name": "python"
    }
  },
  "cells": [
    {
      "cell_type": "markdown",
      "metadata": {
        "id": "view-in-github",
        "colab_type": "text"
      },
      "source": [
        "<a href=\"https://colab.research.google.com/github/VickyKandale/Assignment_pyhton.pwskills/blob/main/Assignment_9th_March.ipynb\" target=\"_parent\"><img src=\"https://colab.research.google.com/assets/colab-badge.svg\" alt=\"Open In Colab\"/></a>"
      ]
    },
    {
      "cell_type": "markdown",
      "source": [
        "#Statistics Advance-2"
      ],
      "metadata": {
        "id": "g3VFlUQxwO37"
      }
    },
    {
      "cell_type": "markdown",
      "source": [
        "##Q1: What are the Probability Mass Function (PMF) and Probability Density Function (PDF)? Explain with an example."
      ],
      "metadata": {
        "id": "x5Xfmu0kwROZ"
      }
    },
    {
      "cell_type": "markdown",
      "source": [
        "he Probability Mass Function (PMF) and Probability Density Function (PDF) are two fundamental concepts in probability theory that are used to describe the probability distribution of a random variable.\n",
        "\n",
        "A PMF is a function that assigns a probability to each possible value of a discrete random variable. It is defined as:\n",
        "\n",
        "PMF(x) = P(X = x)\n",
        "\n",
        "where X is the random variable and x is a possible value of X.\n",
        "\n",
        "For example, consider a six-sided die. The PMF for this die is given by:\n",
        "\n",
        "\n",
        "\n",
        "```\n",
        "PMF(1) = 1/6\n",
        "PMF(2) = 1/6\n",
        "PMF(3) = 1/6\n",
        "PMF(4) = 1/6\n",
        "PMF(5) = 1/6\n",
        "PMF(6) = 1/6\n",
        "```\n",
        "\n",
        "\n",
        "\n",
        "This means that the probability of rolling a 1, 2, 3, 4, 5, or 6 on the die is 1/6.\n",
        "\n",
        "On the other hand, a PDF is a function that describes the probability density of a continuous random variable. It is defined as the derivative of the cumulative distribution function (CDF) of the random variable. The area under the curve of a PDF over a range of values represents the probability of the random variable taking on a value within that range.\n",
        "\n",
        "For example, consider the standard normal distribution with mean 0 and standard deviation 1. The PDF for this distribution is given by:\n",
        "\n",
        "`PDF(x) = (1 / (sqrt(2 * pi) * sigma)) * exp(-((x - mu)^2) / (2 * sigma^2))`\n",
        "\n",
        "where mu is the mean and sigma is the standard deviation. The area under the curve of this PDF between two values a and b represents the probability that a normally distributed random variable takes on a value between a and b.\n",
        "\n",
        "In summary, the PMF and PDF are functions that describe the probability distribution of a random variable, with the PMF used for discrete random variables and the PDF used for continuous random variables."
      ],
      "metadata": {
        "id": "M0Ix4Sv-wrym"
      }
    },
    {
      "cell_type": "markdown",
      "source": [
        "##Q2: What is Cumulative Density Function (CDF)? Explain with an example. Why CDF is used?\n"
      ],
      "metadata": {
        "id": "J_KLES9owrvx"
      }
    },
    {
      "cell_type": "markdown",
      "source": [
        "The Cumulative Density Function (CDF) is a function that describes the probability that a random variable takes on a value less than or equal to a given value. It is defined for both discrete and continuous random variables.\n",
        "\n",
        "For a discrete random variable X, the CDF is defined as:\n",
        "\n",
        "`CDF(x) = P(X ≤ x)`\n",
        "\n",
        "For a continuous random variable X, the CDF is defined as:\n",
        "\n",
        "`CDF(x) = ∫ f(t) dt from -∞ to x`\n",
        "\n",
        "where f(x) is the probability density function of X.\n",
        "\n",
        "The CDF provides a complete description of the probability distribution of a random variable. It is a non-decreasing function, with a range of values between 0 and 1.\n",
        "\n",
        "As an example, consider the standard normal distribution with mean 0 and standard deviation 1. The CDF for this distribution is given by:\n",
        "\n",
        "\n",
        "\n",
        "```\n",
        "CDF(x) = Φ(x) = (1 / (sqrt(2 * pi))) * ∫ exp(-t^2 / 2) dt from -∞ to x\n",
        "```\n",
        "\n",
        "\n",
        "where Φ(x) is the standard normal CDF.\n",
        "\n",
        "The standard normal CDF is used in many applications of statistics, including hypothesis testing, confidence intervals, and statistical modeling. It is also used to compute percentiles of the distribution, which can be useful in decision-making and risk analysis.\n",
        "\n",
        "In summary, the CDF is a function that describes the probability that a random variable takes on a value less than or equal to a given value. It provides a complete description of the probability distribution of a random variable and is useful in many statistical applications."
      ],
      "metadata": {
        "id": "DXPXvv2YxT1Y"
      }
    },
    {
      "cell_type": "markdown",
      "source": [
        "##Q3: What are some examples of situations where the normal distribution might be used as a model?\n",
        "Explain how the parameters of the normal distribution relate to the shape of the distribution.\n",
        "\n"
      ],
      "metadata": {
        "id": "RScBBN9LxBrR"
      }
    },
    {
      "cell_type": "markdown",
      "source": [
        "The normal distribution is a commonly used statistical model in many fields, including natural and social sciences, engineering, and finance. Some examples of situations where the normal distribution might be used as a model include:\n",
        "\n",
        ">In financial modeling, the normal distribution is often used to model stock prices and returns.\n",
        "\n",
        ">In physics and engineering, the normal distribution is used to model measurement errors and noise in data.\n",
        "\n",
        ">In biology, the normal distribution is used to model the distribution of traits such as height and weight in populations.\n",
        "\n",
        ">In psychology and sociology, the normal distribution is used to model various psychological and social variables, such as intelligence and income.\n",
        "\n",
        "* The normal distribution is characterized by two parameters: the mean (μ) and the standard deviation (σ). The mean represents the center of the distribution, while the standard deviation measures the spread of the distribution.\n",
        "\n",
        "* The shape of the normal distribution is determined by these parameters. The mean determines the location of the peak of the distribution, while the standard deviation determines the width of the distribution. As the standard deviation increases, the distribution becomes more spread out and flatter. Conversely, as the standard deviation decreases, the distribution becomes more concentrated around the mean and taller.\n",
        "\n",
        "* The normal distribution is symmetric, with the mean at the center of the distribution. The curve is bell-shaped, with the majority of the data falling within one, two, or three standard deviations of the mean. This property, along with the central limit theorem, makes the normal distribution a useful model for many real-world applications."
      ],
      "metadata": {
        "id": "s6Ss0cjox9FB"
      }
    },
    {
      "cell_type": "markdown",
      "source": [
        "##Q4: Explain the importance of Normal Distribution. Give a few real-life examples of Normal Distribution. "
      ],
      "metadata": {
        "id": "U8zo2fhcxFF5"
      }
    },
    {
      "cell_type": "markdown",
      "source": [
        "The normal distribution, also known as the Gaussian distribution, is one of the most important probability distributions in statistics. It is an essential tool in many areas of research, including social sciences, engineering, physics, finance, and more. Here are some reasons why the normal distribution is so important:\n",
        "\n",
        "* Symmetry and simplicity: The normal distribution is a symmetrical distribution that is easy to understand and work with. It has a simple mathematical formula that is easy to use in statistical analysis.\n",
        "\n",
        "* Central limit theorem: The normal distribution is a key component of the central limit theorem, which states that the sampling distribution of the mean of any independent, random variables will be approximately normally distributed if the sample size is large enough.\n",
        "\n",
        "* Standardization: The normal distribution has a mean of 0 and a standard deviation of 1, which makes it easy to standardize data for comparison and analysis.\n",
        "\n",
        "Some real-life examples of normal distribution include:\n",
        "\n",
        ">Height: The distribution of human height in a population follows a normal distribution. Most people fall within a certain height range, with a smaller number of people being either very tall or very short.\n",
        "\n",
        ">Test scores: The distribution of scores on standardized tests, such as the SAT or GRE, is often approximately normal. This allows for easy comparison of test scores across different populations and time periods.\n",
        "\n",
        ">Stock prices: The daily returns of many stocks are approximately normally distributed. This makes it possible to calculate the probability of different levels of returns and to construct investment portfolios that take into account this distribution.\n",
        "\n",
        ">Quality control: In manufacturing, the normal distribution is used to model the variability of production processes. This allows for the calculation of quality control limits and the identification of defects in the production process.\n",
        "\n",
        ">IQ scores: The distribution of IQ scores in a population is often approximately normal, with most people falling within a certain range of scores. This allows for easy comparison of IQ scores across different populations and time periods."
      ],
      "metadata": {
        "id": "p8u5msboyXnA"
      }
    },
    {
      "cell_type": "markdown",
      "source": [
        "##Q5: What is Bernaulli Distribution? Give an Example. What is the difference between Bernoulli Distribution and Binomial Distribution?"
      ],
      "metadata": {
        "id": "yhxmFFUxxISS"
      }
    },
    {
      "cell_type": "markdown",
      "source": [
        "The Bernoulli distribution is a discrete probability distribution that models a single experiment that can have only two outcomes - success or failure. It is named after the Swiss mathematician Jakob Bernoulli. The probability of success is denoted by p, and the probability of failure is denoted by` q = 1-p.`\n",
        "\n",
        "The probability mass function (PMF) of the Bernoulli distribution is:\n",
        "\n",
        "`P(X=k) = p^k * (1-p)^(1-k) for k=0 or k=1`\n",
        "\n",
        "where X is the random variable that represents the outcome of the experiment.\n",
        "\n",
        "An example of Bernoulli distribution is flipping a coin. The experiment has two possible outcomes - heads or tails, which are mutually exclusive and exhaustive. If we define success as getting heads, then the probability of success is p=0.5, and the probability of failure is q=0.5.\n",
        "\n",
        "The Binomial distribution, on the other hand, is a discrete probability distribution that models a sequence of n independent Bernoulli trials, where each trial has the same probability of success p. The random variable X represents the number of successes in the n trials.\n",
        "\n",
        "The probability mass function (PMF) of the Binomial distribution is:\n",
        "\n",
        "P(X=k) = (n choose k) * p^k * (1-p)^(n-k)\n",
        "\n",
        "where (n choose k) is the binomial coefficient that represents the number of ways to choose k items from a set of n items.\n",
        "\n",
        "The key difference between the Bernoulli distribution and the Binomial distribution is that the Bernoulli distribution models a single trial with two possible outcomes, while the Binomial distribution models a sequence of n independent trials with the same probability of success. The Bernoulli distribution can be thought of as a special case of the Binomial distribution, where n=1."
      ],
      "metadata": {
        "id": "QD9087QuyloA"
      }
    },
    {
      "cell_type": "markdown",
      "source": [
        "##Q6. Consider a dataset with a mean of 50 and a standard deviation of 10. If we assume that the dataset is normally distributed, what is the probability that a randomly selected observation will be greater than 60? Use the appropriate formula and show your calculations."
      ],
      "metadata": {
        "id": "b_n6BcPNxLoY"
      }
    },
    {
      "cell_type": "markdown",
      "source": [
        "To find the probability that a randomly selected observation will be greater than 60, we need to standardize the value using the standard normal distribution formula:\n",
        "\n",
        "`z = (x - μ) / σ`\n",
        "\n",
        "where z is the standard score, x is the observed value, μ is the mean, and σ is the standard deviation.\n",
        "\n",
        "Substituting the given values, we get:\n",
        "\n",
        "\n",
        "```\n",
        "z = (60 - 50) / 10\n",
        "z = 1\n",
        "\n",
        "```\n",
        "\n",
        "\n",
        "\n",
        "Now, we need to find the probability of getting a z-score greater than 1. We can use a standard normal distribution table or calculator to find this probability. The area to the right of z=1 is:\n",
        "\n",
        "P(Z > 1) = 0.1587\n",
        "\n",
        "Therefore, the probability that a randomly selected observation will be greater than 60 is 0.1587 or approximately 15.87%."
      ],
      "metadata": {
        "id": "PMv5Vlynyztg"
      }
    },
    {
      "cell_type": "markdown",
      "source": [
        "##Q7: Explain uniform Distribution with an example."
      ],
      "metadata": {
        "id": "kqME7k8Bxv9i"
      }
    },
    {
      "cell_type": "markdown",
      "source": [
        "\n",
        "Uniform distribution is a probability distribution in which every possible outcome has an equal chance of occurring. In other words, the values are uniformly spread across the range of possible outcomes. A continuous uniform distribution is characterized by a constant probability density function (PDF) over the entire range of possible values.\n",
        "\n",
        "An example of uniform distribution is the roll of a fair die. A fair die has six equally likely outcomes, namely, 1, 2, 3, 4, 5, and 6. Each outcome has a probability of 1/6, which is the same for all possible outcomes. This means that the probability of rolling a 1 is the same as the probability of rolling a 2, or any other number on the die.\n",
        "\n",
        "Another example of uniform distribution is the selection of a random number between two given values. For instance, if we randomly select a number between 0 and 100, every number within that range has an equal chance of being selected. Therefore, the probability density function of the uniform distribution is a horizontal line over the entire range of possible values, with a constant height that ensures the total area under the curve is equal to 1.\n",
        "\n",
        "Uniform distribution is commonly used in simulations, modeling, and random number generation, among other applications."
      ],
      "metadata": {
        "id": "NDgQvg8gzBG4"
      }
    },
    {
      "cell_type": "markdown",
      "source": [
        "##Q8: What is the z score? State the importance of the z score."
      ],
      "metadata": {
        "id": "gP0m42sGxxGw"
      }
    },
    {
      "cell_type": "markdown",
      "source": [
        "The z-score, also known as the standard score, is a statistical measure that indicates how many standard deviations a given value is above or below the mean of a population or a sample. It is calculated by subtracting the mean from the value of interest and then dividing the result by the standard deviation. Mathematically, the formula for the z-score is:\n",
        "\n",
        "z = (x - μ) / σ\n",
        "\n",
        "where z is the z-score, x is the observed value, μ is the population mean, and σ is the population standard deviation.\n",
        "\n",
        "The z-score is important because it allows us to compare different data points that come from distributions with different means and standard deviations. By standardizing the data into z-scores, we can convert all the data points into a common scale and directly compare their relative positions in the distribution.\n",
        "\n",
        "The z-score also helps us determine the probability of a given observation occurring in a normal distribution. The z-score table or the normal distribution calculator can be used to find the probability of a value falling within a certain range of the distribution.\n",
        "\n",
        "Additionally, the z-score is used in statistical hypothesis testing to determine the statistical significance of an observation or sample mean. The z-score can be compared to a critical value to determine whether a hypothesis should be rejected or not.\n",
        "\n",
        "In summary, the z-score is an important statistical measure that allows us to standardize data, compare data from different distributions, determine the probability of an observation occurring, and test statistical hypotheses."
      ],
      "metadata": {
        "id": "chNgsY-izEYo"
      }
    },
    {
      "cell_type": "markdown",
      "source": [
        "##Q9: What is Central Limit Theorem? State the significance of the Central Limit Theorem."
      ],
      "metadata": {
        "id": "w6Df2W8hx1IY"
      }
    },
    {
      "cell_type": "markdown",
      "source": [
        "The Central Limit Theorem (CLT) is a statistical concept that states that given a sufficiently large sample size from a population with a finite level of variance, the mean of all samples from the same population will be approximately equal to the population mean. Furthermore, the distribution of these sample means will follow an approximately normal distribution, regardless of the distribution of the original population.\n",
        "\n",
        "The significance of the Central Limit Theorem is that it allows us to make inferences about a population based on a sample, even when the population's distribution is unknown or not normal. In other words, it provides a basis for using the normal distribution to model the sampling distribution of the mean, which is useful for making statistical inferences and performing hypothesis testing. Additionally, the CLT helps to explain why the normal distribution is so commonly observed in natural phenomena and why many statistical tests are based on the assumption of normality."
      ],
      "metadata": {
        "id": "V3a5wNYTzOtx"
      }
    },
    {
      "cell_type": "markdown",
      "source": [
        "##Q10: State the assumptions of the Central Limit Theorem."
      ],
      "metadata": {
        "id": "l_Dlt6O_x3kY"
      }
    },
    {
      "cell_type": "markdown",
      "source": [
        "The assumptions of the Central Limit Theorem (CLT) are:\n",
        "\n",
        "* Independence: The observations in the sample should be independent of each other. This means that the value of one observation does not affect the value of any other observation in the sample.\n",
        "\n",
        "* Sample size: The sample size should be sufficiently large. Generally, a sample size of 30 or more is considered large enough for the CLT to hold. However, the larger the sample size, the more reliable the results.\n",
        "\n",
        "* Finite variance: The population from which the sample is drawn should have a finite variance. This means that the spread of the population should not be infinite.\n",
        "\n",
        "* Identically distributed: The observations in the population should be identically distributed. This means that the population should have the same mean and variance for all observations.\n",
        "\n",
        "If these assumptions are met, the Central Limit Theorem can be used to make inferences about the population based on the sample mean.\n",
        "\n",
        "\n",
        "\n"
      ],
      "metadata": {
        "id": "T-uKRMllzXQR"
      }
    },
    {
      "cell_type": "code",
      "source": [],
      "metadata": {
        "id": "DUIfV2w2wQxq"
      },
      "execution_count": null,
      "outputs": []
    }
  ]
}