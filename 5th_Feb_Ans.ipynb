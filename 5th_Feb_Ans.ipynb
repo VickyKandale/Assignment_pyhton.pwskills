{
  "nbformat": 4,
  "nbformat_minor": 0,
  "metadata": {
    "colab": {
      "provenance": [],
      "authorship_tag": "ABX9TyO2Z73GZzuU5qQv6a12vRzX",
      "include_colab_link": true
    },
    "kernelspec": {
      "name": "python3",
      "display_name": "Python 3"
    },
    "language_info": {
      "name": "python"
    }
  },
  "cells": [
    {
      "cell_type": "markdown",
      "metadata": {
        "id": "view-in-github",
        "colab_type": "text"
      },
      "source": [
        "<a href=\"https://colab.research.google.com/github/VickyKandale/Assignment_pyhton.pwskills/blob/main/5th_Feb_Ans.ipynb\" target=\"_parent\"><img src=\"https://colab.research.google.com/assets/colab-badge.svg\" alt=\"Open In Colab\"/></a>"
      ]
    },
    {
      "cell_type": "markdown",
      "source": [
        "## ***Q1. Explain Class and Object with respect to Object-Oriented Programming. Give a suitable example.***\n",
        "\n",
        "\n"
      ],
      "metadata": {
        "id": "hFlbLz0ucMXz"
      }
    },
    {
      "cell_type": "markdown",
      "source": [
        "In Object-Oriented Programming (OOP), a class is a blueprint or a template for creating objects. It defines the properties and behavior that the objects of that class will have. An object, on the other hand, is an instance of a class. It is a concrete entity that has been created based on the class definition and has its own state and behavior.\n",
        "\n",
        "Let's take an example of a class and an object in the context of a simple banking application. We can create a class called \"BankAccount\" that represents a bank account with the following properties:\n",
        "\n",
        ">Account holder's name\n",
        "\n",
        ">Account number\n",
        "\n",
        ">Balance\n",
        "\n",
        "The class would also have methods that define the behavior of the BankAccount object, such as:\n",
        "\n",
        ">Deposit money\n",
        "\n",
        ">Withdraw money\n",
        "\n",
        ">Get account balance\n",
        "\n",
        "Here's an example of how we can create an object of the BankAccount class:"
      ],
      "metadata": {
        "id": "h83rO7RVb1lE"
      }
    },
    {
      "cell_type": "code",
      "source": [
        "class BankAccount:\n",
        "    def __init__(self, name, account_number, balance):\n",
        "        self.name = name\n",
        "        self.account_number = account_number\n",
        "        self.balance = balance\n",
        "\n",
        "    def deposit(self, amount):\n",
        "        self.balance += amount\n",
        "\n",
        "    def withdraw(self, amount):\n",
        "        if self.balance < amount:\n",
        "            print(\"Insufficient balance\")\n",
        "        else:\n",
        "            self.balance -= amount\n",
        "\n",
        "    def get_balance(self):\n",
        "        return self.balance\n",
        "\n",
        "# Create an object of the BankAccount class\n",
        "my_account = BankAccount(\"John Doe\", \"1234567890\", 1000)\n"
      ],
      "metadata": {
        "id": "3wi5ANmDcLQN"
      },
      "execution_count": null,
      "outputs": []
    },
    {
      "cell_type": "markdown",
      "source": [
        "In this example, we create an object called 'my_account' using the 'BankAccount' class. We pass in the name, account number, and initial balance as arguments to the class constructor '(__init__ method)'. Once the object is created, we can call its methods, such as 'deposit', 'withdraw', and 'get_balance',to interact with it.\n",
        "\n",
        "\n",
        "For example, to deposit money into the account, we can call the deposit method on the my_account object:"
      ],
      "metadata": {
        "id": "8xD3BEzXclxy"
      }
    },
    {
      "cell_type": "code",
      "source": [
        "my_account.deposit(500)\n"
      ],
      "metadata": {
        "id": "bErNnW3ociHg"
      },
      "execution_count": null,
      "outputs": []
    },
    {
      "cell_type": "markdown",
      "source": [
        "Similarly, to withdraw money from the account, we can call the withdraw method:"
      ],
      "metadata": {
        "id": "DgDnGg2DdJDi"
      }
    },
    {
      "cell_type": "code",
      "source": [
        "my_account.withdraw(200)\n"
      ],
      "metadata": {
        "id": "o-zt_KX0dEeD"
      },
      "execution_count": null,
      "outputs": []
    },
    {
      "cell_type": "markdown",
      "source": [
        "And to get the current balance of the account, we can call the get_balance method:"
      ],
      "metadata": {
        "id": "K97daE8UdSBK"
      }
    },
    {
      "cell_type": "code",
      "source": [
        "balance = my_account.get_balance()\n",
        "print(balance)  \n"
      ],
      "metadata": {
        "colab": {
          "base_uri": "https://localhost:8080/"
        },
        "id": "UmFdrl_IdO2k",
        "outputId": "cdb27115-b865-4e29-e1d4-56b0b3e06f68"
      },
      "execution_count": null,
      "outputs": [
        {
          "output_type": "stream",
          "name": "stdout",
          "text": [
            "1300\n"
          ]
        }
      ]
    },
    {
      "cell_type": "markdown",
      "source": [
        "So, in summary, a class is a template or blueprint for creating objects, and an object is an instance of a class that has its own state and behavior."
      ],
      "metadata": {
        "id": "LXWCzK8b1jcC"
      }
    },
    {
      "cell_type": "markdown",
      "source": [
        "------------------------------------------------------"
      ],
      "metadata": {
        "id": "eIJzKGU7eO6Y"
      }
    },
    {
      "cell_type": "markdown",
      "source": [
        "# **Q2. Name the four pillars of OOPs.**\n",
        "\n",
        "\n"
      ],
      "metadata": {
        "id": "OWZi45i5dkKz"
      }
    },
    {
      "cell_type": "markdown",
      "source": [
        "\n",
        "\n",
        "> Encapsulation\n",
        "\n",
        "> Inheritance\n",
        "\n",
        "> Polymorphism\n",
        "\n",
        "> Abstraction\n",
        "\n",
        "\n"
      ],
      "metadata": {
        "id": "QqBCmVZgd2Ia"
      }
    },
    {
      "cell_type": "markdown",
      "source": [
        "-------------------------------------------------------------------"
      ],
      "metadata": {
        "id": "47OZllFWeMYQ"
      }
    },
    {
      "cell_type": "markdown",
      "source": [
        "## **Q3. Explain why the __init__() function is used. Give a suitable example.**"
      ],
      "metadata": {
        "id": "8lCN5J7OeRJI"
      }
    },
    {
      "cell_type": "markdown",
      "source": [
        "\n",
        "> The '__init__()' function is a special method in Python classes that is automatically called when an object is created from the class. It is used to initialize the object's state and set up any necessary attributes or properties.\n",
        "\n",
        "\n",
        "\n",
        "\n",
        ">The __init__() method takes the self parameter, which refers to the object being created, and any additional parameters that are required to set up the object's state. Inside the __init__() method, you can assign values to the object's attributes using the dot notation (self.attribute_name = value) or perform any other initialization tasks.\n",
        "\n",
        "Here's an example of a class that uses the __init__() method to initialize its state:"
      ],
      "metadata": {
        "id": "LyBDzkHhe4Cy"
      }
    },
    {
      "cell_type": "code",
      "source": [
        "class Person:\n",
        "    def __init__(self, name, age):\n",
        "        self.name = name\n",
        "        self.age = age\n",
        "\n",
        "    def introduce(self):\n",
        "        print(f\"My name is {self.name} and I am {self.age} years old.\")\n",
        "\n",
        "# Create a Person object\n",
        "person1 = Person(\"Vicky\", 26)\n",
        "\n",
        "# Call the introduce() method on the object\n",
        "person1.introduce()  \n"
      ],
      "metadata": {
        "colab": {
          "base_uri": "https://localhost:8080/"
        },
        "id": "_8UgMafWdizC",
        "outputId": "feb1144c-be84-4f03-a2aa-f4489739e083"
      },
      "execution_count": null,
      "outputs": [
        {
          "output_type": "stream",
          "name": "stdout",
          "text": [
            "My name is Vicky and I am 26 years old.\n"
          ]
        }
      ]
    },
    {
      "cell_type": "markdown",
      "source": [
        "In this example, we define a Person class that has a __init__() method that takes two parameters: name and age. Inside the method, we assign the name and age parameters to the object's name and age attributes, respectively.\n",
        "\n",
        "We then create an object called person1 using the Person class and pass in the values \"John Doe\" and 30 as arguments to the constructor. When the object is created, the __init__() method is automatically called to initialize its state.\n",
        "\n",
        "Finally, we call the introduce() method on the person1 object to print out its name and age.\n",
        "\n",
        "Overall, the __init__() method is a key part of object initialization and allows you to set up an object's state and attributes at the time of creation."
      ],
      "metadata": {
        "id": "FHtYgZh5f2U4"
      }
    },
    {
      "cell_type": "markdown",
      "source": [
        "--------------------------------------------------------------"
      ],
      "metadata": {
        "id": "hD0bpOIOf8eY"
      }
    },
    {
      "cell_type": "markdown",
      "source": [
        "## Q4. Why self is used in OOPs?"
      ],
      "metadata": {
        "id": "aBk0SO5hf-Gq"
      }
    },
    {
      "cell_type": "markdown",
      "source": [
        "In Object-Oriented Programming (OOP), 'self' is a special parameter that refers to the instance of the class that is being operated on. It is used within class methods to access and modify the object's attributes and behavior.\n",
        "\n",
        "When a method is called on an object, Python automatically passes the object as the first argument to the method, which is why the first parameter of instance methods is usually named 'self'. By convention, this parameter is always named 'self' in Python, but you could technically use any other name.\n",
        "\n",
        "Using 'self' allows us to access the object's attributes and methods from within the class definition. For example, we can define a class method that modifies an attribute of the object:"
      ],
      "metadata": {
        "id": "GrvbkxkQgBAH"
      }
    },
    {
      "cell_type": "markdown",
      "source": [
        "-----------------------------------------------"
      ],
      "metadata": {
        "id": "UjmLAq7WgohH"
      }
    },
    {
      "cell_type": "markdown",
      "source": [
        "## **Q5. What is inheritance? Give an example for each type of inheritance.**"
      ],
      "metadata": {
        "id": "Gh32jv92gp6Y"
      }
    },
    {
      "cell_type": "markdown",
      "source": [
        ">Inheritance is a key concept in Object-Oriented Programming (OOP) that allows a new class to be based on an existing class, inheriting its properties and behavior. The existing class is called the base or superclass, and the new class is called the derived or subclass.\n",
        "\n",
        ">There are three types of inheritance:\n",
        "\n",
        ">1. Single inheritance: In single inheritance, a subclass inherits properties and behavior from a single superclass. This is the most common type of inheritance.\n",
        "Example:"
      ],
      "metadata": {
        "id": "giwj7QhThVk2"
      }
    },
    {
      "cell_type": "code",
      "source": [
        "class Animal:\n",
        "    def move(self):\n",
        "        print(\"I can move.\")\n",
        "\n",
        "class Dog(Animal):\n",
        "    def bark(self):\n",
        "        print(\"Woof!\")\n",
        "\n",
        "# Create a Dog object and call its methods\n",
        "my_dog = Dog()\n",
        "my_dog.move()  \n",
        "my_dog.bark()  \n"
      ],
      "metadata": {
        "colab": {
          "base_uri": "https://localhost:8080/"
        },
        "id": "INhEZrxkheEV",
        "outputId": "c2c7b466-0eae-46cd-df90-9b521c824c6c"
      },
      "execution_count": null,
      "outputs": [
        {
          "output_type": "stream",
          "name": "stdout",
          "text": [
            "I can move.\n",
            "Woof!\n"
          ]
        }
      ]
    },
    {
      "cell_type": "markdown",
      "source": [
        "In this example, we define a Dog class that inherits from the Animal class. The Dog class adds a new method bark(), but it also has access to the move() method from the Animal class."
      ],
      "metadata": {
        "id": "npw-7LGEhxIe"
      }
    },
    {
      "cell_type": "markdown",
      "source": [
        ">2. Multilevel inheritance: Multilevel inheritance occurs when a subclass inherits from a base class, and that base class itself inherits from another base class. Here's an example:"
      ],
      "metadata": {
        "id": "94ZURKtRhzGv"
      }
    },
    {
      "cell_type": "code",
      "source": [
        "class Animal:\n",
        "    def move(self):\n",
        "        print(\"I can move.\")\n",
        "\n",
        "class Mammal(Animal):\n",
        "    def feed_milk(self):\n",
        "        print(\"I can feed milk.\")\n",
        "\n",
        "class Dog(Mammal):\n",
        "    def bark(self):\n",
        "        print(\"Woof!\")\n",
        "\n",
        "# Create a Dog object and call its methods\n",
        "my_dog = Dog()\n",
        "my_dog.move()      \n",
        "my_dog.feed_milk() \n",
        "my_dog.bark()     \n"
      ],
      "metadata": {
        "colab": {
          "base_uri": "https://localhost:8080/"
        },
        "id": "vswc8q68hrVl",
        "outputId": "25717207-69cb-4e1c-8083-e4ed55df5f39"
      },
      "execution_count": null,
      "outputs": [
        {
          "output_type": "stream",
          "name": "stdout",
          "text": [
            "I can move.\n",
            "I can feed milk.\n",
            "Woof!\n"
          ]
        }
      ]
    },
    {
      "cell_type": "markdown",
      "source": [
        ">In this example, we define a Dog class that inherits from the Mammal class, which itself inherits from the Animal class. The Dog class adds a new method bark(), but it also has access to the move() method from the Animal class and the feed_milk() method from the Mammal class."
      ],
      "metadata": {
        "id": "Hvvs2cwuh_kf"
      }
    },
    {
      "cell_type": "markdown",
      "source": [
        "\n",
        "> 3. Multiple inheritance: Multiple inheritance occurs when a subclass inherits from multiple base classes. Here's an example:\n",
        "\n",
        "\n"
      ],
      "metadata": {
        "id": "yLcbH8EqiD0X"
      }
    },
    {
      "cell_type": "code",
      "source": [
        "class Swimmer:\n",
        "    def swim(self):\n",
        "        print(\"I can swim.\")\n",
        "\n",
        "class Walker:\n",
        "    def walk(self):\n",
        "        print(\"I can walk.\")\n",
        "\n",
        "class Penguin(Swimmer, Walker):\n",
        "    def slide(self):\n",
        "        print(\"I can slide on my belly.\")\n",
        "\n",
        "# Create a Penguin object and call its methods\n",
        "my_penguin = Penguin()\n",
        "my_penguin.swim()   \n",
        "my_penguin.walk()   \n",
        "my_penguin.slide()  \n"
      ],
      "metadata": {
        "colab": {
          "base_uri": "https://localhost:8080/"
        },
        "id": "5eoHEayah5jz",
        "outputId": "f8d82c7e-eb38-4ad4-883b-aec3e686d66e"
      },
      "execution_count": null,
      "outputs": [
        {
          "output_type": "stream",
          "name": "stdout",
          "text": [
            "I can swim.\n",
            "I can walk.\n",
            "I can slide on my belly.\n"
          ]
        }
      ]
    },
    {
      "cell_type": "markdown",
      "source": [
        ">In this example, we define a Penguin class that inherits from both the Swimmer and Walker classes. The Penguin class adds a new method slide(), but it also has access to the swim() method from the Swimmer class and the walk() method from the Walker class."
      ],
      "metadata": {
        "id": "riniwGBXiYeW"
      }
    },
    {
      "cell_type": "markdown",
      "source": [
        ">4. Hierarchical inheritance: In hierarchical inheritance, two or more derived classes are created from the same base class. That means that each subclass inherits all the properties and behavior of the base class. Here's an example:"
      ],
      "metadata": {
        "id": "uo4jDuegjSb3"
      }
    },
    {
      "cell_type": "code",
      "source": [
        "class Animal:\n",
        "    def move(self):\n",
        "        print(\"I can move.\")\n",
        "\n",
        "class Dog(Animal):\n",
        "    def bark(self):\n",
        "        print(\"Woof!\")\n",
        "\n",
        "class Cat(Animal):\n",
        "    def meow(self):\n",
        "        print(\"Meow!\")\n",
        "\n",
        "my_dog = Dog()\n",
        "my_dog.move()  \n",
        "my_dog.bark()  \n",
        "\n",
        "my_cat = Cat()\n",
        "my_cat.move()  \n",
        "my_cat.meow() \n"
      ],
      "metadata": {
        "colab": {
          "base_uri": "https://localhost:8080/"
        },
        "id": "7GRrIgZpiLGX",
        "outputId": "fb32b4db-872d-47e0-988b-82e85e749561"
      },
      "execution_count": null,
      "outputs": [
        {
          "output_type": "stream",
          "name": "stdout",
          "text": [
            "I can move.\n",
            "Woof!\n",
            "I can move.\n",
            "Meow!\n"
          ]
        }
      ]
    },
    {
      "cell_type": "code",
      "source": [],
      "metadata": {
        "id": "urQ6MJtZjnbV"
      },
      "execution_count": null,
      "outputs": []
    }
  ]
}