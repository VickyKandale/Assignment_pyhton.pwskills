{
  "nbformat": 4,
  "nbformat_minor": 0,
  "metadata": {
    "colab": {
      "provenance": [],
      "authorship_tag": "ABX9TyMUWNJ0YwL4nsExWAcVW7oj",
      "include_colab_link": true
    },
    "kernelspec": {
      "name": "python3",
      "display_name": "Python 3"
    },
    "language_info": {
      "name": "python"
    }
  },
  "cells": [
    {
      "cell_type": "markdown",
      "metadata": {
        "id": "view-in-github",
        "colab_type": "text"
      },
      "source": [
        "<a href=\"https://colab.research.google.com/github/VickyKandale/Assignment_pyhton.pwskills/blob/main/Assignment_(Anomaly_Detection_2)_3may.ipynb\" target=\"_parent\"><img src=\"https://colab.research.google.com/assets/colab-badge.svg\" alt=\"Open In Colab\"/></a>"
      ]
    },
    {
      "cell_type": "markdown",
      "source": [
        "\n",
        "# Anomaly Detection-2\n",
        "\n",
        "\n"
      ],
      "metadata": {
        "id": "_5Vwie4x7A4U"
      }
    },
    {
      "cell_type": "markdown",
      "source": [
        "## Q1. What is the role of feature selection in anomaly detection?"
      ],
      "metadata": {
        "id": "Le74Fq3B7GJ_"
      }
    },
    {
      "cell_type": "markdown",
      "source": [
        "Feature selection is the process of selecting a subset of features from a dataset that are most relevant to the task at hand. In the context of anomaly detection, feature selection can be used to improve the performance of anomaly detection algorithms by removing irrelevant or redundant features.\n",
        "\n",
        "There are a number of different feature selection techniques that can be used for anomaly detection. Some of the most common techniques include:\n",
        "\n",
        "- Filter methods select features based on their statistical properties, such as their variance or correlation with the target variable.\n",
        "- Wrapper methods search for feature subsets that optimize a given performance metric, such as the accuracy of an anomaly detection algorithm.\n",
        "- Embedded methods combine feature selection and anomaly detection into a single process.\n",
        "\n",
        "The choice of feature selection technique will depend on the specific application and the characteristics of the data. For example, if the data is high-dimensional, then a filter method may be a good choice. If the data is noisy, then a wrapper method may be a good choice.\n",
        "\n",
        "Feature selection can improve the performance of anomaly detection algorithms in a number of ways. First, it can help to reduce the dimensionality of the data, which can make it easier for anomaly detection algorithms to learn the normal behavior of the data. Second, it can help to remove irrelevant or redundant features, which can improve the accuracy of anomaly detection algorithms.\n",
        "\n",
        "Here are some of the benefits of using feature selection in anomaly detection:\n",
        "\n",
        "- Reduced dimensionality. Feature selection can help to reduce the dimensionality of the data, which can make it easier for anomaly detection algorithms to learn the normal behavior of the data. This can improve the performance of anomaly detection algorithms, as they are less likely to be confused by irrelevant or redundant features.\n",
        "- Improved accuracy. Feature selection can help to improve the accuracy of anomaly detection algorithms by removing irrelevant or redundant features. This is because irrelevant or redundant features can actually decrease the accuracy of anomaly detection algorithms, as they can make it more difficult for the algorithms to learn the normal behavior of the data.\n",
        "- Increased interpretability. Feature selection can help to increase the interpretability of anomaly detection algorithms. This is because feature selection can help to identify the features that are most important for detecting anomalies. This can be helpful for understanding why anomalies occur and for taking corrective action.\n",
        "\n",
        "However, there are also some challenges associated with using feature selection in anomaly detection. These challenges include:\n",
        "\n",
        "- Data sparsity. Feature selection can be difficult to apply to data that is sparse. This is because sparse data may not contain enough information to identify the relevant features.\n",
        "- Overfitting. Feature selection can lead to overfitting if the wrong features are selected. This is because overfitting can occur when the model is too complex and is able to memorize the training data rather than learning the underlying patterns.\n",
        "- Computational cost. Feature selection can be computationally expensive, especially for large datasets. This is because feature selection algorithms need to evaluate all possible feature subsets, which can be time-consuming.\n",
        "\n",
        "Overall, feature selection can be a powerful tool for improving the performance of anomaly detection algorithms. However, it is important to be aware of the challenges associated with using feature selection in anomaly detection before using it."
      ],
      "metadata": {
        "id": "buek9vFW8Sq4"
      }
    },
    {
      "cell_type": "code",
      "execution_count": null,
      "metadata": {
        "id": "pMOIWD5167DT"
      },
      "outputs": [],
      "source": []
    },
    {
      "cell_type": "markdown",
      "source": [
        "## Q2. What are some common evaluation metrics for anomaly detection algorithms and how are they computed?"
      ],
      "metadata": {
        "id": "nPUepIcf7jUj"
      }
    },
    {
      "cell_type": "markdown",
      "source": [
        "\n",
        "There are a number of different evaluation metrics that can be used for anomaly detection algorithms. Some of the most common metrics include:\n",
        "\n",
        "- True positive rate (TPR): The fraction of true anomalies that are correctly identified as anomalies.\n",
        "- False positive rate (FPR): The fraction of normal data points that are incorrectly identified as anomalies.\n",
        "- Precision: The fraction of anomalies that are correctly identified as anomalies.\n",
        "- Recall: The fraction of true anomalies that are correctly identified as anomalies.\n",
        "- F1 score: The harmonic mean of precision and recall.\n",
        "Area under the ROC curve (AUC): A measure of the overall performance of an anomaly detection algorithm.\n",
        "\n",
        "The TPR, FPR, precision, recall, and F1 score are all binary classification metrics, which means that they can be used to evaluate anomaly detection algorithms that produce binary predictions (i.e., predictions of whether or not a data point is an anomaly). The AUC is a non-binary classification metric, which means that it can be used to evaluate anomaly detection algorithms that produce continuous predictions (i.e., predictions of the anomaly score for each data point).\n",
        "\n",
        "The TPR, FPR, precision, recall, and F1 score are all calculated as follows:\n",
        "\n",
        "- True positive rate (TPR): TPR = TP / (TP + FN)\n",
        "- False positive rate (FPR): FPR = FP / (FP + TN)\n",
        "- Precision: Precision = TP / (TP + FP)\n",
        "- Recall: Recall = TP / (TP + FN)\n",
        "- F1 score: F1 = 2 * Precision * Recall / (Precision + Recall)\n",
        "\n",
        "Where:\n",
        "\n",
        "- TP: True positives\n",
        "- FP: False positives\n",
        "- TN: True negatives\n",
        "- FN: False negatives\n",
        "\n",
        "The AUC is calculated as follows:\n",
        "\n",
        "- AUC = 1 - (FPR * (1 - TPR))\n",
        "The AUC is a measure of the area under the ROC curve, which is a plot of the TPR against the FPR. The ROC curve shows the tradeoff between TPR and FPR for different thresholds. A higher AUC indicates a better overall performance of the anomaly detection algorithm.\n",
        "\n",
        "The choice of evaluation metric will depend on the specific application and the requirements of the stakeholders. For example, if the stakeholders are more concerned with identifying all of the anomalies, then the TPR may be a more important metric. If the stakeholders are more concerned with avoiding false positives, then the FPR may be a more important metric.\n",
        "\n",
        "It is important to note that no single evaluation metric is perfect. It is often necessary to use multiple evaluation metrics to get a complete picture of the performance of an anomaly detection algorithm."
      ],
      "metadata": {
        "id": "rz44ka1C9Mwz"
      }
    },
    {
      "cell_type": "code",
      "source": [],
      "metadata": {
        "id": "1p9fwJ_N7lKd"
      },
      "execution_count": null,
      "outputs": []
    },
    {
      "cell_type": "markdown",
      "source": [
        "## Q3. What is DBSCAN and how does it work for clustering?"
      ],
      "metadata": {
        "id": "cjmadNe_7nFx"
      }
    },
    {
      "cell_type": "markdown",
      "source": [
        "\n",
        "DBSCAN (Density-Based Spatial Clustering of Applications with Noise) is a clustering algorithm that groups together data points that are densely packed together. Data points that are not densely packed together are considered to be noise.\n",
        "\n",
        "DBSCAN works by defining two terms:\n",
        "\n",
        "- Core points: Data points that have a minimum number of neighboring points within a certain radius.\n",
        "- Border points: Data points that are within the radius of a core point, but do not have the minimum number of neighboring points themselves.\n",
        "DBSCAN clusters are formed by connecting core points and their neighboring points. Data points that are not connected to any core points are considered to be noise.\n",
        "\n",
        "DBSCAN is a density-based clustering algorithm, which means that it does not make any assumptions about the shape of the clusters. This makes DBSCAN a versatile clustering algorithm that can be used to cluster a variety of data sets.\n",
        "\n",
        "Here are some of the advantages of using DBSCAN:\n",
        "\n",
        "- Robust to noise: DBSCAN is robust to noise, which means that it can still cluster data sets that contain noise.\n",
        "- Versatile: DBSCAN can be used to cluster a variety of data sets, including data sets that are not spherical in shape.\n",
        "- Scalable: DBSCAN is scalable to large datasets.\n",
        "\n",
        "Here are some of the disadvantages of using DBSCAN:\n",
        "\n",
        "- Parameters: DBSCAN has two parameters, eps and min_samples, which need to be tuned for the specific dataset.\n",
        "- Computational complexity: DBSCAN can be computationally expensive, especially for large datasets.\n",
        "\n",
        "Overall, DBSCAN is a powerful clustering algorithm that can be used to cluster a variety of data sets. However, it is important to be aware of the limitations of DBSCAN before using it.\n",
        "\n",
        "Here are some additional details about DBSCAN:\n",
        "\n",
        "- The eps parameter is the radius of the neighborhood that is used to define core points.\n",
        "- The min_samples parameter is the minimum number of neighboring points that a core point must have.\n",
        "- DBSCAN can be used to cluster both continuous and categorical data.\n",
        "- DBSCAN is a non-parametric algorithm, which means that it does not make any assumptions about the distribution of the data.\n"
      ],
      "metadata": {
        "id": "JFxHy_BI94Da"
      }
    },
    {
      "cell_type": "code",
      "source": [],
      "metadata": {
        "id": "jtzl-RUA7ou-"
      },
      "execution_count": null,
      "outputs": []
    },
    {
      "cell_type": "markdown",
      "source": [
        "## Q4. How does the epsilon parameter affect the performance of DBSCAN in detecting anomalies?"
      ],
      "metadata": {
        "id": "Mvgb63I67rEi"
      }
    },
    {
      "cell_type": "markdown",
      "source": [
        "The epsilon (ε) parameter in the DBSCAN (Density-Based Spatial Clustering of Applications with Noise) algorithm defines the radius within which the algorithm searches for neighboring points. It plays a crucial role in determining the performance of DBSCAN in detecting anomalies. Here's how the epsilon parameter affects the performance of DBSCAN:\n",
        "\n",
        "- Density Threshold: The epsilon parameter defines the density threshold in DBSCAN. Points within the epsilon radius of each other are considered neighbors, and a cluster is formed if the number of neighbors exceeds a specified minimum points threshold (minPts). Anomalies, by definition, have lower densities or fewer neighboring points. A smaller epsilon value can lead to the identification of sparse clusters as anomalies, including outliers or isolated data points.\n",
        "\n",
        "- Sensitivity to Local Density: The choice of the epsilon parameter determines the level of sensitivity to local density. A smaller epsilon value results in a more restrictive definition of neighborhood, requiring points to be closer to each other to form clusters. This can lead to tighter clusters and more accurate detection of anomalies that lie in sparser regions. However, it may also result in overlooking anomalies that are relatively far away from dense clusters.\n",
        "\n",
        "- Trade-off between Precision and Recall: The epsilon parameter impacts the trade-off between precision and recall in anomaly detection. A smaller epsilon value tends to improve precision by reducing false positives, as it only includes nearby points in clusters. However, it may decrease recall by missing anomalies that are located far away from dense clusters. Conversely, a larger epsilon value can increase recall by considering a broader range of points as neighbors but may lead to higher false positives.\n",
        "\n",
        "- Dataset Characteristics: The appropriate value of the epsilon parameter depends on the characteristics of the dataset, such as the density of normal instances and the spread of anomalies. In a dataset with high-density normal instances and well-separated anomalies, a smaller epsilon value may be more suitable. On the other hand, in datasets with varying densities and anomalies located at different distances, a larger epsilon value may be required to capture anomalies effectively.\n",
        "\n",
        "- Parameter Tuning: Determining the optimal epsilon value often involves parameter tuning and experimentation. Techniques like the k-distance graph or elbow method can be employed to analyze the distances between points and identify a suitable range of epsilon values. Additionally, domain knowledge or prior understanding of the dataset can guide the selection of an appropriate epsilon value.\n",
        "\n",
        "It's important to note that while DBSCAN can detect local anomalies effectively, it may face challenges in detecting global anomalies or anomalies that are surrounded by normal instances. In such cases, alternative algorithms or hybrid approaches may be more suitable for anomaly detection."
      ],
      "metadata": {
        "id": "ok8zsP8n-UFL"
      }
    },
    {
      "cell_type": "code",
      "source": [],
      "metadata": {
        "id": "oSJW4ixg7r_X"
      },
      "execution_count": null,
      "outputs": []
    },
    {
      "cell_type": "markdown",
      "source": [
        "## Q5. What are the differences between the core, border, and noise points in DBSCAN, and how do they relate to anomaly detection?"
      ],
      "metadata": {
        "id": "1zjAsqec78Hq"
      }
    },
    {
      "cell_type": "markdown",
      "source": [
        "In DBSCAN, there are three types of points: core points, border points, and noise points. These points are defined based on their density and connectivity to other points.\n",
        "\n",
        "- Core points are points that have a minimum number of neighboring points within a certain radius. These points are considered to be the densest points in the dataset and are the foundation of DBSCAN clusters.\n",
        "- Border points are points that are within the radius of a core point, but do not have the minimum number of neighboring points themselves. These points are considered to be on the edge of clusters and may be noise or outliers.\n",
        "- Noise points are points that are not within the radius of any core points.\n",
        "These points are considered to be outliers and are not assigned to any clusters.\n",
        "\n",
        "Anomaly detection is the process of identifying data points that are significantly different from the rest of the data. In DBSCAN, anomalies can be identified as noise points. This is because noise points are typically far away from other points and do not belong to any clusters.\n",
        "\n",
        "The following table summarizes the differences between core, border, and noise points in DBSCAN:\n",
        "\n",
        "![Capture.PNG](data:image/png;base64,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)\n",
        "\n",
        "Here are some additional details about core, border, and noise points in DBSCAN:\n",
        "\n",
        "- The eps parameter is the radius of the neighborhood that is used to define core points.\n",
        "- The min_samples parameter is the minimum number of neighboring points that a core point must have.\n",
        "- DBSCAN can be used to identify both noise points and outliers.\n",
        "\n",
        "The choice of eps and min_samples parameters can affect the number of noise points and outliers that are identified.\n"
      ],
      "metadata": {
        "id": "Nz33dLva-iyh"
      }
    },
    {
      "cell_type": "code",
      "source": [],
      "metadata": {
        "id": "92nK2rae7_cH"
      },
      "execution_count": null,
      "outputs": []
    },
    {
      "cell_type": "markdown",
      "source": [
        "## Q6. How does DBSCAN detect anomalies and what are the key parameters involved in the process?"
      ],
      "metadata": {
        "id": "4B9uAFyD7_6Z"
      }
    },
    {
      "cell_type": "markdown",
      "source": [
        "DBSCAN (Density-Based Spatial Clustering of Applications with Noise) is primarily designed for clustering, but it can also be used to detect anomalies. DBSCAN detects anomalies by considering points that do not fit well into any cluster as noise or outliers. Here's how DBSCAN detects anomalies and the key parameters involved:\n",
        "\n",
        "1. Density-Based Clustering: DBSCAN defines clusters based on the density of points. It considers a point as a core point if it has a sufficient number of neighboring points within a specified radius (epsilon, ε). Points within the epsilon radius of a core point are considered part of the same cluster. This process continues recursively, connecting points through density reachability.\n",
        "\n",
        "2. Anomalies as Noise Points: Points that are not reachable by a sufficient number of neighboring points or not part of any cluster are considered noise points or anomalies. These points are isolated or have lower densities, making them deviate from the typical cluster patterns. DBSCAN identifies such points as anomalies.\n",
        "\n",
        "3. Key Parameters:\n",
        " - Epsilon (ε): The epsilon parameter determines the radius within which DBSCAN searches for neighboring points. Points within this distance are considered part of the same cluster. An appropriate value of epsilon is crucial for distinguishing between anomalies and regular points. A smaller epsilon can lead to more precise identification of anomalies, but it may also result in overlooking outliers that are relatively far from dense clusters.\n",
        "\n",
        " - Minimum Points (minPts): The minPts parameter specifies the minimum number of neighboring points required to classify a point as a core point. Points with fewer neighbors than minPts are considered border points, while those with more neighbors are considered core points. An appropriate value for minPts helps control the sensitivity of DBSCAN to noise and can impact the detection of anomalies. Higher minPts values can reduce the likelihood of considering isolated points as anomalies, but they may miss anomalies located in sparse regions.\n",
        "\n",
        " - Distance Metric: DBSCAN operates on a distance metric, such as Euclidean distance or other appropriate distance measures, to determine the proximity between points and the definition of the epsilon radius. The choice of distance metric depends on the characteristics of the data and the domain-specific requirements.\n",
        "\n",
        " - Data Preprocessing: Before applying DBSCAN for anomaly detection, it is important to preprocess the data appropriately. This may involve scaling the features, handling missing values, or performing feature engineering to ensure that the density-based clustering is meaningful and reliable.\n",
        "\n",
        "By adjusting the values of epsilon and minPts, and selecting an appropriate distance metric, DBSCAN can effectively detect anomalies as noise points or outliers. However, it's important to note that DBSCAN may not be suitable for detecting all types of anomalies, particularly those that exhibit different density patterns or are not well-separated from normal instances. In such cases, alternative anomaly detection algorithms or hybrid approaches may be more appropriate."
      ],
      "metadata": {
        "id": "dD6AAsr7_gFS"
      }
    },
    {
      "cell_type": "code",
      "source": [],
      "metadata": {
        "id": "WXP_Z8dC8Col"
      },
      "execution_count": null,
      "outputs": []
    },
    {
      "cell_type": "markdown",
      "source": [
        "## Q7. What is the make_circles package in scikit-learn used for?"
      ],
      "metadata": {
        "id": "PwpHb71G8ErI"
      }
    },
    {
      "cell_type": "markdown",
      "source": [
        "The make_circles package in scikit-learn is used to generate a toy dataset that consists of two concentric circles. This dataset can be used to visualize clustering and classification algorithms.\n",
        "\n",
        "The make_circles package takes several parameters, including:\n",
        "\n",
        "- n_samples: The total number of points to generate.\n",
        "- noise: The standard deviation of Gaussian noise to add to the data.\n",
        "- factor: The scale factor between the inner and outer circle.\n",
        "\n",
        "The make_circles package returns two NumPy arrays:\n",
        "```\n",
        "X: The generated samples.\n",
        "y: The integer labels (0 or 1) for class membership of each sample.\n",
        "```\n",
        "Here is an example of how to use the make_circles package:"
      ],
      "metadata": {
        "id": "m-43Q9Im_9EN"
      }
    },
    {
      "cell_type": "code",
      "source": [
        "import numpy as np\n",
        "from sklearn.datasets import make_circles\n",
        "\n",
        "X, y = make_circles(n_samples=1000, noise=0.05, factor=0.5)"
      ],
      "metadata": {
        "id": "yRvsDs728Fi6"
      },
      "execution_count": 1,
      "outputs": []
    },
    {
      "cell_type": "markdown",
      "source": [
        "This code will generate a toy dataset with 1000 points, 0.05 standard deviation of Gaussian noise, and a scale factor of 0.5. The X array will contain the generated samples, and the y array will contain the integer labels (0 or 1) for class membership of each sample.\n",
        "\n",
        "The make_circles package is a useful tool for visualizing clustering and classification algorithms. It can be used to quickly and easily generate a toy dataset that can be used to test different algorithms."
      ],
      "metadata": {
        "id": "BdmCIJ5HALmW"
      }
    },
    {
      "cell_type": "markdown",
      "source": [
        "## Q8. What are local outliers and global outliers, and how do they differ from each other?"
      ],
      "metadata": {
        "id": "FLt92QTy_3dz"
      }
    },
    {
      "cell_type": "markdown",
      "source": [
        "Local outliers and global outliers are concepts used in anomaly detection to describe different types of anomalies based on their relationship to their local or global context. Here's how they differ:\n",
        "\n",
        "1. Local Outliers:\n",
        "\n",
        "- Local outliers, also known as contextual outliers or conditional outliers, are data points that are considered anomalous within their local neighborhood or context.\n",
        "- These outliers deviate from the typical patterns or behaviors of nearby instances but may appear normal when considered in the broader global context.\n",
        "- Local outliers are detected by analyzing the local density or characteristics of neighboring points. If a data point has significantly different attributes or properties compared to its neighbors, it is identified as a local outlier.\n",
        "- Examples of local outliers can include rare events or anomalies that occur in specific regions or clusters within a dataset.\n",
        "\n",
        "2. Global Outliers:\n",
        "\n",
        "- Global outliers, also known as collective outliers or unconditional outliers, are data points that are considered anomalous when analyzed in the overall global context of the dataset.\n",
        "- These outliers exhibit patterns or behaviors that differ from the majority of the data points and are considered anomalous regardless of their local neighborhood.\n",
        "- Global outliers are detected by analyzing the overall distribution, density, or statistical characteristics of the dataset.\n",
        "- Examples of global outliers can include extreme values, outliers that exist across multiple clusters or groups, or anomalies that deviate from the general trends of the dataset.\n",
        "\n",
        "The main difference between local outliers and global outliers lies in the scope of their abnormality. Local outliers are anomalies when considering their local context but may not be considered anomalies when analyzed in the global context. On the other hand, global outliers are anomalies regardless of their local context and exhibit abnormality when compared to the overall dataset.\n",
        "\n",
        "It's important to note that the distinction between local and global outliers is not always clear-cut, and the categorization of an outlier may depend on the specific anomaly detection algorithm or the definition of the context or scope used in the analysis."
      ],
      "metadata": {
        "id": "41MT2Y8yARc5"
      }
    },
    {
      "cell_type": "code",
      "source": [],
      "metadata": {
        "id": "k-saW3gZ_4Se"
      },
      "execution_count": null,
      "outputs": []
    },
    {
      "cell_type": "markdown",
      "source": [
        "## Q9. How can local outliers be detected using the Local Outlier Factor (LOF) algorithm?"
      ],
      "metadata": {
        "id": "svwdqoTvAfVz"
      }
    },
    {
      "cell_type": "markdown",
      "source": [
        "The Local Outlier Factor (LOF) algorithm is a popular method for detecting local outliers or contextual anomalies. LOF assesses the degree of outlierness of a data point based on its local density compared to the local densities of its neighboring points. Here's how LOF detects local outliers:\n",
        "\n",
        "1. Calculate Local Reachability Density (LRD):\n",
        "\n",
        "- For each data point, calculate its local reachability density (LRD). LRD measures the local density of a point with respect to its neighbors.\n",
        "- To calculate LRD, identify the k-nearest neighbors of the data point (where k is a user-defined parameter).\n",
        "- Compute the reachability distance between the data point and its neighbors. The reachability distance is the maximum of the Euclidean distance between the data point and its neighbor or the reachability distance of the neighbor itself.\n",
        "- Calculate the local reachability density (LRD) by taking the inverse of the average reachability distance of the data point with its k-nearest neighbors.\n",
        "\n",
        "2. Calculate Local Outlier Factor (LOF):\n",
        "\n",
        "- For each data point, calculate its local outlier factor (LOF) based on the LRD values of its neighbors.\n",
        "- Identify the k-nearest neighbors of the data point and obtain their LRD values.\n",
        "- Compute the LOF by taking the average ratio of the LRD of the data point's neighbors to the data point's LRD.\n",
        "- A high LOF indicates that the data point has a lower density compared to its neighbors, suggesting that it is a local outlier.\n",
        "\n",
        "3. Interpretation:\n",
        "\n",
        "- The LOF value provides a measure of how likely a data point is an outlier in its local context.\n",
        "- A LOF value greater than 1 indicates that the data point has a lower density than its neighbors and is potentially a local outlier.\n",
        "- A LOF value significantly higher than 1 signifies a strong indication of being a local outlier.\n",
        "\n",
        "By calculating the LRD and LOF for each data point, the LOF algorithm assigns an outlierness score to each point, allowing for the identification of local outliers. Points with higher LOF values are considered more likely to be local outliers, as they have lower local densities compared to their neighbors.\n",
        "\n",
        "It's worth noting that the LOF algorithm requires setting the value of the k parameter (number of nearest neighbors) appropriately. The choice of k influences the granularity of the local density estimation and can impact the performance of the algorithm in detecting local outliers. Parameter tuning and experimentation may be necessary to determine the optimal value of k for a given dataset."
      ],
      "metadata": {
        "id": "qLlcU9bSA7ml"
      }
    },
    {
      "cell_type": "code",
      "source": [],
      "metadata": {
        "id": "xAGuGJtsAgKn"
      },
      "execution_count": null,
      "outputs": []
    },
    {
      "cell_type": "markdown",
      "source": [
        "## Q10. How can global outliers be detected using the Isolation Forest algorithm?"
      ],
      "metadata": {
        "id": "zTaUlGFMAkJy"
      }
    },
    {
      "cell_type": "markdown",
      "source": [
        "The Isolation Forest algorithm is a powerful anomaly detection algorithm that can be used to detect both local and global outliers. Global outliers are data points that are significantly different from the rest of the data in the entire dataset.\n",
        "\n",
        "The Isolation Forest algorithm works by randomly partitioning the data points into different trees. The average path length of a data point is the number of splits it takes to isolate the data point from the rest of the data. A data point with a shorter average path length is considered to be more anomalous, as it is easier to isolate from the rest of the data.\n",
        "\n",
        "Global outliers are typically data points that have a very short average path length. This is because global outliers are typically very different from the rest of the data in the entire dataset.\n",
        "\n",
        "Here are the steps on how to detect global outliers using the Isolation Forest algorithm:\n",
        "\n",
        "1. Train the Isolation Forest algorithm on the dataset.\n",
        "2. Calculate the average path length for each data point.\n",
        "3. Identify data points with a short average path length.\n",
        "4. These data points are considered to be global outliers.\n",
        "\n",
        "Here are some additional details about detecting global outliers using the Isolation Forest algorithm:\n",
        "\n",
        "- The number of trees in the Isolation Forest algorithm can affect the number of global outliers that are identified.\n",
        "- The depth of the trees in the Isolation Forest algorithm can also affect the number of global outliers that are identified.\n",
        "- The Isolation Forest algorithm can be used to detect both local and global outliers."
      ],
      "metadata": {
        "id": "jOmJ_vJXApRK"
      }
    },
    {
      "cell_type": "code",
      "source": [],
      "metadata": {
        "id": "RImOcsZhAk1F"
      },
      "execution_count": null,
      "outputs": []
    },
    {
      "cell_type": "markdown",
      "source": [
        "## Q11. What are some real-world applications where local outlier detection is more appropriate than global outlier detection, and vice versa?"
      ],
      "metadata": {
        "id": "J4Xso8TeBVwb"
      }
    },
    {
      "cell_type": "markdown",
      "source": [
        "Local outlier detection (LOD) and global outlier detection (GOD) are two different approaches to anomaly detection. LOD focuses on identifying outliers that are different from their local neighbors, while GOD focuses on identifying outliers that are different from the entire dataset.\n",
        "\n",
        "Here are some real-world applications where LOD is more appropriate than GOD:\n",
        "\n",
        "- Fraud detection: In fraud detection, it is important to identify fraudulent transactions that are different from legitimate transactions. LOD can be used to identify fraudulent transactions that are different from their local neighbors, while GOD may not be able to identify these transactions if they are similar to other legitimate transactions.\n",
        "- Network intrusion detection: In network intrusion detection, it is important to identify malicious traffic that is different from normal traffic. LOD can be used to identify malicious traffic that is different from its local neighbors, while GOD may not be able to identify these traffic if they are similar to other normal traffic.\n",
        "- Biomedical anomaly detection: In biomedical anomaly detection, it is important to identify anomalies in medical data that are different from normal data. LOD can be used to identify anomalies in medical data that are different from their local neighbors, while GOD may not be able to identify these anomalies if they are similar to other normal data.\n",
        "\n",
        "Here are some real-world applications where GOD is more appropriate than LOD:\n",
        "\n",
        "- Outlier detection in sensor data: In outlier detection in sensor data, it is important to identify outliers that are different from the entire dataset. This is because sensor data is often noisy, and LOD may not be able to identify outliers that are hidden in the noise.\n",
        "- Outlier detection in financial data: In outlier detection in financial data, it is important to identify outliers that are different from the entire dataset. This is because financial data is often volatile, and LOD may not be able to identify outliers that are caused by volatility.\n",
        "- Outlier detection in social media data: In outlier detection in social media data, it is important to identify outliers that are different from the entire dataset. This is because social media data is often noisy, and LOD may not be able to identify outliers that are hidden in the noise.\n",
        "\n",
        "Ultimately, the choice of whether to use LOD or GOD depends on the specific application and the characteristics of the data. If the data is noisy or volatile, then GOD may be a better choice. However, if the data is not noisy or volatile, then LOD may be a better choice."
      ],
      "metadata": {
        "id": "aNZwSnT4BajD"
      }
    },
    {
      "cell_type": "code",
      "source": [],
      "metadata": {
        "id": "BmirKnc9BXYc"
      },
      "execution_count": null,
      "outputs": []
    }
  ]
}