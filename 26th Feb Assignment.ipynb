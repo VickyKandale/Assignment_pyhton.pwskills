{
  "nbformat": 4,
  "nbformat_minor": 0,
  "metadata": {
    "colab": {
      "provenance": []
    },
    "kernelspec": {
      "name": "python3",
      "display_name": "Python 3"
    },
    "language_info": {
      "name": "python"
    }
  },
  "cells": [
    {
      "cell_type": "code",
      "execution_count": 1,
      "metadata": {
        "id": "Y3x7t9orud9z"
      },
      "outputs": [],
      "source": [
        "import numpy as np"
      ]
    },
    {
      "cell_type": "code",
      "source": [
        "#Consider the below code to answer further questions:\n",
        "\n",
        "list_ = [ '1','2','3','4','5', '6']\n",
        "\n",
        "array_list = np.array(object = list_)"
      ],
      "metadata": {
        "id": "UqzEMiV0uiZR"
      },
      "execution_count": 3,
      "outputs": []
    },
    {
      "cell_type": "markdown",
      "source": [
        "Q1. Is there any difference in the data type of variables list_ and array_list? If there is then write a code\n",
        "to print the data types of both the variables."
      ],
      "metadata": {
        "id": "gDpaU0CCuui5"
      }
    },
    {
      "cell_type": "markdown",
      "source": [
        "Ans-  yes, there is the difference between data types of both the variables. as we showing below"
      ],
      "metadata": {
        "id": "hiTnEt_8vPtZ"
      }
    },
    {
      "cell_type": "code",
      "source": [
        "type(list_)"
      ],
      "metadata": {
        "colab": {
          "base_uri": "https://localhost:8080/"
        },
        "id": "sl0ljcJKuq_W",
        "outputId": "26eed725-1ae1-483a-a544-ed8d8dba06c9"
      },
      "execution_count": 6,
      "outputs": [
        {
          "output_type": "execute_result",
          "data": {
            "text/plain": [
              "list"
            ]
          },
          "metadata": {},
          "execution_count": 6
        }
      ]
    },
    {
      "cell_type": "code",
      "source": [
        "type(array_list)"
      ],
      "metadata": {
        "colab": {
          "base_uri": "https://localhost:8080/"
        },
        "id": "EAqGO_hrvAWg",
        "outputId": "80dd9af9-7475-47a7-8150-ce80a9944daf"
      },
      "execution_count": 7,
      "outputs": [
        {
          "output_type": "execute_result",
          "data": {
            "text/plain": [
              "numpy.ndarray"
            ]
          },
          "metadata": {},
          "execution_count": 7
        }
      ]
    },
    {
      "cell_type": "markdown",
      "source": [
        "Q2. Write a code to print the data type of each and every element of both the variables list_ and\n",
        "arra_list."
      ],
      "metadata": {
        "id": "2MehjOcXvoQ5"
      }
    },
    {
      "cell_type": "code",
      "source": [
        "print(f\"The data type of list_ variable is {type(list_)}\")"
      ],
      "metadata": {
        "colab": {
          "base_uri": "https://localhost:8080/"
        },
        "id": "pXqu-v1ivCib",
        "outputId": "44029f34-2682-49da-c3fd-a7a7acdffa34"
      },
      "execution_count": 9,
      "outputs": [
        {
          "output_type": "stream",
          "name": "stdout",
          "text": [
            "The data type of list_ variable is <class 'list'>\n"
          ]
        }
      ]
    },
    {
      "cell_type": "code",
      "source": [
        "print(f\"The data type of list_ variable is {type(array_list)}\")"
      ],
      "metadata": {
        "colab": {
          "base_uri": "https://localhost:8080/"
        },
        "id": "JewnpjgtwBjR",
        "outputId": "31773338-3a38-484e-976c-55a6e23a3e91"
      },
      "execution_count": 11,
      "outputs": [
        {
          "output_type": "stream",
          "name": "stdout",
          "text": [
            "The data type of list_ variable is <class 'numpy.ndarray'>\n"
          ]
        }
      ]
    },
    {
      "cell_type": "markdown",
      "source": [
        "Q3. Considering the following changes in the variable, array_list:\n",
        "\n",
        "array_list = np.array(object = list_, dtype = int)\n",
        "\n",
        "Will there be any difference in the data type of the elements present in both the variables, list_ and\n",
        "arra_list? If so then print the data types of each and every element present in both the variables, list_\n",
        "and arra_list.\n",
        "\n",
        "\n",
        "Ans-- No any changes happend in the variables"
      ],
      "metadata": {
        "id": "0cbN8stSwQuI"
      }
    },
    {
      "cell_type": "code",
      "source": [
        "array_list = np.array(object = list_, dtype = int)"
      ],
      "metadata": {
        "id": "ieS-7AExwH3W"
      },
      "execution_count": 12,
      "outputs": []
    },
    {
      "cell_type": "code",
      "source": [
        "type(array_list)"
      ],
      "metadata": {
        "colab": {
          "base_uri": "https://localhost:8080/"
        },
        "id": "tAEm2skFwnRY",
        "outputId": "a98c63cd-492c-4b2c-9bd0-69e7e1c01cd9"
      },
      "execution_count": 13,
      "outputs": [
        {
          "output_type": "execute_result",
          "data": {
            "text/plain": [
              "numpy.ndarray"
            ]
          },
          "metadata": {},
          "execution_count": 13
        }
      ]
    },
    {
      "cell_type": "code",
      "source": [
        "type(list_)"
      ],
      "metadata": {
        "colab": {
          "base_uri": "https://localhost:8080/"
        },
        "id": "SrEwRuXFwyCg",
        "outputId": "3292d372-92dd-48bf-9410-78946698f5e8"
      },
      "execution_count": 16,
      "outputs": [
        {
          "output_type": "execute_result",
          "data": {
            "text/plain": [
              "list"
            ]
          },
          "metadata": {},
          "execution_count": 16
        }
      ]
    },
    {
      "cell_type": "markdown",
      "source": [
        "Consider the below code to answer further questions:\n",
        "\n",
        "import numpy as np\n",
        "\n",
        "num_list = [ [ 1 , 2 , 3 ] , [ 4 , 5 , 6 ] ]\n",
        "\n",
        "num_array = np.array(object = num_list)\n",
        "\n",
        "\n",
        "\n",
        "#Q4. Write a code to find the following characteristics of variable, num_array:\n",
        "\n",
        "(i)\t shape\n",
        "\n",
        "(ii) size"
      ],
      "metadata": {
        "id": "JskUPv2Rxo5x"
      }
    },
    {
      "cell_type": "code",
      "source": [
        "num_list = [ [ 1 , 2 , 3 ] , [ 4 , 5 , 6 ] ]\n",
        "\n",
        "num_array = np.array(object = num_list)"
      ],
      "metadata": {
        "id": "X5IVzHAZw9p5"
      },
      "execution_count": 18,
      "outputs": []
    },
    {
      "cell_type": "code",
      "source": [
        "num_array.shape"
      ],
      "metadata": {
        "colab": {
          "base_uri": "https://localhost:8080/"
        },
        "id": "STIhTZp7xNh4",
        "outputId": "ee98134b-ea67-479b-a12b-79b8d0e4239d"
      },
      "execution_count": 20,
      "outputs": [
        {
          "output_type": "execute_result",
          "data": {
            "text/plain": [
              "(2, 3)"
            ]
          },
          "metadata": {},
          "execution_count": 20
        }
      ]
    },
    {
      "cell_type": "code",
      "source": [
        "num_array.size"
      ],
      "metadata": {
        "colab": {
          "base_uri": "https://localhost:8080/"
        },
        "id": "lonChpZKx23X",
        "outputId": "2238b3bc-1ecd-45bb-bf8e-eaad18fe5fed"
      },
      "execution_count": 21,
      "outputs": [
        {
          "output_type": "execute_result",
          "data": {
            "text/plain": [
              "6"
            ]
          },
          "metadata": {},
          "execution_count": 21
        }
      ]
    },
    {
      "cell_type": "markdown",
      "source": [
        "Q5. Write a code to create numpy array of 3*3 matrix containing zeros only, using a numpy array\n",
        "creation function.\n",
        "\n",
        "[Hint: The size of the array will be 9 and the shape will be (3,3).]"
      ],
      "metadata": {
        "id": "CVZKpcs-yFT4"
      }
    },
    {
      "cell_type": "code",
      "source": [
        "matrix= np.array(np.zeros([3,3]))"
      ],
      "metadata": {
        "id": "4K1Jf1MiyBSc"
      },
      "execution_count": 25,
      "outputs": []
    },
    {
      "cell_type": "code",
      "source": [
        "matrix"
      ],
      "metadata": {
        "colab": {
          "base_uri": "https://localhost:8080/"
        },
        "id": "xzQCUHB3yUFC",
        "outputId": "3c4f73a7-d8ab-4f8c-de60-707acbe8499b"
      },
      "execution_count": 26,
      "outputs": [
        {
          "output_type": "execute_result",
          "data": {
            "text/plain": [
              "array([[0., 0., 0.],\n",
              "       [0., 0., 0.],\n",
              "       [0., 0., 0.]])"
            ]
          },
          "metadata": {},
          "execution_count": 26
        }
      ]
    },
    {
      "cell_type": "code",
      "source": [
        "matrix.size"
      ],
      "metadata": {
        "colab": {
          "base_uri": "https://localhost:8080/"
        },
        "id": "vJNZbDB7yygD",
        "outputId": "cb823797-f1f4-473f-e21e-6a93b6f644cf"
      },
      "execution_count": 27,
      "outputs": [
        {
          "output_type": "execute_result",
          "data": {
            "text/plain": [
              "9"
            ]
          },
          "metadata": {},
          "execution_count": 27
        }
      ]
    },
    {
      "cell_type": "code",
      "source": [
        "matrix.shape"
      ],
      "metadata": {
        "colab": {
          "base_uri": "https://localhost:8080/"
        },
        "id": "CFleIcKKy3M5",
        "outputId": "3625f883-97f7-4e7a-cdc5-bdbfb951fa60"
      },
      "execution_count": 28,
      "outputs": [
        {
          "output_type": "execute_result",
          "data": {
            "text/plain": [
              "(3, 3)"
            ]
          },
          "metadata": {},
          "execution_count": 28
        }
      ]
    },
    {
      "cell_type": "markdown",
      "source": [
        "Q6. Create an identity matrix of shape (5,5) using numpy functions?\n",
        "\n",
        "[Hint: An identity matrix is a matrix containing 1 diagonally and other elements will be 0.]"
      ],
      "metadata": {
        "id": "DXqq10vRy8mP"
      }
    },
    {
      "cell_type": "code",
      "source": [
        "identity_matrix= np.array(np.identity(5,dtype=None))"
      ],
      "metadata": {
        "id": "FfFKnTbky5i7"
      },
      "execution_count": 36,
      "outputs": []
    },
    {
      "cell_type": "code",
      "source": [
        "identity_matrix"
      ],
      "metadata": {
        "colab": {
          "base_uri": "https://localhost:8080/"
        },
        "id": "85XtQ6GpzVHJ",
        "outputId": "3ab7b3d8-8387-41b9-f799-2dea5b1b03f6"
      },
      "execution_count": 37,
      "outputs": [
        {
          "output_type": "execute_result",
          "data": {
            "text/plain": [
              "array([[1., 0., 0., 0., 0.],\n",
              "       [0., 1., 0., 0., 0.],\n",
              "       [0., 0., 1., 0., 0.],\n",
              "       [0., 0., 0., 1., 0.],\n",
              "       [0., 0., 0., 0., 1.]])"
            ]
          },
          "metadata": {},
          "execution_count": 37
        }
      ]
    },
    {
      "cell_type": "code",
      "source": [
        "identity_matrix.shape"
      ],
      "metadata": {
        "colab": {
          "base_uri": "https://localhost:8080/"
        },
        "id": "ESXK3-cXzWsQ",
        "outputId": "9364bdd9-f9c0-4d97-d124-f0501411e690"
      },
      "execution_count": 38,
      "outputs": [
        {
          "output_type": "execute_result",
          "data": {
            "text/plain": [
              "(5, 5)"
            ]
          },
          "metadata": {},
          "execution_count": 38
        }
      ]
    },
    {
      "cell_type": "code",
      "source": [],
      "metadata": {
        "id": "hEcnjD6Cz92Z"
      },
      "execution_count": null,
      "outputs": []
    }
  ]
}