{
  "nbformat": 4,
  "nbformat_minor": 0,
  "metadata": {
    "colab": {
      "provenance": [],
      "authorship_tag": "ABX9TyMg1VQxFsTrcM9as4QCI9rV",
      "include_colab_link": true
    },
    "kernelspec": {
      "name": "python3",
      "display_name": "Python 3"
    },
    "language_info": {
      "name": "python"
    }
  },
  "cells": [
    {
      "cell_type": "markdown",
      "metadata": {
        "id": "view-in-github",
        "colab_type": "text"
      },
      "source": [
        "<a href=\"https://colab.research.google.com/github/VickyKandale/Assignment_pyhton.pwskills/blob/main/Assignment_22nd_March.ipynb\" target=\"_parent\"><img src=\"https://colab.research.google.com/assets/colab-badge.svg\" alt=\"Open In Colab\"/></a>"
      ]
    },
    {
      "cell_type": "markdown",
      "source": [
        "#Feature Engineering-6"
      ],
      "metadata": {
        "id": "d9ro4mvtdOU9"
      }
    },
    {
      "cell_type": "code",
      "execution_count": null,
      "metadata": {
        "id": "ql5dXAyldKPa"
      },
      "outputs": [],
      "source": []
    },
    {
      "cell_type": "markdown",
      "source": [
        "##Q1. Pearson correlation coefficient is a measure of the linear relationship between two variables. Suppose you have collected data on the amount of time students spend studying for an exam and their final exam scores. Calculate the Pearson correlation coefficient between these two variables and interpret the result.\n"
      ],
      "metadata": {
        "id": "0krdfAX9dOuK"
      }
    },
    {
      "cell_type": "markdown",
      "source": [
        "To calculate the Pearson correlation coefficient between the amount of time students spend studying for an exam and their final exam scores, you first need to determine the values for each variable for each student in your sample. Once you have these values, you can calculate the correlation coefficient using the following formula:\n",
        "\n",
        "`r = (nΣXY - ΣXΣY) / sqrt[(nΣX^2 - (ΣX)^2)(nΣY^2 - (ΣY)^2)]`\n",
        "```\n",
        "where:\n",
        "\n",
        "r is the Pearson correlation coefficient\n",
        "n is the number of observations (students)\n",
        "ΣX and ΣY are the sums of the X and Y values, respectively\n",
        "ΣXY is the sum of the products of X and Y values\n",
        "ΣX^2 and ΣY^2 are the sums of the squared X and Y values, respectively\n",
        "```\n",
        "Interpretation of r:\n",
        "```\n",
        "r = 1: Perfect positive correlation\n",
        "r = 0.8 to 1: Strong positive correlation\n",
        "r = 0.6 to 0.8: Moderate positive correlation\n",
        "r = 0.4 to 0.6: Weak positive correlation\n",
        "r = 0 to 0.4: No correlation\n",
        "r = -0.4 to 0: No correlation\n",
        "r = -0.6 to -0.4: Weak negative correlation\n",
        "r = -0.8 to -0.6: Moderate negative correlation\n",
        "r = -1 to -0.8: Strong negative correlation\n",
        "r = -1: Perfect negative correlation\n",
        "```\n",
        "After calculating the Pearson correlation coefficient, you can interpret the result based on the range of the coefficient. For example, if the correlation coefficient is 0.75, this indicates a strong positive correlation between the amount of time spent studying and final exam scores. This means that students who spend more time studying tend to have higher final exam scores, and vice versa. If the correlation coefficient is close to 0 or negative, this suggests that there is no or weak correlation between the two variables.`"
      ],
      "metadata": {
        "id": "qd9xLzgee2wG"
      }
    },
    {
      "cell_type": "code",
      "source": [],
      "metadata": {
        "id": "PBXkoKOJd2gt"
      },
      "execution_count": null,
      "outputs": []
    },
    {
      "cell_type": "markdown",
      "source": [
        "\n",
        "##Q2. Spearman's rank correlation is a measure of the monotonic relationship between two variables. Suppose you have collected data on the amount of sleep individuals get each night and their overall job satisfaction level on a scale of 1 to 10. Calculate the Spearman's rank correlation between these two variables and interpret the result.\n"
      ],
      "metadata": {
        "id": "avluARTQd25j"
      }
    },
    {
      "cell_type": "markdown",
      "source": [
        "To calculate Spearman's rank correlation coefficient between the amount of sleep individuals get each night and their overall job satisfaction level, you first need to rank the values for each variable. Then, you can calculate the correlation coefficient using the following formula:\n",
        "```\n",
        "r_s = 1 - (6 * Σd^2) / (n(n^2 - 1))\n",
        "\n",
        "where:\n",
        "\n",
        "r_s is the Spearman's rank correlation coefficient\n",
        "Σd^2 is the sum of the squared differences between the ranks of the two variables\n",
        "n is the number of observations\n",
        "Interpretation of r_s:\n",
        "\n",
        "r_s = 1: Perfect monotonic correlation (i.e., variables have the same rank order)\n",
        "r_s = 0: No monotonic correlation\n",
        "r_s < 0: Negative monotonic correlation (i.e., variables tend to have opposite rank orders)\n",
        "\n",
        "```\n",
        "After calculating the Spearman's rank correlation coefficient, you can interpret the result based on the range of the coefficient. For example, if the correlation coefficient is 0.7, this indicates a strong monotonic correlation between the amount of sleep individuals get each night and their overall job satisfaction level. This means that individuals who get more sleep tend to have higher job satisfaction levels, and vice versa. If the correlation coefficient is close to 0 or negative, this suggests that there is no or weak monotonic correlation between the two variables."
      ],
      "metadata": {
        "id": "PWTQQM_OfBUy"
      }
    },
    {
      "cell_type": "code",
      "source": [],
      "metadata": {
        "id": "QX45QAt9d4Uc"
      },
      "execution_count": null,
      "outputs": []
    },
    {
      "cell_type": "markdown",
      "source": [
        "\n",
        "##Q3. Suppose you are conducting a study to examine the relationship between the number of hours of exercise per week and body mass index (BMI) in a sample of adults. You collected data on both variables for 50 participants. Calculate the Pearson correlation coefficient and the Spearman's rank correlation between these two variables and compare the results."
      ],
      "metadata": {
        "id": "CQuH44l0d4vp"
      }
    },
    {
      "cell_type": "markdown",
      "source": [
        "To calculate the Pearson correlation coefficient and the Spearman's rank correlation coefficient between the number of hours of exercise per week and body mass index (BMI), you first need to determine the values for each variable for each participant in your sample. Once you have these values, you can calculate the correlation coefficients using the following formulas:\n",
        "```\n",
        "Pearson correlation coefficient:\n",
        "r = (nΣXY - ΣXΣY) / sqrt[(nΣX^2 - (ΣX)^2)(nΣY^2 - (ΣY)^2)]\n",
        "\n",
        "Spearman's rank correlation coefficient:\n",
        "r_s = 1 - (6 * Σd^2) / (n(n^2 - 1))\n",
        "\n",
        "where:\n",
        "\n",
        "r is the Pearson correlation coefficient\n",
        "r_s is the Spearman's rank correlation coefficient\n",
        "n is the number of observations (participants)\n",
        "ΣX and ΣY are the sums of the X and Y values, respectively\n",
        "ΣXY is the sum of the products of X and Y values\n",
        "ΣX^2 and ΣY^2 are the sums of the squared X and Y values, respectively\n",
        "Σd^2 is the sum of the squared differences between the ranks of the two variables\n",
        "```\n",
        "After calculating both correlation coefficients, you can compare the results. The Pearson correlation coefficient measures the strength of the linear relationship between the two variables, while the Spearman's rank correlation coefficient measures the strength of the monotonic relationship between the two variables.\n",
        "\n",
        "If the Pearson correlation coefficient is close to 1, this suggests a strong positive linear relationship between the two variables, meaning that as the number of hours of exercise per week increases, BMI tends to decrease. On the other hand, if the Pearson correlation coefficient is close to -1, this suggests a strong negative linear relationship, meaning that as the number of hours of exercise per week increases, BMI tends to increase.\n",
        "\n",
        "If the Spearman's rank correlation coefficient is close to 1, this suggests a strong positive monotonic relationship between the two variables, meaning that as the number of hours of exercise per week increases, BMI tends to decrease or vice versa. On the other hand, if the Spearman's rank correlation coefficient is close to -1, this suggests a strong negative monotonic relationship, meaning that as the number of hours of exercise per week increases, BMI tends to increase or vice versa.\n",
        "\n",
        "If both correlation coefficients are similar in magnitude and direction, this suggests a strong and consistent relationship between the two variables. If the Pearson correlation coefficient is strong, but the Spearman's rank correlation coefficient is weak, this suggests that the relationship between the two variables may be non-monotonic (i.e., there may be some non-linear effects or outliers in the data). If the Spearman's rank correlation coefficient is strong, but the Pearson correlation coefficient is weak, this suggests that the relationship between the two variables may be non-linear, but there is still some monotonic relationship between the two variables."
      ],
      "metadata": {
        "id": "hjn1U_PrfQz0"
      }
    },
    {
      "cell_type": "code",
      "source": [],
      "metadata": {
        "id": "iVJFZVL2d6Gc"
      },
      "execution_count": null,
      "outputs": []
    },
    {
      "cell_type": "markdown",
      "source": [
        "\n",
        "\n",
        "##Q4. A researcher is interested in examining the relationship between the number of hours individuals spend watching television per day and their level of physical activity. The researcher collected data on both variables from a sample of 50 participants. Calculate the Pearson correlation coefficient between these two variables."
      ],
      "metadata": {
        "id": "d2MwoEOXd6gS"
      }
    },
    {
      "cell_type": "markdown",
      "source": [
        "To calculate the Pearson correlation coefficient between the number of hours individuals spend watching television per day and their level of physical activity, you need to determine the values for each variable for each participant in your sample. Once you have these values, you can calculate the correlation coefficient using the following formula:\n",
        "```\n",
        "r = (nΣXY - ΣXΣY) / sqrt[(nΣX^2 - (ΣX)^2)(nΣY^2 - (ΣY)^2)]\n",
        "\n",
        "where:\n",
        "\n",
        "r is the Pearson correlation coefficient\n",
        "n is the number of observations (participants)\n",
        "ΣX and ΣY are the sums of the X and Y values, respectively\n",
        "ΣXY is the sum of the products of X and Y values\n",
        "ΣX^2 and ΣY^2 are the sums of the squared X and Y values, respectively\n",
        "\n",
        "```\n",
        "Once you have calculated the Pearson correlation coefficient, you can interpret the result based on the range of the coefficient. If the coefficient is close to 1, this suggests a strong positive linear relationship between the two variables, meaning that as the number of hours individuals spend watching television per day increases, their level of physical activity tends to decrease. If the coefficient is close to -1, this suggests a strong negative linear relationship, meaning that as the number of hours individuals spend watching television per day increases, their level of physical activity tends to increase. If the coefficient is close to 0, this suggests that there is no linear relationship between the two variables.\n",
        "\n",
        "It's important to note that while the Pearson correlation coefficient can measure the strength of the linear relationship between two variables, it cannot determine causality. In this example, a strong negative correlation between the number of hours individuals spend watching television per day and their level of physical activity may suggest that watching television is a cause of decreased physical activity, but it is also possible that individuals who are less physically active are more likely to spend more time watching television. Further research would be needed to determine causality.\n",
        "\n",
        "\n",
        "\n"
      ],
      "metadata": {
        "id": "MCrSuD4DfWtC"
      }
    },
    {
      "cell_type": "code",
      "source": [],
      "metadata": {
        "id": "1ZhllLxMd67N"
      },
      "execution_count": null,
      "outputs": []
    },
    {
      "cell_type": "markdown",
      "source": [
        "Q5. A survey was conducted to examine the relationship between age and preference for a particular\n",
        "brand of soft drink. The survey results are shown below:\n",
        "\n",
        "    Age(Years)             Soft drink Preference\n",
        "       25                         Coke\n",
        "       42                         Pepsi\n",
        "       37                      Mountain dew\n",
        "       19                          Coke\n",
        "       31                          Pepsi\n",
        "       28                          Coke\n",
        "\n",
        "\n",
        "\n",
        "\n"
      ],
      "metadata": {
        "id": "EoVE54JQd_4b"
      }
    },
    {
      "cell_type": "markdown",
      "source": [
        "> The survey results shown above indicate the age and soft drink preference of 6 individuals. While these data can provide some basic information about the relationship between age and soft drink preference, they are not sufficient to calculate a correlation coefficient or to draw any firm conclusions about the relationship between these two variables.\n",
        "\n",
        ">To determine the relationship between age and soft drink preference, it would be necessary to collect data on a larger sample of individuals and to use statistical analysis to calculate a correlation coefficient. Additionally, it would be important to ensure that the data collection methods and sampling techniques used in the study are appropriate to avoid bias in the results."
      ],
      "metadata": {
        "id": "WysJISY0fpgK"
      }
    },
    {
      "cell_type": "code",
      "source": [],
      "metadata": {
        "id": "i8g3U0_7edYx"
      },
      "execution_count": null,
      "outputs": []
    },
    {
      "cell_type": "markdown",
      "source": [
        "##Q6. A company is interested in examining the relationship between the number of sales calls made per day and the number of sales made per week. The company collected data on both variables from a sample of 30 sales representatives. Calculate the Pearson correlation coefficient between these two variables."
      ],
      "metadata": {
        "id": "AgLvyt_9egW7"
      }
    },
    {
      "cell_type": "markdown",
      "source": [
        "To calculate the Pearson correlation coefficient between the number of sales calls made per day and the number of sales made per week, you need to determine the values for each variable for each sales representative in your sample. Once you have these values, you can calculate the correlation coefficient using the following formula:\n",
        "```\n",
        "r = (nΣXY - ΣXΣY) / sqrt[(nΣX^2 - (ΣX)^2)(nΣY^2 - (ΣY)^2)]\n",
        "\n",
        "where:\n",
        "\n",
        "r is the Pearson correlation coefficient\n",
        "n is the number of observations (sales representatives)\n",
        "ΣX and ΣY are the sums of the X and Y values, respectively\n",
        "ΣXY is the sum of the products of X and Y values\n",
        "ΣX^2 and ΣY^2 are the sums of the squared X and Y values, respectively\n",
        "```\n",
        "Once you have calculated the Pearson correlation coefficient, you can interpret the result based on the range of the coefficient. If the coefficient is close to 1, this suggests a strong positive linear relationship between the two variables, meaning that as the number of sales calls made per day increases, the number of sales made per week tends to increase. If the coefficient is close to -1, this suggests a strong negative linear relationship, meaning that as the number of sales calls made per day increases, the number of sales made per week tends to decrease. If the coefficient is close to 0, this suggests that there is no linear relationship between the two variables.\n",
        "\n",
        "It's important to note that while the Pearson correlation coefficient can measure the strength of the linear relationship between two variables, it cannot determine causality. In this example, a strong positive correlation between the number of sales calls made per day and the number of sales made per week may suggest that making more sales calls is a cause of increased sales, but it is also possible that sales representatives who are more effective at making sales are more likely to make more sales calls. Further research would be needed to determine causality.\n",
        "\n",
        "\n",
        "\n",
        "\n"
      ],
      "metadata": {
        "id": "nuInqBu5f8kC"
      }
    },
    {
      "cell_type": "code",
      "source": [],
      "metadata": {
        "id": "-mxILr2FejFB"
      },
      "execution_count": null,
      "outputs": []
    }
  ]
}