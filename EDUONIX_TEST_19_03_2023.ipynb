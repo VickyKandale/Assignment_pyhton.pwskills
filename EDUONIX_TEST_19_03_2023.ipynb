{
  "nbformat": 4,
  "nbformat_minor": 0,
  "metadata": {
    "colab": {
      "provenance": [],
      "authorship_tag": "ABX9TyOi7LI69h/56WLiHsK+tr9r",
      "include_colab_link": true
    },
    "kernelspec": {
      "name": "python3",
      "display_name": "Python 3"
    },
    "language_info": {
      "name": "python"
    }
  },
  "cells": [
    {
      "cell_type": "markdown",
      "metadata": {
        "id": "view-in-github",
        "colab_type": "text"
      },
      "source": [
        "<a href=\"https://colab.research.google.com/github/VickyKandale/Assignment_pyhton.pwskills/blob/main/EDUONIX_TEST_19_03_2023.ipynb\" target=\"_parent\"><img src=\"https://colab.research.google.com/assets/colab-badge.svg\" alt=\"Open In Colab\"/></a>"
      ]
    },
    {
      "cell_type": "code",
      "source": [],
      "metadata": {
        "id": "1zGJof8ijSph"
      },
      "execution_count": null,
      "outputs": []
    },
    {
      "cell_type": "markdown",
      "source": [
        "**EDUONIX_TEST 19/03/2023** \n",
        "\n",
        "**NAME- MR.VIKRAMSINGH KANDALE**\n",
        "\n",
        "Here is the project. 10 marks for each question. 10 marks for good commenting.\n",
        "\n",
        "1. Display the first 7 rows and draw a Histogram for continuous variables (Total amount)\n",
        "\n",
        "2. Show which city code has the maximum customers.\n",
        "\n",
        "3. Write a code to - Count number of negative total amount (use loc function)\n",
        "\n",
        "4. Write a code to show - what was the total amount earned from female customers under the home and kitchen category.\n",
        "\n",
        "5. What was the total amount earned from the \"Electronics\" and \"Clothing\" categories"
      ],
      "metadata": {
        "id": "gPngjvIcXDAQ"
      }
    },
    {
      "cell_type": "code",
      "execution_count": null,
      "metadata": {
        "id": "BPXc6KoTXAOw"
      },
      "outputs": [],
      "source": [
        "  import pandas as pd\n",
        "  import matplotlib.pyplot as plt"
      ]
    },
    {
      "cell_type": "code",
      "source": [
        "df=pd.read_csv(\"/content/data_eduonix.csv\")"
      ],
      "metadata": {
        "id": "eY0R1h4EXF86"
      },
      "execution_count": null,
      "outputs": []
    },
    {
      "cell_type": "code",
      "source": [
        "df.head()"
      ],
      "metadata": {
        "colab": {
          "base_uri": "https://localhost:8080/",
          "height": 461
        },
        "id": "CFtK_TVOYdD-",
        "outputId": "c32bbc33-4f86-4e9b-dc8d-781bf5d81f10"
      },
      "execution_count": null,
      "outputs": [
        {
          "output_type": "execute_result",
          "data": {
            "text/plain": [
              "   Unnamed: 0  customer_Id     DOB Gender  city_code  transaction_id  cust_id  \\\n",
              "0           0       268408  2-1-70      M        4.0     87243835584   268408   \n",
              "1           1       268408  2-1-70      M        4.0     87243835584   268408   \n",
              "2           2       268408  2-1-70      M        4.0     87243835584   268408   \n",
              "3           3       268408  2-1-70      M        4.0     87243835584   268408   \n",
              "4           4       268408  2-1-70      M        4.0     87243835584   268408   \n",
              "\n",
              "    tran_date  prod_subcat_code  prod_cat_code  Qty  Rate     Tax  total_amt  \\\n",
              "0  13-01-2014                 7              5    5   187  98.175   1033.175   \n",
              "1  13-01-2014                 7              5    5   187  98.175   1033.175   \n",
              "2  13-01-2014                 7              5    5   187  98.175   1033.175   \n",
              "3  13-01-2014                 7              5    5   187  98.175   1033.175   \n",
              "4  13-01-2014                 7              5    5   187  98.175   1033.175   \n",
              "\n",
              "  Store_type _merge prod_cat  prod_sub_cat_code  prod_subcat  \n",
              "0   TeleShop   both    Books                  7      Fiction  \n",
              "1   TeleShop   both    Books                 12     Academic  \n",
              "2   TeleShop   both    Books                 10  Non-Fiction  \n",
              "3   TeleShop   both    Books                 11     Children  \n",
              "4   TeleShop   both    Books                  3       Comics  "
            ],
            "text/html": [
              "\n",
              "  <div id=\"df-9b3835d6-4640-4f9f-8b99-632c83ba7cb3\">\n",
              "    <div class=\"colab-df-container\">\n",
              "      <div>\n",
              "<style scoped>\n",
              "    .dataframe tbody tr th:only-of-type {\n",
              "        vertical-align: middle;\n",
              "    }\n",
              "\n",
              "    .dataframe tbody tr th {\n",
              "        vertical-align: top;\n",
              "    }\n",
              "\n",
              "    .dataframe thead th {\n",
              "        text-align: right;\n",
              "    }\n",
              "</style>\n",
              "<table border=\"1\" class=\"dataframe\">\n",
              "  <thead>\n",
              "    <tr style=\"text-align: right;\">\n",
              "      <th></th>\n",
              "      <th>Unnamed: 0</th>\n",
              "      <th>customer_Id</th>\n",
              "      <th>DOB</th>\n",
              "      <th>Gender</th>\n",
              "      <th>city_code</th>\n",
              "      <th>transaction_id</th>\n",
              "      <th>cust_id</th>\n",
              "      <th>tran_date</th>\n",
              "      <th>prod_subcat_code</th>\n",
              "      <th>prod_cat_code</th>\n",
              "      <th>Qty</th>\n",
              "      <th>Rate</th>\n",
              "      <th>Tax</th>\n",
              "      <th>total_amt</th>\n",
              "      <th>Store_type</th>\n",
              "      <th>_merge</th>\n",
              "      <th>prod_cat</th>\n",
              "      <th>prod_sub_cat_code</th>\n",
              "      <th>prod_subcat</th>\n",
              "    </tr>\n",
              "  </thead>\n",
              "  <tbody>\n",
              "    <tr>\n",
              "      <th>0</th>\n",
              "      <td>0</td>\n",
              "      <td>268408</td>\n",
              "      <td>2-1-70</td>\n",
              "      <td>M</td>\n",
              "      <td>4.0</td>\n",
              "      <td>87243835584</td>\n",
              "      <td>268408</td>\n",
              "      <td>13-01-2014</td>\n",
              "      <td>7</td>\n",
              "      <td>5</td>\n",
              "      <td>5</td>\n",
              "      <td>187</td>\n",
              "      <td>98.175</td>\n",
              "      <td>1033.175</td>\n",
              "      <td>TeleShop</td>\n",
              "      <td>both</td>\n",
              "      <td>Books</td>\n",
              "      <td>7</td>\n",
              "      <td>Fiction</td>\n",
              "    </tr>\n",
              "    <tr>\n",
              "      <th>1</th>\n",
              "      <td>1</td>\n",
              "      <td>268408</td>\n",
              "      <td>2-1-70</td>\n",
              "      <td>M</td>\n",
              "      <td>4.0</td>\n",
              "      <td>87243835584</td>\n",
              "      <td>268408</td>\n",
              "      <td>13-01-2014</td>\n",
              "      <td>7</td>\n",
              "      <td>5</td>\n",
              "      <td>5</td>\n",
              "      <td>187</td>\n",
              "      <td>98.175</td>\n",
              "      <td>1033.175</td>\n",
              "      <td>TeleShop</td>\n",
              "      <td>both</td>\n",
              "      <td>Books</td>\n",
              "      <td>12</td>\n",
              "      <td>Academic</td>\n",
              "    </tr>\n",
              "    <tr>\n",
              "      <th>2</th>\n",
              "      <td>2</td>\n",
              "      <td>268408</td>\n",
              "      <td>2-1-70</td>\n",
              "      <td>M</td>\n",
              "      <td>4.0</td>\n",
              "      <td>87243835584</td>\n",
              "      <td>268408</td>\n",
              "      <td>13-01-2014</td>\n",
              "      <td>7</td>\n",
              "      <td>5</td>\n",
              "      <td>5</td>\n",
              "      <td>187</td>\n",
              "      <td>98.175</td>\n",
              "      <td>1033.175</td>\n",
              "      <td>TeleShop</td>\n",
              "      <td>both</td>\n",
              "      <td>Books</td>\n",
              "      <td>10</td>\n",
              "      <td>Non-Fiction</td>\n",
              "    </tr>\n",
              "    <tr>\n",
              "      <th>3</th>\n",
              "      <td>3</td>\n",
              "      <td>268408</td>\n",
              "      <td>2-1-70</td>\n",
              "      <td>M</td>\n",
              "      <td>4.0</td>\n",
              "      <td>87243835584</td>\n",
              "      <td>268408</td>\n",
              "      <td>13-01-2014</td>\n",
              "      <td>7</td>\n",
              "      <td>5</td>\n",
              "      <td>5</td>\n",
              "      <td>187</td>\n",
              "      <td>98.175</td>\n",
              "      <td>1033.175</td>\n",
              "      <td>TeleShop</td>\n",
              "      <td>both</td>\n",
              "      <td>Books</td>\n",
              "      <td>11</td>\n",
              "      <td>Children</td>\n",
              "    </tr>\n",
              "    <tr>\n",
              "      <th>4</th>\n",
              "      <td>4</td>\n",
              "      <td>268408</td>\n",
              "      <td>2-1-70</td>\n",
              "      <td>M</td>\n",
              "      <td>4.0</td>\n",
              "      <td>87243835584</td>\n",
              "      <td>268408</td>\n",
              "      <td>13-01-2014</td>\n",
              "      <td>7</td>\n",
              "      <td>5</td>\n",
              "      <td>5</td>\n",
              "      <td>187</td>\n",
              "      <td>98.175</td>\n",
              "      <td>1033.175</td>\n",
              "      <td>TeleShop</td>\n",
              "      <td>both</td>\n",
              "      <td>Books</td>\n",
              "      <td>3</td>\n",
              "      <td>Comics</td>\n",
              "    </tr>\n",
              "  </tbody>\n",
              "</table>\n",
              "</div>\n",
              "      <button class=\"colab-df-convert\" onclick=\"convertToInteractive('df-9b3835d6-4640-4f9f-8b99-632c83ba7cb3')\"\n",
              "              title=\"Convert this dataframe to an interactive table.\"\n",
              "              style=\"display:none;\">\n",
              "        \n",
              "  <svg xmlns=\"http://www.w3.org/2000/svg\" height=\"24px\"viewBox=\"0 0 24 24\"\n",
              "       width=\"24px\">\n",
              "    <path d=\"M0 0h24v24H0V0z\" fill=\"none\"/>\n",
              "    <path d=\"M18.56 5.44l.94 2.06.94-2.06 2.06-.94-2.06-.94-.94-2.06-.94 2.06-2.06.94zm-11 1L8.5 8.5l.94-2.06 2.06-.94-2.06-.94L8.5 2.5l-.94 2.06-2.06.94zm10 10l.94 2.06.94-2.06 2.06-.94-2.06-.94-.94-2.06-.94 2.06-2.06.94z\"/><path d=\"M17.41 7.96l-1.37-1.37c-.4-.4-.92-.59-1.43-.59-.52 0-1.04.2-1.43.59L10.3 9.45l-7.72 7.72c-.78.78-.78 2.05 0 2.83L4 21.41c.39.39.9.59 1.41.59.51 0 1.02-.2 1.41-.59l7.78-7.78 2.81-2.81c.8-.78.8-2.07 0-2.86zM5.41 20L4 18.59l7.72-7.72 1.47 1.35L5.41 20z\"/>\n",
              "  </svg>\n",
              "      </button>\n",
              "      \n",
              "  <style>\n",
              "    .colab-df-container {\n",
              "      display:flex;\n",
              "      flex-wrap:wrap;\n",
              "      gap: 12px;\n",
              "    }\n",
              "\n",
              "    .colab-df-convert {\n",
              "      background-color: #E8F0FE;\n",
              "      border: none;\n",
              "      border-radius: 50%;\n",
              "      cursor: pointer;\n",
              "      display: none;\n",
              "      fill: #1967D2;\n",
              "      height: 32px;\n",
              "      padding: 0 0 0 0;\n",
              "      width: 32px;\n",
              "    }\n",
              "\n",
              "    .colab-df-convert:hover {\n",
              "      background-color: #E2EBFA;\n",
              "      box-shadow: 0px 1px 2px rgba(60, 64, 67, 0.3), 0px 1px 3px 1px rgba(60, 64, 67, 0.15);\n",
              "      fill: #174EA6;\n",
              "    }\n",
              "\n",
              "    [theme=dark] .colab-df-convert {\n",
              "      background-color: #3B4455;\n",
              "      fill: #D2E3FC;\n",
              "    }\n",
              "\n",
              "    [theme=dark] .colab-df-convert:hover {\n",
              "      background-color: #434B5C;\n",
              "      box-shadow: 0px 1px 3px 1px rgba(0, 0, 0, 0.15);\n",
              "      filter: drop-shadow(0px 1px 2px rgba(0, 0, 0, 0.3));\n",
              "      fill: #FFFFFF;\n",
              "    }\n",
              "  </style>\n",
              "\n",
              "      <script>\n",
              "        const buttonEl =\n",
              "          document.querySelector('#df-9b3835d6-4640-4f9f-8b99-632c83ba7cb3 button.colab-df-convert');\n",
              "        buttonEl.style.display =\n",
              "          google.colab.kernel.accessAllowed ? 'block' : 'none';\n",
              "\n",
              "        async function convertToInteractive(key) {\n",
              "          const element = document.querySelector('#df-9b3835d6-4640-4f9f-8b99-632c83ba7cb3');\n",
              "          const dataTable =\n",
              "            await google.colab.kernel.invokeFunction('convertToInteractive',\n",
              "                                                     [key], {});\n",
              "          if (!dataTable) return;\n",
              "\n",
              "          const docLinkHtml = 'Like what you see? Visit the ' +\n",
              "            '<a target=\"_blank\" href=https://colab.research.google.com/notebooks/data_table.ipynb>data table notebook</a>'\n",
              "            + ' to learn more about interactive tables.';\n",
              "          element.innerHTML = '';\n",
              "          dataTable['output_type'] = 'display_data';\n",
              "          await google.colab.output.renderOutput(dataTable, element);\n",
              "          const docLink = document.createElement('div');\n",
              "          docLink.innerHTML = docLinkHtml;\n",
              "          element.appendChild(docLink);\n",
              "        }\n",
              "      </script>\n",
              "    </div>\n",
              "  </div>\n",
              "  "
            ]
          },
          "metadata": {},
          "execution_count": 155
        }
      ]
    },
    {
      "cell_type": "code",
      "source": [
        "df.info()"
      ],
      "metadata": {
        "colab": {
          "base_uri": "https://localhost:8080/"
        },
        "id": "ku9coUofYfEl",
        "outputId": "727b7010-f655-4790-869d-6cc8a1692f7e"
      },
      "execution_count": null,
      "outputs": [
        {
          "output_type": "stream",
          "name": "stdout",
          "text": [
            "<class 'pandas.core.frame.DataFrame'>\n",
            "RangeIndex: 99293 entries, 0 to 99292\n",
            "Data columns (total 19 columns):\n",
            " #   Column             Non-Null Count  Dtype  \n",
            "---  ------             --------------  -----  \n",
            " 0   Unnamed: 0         99293 non-null  int64  \n",
            " 1   customer_Id        99293 non-null  int64  \n",
            " 2   DOB                99293 non-null  object \n",
            " 3   Gender             99253 non-null  object \n",
            " 4   city_code          99257 non-null  float64\n",
            " 5   transaction_id     99293 non-null  int64  \n",
            " 6   cust_id            99293 non-null  int64  \n",
            " 7   tran_date          99293 non-null  object \n",
            " 8   prod_subcat_code   99293 non-null  int64  \n",
            " 9   prod_cat_code      99293 non-null  int64  \n",
            " 10  Qty                99293 non-null  int64  \n",
            " 11  Rate               99293 non-null  int64  \n",
            " 12  Tax                99293 non-null  float64\n",
            " 13  total_amt          99293 non-null  float64\n",
            " 14  Store_type         99293 non-null  object \n",
            " 15  _merge             99293 non-null  object \n",
            " 16  prod_cat           99293 non-null  object \n",
            " 17  prod_sub_cat_code  99293 non-null  int64  \n",
            " 18  prod_subcat        99293 non-null  object \n",
            "dtypes: float64(3), int64(9), object(7)\n",
            "memory usage: 14.4+ MB\n"
          ]
        }
      ]
    },
    {
      "cell_type": "markdown",
      "source": [
        "## 1. Display the first 7 rows and draw a Histogram for continuous variables (Total amount)"
      ],
      "metadata": {
        "id": "YdbAe7JyZDsc"
      }
    },
    {
      "cell_type": "code",
      "source": [
        "df.head(7)"
      ],
      "metadata": {
        "colab": {
          "base_uri": "https://localhost:8080/",
          "height": 593
        },
        "id": "5w94gCDJZEwJ",
        "outputId": "364d1eb0-2524-4a13-aa4c-4ff66994ec1a"
      },
      "execution_count": null,
      "outputs": [
        {
          "output_type": "execute_result",
          "data": {
            "text/plain": [
              "   Unnamed: 0  customer_Id     DOB Gender  city_code  transaction_id  cust_id  \\\n",
              "0           0       268408  2-1-70      M        4.0     87243835584   268408   \n",
              "1           1       268408  2-1-70      M        4.0     87243835584   268408   \n",
              "2           2       268408  2-1-70      M        4.0     87243835584   268408   \n",
              "3           3       268408  2-1-70      M        4.0     87243835584   268408   \n",
              "4           4       268408  2-1-70      M        4.0     87243835584   268408   \n",
              "5           5       268408  2-1-70      M        4.0     87243835584   268408   \n",
              "6           6       268159  8-1-70      F        8.0     65867401816   268159   \n",
              "\n",
              "    tran_date  prod_subcat_code  prod_cat_code  Qty  Rate      Tax  total_amt  \\\n",
              "0  13-01-2014                 7              5    5   187   98.175   1033.175   \n",
              "1  13-01-2014                 7              5    5   187   98.175   1033.175   \n",
              "2  13-01-2014                 7              5    5   187   98.175   1033.175   \n",
              "3  13-01-2014                 7              5    5   187   98.175   1033.175   \n",
              "4  13-01-2014                 7              5    5   187   98.175   1033.175   \n",
              "5  13-01-2014                 7              5    5   187   98.175   1033.175   \n",
              "6  31-03-2013                11              5    5   214  112.350   1182.350   \n",
              "\n",
              "  Store_type _merge prod_cat  prod_sub_cat_code  prod_subcat  \n",
              "0   TeleShop   both    Books                  7      Fiction  \n",
              "1   TeleShop   both    Books                 12     Academic  \n",
              "2   TeleShop   both    Books                 10  Non-Fiction  \n",
              "3   TeleShop   both    Books                 11     Children  \n",
              "4   TeleShop   both    Books                  3       Comics  \n",
              "5   TeleShop   both    Books                  6          DIY  \n",
              "6        MBR   both    Books                  7      Fiction  "
            ],
            "text/html": [
              "\n",
              "  <div id=\"df-1bd0dbc2-f17a-4d39-acbf-2014932eae23\">\n",
              "    <div class=\"colab-df-container\">\n",
              "      <div>\n",
              "<style scoped>\n",
              "    .dataframe tbody tr th:only-of-type {\n",
              "        vertical-align: middle;\n",
              "    }\n",
              "\n",
              "    .dataframe tbody tr th {\n",
              "        vertical-align: top;\n",
              "    }\n",
              "\n",
              "    .dataframe thead th {\n",
              "        text-align: right;\n",
              "    }\n",
              "</style>\n",
              "<table border=\"1\" class=\"dataframe\">\n",
              "  <thead>\n",
              "    <tr style=\"text-align: right;\">\n",
              "      <th></th>\n",
              "      <th>Unnamed: 0</th>\n",
              "      <th>customer_Id</th>\n",
              "      <th>DOB</th>\n",
              "      <th>Gender</th>\n",
              "      <th>city_code</th>\n",
              "      <th>transaction_id</th>\n",
              "      <th>cust_id</th>\n",
              "      <th>tran_date</th>\n",
              "      <th>prod_subcat_code</th>\n",
              "      <th>prod_cat_code</th>\n",
              "      <th>Qty</th>\n",
              "      <th>Rate</th>\n",
              "      <th>Tax</th>\n",
              "      <th>total_amt</th>\n",
              "      <th>Store_type</th>\n",
              "      <th>_merge</th>\n",
              "      <th>prod_cat</th>\n",
              "      <th>prod_sub_cat_code</th>\n",
              "      <th>prod_subcat</th>\n",
              "    </tr>\n",
              "  </thead>\n",
              "  <tbody>\n",
              "    <tr>\n",
              "      <th>0</th>\n",
              "      <td>0</td>\n",
              "      <td>268408</td>\n",
              "      <td>2-1-70</td>\n",
              "      <td>M</td>\n",
              "      <td>4.0</td>\n",
              "      <td>87243835584</td>\n",
              "      <td>268408</td>\n",
              "      <td>13-01-2014</td>\n",
              "      <td>7</td>\n",
              "      <td>5</td>\n",
              "      <td>5</td>\n",
              "      <td>187</td>\n",
              "      <td>98.175</td>\n",
              "      <td>1033.175</td>\n",
              "      <td>TeleShop</td>\n",
              "      <td>both</td>\n",
              "      <td>Books</td>\n",
              "      <td>7</td>\n",
              "      <td>Fiction</td>\n",
              "    </tr>\n",
              "    <tr>\n",
              "      <th>1</th>\n",
              "      <td>1</td>\n",
              "      <td>268408</td>\n",
              "      <td>2-1-70</td>\n",
              "      <td>M</td>\n",
              "      <td>4.0</td>\n",
              "      <td>87243835584</td>\n",
              "      <td>268408</td>\n",
              "      <td>13-01-2014</td>\n",
              "      <td>7</td>\n",
              "      <td>5</td>\n",
              "      <td>5</td>\n",
              "      <td>187</td>\n",
              "      <td>98.175</td>\n",
              "      <td>1033.175</td>\n",
              "      <td>TeleShop</td>\n",
              "      <td>both</td>\n",
              "      <td>Books</td>\n",
              "      <td>12</td>\n",
              "      <td>Academic</td>\n",
              "    </tr>\n",
              "    <tr>\n",
              "      <th>2</th>\n",
              "      <td>2</td>\n",
              "      <td>268408</td>\n",
              "      <td>2-1-70</td>\n",
              "      <td>M</td>\n",
              "      <td>4.0</td>\n",
              "      <td>87243835584</td>\n",
              "      <td>268408</td>\n",
              "      <td>13-01-2014</td>\n",
              "      <td>7</td>\n",
              "      <td>5</td>\n",
              "      <td>5</td>\n",
              "      <td>187</td>\n",
              "      <td>98.175</td>\n",
              "      <td>1033.175</td>\n",
              "      <td>TeleShop</td>\n",
              "      <td>both</td>\n",
              "      <td>Books</td>\n",
              "      <td>10</td>\n",
              "      <td>Non-Fiction</td>\n",
              "    </tr>\n",
              "    <tr>\n",
              "      <th>3</th>\n",
              "      <td>3</td>\n",
              "      <td>268408</td>\n",
              "      <td>2-1-70</td>\n",
              "      <td>M</td>\n",
              "      <td>4.0</td>\n",
              "      <td>87243835584</td>\n",
              "      <td>268408</td>\n",
              "      <td>13-01-2014</td>\n",
              "      <td>7</td>\n",
              "      <td>5</td>\n",
              "      <td>5</td>\n",
              "      <td>187</td>\n",
              "      <td>98.175</td>\n",
              "      <td>1033.175</td>\n",
              "      <td>TeleShop</td>\n",
              "      <td>both</td>\n",
              "      <td>Books</td>\n",
              "      <td>11</td>\n",
              "      <td>Children</td>\n",
              "    </tr>\n",
              "    <tr>\n",
              "      <th>4</th>\n",
              "      <td>4</td>\n",
              "      <td>268408</td>\n",
              "      <td>2-1-70</td>\n",
              "      <td>M</td>\n",
              "      <td>4.0</td>\n",
              "      <td>87243835584</td>\n",
              "      <td>268408</td>\n",
              "      <td>13-01-2014</td>\n",
              "      <td>7</td>\n",
              "      <td>5</td>\n",
              "      <td>5</td>\n",
              "      <td>187</td>\n",
              "      <td>98.175</td>\n",
              "      <td>1033.175</td>\n",
              "      <td>TeleShop</td>\n",
              "      <td>both</td>\n",
              "      <td>Books</td>\n",
              "      <td>3</td>\n",
              "      <td>Comics</td>\n",
              "    </tr>\n",
              "    <tr>\n",
              "      <th>5</th>\n",
              "      <td>5</td>\n",
              "      <td>268408</td>\n",
              "      <td>2-1-70</td>\n",
              "      <td>M</td>\n",
              "      <td>4.0</td>\n",
              "      <td>87243835584</td>\n",
              "      <td>268408</td>\n",
              "      <td>13-01-2014</td>\n",
              "      <td>7</td>\n",
              "      <td>5</td>\n",
              "      <td>5</td>\n",
              "      <td>187</td>\n",
              "      <td>98.175</td>\n",
              "      <td>1033.175</td>\n",
              "      <td>TeleShop</td>\n",
              "      <td>both</td>\n",
              "      <td>Books</td>\n",
              "      <td>6</td>\n",
              "      <td>DIY</td>\n",
              "    </tr>\n",
              "    <tr>\n",
              "      <th>6</th>\n",
              "      <td>6</td>\n",
              "      <td>268159</td>\n",
              "      <td>8-1-70</td>\n",
              "      <td>F</td>\n",
              "      <td>8.0</td>\n",
              "      <td>65867401816</td>\n",
              "      <td>268159</td>\n",
              "      <td>31-03-2013</td>\n",
              "      <td>11</td>\n",
              "      <td>5</td>\n",
              "      <td>5</td>\n",
              "      <td>214</td>\n",
              "      <td>112.350</td>\n",
              "      <td>1182.350</td>\n",
              "      <td>MBR</td>\n",
              "      <td>both</td>\n",
              "      <td>Books</td>\n",
              "      <td>7</td>\n",
              "      <td>Fiction</td>\n",
              "    </tr>\n",
              "  </tbody>\n",
              "</table>\n",
              "</div>\n",
              "      <button class=\"colab-df-convert\" onclick=\"convertToInteractive('df-1bd0dbc2-f17a-4d39-acbf-2014932eae23')\"\n",
              "              title=\"Convert this dataframe to an interactive table.\"\n",
              "              style=\"display:none;\">\n",
              "        \n",
              "  <svg xmlns=\"http://www.w3.org/2000/svg\" height=\"24px\"viewBox=\"0 0 24 24\"\n",
              "       width=\"24px\">\n",
              "    <path d=\"M0 0h24v24H0V0z\" fill=\"none\"/>\n",
              "    <path d=\"M18.56 5.44l.94 2.06.94-2.06 2.06-.94-2.06-.94-.94-2.06-.94 2.06-2.06.94zm-11 1L8.5 8.5l.94-2.06 2.06-.94-2.06-.94L8.5 2.5l-.94 2.06-2.06.94zm10 10l.94 2.06.94-2.06 2.06-.94-2.06-.94-.94-2.06-.94 2.06-2.06.94z\"/><path d=\"M17.41 7.96l-1.37-1.37c-.4-.4-.92-.59-1.43-.59-.52 0-1.04.2-1.43.59L10.3 9.45l-7.72 7.72c-.78.78-.78 2.05 0 2.83L4 21.41c.39.39.9.59 1.41.59.51 0 1.02-.2 1.41-.59l7.78-7.78 2.81-2.81c.8-.78.8-2.07 0-2.86zM5.41 20L4 18.59l7.72-7.72 1.47 1.35L5.41 20z\"/>\n",
              "  </svg>\n",
              "      </button>\n",
              "      \n",
              "  <style>\n",
              "    .colab-df-container {\n",
              "      display:flex;\n",
              "      flex-wrap:wrap;\n",
              "      gap: 12px;\n",
              "    }\n",
              "\n",
              "    .colab-df-convert {\n",
              "      background-color: #E8F0FE;\n",
              "      border: none;\n",
              "      border-radius: 50%;\n",
              "      cursor: pointer;\n",
              "      display: none;\n",
              "      fill: #1967D2;\n",
              "      height: 32px;\n",
              "      padding: 0 0 0 0;\n",
              "      width: 32px;\n",
              "    }\n",
              "\n",
              "    .colab-df-convert:hover {\n",
              "      background-color: #E2EBFA;\n",
              "      box-shadow: 0px 1px 2px rgba(60, 64, 67, 0.3), 0px 1px 3px 1px rgba(60, 64, 67, 0.15);\n",
              "      fill: #174EA6;\n",
              "    }\n",
              "\n",
              "    [theme=dark] .colab-df-convert {\n",
              "      background-color: #3B4455;\n",
              "      fill: #D2E3FC;\n",
              "    }\n",
              "\n",
              "    [theme=dark] .colab-df-convert:hover {\n",
              "      background-color: #434B5C;\n",
              "      box-shadow: 0px 1px 3px 1px rgba(0, 0, 0, 0.15);\n",
              "      filter: drop-shadow(0px 1px 2px rgba(0, 0, 0, 0.3));\n",
              "      fill: #FFFFFF;\n",
              "    }\n",
              "  </style>\n",
              "\n",
              "      <script>\n",
              "        const buttonEl =\n",
              "          document.querySelector('#df-1bd0dbc2-f17a-4d39-acbf-2014932eae23 button.colab-df-convert');\n",
              "        buttonEl.style.display =\n",
              "          google.colab.kernel.accessAllowed ? 'block' : 'none';\n",
              "\n",
              "        async function convertToInteractive(key) {\n",
              "          const element = document.querySelector('#df-1bd0dbc2-f17a-4d39-acbf-2014932eae23');\n",
              "          const dataTable =\n",
              "            await google.colab.kernel.invokeFunction('convertToInteractive',\n",
              "                                                     [key], {});\n",
              "          if (!dataTable) return;\n",
              "\n",
              "          const docLinkHtml = 'Like what you see? Visit the ' +\n",
              "            '<a target=\"_blank\" href=https://colab.research.google.com/notebooks/data_table.ipynb>data table notebook</a>'\n",
              "            + ' to learn more about interactive tables.';\n",
              "          element.innerHTML = '';\n",
              "          dataTable['output_type'] = 'display_data';\n",
              "          await google.colab.output.renderOutput(dataTable, element);\n",
              "          const docLink = document.createElement('div');\n",
              "          docLink.innerHTML = docLinkHtml;\n",
              "          element.appendChild(docLink);\n",
              "        }\n",
              "      </script>\n",
              "    </div>\n",
              "  </div>\n",
              "  "
            ]
          },
          "metadata": {},
          "execution_count": 157
        }
      ]
    },
    {
      "cell_type": "code",
      "source": [
        "import matplotlib.pyplot as plt\n",
        "\n",
        "\n",
        "# Draw a histogram for Total amount\n",
        "plt.hist(df['total_amt'], bins=10, color= 'black')\n",
        "plt.xlabel('total_amt')\n",
        "plt.ylabel('Frequency')\n",
        "plt.title('Histogram of Total amount')\n",
        "plt.show()"
      ],
      "metadata": {
        "colab": {
          "base_uri": "https://localhost:8080/",
          "height": 251
        },
        "id": "9ucCtCEWZIFy",
        "outputId": "0cde9d92-16f5-45ad-bc58-23fab9f54664"
      },
      "execution_count": null,
      "outputs": [
        {
          "output_type": "display_data",
          "data": {
            "text/plain": [
              "<Figure size 432x288 with 1 Axes>"
            ],
            "image/png": "[encoded data removed]"
          },
          "metadata": {
            "needs_background": "light"
          }
        }
      ]
    },
    {
      "cell_type": "markdown",
      "source": [
        "2. Show which city code has the maximum customers."
      ],
      "metadata": {
        "id": "676R3DuCZNpV"
      }
    },
    {
      "cell_type": "code",
      "source": [
        "df3=df.groupby('city_code').count()"
      ],
      "metadata": {
        "id": "OCE0805DZRTN"
      },
      "execution_count": null,
      "outputs": []
    },
    {
      "cell_type": "code",
      "source": [
        "df3['count_of_customer']=df3['Unnamed: 0']\n",
        "df3.drop('Unnamed: 0',axis=1,inplace=True)\n",
        "df3"
      ],
      "metadata": {
        "colab": {
          "base_uri": "https://localhost:8080/",
          "height": 458
        },
        "id": "mQ3W99dGaNwr",
        "outputId": "97e9a97f-0471-4832-8b20-c6c224010ff3"
      },
      "execution_count": null,
      "outputs": [
        {
          "output_type": "execute_result",
          "data": {
            "text/plain": [
              "           customer_Id    DOB  Gender  transaction_id  cust_id  tran_date  \\\n",
              "city_code                                                                   \n",
              "1.0               9717   9717    9717            9717     9717       9717   \n",
              "2.0               9843   9843    9822            9843     9843       9843   \n",
              "3.0              10467  10467   10467           10467    10467      10467   \n",
              "4.0              10571  10571   10571           10571    10571      10571   \n",
              "5.0              10116  10116   10116           10116    10116      10116   \n",
              "6.0               9130   9130    9111            9130     9130       9130   \n",
              "7.0              10258  10258   10258           10258    10258      10258   \n",
              "8.0               9965   9965    9965            9965     9965       9965   \n",
              "9.0               9214   9214    9214            9214     9214       9214   \n",
              "10.0              9976   9976    9976            9976     9976       9976   \n",
              "\n",
              "           prod_subcat_code  prod_cat_code    Qty   Rate    Tax  total_amt  \\\n",
              "city_code                                                                    \n",
              "1.0                    9717           9717   9717   9717   9717       9717   \n",
              "2.0                    9843           9843   9843   9843   9843       9843   \n",
              "3.0                   10467          10467  10467  10467  10467      10467   \n",
              "4.0                   10571          10571  10571  10571  10571      10571   \n",
              "5.0                   10116          10116  10116  10116  10116      10116   \n",
              "6.0                    9130           9130   9130   9130   9130       9130   \n",
              "7.0                   10258          10258  10258  10258  10258      10258   \n",
              "8.0                    9965           9965   9965   9965   9965       9965   \n",
              "9.0                    9214           9214   9214   9214   9214       9214   \n",
              "10.0                   9976           9976   9976   9976   9976       9976   \n",
              "\n",
              "           Store_type  _merge  prod_cat  prod_sub_cat_code  prod_subcat  \\\n",
              "city_code                                                                 \n",
              "1.0              9717    9717      9717               9717         9717   \n",
              "2.0              9843    9843      9843               9843         9843   \n",
              "3.0             10467   10467     10467              10467        10467   \n",
              "4.0             10571   10571     10571              10571        10571   \n",
              "5.0             10116   10116     10116              10116        10116   \n",
              "6.0              9130    9130      9130               9130         9130   \n",
              "7.0             10258   10258     10258              10258        10258   \n",
              "8.0              9965    9965      9965               9965         9965   \n",
              "9.0              9214    9214      9214               9214         9214   \n",
              "10.0             9976    9976      9976               9976         9976   \n",
              "\n",
              "           count_of_customer  \n",
              "city_code                     \n",
              "1.0                     9717  \n",
              "2.0                     9843  \n",
              "3.0                    10467  \n",
              "4.0                    10571  \n",
              "5.0                    10116  \n",
              "6.0                     9130  \n",
              "7.0                    10258  \n",
              "8.0                     9965  \n",
              "9.0                     9214  \n",
              "10.0                    9976  "
            ],
            "text/html": [
              "\n",
              "  <div id=\"df-fa4906ff-80f6-43ec-ae39-9ac3147ef54f\">\n",
              "    <div class=\"colab-df-container\">\n",
              "      <div>\n",
              "<style scoped>\n",
              "    .dataframe tbody tr th:only-of-type {\n",
              "        vertical-align: middle;\n",
              "    }\n",
              "\n",
              "    .dataframe tbody tr th {\n",
              "        vertical-align: top;\n",
              "    }\n",
              "\n",
              "    .dataframe thead th {\n",
              "        text-align: right;\n",
              "    }\n",
              "</style>\n",
              "<table border=\"1\" class=\"dataframe\">\n",
              "  <thead>\n",
              "    <tr style=\"text-align: right;\">\n",
              "      <th></th>\n",
              "      <th>customer_Id</th>\n",
              "      <th>DOB</th>\n",
              "      <th>Gender</th>\n",
              "      <th>transaction_id</th>\n",
              "      <th>cust_id</th>\n",
              "      <th>tran_date</th>\n",
              "      <th>prod_subcat_code</th>\n",
              "      <th>prod_cat_code</th>\n",
              "      <th>Qty</th>\n",
              "      <th>Rate</th>\n",
              "      <th>Tax</th>\n",
              "      <th>total_amt</th>\n",
              "      <th>Store_type</th>\n",
              "      <th>_merge</th>\n",
              "      <th>prod_cat</th>\n",
              "      <th>prod_sub_cat_code</th>\n",
              "      <th>prod_subcat</th>\n",
              "      <th>count_of_customer</th>\n",
              "    </tr>\n",
              "    <tr>\n",
              "      <th>city_code</th>\n",
              "      <th></th>\n",
              "      <th></th>\n",
              "      <th></th>\n",
              "      <th></th>\n",
              "      <th></th>\n",
              "      <th></th>\n",
              "      <th></th>\n",
              "      <th></th>\n",
              "      <th></th>\n",
              "      <th></th>\n",
              "      <th></th>\n",
              "      <th></th>\n",
              "      <th></th>\n",
              "      <th></th>\n",
              "      <th></th>\n",
              "      <th></th>\n",
              "      <th></th>\n",
              "      <th></th>\n",
              "    </tr>\n",
              "  </thead>\n",
              "  <tbody>\n",
              "    <tr>\n",
              "      <th>1.0</th>\n",
              "      <td>9717</td>\n",
              "      <td>9717</td>\n",
              "      <td>9717</td>\n",
              "      <td>9717</td>\n",
              "      <td>9717</td>\n",
              "      <td>9717</td>\n",
              "      <td>9717</td>\n",
              "      <td>9717</td>\n",
              "      <td>9717</td>\n",
              "      <td>9717</td>\n",
              "      <td>9717</td>\n",
              "      <td>9717</td>\n",
              "      <td>9717</td>\n",
              "      <td>9717</td>\n",
              "      <td>9717</td>\n",
              "      <td>9717</td>\n",
              "      <td>9717</td>\n",
              "      <td>9717</td>\n",
              "    </tr>\n",
              "    <tr>\n",
              "      <th>2.0</th>\n",
              "      <td>9843</td>\n",
              "      <td>9843</td>\n",
              "      <td>9822</td>\n",
              "      <td>9843</td>\n",
              "      <td>9843</td>\n",
              "      <td>9843</td>\n",
              "      <td>9843</td>\n",
              "      <td>9843</td>\n",
              "      <td>9843</td>\n",
              "      <td>9843</td>\n",
              "      <td>9843</td>\n",
              "      <td>9843</td>\n",
              "      <td>9843</td>\n",
              "      <td>9843</td>\n",
              "      <td>9843</td>\n",
              "      <td>9843</td>\n",
              "      <td>9843</td>\n",
              "      <td>9843</td>\n",
              "    </tr>\n",
              "    <tr>\n",
              "      <th>3.0</th>\n",
              "      <td>10467</td>\n",
              "      <td>10467</td>\n",
              "      <td>10467</td>\n",
              "      <td>10467</td>\n",
              "      <td>10467</td>\n",
              "      <td>10467</td>\n",
              "      <td>10467</td>\n",
              "      <td>10467</td>\n",
              "      <td>10467</td>\n",
              "      <td>10467</td>\n",
              "      <td>10467</td>\n",
              "      <td>10467</td>\n",
              "      <td>10467</td>\n",
              "      <td>10467</td>\n",
              "      <td>10467</td>\n",
              "      <td>10467</td>\n",
              "      <td>10467</td>\n",
              "      <td>10467</td>\n",
              "    </tr>\n",
              "    <tr>\n",
              "      <th>4.0</th>\n",
              "      <td>10571</td>\n",
              "      <td>10571</td>\n",
              "      <td>10571</td>\n",
              "      <td>10571</td>\n",
              "      <td>10571</td>\n",
              "      <td>10571</td>\n",
              "      <td>10571</td>\n",
              "      <td>10571</td>\n",
              "      <td>10571</td>\n",
              "      <td>10571</td>\n",
              "      <td>10571</td>\n",
              "      <td>10571</td>\n",
              "      <td>10571</td>\n",
              "      <td>10571</td>\n",
              "      <td>10571</td>\n",
              "      <td>10571</td>\n",
              "      <td>10571</td>\n",
              "      <td>10571</td>\n",
              "    </tr>\n",
              "    <tr>\n",
              "      <th>5.0</th>\n",
              "      <td>10116</td>\n",
              "      <td>10116</td>\n",
              "      <td>10116</td>\n",
              "      <td>10116</td>\n",
              "      <td>10116</td>\n",
              "      <td>10116</td>\n",
              "      <td>10116</td>\n",
              "      <td>10116</td>\n",
              "      <td>10116</td>\n",
              "      <td>10116</td>\n",
              "      <td>10116</td>\n",
              "      <td>10116</td>\n",
              "      <td>10116</td>\n",
              "      <td>10116</td>\n",
              "      <td>10116</td>\n",
              "      <td>10116</td>\n",
              "      <td>10116</td>\n",
              "      <td>10116</td>\n",
              "    </tr>\n",
              "    <tr>\n",
              "      <th>6.0</th>\n",
              "      <td>9130</td>\n",
              "      <td>9130</td>\n",
              "      <td>9111</td>\n",
              "      <td>9130</td>\n",
              "      <td>9130</td>\n",
              "      <td>9130</td>\n",
              "      <td>9130</td>\n",
              "      <td>9130</td>\n",
              "      <td>9130</td>\n",
              "      <td>9130</td>\n",
              "      <td>9130</td>\n",
              "      <td>9130</td>\n",
              "      <td>9130</td>\n",
              "      <td>9130</td>\n",
              "      <td>9130</td>\n",
              "      <td>9130</td>\n",
              "      <td>9130</td>\n",
              "      <td>9130</td>\n",
              "    </tr>\n",
              "    <tr>\n",
              "      <th>7.0</th>\n",
              "      <td>10258</td>\n",
              "      <td>10258</td>\n",
              "      <td>10258</td>\n",
              "      <td>10258</td>\n",
              "      <td>10258</td>\n",
              "      <td>10258</td>\n",
              "      <td>10258</td>\n",
              "      <td>10258</td>\n",
              "      <td>10258</td>\n",
              "      <td>10258</td>\n",
              "      <td>10258</td>\n",
              "      <td>10258</td>\n",
              "      <td>10258</td>\n",
              "      <td>10258</td>\n",
              "      <td>10258</td>\n",
              "      <td>10258</td>\n",
              "      <td>10258</td>\n",
              "      <td>10258</td>\n",
              "    </tr>\n",
              "    <tr>\n",
              "      <th>8.0</th>\n",
              "      <td>9965</td>\n",
              "      <td>9965</td>\n",
              "      <td>9965</td>\n",
              "      <td>9965</td>\n",
              "      <td>9965</td>\n",
              "      <td>9965</td>\n",
              "      <td>9965</td>\n",
              "      <td>9965</td>\n",
              "      <td>9965</td>\n",
              "      <td>9965</td>\n",
              "      <td>9965</td>\n",
              "      <td>9965</td>\n",
              "      <td>9965</td>\n",
              "      <td>9965</td>\n",
              "      <td>9965</td>\n",
              "      <td>9965</td>\n",
              "      <td>9965</td>\n",
              "      <td>9965</td>\n",
              "    </tr>\n",
              "    <tr>\n",
              "      <th>9.0</th>\n",
              "      <td>9214</td>\n",
              "      <td>9214</td>\n",
              "      <td>9214</td>\n",
              "      <td>9214</td>\n",
              "      <td>9214</td>\n",
              "      <td>9214</td>\n",
              "      <td>9214</td>\n",
              "      <td>9214</td>\n",
              "      <td>9214</td>\n",
              "      <td>9214</td>\n",
              "      <td>9214</td>\n",
              "      <td>9214</td>\n",
              "      <td>9214</td>\n",
              "      <td>9214</td>\n",
              "      <td>9214</td>\n",
              "      <td>9214</td>\n",
              "      <td>9214</td>\n",
              "      <td>9214</td>\n",
              "    </tr>\n",
              "    <tr>\n",
              "      <th>10.0</th>\n",
              "      <td>9976</td>\n",
              "      <td>9976</td>\n",
              "      <td>9976</td>\n",
              "      <td>9976</td>\n",
              "      <td>9976</td>\n",
              "      <td>9976</td>\n",
              "      <td>9976</td>\n",
              "      <td>9976</td>\n",
              "      <td>9976</td>\n",
              "      <td>9976</td>\n",
              "      <td>9976</td>\n",
              "      <td>9976</td>\n",
              "      <td>9976</td>\n",
              "      <td>9976</td>\n",
              "      <td>9976</td>\n",
              "      <td>9976</td>\n",
              "      <td>9976</td>\n",
              "      <td>9976</td>\n",
              "    </tr>\n",
              "  </tbody>\n",
              "</table>\n",
              "</div>\n",
              "      <button class=\"colab-df-convert\" onclick=\"convertToInteractive('df-fa4906ff-80f6-43ec-ae39-9ac3147ef54f')\"\n",
              "              title=\"Convert this dataframe to an interactive table.\"\n",
              "              style=\"display:none;\">\n",
              "        \n",
              "  <svg xmlns=\"http://www.w3.org/2000/svg\" height=\"24px\"viewBox=\"0 0 24 24\"\n",
              "       width=\"24px\">\n",
              "    <path d=\"M0 0h24v24H0V0z\" fill=\"none\"/>\n",
              "    <path d=\"M18.56 5.44l.94 2.06.94-2.06 2.06-.94-2.06-.94-.94-2.06-.94 2.06-2.06.94zm-11 1L8.5 8.5l.94-2.06 2.06-.94-2.06-.94L8.5 2.5l-.94 2.06-2.06.94zm10 10l.94 2.06.94-2.06 2.06-.94-2.06-.94-.94-2.06-.94 2.06-2.06.94z\"/><path d=\"M17.41 7.96l-1.37-1.37c-.4-.4-.92-.59-1.43-.59-.52 0-1.04.2-1.43.59L10.3 9.45l-7.72 7.72c-.78.78-.78 2.05 0 2.83L4 21.41c.39.39.9.59 1.41.59.51 0 1.02-.2 1.41-.59l7.78-7.78 2.81-2.81c.8-.78.8-2.07 0-2.86zM5.41 20L4 18.59l7.72-7.72 1.47 1.35L5.41 20z\"/>\n",
              "  </svg>\n",
              "      </button>\n",
              "      \n",
              "  <style>\n",
              "    .colab-df-container {\n",
              "      display:flex;\n",
              "      flex-wrap:wrap;\n",
              "      gap: 12px;\n",
              "    }\n",
              "\n",
              "    .colab-df-convert {\n",
              "      background-color: #E8F0FE;\n",
              "      border: none;\n",
              "      border-radius: 50%;\n",
              "      cursor: pointer;\n",
              "      display: none;\n",
              "      fill: #1967D2;\n",
              "      height: 32px;\n",
              "      padding: 0 0 0 0;\n",
              "      width: 32px;\n",
              "    }\n",
              "\n",
              "    .colab-df-convert:hover {\n",
              "      background-color: #E2EBFA;\n",
              "      box-shadow: 0px 1px 2px rgba(60, 64, 67, 0.3), 0px 1px 3px 1px rgba(60, 64, 67, 0.15);\n",
              "      fill: #174EA6;\n",
              "    }\n",
              "\n",
              "    [theme=dark] .colab-df-convert {\n",
              "      background-color: #3B4455;\n",
              "      fill: #D2E3FC;\n",
              "    }\n",
              "\n",
              "    [theme=dark] .colab-df-convert:hover {\n",
              "      background-color: #434B5C;\n",
              "      box-shadow: 0px 1px 3px 1px rgba(0, 0, 0, 0.15);\n",
              "      filter: drop-shadow(0px 1px 2px rgba(0, 0, 0, 0.3));\n",
              "      fill: #FFFFFF;\n",
              "    }\n",
              "  </style>\n",
              "\n",
              "      <script>\n",
              "        const buttonEl =\n",
              "          document.querySelector('#df-fa4906ff-80f6-43ec-ae39-9ac3147ef54f button.colab-df-convert');\n",
              "        buttonEl.style.display =\n",
              "          google.colab.kernel.accessAllowed ? 'block' : 'none';\n",
              "\n",
              "        async function convertToInteractive(key) {\n",
              "          const element = document.querySelector('#df-fa4906ff-80f6-43ec-ae39-9ac3147ef54f');\n",
              "          const dataTable =\n",
              "            await google.colab.kernel.invokeFunction('convertToInteractive',\n",
              "                                                     [key], {});\n",
              "          if (!dataTable) return;\n",
              "\n",
              "          const docLinkHtml = 'Like what you see? Visit the ' +\n",
              "            '<a target=\"_blank\" href=https://colab.research.google.com/notebooks/data_table.ipynb>data table notebook</a>'\n",
              "            + ' to learn more about interactive tables.';\n",
              "          element.innerHTML = '';\n",
              "          dataTable['output_type'] = 'display_data';\n",
              "          await google.colab.output.renderOutput(dataTable, element);\n",
              "          const docLink = document.createElement('div');\n",
              "          docLink.innerHTML = docLinkHtml;\n",
              "          element.appendChild(docLink);\n",
              "        }\n",
              "      </script>\n",
              "    </div>\n",
              "  </div>\n",
              "  "
            ]
          },
          "metadata": {},
          "execution_count": 160
        }
      ]
    },
    {
      "cell_type": "code",
      "source": [
        "df5=df3.groupby('city_code')['count_of_customer'].max()\n"
      ],
      "metadata": {
        "id": "sNgRkkW1o1Vt"
      },
      "execution_count": null,
      "outputs": []
    },
    {
      "cell_type": "code",
      "source": [
        "df5"
      ],
      "metadata": {
        "colab": {
          "base_uri": "https://localhost:8080/"
        },
        "id": "sDCOfWAMpPk5",
        "outputId": "b7a06941-a4af-4c5d-bf95-159d8bdaa7b7"
      },
      "execution_count": null,
      "outputs": [
        {
          "output_type": "execute_result",
          "data": {
            "text/plain": [
              "city_code\n",
              "1.0      9717\n",
              "2.0      9843\n",
              "3.0     10467\n",
              "4.0     10571\n",
              "5.0     10116\n",
              "6.0      9130\n",
              "7.0     10258\n",
              "8.0      9965\n",
              "9.0      9214\n",
              "10.0     9976\n",
              "Name: count_of_customer, dtype: int64"
            ]
          },
          "metadata": {},
          "execution_count": 226
        }
      ]
    },
    {
      "cell_type": "code",
      "source": [
        "max(df5)"
      ],
      "metadata": {
        "colab": {
          "base_uri": "https://localhost:8080/"
        },
        "id": "KqVecYKNDU2F",
        "outputId": "081a9341-ae49-4058-ae8a-7bf8d464e044"
      },
      "execution_count": null,
      "outputs": [
        {
          "output_type": "execute_result",
          "data": {
            "text/plain": [
              "10571"
            ]
          },
          "metadata": {},
          "execution_count": 209
        }
      ]
    },
    {
      "cell_type": "code",
      "source": [
        "df7=dict(df5)"
      ],
      "metadata": {
        "id": "gfZf7P0-InqW"
      },
      "execution_count": null,
      "outputs": []
    },
    {
      "cell_type": "code",
      "source": [
        "df8 = {k:v for k, v in df7.items() if v== max(df5)}"
      ],
      "metadata": {
        "id": "EaN2kCJBpkTk"
      },
      "execution_count": null,
      "outputs": []
    },
    {
      "cell_type": "code",
      "source": [
        "df8"
      ],
      "metadata": {
        "colab": {
          "base_uri": "https://localhost:8080/"
        },
        "id": "EtpeJExjHoSK",
        "outputId": "4cd729c3-49a5-46d4-cd03-566d8e46f38f"
      },
      "execution_count": null,
      "outputs": [
        {
          "output_type": "execute_result",
          "data": {
            "text/plain": [
              "{4.0: 10571}"
            ]
          },
          "metadata": {},
          "execution_count": 216
        }
      ]
    },
    {
      "cell_type": "code",
      "source": [
        "print(f'The city code {list(df8.keys())} has max customers {list(df8.values())}')"
      ],
      "metadata": {
        "colab": {
          "base_uri": "https://localhost:8080/"
        },
        "id": "tfrpSygmproT",
        "outputId": "3f0098ef-23f1-436b-ea33-a71a8956fc3c"
      },
      "execution_count": null,
      "outputs": [
        {
          "output_type": "stream",
          "name": "stdout",
          "text": [
            "The city code [4.0] has max customers [10571]\n"
          ]
        }
      ]
    },
    {
      "cell_type": "markdown",
      "source": [
        "## 5. What was the total amount earned from the \"Electronics\" and \"Clothing\" categories\n",
        "\n"
      ],
      "metadata": {
        "id": "C63w5GCma3V1"
      }
    },
    {
      "cell_type": "code",
      "source": [
        "df[\"prod_cat\"].unique() # finding unique categories in this category of product"
      ],
      "metadata": {
        "colab": {
          "base_uri": "https://localhost:8080/"
        },
        "id": "CVeyd7MBd2JA",
        "outputId": "d8b9cc9d-eed8-4b4d-9db0-0509491a85b9"
      },
      "execution_count": null,
      "outputs": [
        {
          "output_type": "execute_result",
          "data": {
            "text/plain": [
              "array(['Books', 'Bags', 'Home and kitchen', 'Footwear', 'Electronics',\n",
              "       'Clothing'], dtype=object)"
            ]
          },
          "metadata": {},
          "execution_count": 162
        }
      ]
    },
    {
      "cell_type": "code",
      "source": [
        "df1=df.groupby('prod_cat')['total_amt'].sum() # checking total earned amount of cateogories in prod_cat by using groupby"
      ],
      "metadata": {
        "id": "xRFZ0AmHa5Cp"
      },
      "execution_count": null,
      "outputs": []
    },
    {
      "cell_type": "code",
      "source": [
        "df1\n"
      ],
      "metadata": {
        "colab": {
          "base_uri": "https://localhost:8080/"
        },
        "id": "CWI8eVF2bDga",
        "outputId": "6353196a-6834-44dd-a14e-2dd26f63ba9b"
      },
      "execution_count": null,
      "outputs": [
        {
          "output_type": "execute_result",
          "data": {
            "text/plain": [
              "prod_cat\n",
              "Bags                8.249417e+06\n",
              "Books               7.693616e+07\n",
              "Clothing            1.875341e+07\n",
              "Electronics         5.361232e+07\n",
              "Footwear            1.865932e+07\n",
              "Home and kitchen    3.375597e+07\n",
              "Name: total_amt, dtype: float64"
            ]
          },
          "metadata": {},
          "execution_count": 164
        }
      ]
    },
    {
      "cell_type": "code",
      "source": [
        "Total_Amount_Earned_from_Electronics= df1['Electronics']"
      ],
      "metadata": {
        "id": "7NgT57GLdfI9"
      },
      "execution_count": null,
      "outputs": []
    },
    {
      "cell_type": "code",
      "source": [
        "print(f'Total Amount earned from the \"Electronics\" Categories is {Total_Amount_Earned_from_Electronics} ')"
      ],
      "metadata": {
        "colab": {
          "base_uri": "https://localhost:8080/"
        },
        "id": "jFZJ4TBVbEOb",
        "outputId": "97777bad-7089-4f13-863d-f94c8fb468b1"
      },
      "execution_count": null,
      "outputs": [
        {
          "output_type": "stream",
          "name": "stdout",
          "text": [
            "Total Amount earned from the \"Electronics\" Categories is 53612318.175 \n"
          ]
        }
      ]
    },
    {
      "cell_type": "code",
      "source": [
        "df.head(3)"
      ],
      "metadata": {
        "colab": {
          "base_uri": "https://localhost:8080/",
          "height": 329
        },
        "id": "ndFpm21gbNfB",
        "outputId": "afafdb15-c377-479f-e29e-d3d0e164f97b"
      },
      "execution_count": null,
      "outputs": [
        {
          "output_type": "execute_result",
          "data": {
            "text/plain": [
              "   Unnamed: 0  customer_Id     DOB Gender  city_code  transaction_id  cust_id  \\\n",
              "0           0       268408  2-1-70      M        4.0     87243835584   268408   \n",
              "1           1       268408  2-1-70      M        4.0     87243835584   268408   \n",
              "2           2       268408  2-1-70      M        4.0     87243835584   268408   \n",
              "\n",
              "    tran_date  prod_subcat_code  prod_cat_code  Qty  Rate     Tax  total_amt  \\\n",
              "0  13-01-2014                 7              5    5   187  98.175   1033.175   \n",
              "1  13-01-2014                 7              5    5   187  98.175   1033.175   \n",
              "2  13-01-2014                 7              5    5   187  98.175   1033.175   \n",
              "\n",
              "  Store_type _merge prod_cat  prod_sub_cat_code  prod_subcat  \n",
              "0   TeleShop   both    Books                  7      Fiction  \n",
              "1   TeleShop   both    Books                 12     Academic  \n",
              "2   TeleShop   both    Books                 10  Non-Fiction  "
            ],
            "text/html": [
              "\n",
              "  <div id=\"df-561d6b65-69cc-48dc-838e-208b1cd44c1f\">\n",
              "    <div class=\"colab-df-container\">\n",
              "      <div>\n",
              "<style scoped>\n",
              "    .dataframe tbody tr th:only-of-type {\n",
              "        vertical-align: middle;\n",
              "    }\n",
              "\n",
              "    .dataframe tbody tr th {\n",
              "        vertical-align: top;\n",
              "    }\n",
              "\n",
              "    .dataframe thead th {\n",
              "        text-align: right;\n",
              "    }\n",
              "</style>\n",
              "<table border=\"1\" class=\"dataframe\">\n",
              "  <thead>\n",
              "    <tr style=\"text-align: right;\">\n",
              "      <th></th>\n",
              "      <th>Unnamed: 0</th>\n",
              "      <th>customer_Id</th>\n",
              "      <th>DOB</th>\n",
              "      <th>Gender</th>\n",
              "      <th>city_code</th>\n",
              "      <th>transaction_id</th>\n",
              "      <th>cust_id</th>\n",
              "      <th>tran_date</th>\n",
              "      <th>prod_subcat_code</th>\n",
              "      <th>prod_cat_code</th>\n",
              "      <th>Qty</th>\n",
              "      <th>Rate</th>\n",
              "      <th>Tax</th>\n",
              "      <th>total_amt</th>\n",
              "      <th>Store_type</th>\n",
              "      <th>_merge</th>\n",
              "      <th>prod_cat</th>\n",
              "      <th>prod_sub_cat_code</th>\n",
              "      <th>prod_subcat</th>\n",
              "    </tr>\n",
              "  </thead>\n",
              "  <tbody>\n",
              "    <tr>\n",
              "      <th>0</th>\n",
              "      <td>0</td>\n",
              "      <td>268408</td>\n",
              "      <td>2-1-70</td>\n",
              "      <td>M</td>\n",
              "      <td>4.0</td>\n",
              "      <td>87243835584</td>\n",
              "      <td>268408</td>\n",
              "      <td>13-01-2014</td>\n",
              "      <td>7</td>\n",
              "      <td>5</td>\n",
              "      <td>5</td>\n",
              "      <td>187</td>\n",
              "      <td>98.175</td>\n",
              "      <td>1033.175</td>\n",
              "      <td>TeleShop</td>\n",
              "      <td>both</td>\n",
              "      <td>Books</td>\n",
              "      <td>7</td>\n",
              "      <td>Fiction</td>\n",
              "    </tr>\n",
              "    <tr>\n",
              "      <th>1</th>\n",
              "      <td>1</td>\n",
              "      <td>268408</td>\n",
              "      <td>2-1-70</td>\n",
              "      <td>M</td>\n",
              "      <td>4.0</td>\n",
              "      <td>87243835584</td>\n",
              "      <td>268408</td>\n",
              "      <td>13-01-2014</td>\n",
              "      <td>7</td>\n",
              "      <td>5</td>\n",
              "      <td>5</td>\n",
              "      <td>187</td>\n",
              "      <td>98.175</td>\n",
              "      <td>1033.175</td>\n",
              "      <td>TeleShop</td>\n",
              "      <td>both</td>\n",
              "      <td>Books</td>\n",
              "      <td>12</td>\n",
              "      <td>Academic</td>\n",
              "    </tr>\n",
              "    <tr>\n",
              "      <th>2</th>\n",
              "      <td>2</td>\n",
              "      <td>268408</td>\n",
              "      <td>2-1-70</td>\n",
              "      <td>M</td>\n",
              "      <td>4.0</td>\n",
              "      <td>87243835584</td>\n",
              "      <td>268408</td>\n",
              "      <td>13-01-2014</td>\n",
              "      <td>7</td>\n",
              "      <td>5</td>\n",
              "      <td>5</td>\n",
              "      <td>187</td>\n",
              "      <td>98.175</td>\n",
              "      <td>1033.175</td>\n",
              "      <td>TeleShop</td>\n",
              "      <td>both</td>\n",
              "      <td>Books</td>\n",
              "      <td>10</td>\n",
              "      <td>Non-Fiction</td>\n",
              "    </tr>\n",
              "  </tbody>\n",
              "</table>\n",
              "</div>\n",
              "      <button class=\"colab-df-convert\" onclick=\"convertToInteractive('df-561d6b65-69cc-48dc-838e-208b1cd44c1f')\"\n",
              "              title=\"Convert this dataframe to an interactive table.\"\n",
              "              style=\"display:none;\">\n",
              "        \n",
              "  <svg xmlns=\"http://www.w3.org/2000/svg\" height=\"24px\"viewBox=\"0 0 24 24\"\n",
              "       width=\"24px\">\n",
              "    <path d=\"M0 0h24v24H0V0z\" fill=\"none\"/>\n",
              "    <path d=\"M18.56 5.44l.94 2.06.94-2.06 2.06-.94-2.06-.94-.94-2.06-.94 2.06-2.06.94zm-11 1L8.5 8.5l.94-2.06 2.06-.94-2.06-.94L8.5 2.5l-.94 2.06-2.06.94zm10 10l.94 2.06.94-2.06 2.06-.94-2.06-.94-.94-2.06-.94 2.06-2.06.94z\"/><path d=\"M17.41 7.96l-1.37-1.37c-.4-.4-.92-.59-1.43-.59-.52 0-1.04.2-1.43.59L10.3 9.45l-7.72 7.72c-.78.78-.78 2.05 0 2.83L4 21.41c.39.39.9.59 1.41.59.51 0 1.02-.2 1.41-.59l7.78-7.78 2.81-2.81c.8-.78.8-2.07 0-2.86zM5.41 20L4 18.59l7.72-7.72 1.47 1.35L5.41 20z\"/>\n",
              "  </svg>\n",
              "      </button>\n",
              "      \n",
              "  <style>\n",
              "    .colab-df-container {\n",
              "      display:flex;\n",
              "      flex-wrap:wrap;\n",
              "      gap: 12px;\n",
              "    }\n",
              "\n",
              "    .colab-df-convert {\n",
              "      background-color: #E8F0FE;\n",
              "      border: none;\n",
              "      border-radius: 50%;\n",
              "      cursor: pointer;\n",
              "      display: none;\n",
              "      fill: #1967D2;\n",
              "      height: 32px;\n",
              "      padding: 0 0 0 0;\n",
              "      width: 32px;\n",
              "    }\n",
              "\n",
              "    .colab-df-convert:hover {\n",
              "      background-color: #E2EBFA;\n",
              "      box-shadow: 0px 1px 2px rgba(60, 64, 67, 0.3), 0px 1px 3px 1px rgba(60, 64, 67, 0.15);\n",
              "      fill: #174EA6;\n",
              "    }\n",
              "\n",
              "    [theme=dark] .colab-df-convert {\n",
              "      background-color: #3B4455;\n",
              "      fill: #D2E3FC;\n",
              "    }\n",
              "\n",
              "    [theme=dark] .colab-df-convert:hover {\n",
              "      background-color: #434B5C;\n",
              "      box-shadow: 0px 1px 3px 1px rgba(0, 0, 0, 0.15);\n",
              "      filter: drop-shadow(0px 1px 2px rgba(0, 0, 0, 0.3));\n",
              "      fill: #FFFFFF;\n",
              "    }\n",
              "  </style>\n",
              "\n",
              "      <script>\n",
              "        const buttonEl =\n",
              "          document.querySelector('#df-561d6b65-69cc-48dc-838e-208b1cd44c1f button.colab-df-convert');\n",
              "        buttonEl.style.display =\n",
              "          google.colab.kernel.accessAllowed ? 'block' : 'none';\n",
              "\n",
              "        async function convertToInteractive(key) {\n",
              "          const element = document.querySelector('#df-561d6b65-69cc-48dc-838e-208b1cd44c1f');\n",
              "          const dataTable =\n",
              "            await google.colab.kernel.invokeFunction('convertToInteractive',\n",
              "                                                     [key], {});\n",
              "          if (!dataTable) return;\n",
              "\n",
              "          const docLinkHtml = 'Like what you see? Visit the ' +\n",
              "            '<a target=\"_blank\" href=https://colab.research.google.com/notebooks/data_table.ipynb>data table notebook</a>'\n",
              "            + ' to learn more about interactive tables.';\n",
              "          element.innerHTML = '';\n",
              "          dataTable['output_type'] = 'display_data';\n",
              "          await google.colab.output.renderOutput(dataTable, element);\n",
              "          const docLink = document.createElement('div');\n",
              "          docLink.innerHTML = docLinkHtml;\n",
              "          element.appendChild(docLink);\n",
              "        }\n",
              "      </script>\n",
              "    </div>\n",
              "  </div>\n",
              "  "
            ]
          },
          "metadata": {},
          "execution_count": 167
        }
      ]
    },
    {
      "cell_type": "code",
      "source": [
        "df[\"prod_cat\"].unique()"
      ],
      "metadata": {
        "colab": {
          "base_uri": "https://localhost:8080/"
        },
        "id": "PNksGMzCblA2",
        "outputId": "5e7ca0b1-c262-4126-c334-85c0f4da9e1a"
      },
      "execution_count": null,
      "outputs": [
        {
          "output_type": "execute_result",
          "data": {
            "text/plain": [
              "array(['Books', 'Bags', 'Home and kitchen', 'Footwear', 'Electronics',\n",
              "       'Clothing'], dtype=object)"
            ]
          },
          "metadata": {},
          "execution_count": 168
        }
      ]
    },
    {
      "cell_type": "code",
      "source": [
        "Total_Amount_Earned_from_Clothing= df1['Clothing']"
      ],
      "metadata": {
        "id": "kVtlawu5eSld"
      },
      "execution_count": null,
      "outputs": []
    },
    {
      "cell_type": "code",
      "source": [
        "print(f'Total Amount earned from the \"Clothing\" Categories is {Total_Amount_Earned_from_Clothing} ')"
      ],
      "metadata": {
        "colab": {
          "base_uri": "https://localhost:8080/"
        },
        "id": "TnQ_i4l6ktoA",
        "outputId": "ad1c6a44-bb87-40a6-9a6d-fbba4a8bfbdf"
      },
      "execution_count": null,
      "outputs": [
        {
          "output_type": "stream",
          "name": "stdout",
          "text": [
            "Total Amount earned from the \"Clothing\" Categories is 18753412.47 \n"
          ]
        }
      ]
    },
    {
      "cell_type": "code",
      "source": [
        "Total_Amt_earned_from_both_category=Total_Amount_Earned_from_Clothing + Total_Amount_Earned_from_Electronics"
      ],
      "metadata": {
        "id": "Ejx08wqMk8XL"
      },
      "execution_count": null,
      "outputs": []
    },
    {
      "cell_type": "code",
      "source": [
        "Total_Amt_earned_from_both_category"
      ],
      "metadata": {
        "colab": {
          "base_uri": "https://localhost:8080/"
        },
        "id": "QT--rWIjlJig",
        "outputId": "67320fd4-3c4a-4d9a-ed84-98a415a077e2"
      },
      "execution_count": null,
      "outputs": [
        {
          "output_type": "execute_result",
          "data": {
            "text/plain": [
              "72365730.645"
            ]
          },
          "metadata": {},
          "execution_count": 228
        }
      ]
    },
    {
      "cell_type": "code",
      "source": [
        "print(f'Total Amount earned from the \"Electronics\" & the \"Clothing\" Categories is {Total_Amt_earned_from_both_category} ')"
      ],
      "metadata": {
        "colab": {
          "base_uri": "https://localhost:8080/"
        },
        "id": "iZ7MIr75NAJy",
        "outputId": "6d84f7ec-f446-47e6-e367-9efcceba9056"
      },
      "execution_count": null,
      "outputs": [
        {
          "output_type": "stream",
          "name": "stdout",
          "text": [
            "Total Amount earned from the \"Electronics\" & the \"Clothing\" Categories is 72365730.645 \n"
          ]
        }
      ]
    },
    {
      "cell_type": "markdown",
      "source": [
        "## 3. Write a code to - Count number of negative total amount (use loc function)"
      ],
      "metadata": {
        "id": "GQAjxzH7fB15"
      }
    },
    {
      "cell_type": "code",
      "source": [
        "# Select rows where total_amount is negative\n",
        "negative_total_amounts = df.loc[df['total_amt'] < 0]\n"
      ],
      "metadata": {
        "id": "Lj2P0ePifDTP"
      },
      "execution_count": null,
      "outputs": []
    },
    {
      "cell_type": "code",
      "source": [
        "\n",
        "# Count the number of rows where total_amount is negative\n",
        "num_negative_total_amounts = negative_total_amounts.shape[0]\n"
      ],
      "metadata": {
        "id": "btzGEPStfcy9"
      },
      "execution_count": null,
      "outputs": []
    },
    {
      "cell_type": "code",
      "source": [
        "\n",
        "# Print the result\n",
        "print(\"Number of negative total amounts: \", num_negative_total_amounts)"
      ],
      "metadata": {
        "colab": {
          "base_uri": "https://localhost:8080/"
        },
        "id": "LmccWUFyfmBD",
        "outputId": "9c35b6c4-9a6f-4658-ba61-fda907945fc8"
      },
      "execution_count": null,
      "outputs": [
        {
          "output_type": "stream",
          "name": "stdout",
          "text": [
            "Number of negative total amounts:  9294\n"
          ]
        }
      ]
    },
    {
      "cell_type": "markdown",
      "source": [
        "# 4. Write a code to show - what was the total amount earned from female customers under the home and kitchen category."
      ],
      "metadata": {
        "id": "420K4wOVf2Ee"
      }
    },
    {
      "cell_type": "code",
      "source": [
        "df2=df[(df['Gender'] == 'F') & (df['prod_cat'] == 'Home and kitchen')]['total_amt'].sum()"
      ],
      "metadata": {
        "id": "2Lh7N2kWfm2E"
      },
      "execution_count": null,
      "outputs": []
    },
    {
      "cell_type": "code",
      "source": [
        "home_and_kitchen_category=df2"
      ],
      "metadata": {
        "id": "xzLTwCcZgg0z"
      },
      "execution_count": null,
      "outputs": []
    },
    {
      "cell_type": "code",
      "source": [
        "print(f'The total amount earned from female customers under the home and kitchen category is {home_and_kitchen_category}')"
      ],
      "metadata": {
        "colab": {
          "base_uri": "https://localhost:8080/"
        },
        "id": "fj8rZnkegh5I",
        "outputId": "10650408-987c-4992-e279-ad7d82f81ea9"
      },
      "execution_count": null,
      "outputs": [
        {
          "output_type": "stream",
          "name": "stdout",
          "text": [
            "The total amount earned from female customers under the home and kitchen category is 16528709.34\n"
          ]
        }
      ]
    },
    {
      "cell_type": "code",
      "source": [],
      "metadata": {
        "id": "dojPQRFXg3er"
      },
      "execution_count": null,
      "outputs": []
    }
  ]
}