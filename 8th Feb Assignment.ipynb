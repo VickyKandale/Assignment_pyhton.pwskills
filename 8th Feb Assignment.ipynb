{
 "cells": [
  {
   "cell_type": "markdown",
   "id": "20a7d633-a150-405a-8d29-d21a8e7bca1c",
   "metadata": {},
   "source": [
    "# Q1. What is Abstraction in OOps? Explain with an example."
   ]
  },
  {
   "cell_type": "markdown",
   "id": "ce586e11-9404-44aa-89cc-c9f0fb474b37",
   "metadata": {},
   "source": [
    "Abstraction is a fundamental concept in object-oriented programming that involves hiding unnecessary details while revealing essential information. It allows us to focus on the relevant aspects of an object and ignore the irrelevant ones.\n",
    "\n",
    "In Python, abstraction can be achieved by defining abstract classes and abstract methods. An abstract class is a class that cannot be instantiated and serves as a blueprint for other classes to inherit from. An abstract method is a method that has a declaration but no implementation and must be implemented by any class that inherits from the abstract class."
   ]
  },
  {
   "cell_type": "code",
   "execution_count": 1,
   "id": "64bae6f1-3d90-48de-8abf-4e9016ce6ec9",
   "metadata": {},
   "outputs": [
    {
     "name": "stdout",
     "output_type": "stream",
     "text": [
      "25\n",
      "20\n",
      "28.259999999999998\n",
      "18.84\n"
     ]
    }
   ],
   "source": [
    "from abc import ABC, abstractmethod\n",
    "\n",
    "class Shape(ABC):\n",
    "    @abstractmethod\n",
    "    def area(self):\n",
    "        pass\n",
    "\n",
    "    @abstractmethod\n",
    "    def perimeter(self):\n",
    "        pass\n",
    "\n",
    "class Square(Shape):\n",
    "    def __init__(self, side):\n",
    "        self.side = side\n",
    "\n",
    "    def area(self):\n",
    "        return self.side * self.side\n",
    "\n",
    "    def perimeter(self):\n",
    "        return 4 * self.side\n",
    "\n",
    "class Circle(Shape):\n",
    "    def __init__(self, radius):\n",
    "        self.radius = radius\n",
    "\n",
    "    def area(self):\n",
    "        return 3.14 * self.radius * self.radius\n",
    "\n",
    "    def perimeter(self):\n",
    "        return 2 * 3.14 * self.radius\n",
    "\n",
    "square = Square(5)\n",
    "print(square.area())      \n",
    "print(square.perimeter()) \n",
    "\n",
    "circle = Circle(3)\n",
    "print(circle.area())    \n",
    "print(circle.perimeter())\n"
   ]
  },
  {
   "cell_type": "markdown",
   "id": "ef0d5693-492e-433b-94fe-1bc25e3dd71e",
   "metadata": {},
   "source": [
    "In this example, we have a base class Shape that defines the abstract method area. The Rectangle and Circle classes inherit from the Shape class and provide their own implementation of the area method. Note that we cannot create an instance of the Shape class directly because it is an abstract class.\n",
    "\n",
    "The area method is an example of abstraction because it hides the implementation details of how the area of a shape is calculated. We don't need to know how the area is calculated, we just need to know that each shape has an area that can be calculated. This allows us to use the same interface (the area method) to work with different shapes without worrying about the details of how each shape is implemented"
   ]
  },
  {
   "cell_type": "markdown",
   "id": "c1a0c692-c79f-4d8c-9d44-63761eab22de",
   "metadata": {},
   "source": [
    "# Q2. Differentiate between Abstraction and Encapsulation. Explain with an example."
   ]
  },
  {
   "cell_type": "markdown",
   "id": "43cde860-6830-4318-93e2-fee93c127a36",
   "metadata": {},
   "source": [
    "Abstraction and Encapsulation are two important concepts of object-oriented programming, often used interchangeably. However, they have distinct meanings and purposes.\n",
    "\n",
    "Abstraction is the process of hiding unnecessary details while emphasizing the essential features of an object, class, or system. It focuses on the \"what\" of an object, rather than the \"how\". Abstraction provides a simplified view of an object or system, making it easier to work with and understand. It is achieved through the use of abstract classes and interfaces.\n",
    "\n",
    "On the other hand, encapsulation is the process of hiding the internal details of an object or system from the outside world. It focuses on the \"how\" of an object, rather than the \"what\". Encapsulation provides data security and code reusability by restricting access to the internal details of an object and exposing only the necessary information through public methods. It is achieved through the use of access modifiers such as public, private and protected."
   ]
  },
  {
   "cell_type": "code",
   "execution_count": 4,
   "id": "242ae8f0-da8c-4900-8d23-cd55ea9286e3",
   "metadata": {},
   "outputs": [
    {
     "name": "stdout",
     "output_type": "stream",
     "text": [
      "John\n",
      "50000\n",
      "55000\n",
      "Jane\n",
      "100000\n"
     ]
    }
   ],
   "source": [
    "class Employee:\n",
    "    def __init__(self, name, salary):\n",
    "        self.name = name\n",
    "        self.__salary = salary\n",
    "    \n",
    "    def get_name(self):\n",
    "        return self.name\n",
    "    \n",
    "    def get_salary(self):\n",
    "        return self.__salary\n",
    "    \n",
    "    def set_salary(self, salary):\n",
    "        if salary > 0:\n",
    "            self.__salary = salary\n",
    "\n",
    "class Manager(Employee):\n",
    "    def __init__(self, name, salary, bonus):\n",
    "        super().__init__(name, salary)\n",
    "        self.bonus = bonus\n",
    "    \n",
    "    def get_salary(self):\n",
    "        return self._Employee__salary + self.bonus\n",
    "\n",
    "employee = Employee(\"John\", 50000)\n",
    "print(employee.get_name())  \n",
    "print(employee.get_salary())\n",
    "employee.set_salary(55000)\n",
    "print(employee.get_salary())\n",
    "\n",
    "manager = Manager(\"Jane\", 80000, 20000)\n",
    "print(manager.get_name())  \n",
    "print(manager.get_salary())\n"
   ]
  },
  {
   "cell_type": "code",
   "execution_count": null,
   "id": "0d9c3f9f-eab4-44da-8ee4-563291609ca0",
   "metadata": {},
   "outputs": [],
   "source": []
  },
  {
   "cell_type": "markdown",
   "id": "db2b711e-f31a-4da0-98d9-a59d5c55de76",
   "metadata": {},
   "source": [
    "# Q3. What is abc module in python? Why is it used?"
   ]
  },
  {
   "cell_type": "markdown",
   "id": "2f91d8bf-14f3-483c-aa2c-5be3e2454aae",
   "metadata": {},
   "source": [
    "The abc module in Python stands for \"Abstract Base Classes\". It provides a way to define abstract classes and interfaces that can be used to enforce specific behavior in concrete classes.\n",
    "\n",
    "An abstract base class is a class that cannot be instantiated on its own, but serves as a base for other classes. It defines a set of methods and properties that subclasses are required to implement.\n",
    "\n",
    "The abc module is used to define abstract base classes, which can then be used to enforce certain behaviors in subclasses. For example, if you have a program that works with various kinds of objects, and you want to make sure that they all implement certain methods, you can define an abstract base class that specifies those methods, and then have all your objects inherit from that base class.\n",
    "\n",
    "Using abc module helps in writing more robust code by providing a way to ensure that all necessary methods are implemented in the subclasses. It also helps in better organization of code, as abstract base classes can be used to define a common interface for a set of related classes."
   ]
  },
  {
   "cell_type": "markdown",
   "id": "2529d28d-998e-4de7-bd63-c2e5b5c51659",
   "metadata": {},
   "source": [
    "# Q4. How can we achieve data abstraction?"
   ]
  },
  {
   "cell_type": "markdown",
   "id": "0d2e7e67-0a72-4089-aa6e-5eed6f66706e",
   "metadata": {},
   "source": [
    "In Python, we can achieve data abstraction using classes and objects. Data abstraction is a programming technique that allows us to hide the complexity of the implementation of a program and only expose the necessary details to the user.\n",
    "\n",
    "Here are the steps to achieve data abstraction in Python:\n",
    "\n",
    "Define a class: A class is a blueprint for creating objects that encapsulates data and behavior. Define a class that contains the necessary data and methods required to perform the required functionality.\n",
    "\n",
    "Define a constructor: A constructor is a special method that gets called when an object is created. It initializes the object's data members.\n",
    "\n",
    "Define methods: Define methods to perform operations on the object's data members. Methods should only expose the necessary details to the user.\n",
    "\n",
    "Hide implementation details: The implementation details of the class should be hidden from the user. This can be done by making the data members private and only exposing them through public methods.\n",
    "\n",
    "By following these steps, we can achieve data abstraction in Python. The user of the class only needs to know the public methods to perform operations on the object. The implementation details of the class are hidden and can be changed without affecting the user's code. This makes the code more maintainable and easier to understand."
   ]
  },
  {
   "cell_type": "markdown",
   "id": "e8c1fff8-7f79-4a4b-9126-e0cae4677aec",
   "metadata": {},
   "source": [
    "# Q5. Can we create an instance of an abstract class? Explain your answer."
   ]
  },
  {
   "cell_type": "markdown",
   "id": "39637cf8-c48a-4964-95d3-0310def55ed5",
   "metadata": {},
   "source": [
    "No, we cannot create an instance of an abstract class in Python. An abstract class is a class that contains one or more abstract methods, which are methods that are declared but not implemented in the abstract class.\n",
    "\n",
    "The purpose of an abstract class is to serve as a blueprint for other classes to inherit from and implement their own versions of the abstract methods. An abstract class cannot be instantiated on its own because it is incomplete and lacks the implementation details required to create an object.\n",
    "\n",
    "In Python, if you try to instantiate an abstract class, you will get a TypeError with the message \"Can't instantiate abstract class\". This is because the abstract class is incomplete and cannot be instantiated until all of its abstract methods are implemented in a concrete subclass.\n",
    "\n",
    "Therefore, the only way to use an abstract class is to create a concrete subclass that inherits from the abstract class and implements all of its abstract methods. Once the abstract methods are implemented, the subclass can be instantiated and used like any other class."
   ]
  },
  {
   "cell_type": "code",
   "execution_count": null,
   "id": "6c1fc6cb-cddc-40ba-8258-12b266568d83",
   "metadata": {},
   "outputs": [],
   "source": []
  }
 ],
 "metadata": {
  "kernelspec": {
   "display_name": "Python 3 (ipykernel)",
   "language": "python",
   "name": "python3"
  },
  "language_info": {
   "codemirror_mode": {
    "name": "ipython",
    "version": 3
   },
   "file_extension": ".py",
   "mimetype": "text/x-python",
   "name": "python",
   "nbconvert_exporter": "python",
   "pygments_lexer": "ipython3",
   "version": "3.10.8"
  }
 },
 "nbformat": 4,
 "nbformat_minor": 5
}
