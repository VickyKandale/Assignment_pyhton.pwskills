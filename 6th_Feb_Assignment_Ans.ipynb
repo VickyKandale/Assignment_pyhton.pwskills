{
  "nbformat": 4,
  "nbformat_minor": 0,
  "metadata": {
    "colab": {
      "provenance": []
    },
    "kernelspec": {
      "name": "python3",
      "display_name": "Python 3"
    },
    "language_info": {
      "name": "python"
    }
  },
  "cells": [
    {
      "cell_type": "markdown",
      "source": [
        "Q1. Create a function which will take a list as an argument and return the product of all the numbers\n",
        "after creating a flat list.\n",
        "\n",
        "Use the below-given list as an argument for your function.\n",
        "\n",
        "\n",
        "list1 = [1,2,3,4, [44,55,66, True], False, (34,56,78,89,34), {1,2,3,3,2,1}, {1:34, \"key2\": [55, 67, 78, 89], 4: (45,\n",
        "22, 61, 34)}, [56, 'data science'], 'Machine Learning']\n",
        "\n",
        "Note: you must extract numeric keys and values of the dictionary also."
      ],
      "metadata": {
        "id": "rfFCfoVaQvr3"
      }
    },
    {
      "cell_type": "code",
      "source": [
        "def product_of_numbers(lst):\n",
        "    flat_lts = []\n",
        "    flat_dict=[]\n",
        "    result=[]\n",
        "    for item in lst:\n",
        "        if isinstance(item, (list, tuple, set)):\n",
        "            flat_lts.extend(item)\n",
        "           \n",
        "        elif isinstance(item, dict):\n",
        "            flat_dict.extend(item.keys())\n",
        "            flat_dict.extend(item.values())\n",
        "            \n",
        "        else:\n",
        "            flat_lts.append(item)\n",
        "   \n",
        "    for item in flat_dict:\n",
        "        if isinstance(item, int):  # check if the item is an integer\n",
        "            result.append(item)\n",
        "    \n",
        "    flat_lst=flat_lts+result\n",
        "    numeric_values = [value for value in flat_lst if isinstance(value, (int, float))]\n",
        "    print(numeric_values)\n",
        "    product = 1\n",
        "    for num in numeric_values:\n",
        "        product *= num\n",
        "    return product"
      ],
      "metadata": {
        "id": "K3konTKrVbmk"
      },
      "execution_count": null,
      "outputs": []
    },
    {
      "cell_type": "code",
      "source": [
        "list1 = [1,2,3,4, [44,55,66, True], False, (34,56,78,89,34), {1,2,3,3,2,1}, {1:34, \"key2\": [55, 67, 78, 89], 4: (45, 22, 61, 34)}, [56, 'data science'], 'Machine Learning']\n",
        "\n",
        "print(f\"Product of numbers : {product_of_numbers(list1)}\")"
      ],
      "metadata": {
        "colab": {
          "base_uri": "https://localhost:8080/"
        },
        "id": "m4qSDMppVo8s",
        "outputId": "ab48f4b1-6d40-46b7-f892-199bc8da2c69"
      },
      "execution_count": null,
      "outputs": [
        {
          "output_type": "stream",
          "name": "stdout",
          "text": [
            "[1, 2, 3, 4, 44, 55, 66, True, False, 34, 56, 78, 89, 34, 1, 2, 3, 56, 1, 4, 34]\n",
            "Product of numbers : 0\n"
          ]
        }
      ]
    },
    {
      "cell_type": "markdown",
      "source": [
        "------------------------------------------------------------------------------------------"
      ],
      "metadata": {
        "id": "mCl3B2WqqtT_"
      }
    },
    {
      "cell_type": "markdown",
      "source": [
        "Q2. Write a python program for encrypting a message sent to you by your friend. The logic of encryption\n",
        "should be such that, for a the output should be z. For b, the output should be y. For c, the output should\n",
        "be x respectively. Also, the whitespace should be replaced with a dollar sign. Keep the punctuation\n",
        "marks unchanged.\n",
        "\n",
        "\n",
        "Input Sentence: I want to become a Data Scientist.\n",
        "\n",
        "\n",
        "Encrypt the above input sentence using the program you just created.\n",
        "\n",
        "\n",
        "Note: Convert the given input sentence into lowercase before encrypting. The final output should be\n",
        "lowercase."
      ],
      "metadata": {
        "id": "ciptoFlLVJKj"
      }
    },
    {
      "cell_type": "code",
      "source": [
        "def encrypt_message(message):\n",
        "    encrypted_message = \"\"\n",
        "    for letter in message.lower():\n",
        "        if letter.isalpha():\n",
        "            encrypted_letter = chr(ord('a') + ord('z') - ord(letter)) # with the help of character method we can find out\n",
        "            encrypted_message += encrypted_letter\n",
        "        elif letter == \" \":\n",
        "            encrypted_message += \"$\"\n",
        "        else:\n",
        "            encrypted_message += letter\n",
        "    return encrypted_message.lower()\n"
      ],
      "metadata": {
        "id": "kSzM7POQTn9Q"
      },
      "execution_count": null,
      "outputs": []
    },
    {
      "cell_type": "code",
      "source": [
        "input_sentence = \"I want to become a Data Scientist.\"\n",
        "encrypted_sentence = encrypt_message(input_sentence)\n",
        "\n",
        "print(encrypted_sentence)"
      ],
      "metadata": {
        "colab": {
          "base_uri": "https://localhost:8080/"
        },
        "id": "iWtuFztqbZZi",
        "outputId": "b58b95c0-54dd-429e-c680-7eb46e90ab26"
      },
      "execution_count": null,
      "outputs": [
        {
          "output_type": "stream",
          "name": "stdout",
          "text": [
            "r$dzmg$gl$yvxlnv$z$wzgz$hxrvmgrhg.\n"
          ]
        }
      ]
    },
    {
      "cell_type": "code",
      "source": [],
      "metadata": {
        "id": "z6MERexAa104"
      },
      "execution_count": null,
      "outputs": []
    }
  ]
}