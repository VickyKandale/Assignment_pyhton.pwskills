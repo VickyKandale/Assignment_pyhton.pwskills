{
  "nbformat": 4,
  "nbformat_minor": 0,
  "metadata": {
    "colab": {
      "provenance": [],
      "authorship_tag": "ABX9TyM696zlYZ4A9uulu94HuXAF",
      "include_colab_link": true
    },
    "kernelspec": {
      "name": "python3",
      "display_name": "Python 3"
    },
    "language_info": {
      "name": "python"
    }
  },
  "cells": [
    {
      "cell_type": "markdown",
      "metadata": {
        "id": "view-in-github",
        "colab_type": "text"
      },
      "source": [
        "<a href=\"https://colab.research.google.com/github/VickyKandale/Assignment_pyhton.pwskills/blob/main/Assignment_7th_March.ipynb\" target=\"_parent\"><img src=\"https://colab.research.google.com/assets/colab-badge.svg\" alt=\"Open In Colab\"/></a>"
      ]
    },
    {
      "cell_type": "markdown",
      "source": [
        "#Statistics Basic-2"
      ],
      "metadata": {
        "id": "ew2c2B-SqQCU"
      }
    },
    {
      "cell_type": "markdown",
      "source": [
        "##Q1. What are the three measures of central tendency?"
      ],
      "metadata": {
        "id": "k-YxxrbxqE99"
      }
    },
    {
      "cell_type": "markdown",
      "source": [
        "The three measures of central tendency are:\n",
        "\n",
        "> Mean: The mean is the most commonly used measure of central tendency. It is the average of all the values in a dataset. To calculate the mean, you add up all the values and divide by the total number of values.\n",
        "\n",
        ">Median: The median is the middle value in a dataset when the values are arranged in order. To find the median, you need to sort the values in ascending or descending order, and then pick the middle value.\n",
        "\n",
        ">Mode: The mode is the value that appears most frequently in a dataset. If no value appears more than once, the dataset has no mode. A dataset can also have multiple modes if two or more values occur with the same frequency."
      ],
      "metadata": {
        "id": "RKi1RYPmqEyd"
      }
    },
    {
      "cell_type": "markdown",
      "source": [
        "##Q2. What is the difference between the mean, median, and mode? How are they used to measure the central tendency of a dataset?"
      ],
      "metadata": {
        "id": "mQ-XAwALqW6T"
      }
    },
    {
      "cell_type": "markdown",
      "source": [
        "The mean, median, and mode are all measures of central tendency, but they are calculated differently and can give different information about a dataset.\n",
        "\n",
        "The mean is calculated by adding up all the values in a dataset and dividing by the total number of values. It represents the average value of the dataset and is sensitive to extreme values or outliers in the dataset. For example, if you have a dataset of test scores where most students scored around 80, but a few students scored 50 and 100, the mean will be affected by those extreme scores.\n",
        "\n",
        "The median is the middle value in a dataset when the values are arranged in order. It is not affected by extreme values or outliers in the dataset, and is useful when the dataset contains skewed or unevenly distributed values. For example, if you have a dataset of salaries where most employees earn around $50,000, but a few executives earn millions, the median can give a more representative value of the central tendency than the mean.\n",
        "\n",
        "The mode is the value that appears most frequently in a dataset. It is useful when you want to identify the most common value or category in a dataset, and is not affected by extreme values or outliers. For example, if you have a dataset of favorite colors where most people chose blue, but a few chose less common colors like yellow or purple, the mode would be blue.\n",
        "\n",
        "Overall, the choice of which measure of central tendency to use depends on the nature of the dataset and the specific research question or analysis. In general, the mean is the most commonly used measure of central tendency, but the median and mode can provide useful information in certain situations."
      ],
      "metadata": {
        "id": "DINCZvC3qnNM"
      }
    },
    {
      "cell_type": "markdown",
      "source": [
        "##Q3. Measure the three measures of central tendency for the given height data:\n",
        "\n",
        " [178,177,176,177,178.2,178,175,179,180,175,178.9,176.2,177,172.5,178,176.5]"
      ],
      "metadata": {
        "id": "wYPfmjSHqvIz"
      }
    },
    {
      "cell_type": "markdown",
      "source": [
        "To calculate the three measures of central tendency for the given height data:\n",
        "\n",
        "Mean: To find the mean, we add up all the values and divide by the total number of values:\n",
        "(178 + 177 + 176 + 177 + 178.2 + 178 + 175 + 179 + 180 + 175 + 178.9 + 176.2 + 177 + 172.5 + 178 + 176.5) / 16 = 176.8\n",
        "\n",
        "So the mean height is 176.8.\n",
        "\n",
        "Median: To find the median, we need to sort the values in ascending or descending order and pick the middle value. So the sorted list of heights is:\n",
        "[172.5, 175, 175, 176, 176.2, 176.5, 177, 177, 178, 178, 178, 178.2, 178.9, 179, 180]\n",
        "\n",
        "The middle value is the average of the two middle values, since there are an even number of values. So the median height is:\n",
        "\n",
        "(177 + 178) / 2 = 177.5\n",
        "\n",
        "Mode: To find the mode, we need to identify the value that appears most frequently in the dataset. In this case, there are two values that appear most frequently, which are 178 and 177. So the dataset has two modes, 178 and 177.\n",
        "Therefore, the three measures of central tendency for the given height data are:\n",
        "\n",
        "* Mean: 176.8\n",
        "* Median: 177.5\n",
        "* Mode: 177 and 178"
      ],
      "metadata": {
        "id": "TyliwXtqq6O-"
      }
    },
    {
      "cell_type": "markdown",
      "source": [
        "##Q4. Find the standard deviation for the given data:\n",
        "\n",
        "[178,177,176,177,178.2,178,175,179,180,175,178.9,176.2,177,172.5,178,176.5]"
      ],
      "metadata": {
        "id": "TqxZ2sMRq6MU"
      }
    },
    {
      "cell_type": "markdown",
      "source": [
        "To find the standard deviation for the given data, we can use the following formula:\n",
        "\n",
        "`σ = √[ Σ(xi - μ)² / N ]`\n",
        "\n",
        "where:\n",
        "\n",
        "σ is the standard deviation\n",
        "Σ is the summation symbol\n",
        "xi is each value in the dataset\n",
        "μ is the mean of the dataset\n",
        "N is the total number of values in the dataset\n",
        "First, we need to calculate the mean:\n",
        "\n",
        "`(178 + 177 + 176 + 177 + 178.2 + 178 + 175 + 179 + 180 + 175 + 178.9 + 176.2 + 177 + 172.5 + 178 + 176.5) / 16 = 176.8`\n",
        "\n",
        "So the mean is `176.8.`\n",
        "\n",
        "Next, we can calculate the sum of the squared differences between each value and the mean:\n",
        "\n",
        "`[(178 - 176.8)² + (177 - 176.8)² + (176 - 176.8)² + (177 - 176.8)² + (178.2 - 176.8)² + (178 - 176.8)² + (175 - 176.8)² + (179 - 176.8)² + (180 - 176.8)² + (175 - 176.8)² + (178.9 - 176.8)² + (176.2 - 176.8)² + (177 - 176.8)² + (172.5 - 176.8)² + (178 - 176.8)² + (176.5 - 176.8)²]`\n",
        "\n",
        "Simplifying this expression, we get:\n",
        "\n",
        "`[1.44 + 0.16 + 0.64 + 0.16 + 0.5776 + 0.04 + 3.24 + 2.44 + 9.16 + 3.24 + 0.7921 + 0.3136 + 0.16 + 18.49 + 0.16 + 0.09]`\n",
        "\n",
        "The sum of these values is:\n",
        "\n",
        "`39.04`\n",
        "\n",
        "\n",
        "Finally, we can plug the values we have calculated into the formula for standard deviation:\n",
        "\n",
        "σ = √[ Σ(xi - μ)² / N ]\n",
        "\n",
        "= √[39.04 / 16]\n",
        "\n",
        "= √2.44\n",
        "\n",
        "≈ 1.56\n",
        "\n",
        "\n",
        "\n",
        "Therefore, the standard deviation for the given data is approximately 1.56.\n",
        "\n",
        "\n",
        "\n"
      ],
      "metadata": {
        "id": "LGQjPQ8UrLuz"
      }
    },
    {
      "cell_type": "markdown",
      "source": [
        "##Q5. How are measures of dispersion such as range, variance, and standard deviation used to describe the spread of a dataset? Provide an example."
      ],
      "metadata": {
        "id": "Qo-lXuX-rLl7"
      }
    },
    {
      "cell_type": "markdown",
      "source": [
        ">Measures of dispersion such as range, variance, and standard deviation are used to describe the spread or variability of a dataset.\n",
        "\n",
        ">Range is a simple measure of dispersion that represents the difference between the largest and smallest values in the dataset. It provides a rough idea of the spread of the data but does not give information about the distribution of the data or the degree of variation between values.\n",
        "\n",
        ">Variance is a measure of dispersion that takes into account the differences between each value in the dataset and the mean. It is calculated by finding the average of the squared differences between each value and the mean. The variance gives a more precise measure of the variability of the data than the range, but the squared values can be difficult to interpret.\n",
        "\n",
        ">Standard deviation is the square root of the variance and is one of the most commonly used measures of dispersion. It provides a measure of the spread of the data that is more easily interpretable than the variance, as it is in the same units as the original data. The standard deviation measures the degree to which the values in the dataset deviate from the mean, with larger standard deviations indicating greater variability.\n",
        "\n",
        "For example, suppose we have two datasets that represent the daily temperature (in degrees Celsius) in two cities over a period of 10 days:\n",
        "\n",
        "City A: [22, 24, 25, 23, 21, 22, 20, 23, 22, 23]\n",
        "\n",
        "City B: [10, 12, 8, 11, 9, 10, 12, 11, 13, 11]\n",
        "\n",
        ">The mean temperature for both cities is 22.5 degrees Celsius. However, the standard deviation for City A is 1.53 degrees Celsius, while the standard deviation for City B is 1.32 degrees Celsius. This means that although both cities have the same mean temperature, the temperature in City A is more variable or spread out than in City B. The range of temperatures for City A is 5 degrees Celsius (20 to 25), while the range for City B is 5 degrees Celsius (8 to 13). This gives us a rough idea of the spread of the data, but does not give us information about the distribution or variability of the data."
      ],
      "metadata": {
        "id": "-KJ4hsJur7LD"
      }
    },
    {
      "cell_type": "markdown",
      "source": [
        "##Q6. What is a Venn diagram?"
      ],
      "metadata": {
        "id": "kDQHaVWZr7Ir"
      }
    },
    {
      "cell_type": "markdown",
      "source": [
        "A Venn diagram is a visual representation of sets and their relationships to each other. It consists of one or more overlapping circles or ovals, each representing a set, and the area of overlap represents the elements that are common to both sets.\n",
        "\n",
        "The Venn diagram is named after John Venn, a British logician and philosopher who introduced the diagram in the late 19th century. It is commonly used in mathematics, logic, statistics, and other fields to illustrate relationships between sets and to aid in problem-solving and decision-making.\n",
        "\n",
        "Venn diagrams can be used to illustrate various logical relationships between sets, including union (all elements in either set), intersection (elements in both sets), and complement (elements in one set but not the other). They can also be used to illustrate more complex relationships between three or more sets.\n",
        "\n",
        "Venn diagrams are often used in elementary school and high school math classes to teach set theory and basic logic concepts. They are also used in advanced math courses and in other fields, such as computer science and statistics, to represent complex data and relationships between variables.\n",
        "\n",
        "\n",
        "\n",
        "\n"
      ],
      "metadata": {
        "id": "KqcmFrzir9V8"
      }
    },
    {
      "cell_type": "markdown",
      "source": [
        "##Q7. For the two given sets A = (2,3,4,5,6,7) & B = (0,2,6,8,10). Find:\n",
        "\n",
        "(i) \tA ⋂ B\n",
        "\n",
        "(ii)\tA ⋃ B"
      ],
      "metadata": {
        "id": "TpwLemJUtFCy"
      }
    },
    {
      "cell_type": "markdown",
      "source": [
        "The given sets are:\n",
        "\n",
        "A = {2, 3, 4, 5, 6, 7}\n",
        "\n",
        "`B = {0, 2, 6, 8, 10}`\n",
        "\n",
        "\n",
        "\n",
        "\n",
        "(i) A ⋂ B represents the intersection of sets A and B, which includes all the elements that are common to both sets.\n",
        "\n",
        "To find the intersection, we need to identify the elements that are present in both sets. From the given sets, we can see that the only element that is present in both sets is 2. Therefore, A ⋂ B = {2}.\n",
        "\n",
        "(ii) A ⋃ B represents the union of sets A and B, which includes all the elements that are present in either set, without duplication.\n",
        "\n",
        "To find the union, we need to combine all the elements from both sets, without including duplicates. From the given sets, we can see that the combined set includes {0, 2, 3, 4, 5, 6, 7, 8, 10}. Therefore, A ⋃ B = {0, 2, 3, 4, 5, 6, 7, 8, 10}."
      ],
      "metadata": {
        "id": "YFgR0T1Wt4mi"
      }
    },
    {
      "cell_type": "markdown",
      "source": [
        "##Q8. What do you understand about skewness in data?"
      ],
      "metadata": {
        "id": "R4HQL-m8t4Z5"
      }
    },
    {
      "cell_type": "markdown",
      "source": [
        "Skewness is a measure of the asymmetry of a probability distribution. In statistics, skewness refers to the degree to which a distribution is \"lopsided\" or \"skewed\" to one side. A symmetrical distribution has a skewness of zero, while a distribution that is skewed to the right (i.e., has a long tail on the right side) has a positive skewness, and a distribution that is skewed to the left (i.e., has a long tail on the left side) has a negative skewness.\n",
        "\n",
        "Skewness is an important measure in statistics because it can affect the interpretation of data and the accuracy of statistical models. If the data is heavily skewed, then the mean may not accurately represent the typical value of the data. In such cases, it may be more appropriate to use the median or other measures of central tendency.\n",
        "\n",
        "There are different ways to measure skewness, such as the Pearson skewness coefficient, the Bowley skewness coefficient, and the quartile skewness coefficient. These measures provide information about the direction and degree of skewness in the data. A positive skewness indicates that the distribution is skewed to the right, while a negative skewness indicates that the distribution is skewed to the left. The greater the absolute value of the skewness coefficient, the more heavily skewed the distribution."
      ],
      "metadata": {
        "id": "aNVjbn-ouGi6"
      }
    },
    {
      "cell_type": "markdown",
      "source": [
        "##Q9. If a data is right skewed then what will be the position of median with respect to mean?"
      ],
      "metadata": {
        "id": "4mcA2WjyuJmS"
      }
    },
    {
      "cell_type": "markdown",
      "source": [
        ">If a data is right-skewed, then the mean will be greater than the median. This is because the right-skewed data has a long tail towards the right, which pulls the mean towards the higher values. On the other hand, the median is less affected by the extreme values in the tail, and it represents the middle value of the dataset when arranged in order. Therefore, in right-skewed data, the median is typically smaller than the mean."
      ],
      "metadata": {
        "id": "EtFfDTFyuOP1"
      }
    },
    {
      "cell_type": "markdown",
      "source": [
        "##Q10. Explain the difference between covariance and correlation. How are these measures used in statistical analysis?"
      ],
      "metadata": {
        "id": "YDeLke5NuONS"
      }
    },
    {
      "cell_type": "markdown",
      "source": [
        "Covariance and correlation are both measures of the relationship between two variables in a dataset. However, they differ in their interpretation and units of measurement.\n",
        "\n",
        "Covariance is a measure of how much two variables vary together. It measures the degree to which two variables are linearly related, and it can take any value between negative infinity and positive infinity. A positive covariance indicates that the two variables tend to increase or decrease together, while a negative covariance indicates that one variable tends to increase while the other decreases. However, the magnitude of covariance is affected by the scale of the variables, so it is difficult to compare the covariance of two different pairs of variables directly.\n",
        "\n",
        "On the other hand, correlation is a standardized measure of the linear relationship between two variables. It measures the strength and direction of the relationship between two variables, and it ranges from -1 to +1. A correlation of +1 indicates a perfect positive relationship, a correlation of 0 indicates no relationship, and a correlation of -1 indicates a perfect negative relationship. Correlation is independent of the scale of the variables, so it is more useful for comparing the strength of the relationship between two pairs of variables.\n",
        "\n",
        "Both covariance and correlation are used in statistical analysis to understand the relationship between two variables. However, correlation is a more commonly used measure as it provides more useful information that is easier to interpret. For example, correlation can be used to identify whether two variables are related, and to what degree. It can also be used to identify outliers, and to identify patterns in data. On the other hand, covariance is more commonly used as an intermediate step in calculations, such as in regression analysis, where it is used to calculate the regression coefficients."
      ],
      "metadata": {
        "id": "i3G60EkGuRJi"
      }
    },
    {
      "cell_type": "markdown",
      "source": [
        "##Q11. What is the formula for calculating the sample mean? Provide an example calculation for a dataset."
      ],
      "metadata": {
        "id": "WQq3_7bVubei"
      }
    },
    {
      "cell_type": "markdown",
      "source": [
        "The formula for calculating the sample mean is:\n",
        "\n",
        "sample mean = (sum of all values in the sample) / (number of values in the sample)\n",
        "\n",
        "Here is an example calculation:\n",
        "\n",
        "Suppose we have a dataset with the following values: 4, 6, 8, 10, 12.\n",
        "\n",
        "To find the sample mean, we first add up all the values in the dataset:\n",
        "\n",
        "`4 + 6 + 8 + 10 + 12 = 40`\n",
        "\n",
        "Next, we divide the sum by the number of values in the dataset, which is 5:\n",
        "\n",
        "40 / 5 = 8\n",
        "\n",
        "\n",
        "Therefore, the sample mean for this dataset is 8."
      ],
      "metadata": {
        "id": "TF14AYrNur0R"
      }
    },
    {
      "cell_type": "markdown",
      "source": [
        "##Q12. For a normal distribution data what is the relationship between its measure of central tendency?"
      ],
      "metadata": {
        "id": "ihms9qXEurxy"
      }
    },
    {
      "cell_type": "markdown",
      "source": [
        "\n",
        "For a normal distribution, the mean, median, and mode are all equal. This means that the central tendency of a normal distribution is characterized by a single value, which represents the peak of the distribution and is located at the center of the distribution. The mean, median, and mode are all measures of central tendency that describe different aspects of the distribution. The mean is the arithmetic average of the data, the median is the middle value when the data is arranged in order, and the mode is the most frequent value in the data. In a normal distribution, the mean, median, and mode are all equal because the distribution is symmetrical around its center."
      ],
      "metadata": {
        "id": "VCMLIzG4u1Rq"
      }
    },
    {
      "cell_type": "markdown",
      "source": [
        "##Q13. How is covariance different from correlation?"
      ],
      "metadata": {
        "id": "aHMWSZkMu08Z"
      }
    },
    {
      "cell_type": "markdown",
      "source": [
        "Covariance and correlation are two measures that are used to quantify the relationship between two variables. While both measures indicate the direction of the relationship between variables, they have different interpretations and scales.\n",
        "\n",
        "Covariance measures the extent to which two variables vary together. It is a measure of the linear association between two variables and can be positive, negative, or zero. A positive covariance indicates that two variables move together, a negative covariance indicates that two variables move in opposite directions, and a covariance of zero indicates that there is no linear relationship between the variables. However, the magnitude of the covariance is not standardized and depends on the scale of measurement of the variables.\n",
        "\n",
        "On the other hand, correlation measures the strength and direction of the linear relationship between two variables, but it is scaled between -1 and 1. A correlation of 1 indicates a perfect positive relationship, a correlation of 0 indicates no relationship, and a correlation of -1 indicates a perfect negative relationship. Correlation is calculated as the covariance between two variables divided by the product of their standard deviations. The use of standard deviations in the calculation of correlation makes it possible to compare the strength of the relationship between variables measured in different units.\n",
        "\n",
        "In summary, covariance and correlation are similar measures that indicate the direction of the relationship between variables. However, covariance is not scaled and depends on the units of measurement of the variables, while correlation is standardized and can be used to compare the strength of the relationship between variables measured in different units."
      ],
      "metadata": {
        "id": "J8aeBHl6vIgq"
      }
    },
    {
      "cell_type": "markdown",
      "source": [
        "##Q14. How do outliers affect measures of central tendency and dispersion? Provide an example."
      ],
      "metadata": {
        "id": "rGSX8tsivLUx"
      }
    },
    {
      "cell_type": "markdown",
      "source": [
        "Outliers are extreme values that lie far away from the rest of the data in a dataset. They can have a significant impact on measures of central tendency and dispersion.\n",
        "\n",
        "In terms of measures of central tendency, outliers can greatly affect the mean, but have little impact on the median and mode. Since the mean is sensitive to extreme values, the presence of outliers can shift the mean towards their direction. For example, consider a dataset of test scores for a class of students: 50, 60, 70, 80, 90, 100. The mean score is 75. However, if an outlier of 20 is added to the dataset, the mean drops to 65. In this case, the outlier had a significant impact on the mean.\n",
        "\n",
        "In terms of measures of dispersion, outliers can greatly affect the range and standard deviation, but have little impact on the interquartile range. The range is the difference between the maximum and minimum values in a dataset, and the presence of an outlier can greatly increase the range. Similarly, the standard deviation is sensitive to extreme values, so the presence of outliers can increase the standard deviation. For example, consider a dataset of salaries for employees at a company: $30,000, $35,000, $40,000, $45,000, $50,000, $100,000. The presence of the outlier of $100,000 greatly increases the range and standard deviation of the dataset.\n",
        "\n",
        "In summary, outliers can have a significant impact on measures of central tendency and dispersion, particularly the mean, range, and standard deviation. It is important to identify and address outliers in a dataset before interpreting these measures."
      ],
      "metadata": {
        "id": "4Fz9iuzEv7Lo"
      }
    },
    {
      "cell_type": "code",
      "source": [],
      "metadata": {
        "id": "4r1xFSCQqcf4"
      },
      "execution_count": null,
      "outputs": []
    }
  ]
}