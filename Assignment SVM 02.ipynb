{
 "cells": [
  {
   "cell_type": "markdown",
   "id": "28ce4c4c",
   "metadata": {},
   "source": [
    "## Support Vector Machines-2"
   ]
  },
  {
   "cell_type": "markdown",
   "id": "086df024",
   "metadata": {},
   "source": [
    "#### Q1. What is the relationship between polynomial functions and kernel functions in machine learning algorithms?"
   ]
  },
  {
   "cell_type": "markdown",
   "id": "ebb466fa",
   "metadata": {},
   "source": [
    "Polynomial functions and kernel functions are both used in machine learning algorithms to map data into a higher-dimensional space. This is done in order to find a more linear separation between the data points, which can make it easier for machine learning algorithms to learn.\n",
    "\n",
    "Polynomial functions are a type of mathematical function that can be used to map data into a higher-dimensional space. The degree of the polynomial function determines how many dimensions the data will be mapped into. For example, a quadratic polynomial function will map data into a three-dimensional space.\n",
    "\n",
    "Kernel functions are a type of function that is used to calculate the similarity between two data points. The kernel function is used to calculate the dot product of the two data points, which is a measure of how similar they are.\n",
    "\n",
    "In machine learning algorithms, polynomial functions and kernel functions are often used together. The polynomial function is used to map the data into a higher-dimensional space, and the kernel function is used to calculate the similarity between the data points. This allows the machine learning algorithm to find a more linear separation between the data points, which can make it easier for the algorithm to learn.\n",
    "\n",
    "Here are some examples of how polynomial functions and kernel functions are used in machine learning algorithms:\n",
    "\n",
    "- Support vector machines (SVMs) use polynomial functions and kernel functions to find a hyperplane that separates two classes of data.\n",
    "- Gaussian processes use polynomial functions and kernel functions to estimate a function from a set of data points.\n",
    "- Ridge regression uses a polynomial function to map the data into a higher-dimensional space, and then uses a kernel function to calculate the similarity between the data points. This allows the ridge regression algorithm to find a more linear relationship between the independent and dependent variables.\n",
    "\n",
    "Polynomial functions and kernel functions are both powerful tools that can be used to improve the performance of machine learning algorithms."
   ]
  },
  {
   "cell_type": "markdown",
   "id": "e02c0f33",
   "metadata": {},
   "source": [
    "### Q2. How can we implement an SVM with a polynomial kernel in Python using Scikit-learn?"
   ]
  },
  {
   "cell_type": "markdown",
   "id": "30837ff8",
   "metadata": {},
   "source": [
    "1. Import the necessary libraries.\n",
    "2. Load the data.\n",
    "3. Create a support vector machine (SVM) model with a polynomial kernel.\n",
    "4. Fit the model to the data.\n",
    "5. Predict the classes of the data.\n",
    "6. Evaluate the model.\n",
    "\n",
    "Here is an example of how to implement an SVM with a polynomial kernel in Python using Scikit-learn:\n",
    "\n",
    "```\n",
    "import numpy as np\n",
    "import matplotlib.pyplot as plt\n",
    "from sklearn import svm, datasets\n",
    "\n",
    "# Load the data\n",
    "iris = datasets.load_iris()\n",
    "X = iris.data[:, :2]\n",
    "y = iris.target\n",
    "\n",
    "# Create a support vector machine (SVM) model with a polynomial kernel\n",
    "clf = svm.SVC(kernel='poly', degree=3)\n",
    "\n",
    "# Fit the model to the data\n",
    "clf.fit(X, y)\n",
    "\n",
    "# Predict the classes of the data\n",
    "y_pred = clf.predict(X)\n",
    "\n",
    "# Evaluate the model\n",
    "print(clf.score(X, y))\n",
    "\n",
    "```\n",
    "\n",
    "This code will load the data from a CSV file, create an SVM model with a polynomial kernel, fit the model to the data, predict the classes of the data, and evaluate the model. The accuracy of the model will be printed to the console.\n",
    "\n",
    "The following are some of the parameters that can be used to customize the SVM model:\n",
    "\n",
    "- kernel: The type of kernel to use. The default value is 'linear'.\n",
    "- degree: The degree of the polynomial kernel. The default value is 3.\n",
    "- gamma: The gamma parameter for the RBF kernel. The default value is 'auto'.\n",
    "- C: The regularization parameter. The default value is 1.0.\n",
    "\n",
    "Here are some of the advantages of using an SVM with a polynomial kernel:\n",
    "\n",
    "- SVMs are able to learn non-linear relationships between the features and the target variable.\n",
    "- SVMs are able to handle data with a large number of features.\n",
    "- SVMs are able to generalize well to new data.\n",
    "\n",
    "Here are some of the disadvantages of using an SVM with a polynomial kernel:\n",
    "\n",
    "- SVMs can be computationally expensive to train.\n",
    "- SVMs can be sensitive to the choice of hyperparameters.\n",
    "- SVMs can be difficult to interpret.\n"
   ]
  },
  {
   "cell_type": "markdown",
   "id": "3ba2a7c6",
   "metadata": {},
   "source": [
    "### Q3. How does increasing the value of epsilon affect the number of support vectors in SVR?"
   ]
  },
  {
   "cell_type": "markdown",
   "id": "43078c73",
   "metadata": {},
   "source": [
    "Increasing the value of epsilon in SVR will increase the number of support vectors. This is because a larger epsilon will allow for more points to be considered as outliers, which will then be included as support vectors.\n",
    "\n",
    "Support vectors are the data points that are closest to the decision boundary in a support vector machine (SVM) model. They are important because they are used to calculate the decision boundary.\n",
    "\n",
    "The epsilon parameter in SVM regression is a measure of how much error is allowed within the margin. A larger epsilon will allow for more error, which will result in more points being considered as outliers. These outliers will then be included as support vectors.\n",
    "\n",
    "The number of support vectors in an SVM model can affect the accuracy and speed of the model. A larger number of support vectors can lead to a more accurate model, but it can also make the model slower to train and predict.\n",
    "\n",
    "The optimal value of the epsilon parameter will depend on the specific data set and the desired accuracy and speed of the model.\n",
    "\n",
    "Here are some of the reasons why increasing the value of epsilon can increase the number of support vectors:\n",
    "\n",
    "- Outliers: A larger epsilon will allow for more points to be considered as outliers. Outliers are points that are far away from the rest of the data. These points can be important for the model, as they can help to define the boundaries of the decision boundary.\n",
    "- Margin: A larger epsilon will increase the margin around the decision boundary. The margin is the distance between the decision boundary and the closest data points. A larger margin can help to improve the accuracy of the model, as it will make it more difficult for new data points to be misclassified.\n",
    "- Regularization: A larger epsilon can be used as a regularization term. Regularization is a technique that is used to prevent the model from overfitting the data. Overfitting occurs when the model learns the specific details of the training data, rather than the underlying patterns. This can lead to the model performing poorly on new data.\n",
    "\n",
    "Here are some of the potential drawbacks of increasing the value of epsilon:\n",
    "\n",
    "- Model complexity: A larger number of support vectors can make the model more complex. This can make the model more difficult to understand and interpret.\n",
    "- Model training time: A larger number of support vectors can increase the time it takes to train the model.\n",
    "- Model prediction time: A larger number of support vectors can increase the time it takes to predict new data points."
   ]
  },
  {
   "cell_type": "markdown",
   "id": "aa5e7ef8",
   "metadata": {},
   "source": [
    "### Q4. How does the choice of kernel function, C parameter, epsilon parameter, and gamma parameter affect the performance of Support Vector Regression (SVR)? Can you explain how each parameter works and provide examples of when you might want to increase or decrease its value?"
   ]
  },
  {
   "cell_type": "markdown",
   "id": "e537a2da",
   "metadata": {},
   "source": [
    "\n",
    "The choice of kernel function, C parameter, epsilon parameter, and gamma parameter can all affect the performance of Support Vector Regression (SVR).\n",
    "\n",
    "1. Kernel function\n",
    "\n",
    "The kernel function defines how the SVR model will map the input data into a higher-dimensional space. There are many different kernel functions available, each with its own strengths and weaknesses. Some common kernel functions include:\n",
    "\n",
    "- Linear kernel: This is the simplest kernel function, and it is often used when the input data is linearly separable.\n",
    "- RBF kernel: This is a more complex kernel function, and it is often used when the input data is not linearly separable.\n",
    "- Polynomial kernel: This is another complex kernel function, and it is often used when the input data has a nonlinear relationship.\n",
    "\n",
    "The choice of kernel function will depend on the specific data set and the desired accuracy of the model.\n",
    "\n",
    "2. C parameter\n",
    "\n",
    "The C parameter controls the trade-off between the model's accuracy and its complexity. A larger C value will result in a more accurate model, but it may also make the model more complex and less generalizable to new data. A smaller C value will result in a less accurate model, but it may also make the model simpler and more generalizable to new data.\n",
    "\n",
    "The optimal value of the C parameter will depend on the specific data set and the desired accuracy and speed of the model.\n",
    "\n",
    "3. Epsilon parameter\n",
    "\n",
    "The epsilon parameter defines the amount of error that is allowed within the margin. A larger epsilon value will result in a wider margin, which may improve the model's accuracy on noisy data. However, a wider margin may also make the model less generalizable to new data.\n",
    "\n",
    "The optimal value of the epsilon parameter will depend on the specific data set and the desired accuracy and speed of the model.\n",
    "\n",
    "4. Gamma parameter\n",
    "\n",
    "The gamma parameter controls the influence of each data point on the model. A larger gamma value will give more weight to data points that are close to the decision boundary, while a smaller gamma value will give less weight to these data points.\n",
    "\n",
    "The optimal value of the gamma parameter will depend on the specific data set and the desired accuracy and speed of the model.\n",
    "\n",
    "Here are some examples of when you might want to increase or decrease the value of each parameter:\n",
    "\n",
    "- Kernel function: If the input data is linearly separable, then you might want to use a linear kernel. If the input data is not linearly separable, then you might want to use a more complex kernel function, such as an RBF kernel or a polynomial kernel.\n",
    "- C parameter: If you want a more accurate model, then you might want to increase the C value. If you want a simpler model, then you might want to decrease the C value.\n",
    "- Epsilon parameter: If you have noisy data, then you might want to increase the epsilon value. If you want a model that is generalizable to new data, then you might want to decrease the epsilon value.\n",
    "- Gamma parameter: If you want a model that is more sensitive to outliers, then you might want to increase the gamma value. If you want a model that is less sensitive to outliers, then you might want to decrease the gamma value.\n",
    "\n",
    "It is important to note that the optimal values of the SVR parameters will depend on the specific data set and the desired accuracy and speed of the model. You may need to experiment with different values to find the best combination for your data set."
   ]
  },
  {
   "cell_type": "markdown",
   "id": "39226782",
   "metadata": {},
   "source": [
    "### Q5. Assignment:\n",
    "- Import the necessary libraries and load the dataset\n",
    "- Split the dataset into training and testing sets\n",
    "- Preprocess the data using any technique of your choice (e.g. scaling, normaliMation)\n",
    "- Create an instance of the SVC classifier and train it on the training data\n",
    "- use the trained classifier to predict the labels of the testing data\n",
    "- Evaluate the performance of the classifier using any metric of your choice (e.g. accuracy, precision, recall, F1-score)\n",
    "- Tune the hyperparameters of the SVC classifier using GridSearchCV or RandomizedSearchCV to improve its performance\n",
    "- Train the tuned classifier on the entire dataset\n",
    "- Save the trained classifier to a file for future use."
   ]
  },
  {
   "cell_type": "code",
   "execution_count": 28,
   "id": "8ed5122c",
   "metadata": {},
   "outputs": [],
   "source": [
    "import numpy as np\n",
    "from sklearn.datasets import load_diabetes\n",
    "from sklearn.model_selection import train_test_split\n",
    "from sklearn.preprocessing import StandardScaler\n",
    "from sklearn.svm import SVC\n",
    "from sklearn.metrics import accuracy_score, classification_report\n",
    "from sklearn.model_selection import GridSearchCV\n",
    "import warnings\n",
    "warnings.filterwarnings(\"ignore\")"
   ]
  },
  {
   "cell_type": "code",
   "execution_count": 29,
   "id": "18edf24b-07d6-4871-b5dd-ca0350c896cf",
   "metadata": {},
   "outputs": [],
   "source": [
    "\n",
    "# Load the Iris dataset\n",
    "D1 = load_diabetes()\n",
    "X = D1.data\n",
    "y = D1.target\n",
    "\n",
    "# Split the dataset into training and testing sets\n",
    "X_train, X_test, y_train, y_test = train_test_split(X, y, test_size=0.2, random_state=42)\n"
   ]
  },
  {
   "cell_type": "code",
   "execution_count": 30,
   "id": "1e6a19af-02c6-48de-85db-288f5e79279a",
   "metadata": {},
   "outputs": [],
   "source": [
    "# Preprocess the data using standardization\n",
    "scaler = StandardScaler()\n",
    "X_train_scaled = scaler.fit_transform(X_train)\n",
    "X_test_scaled = scaler.transform(X_test)\n"
   ]
  },
  {
   "cell_type": "code",
   "execution_count": 31,
   "id": "9f2f02e7-b33d-4920-a1b4-5ebf748c6ba7",
   "metadata": {},
   "outputs": [
    {
     "data": {
      "text/html": [
       "<style>#sk-container-id-9 {color: black;background-color: white;}#sk-container-id-9 pre{padding: 0;}#sk-container-id-9 div.sk-toggleable {background-color: white;}#sk-container-id-9 label.sk-toggleable__label {cursor: pointer;display: block;width: 100%;margin-bottom: 0;padding: 0.3em;box-sizing: border-box;text-align: center;}#sk-container-id-9 label.sk-toggleable__label-arrow:before {content: \"▸\";float: left;margin-right: 0.25em;color: #696969;}#sk-container-id-9 label.sk-toggleable__label-arrow:hover:before {color: black;}#sk-container-id-9 div.sk-estimator:hover label.sk-toggleable__label-arrow:before {color: black;}#sk-container-id-9 div.sk-toggleable__content {max-height: 0;max-width: 0;overflow: hidden;text-align: left;background-color: #f0f8ff;}#sk-container-id-9 div.sk-toggleable__content pre {margin: 0.2em;color: black;border-radius: 0.25em;background-color: #f0f8ff;}#sk-container-id-9 input.sk-toggleable__control:checked~div.sk-toggleable__content {max-height: 200px;max-width: 100%;overflow: auto;}#sk-container-id-9 input.sk-toggleable__control:checked~label.sk-toggleable__label-arrow:before {content: \"▾\";}#sk-container-id-9 div.sk-estimator input.sk-toggleable__control:checked~label.sk-toggleable__label {background-color: #d4ebff;}#sk-container-id-9 div.sk-label input.sk-toggleable__control:checked~label.sk-toggleable__label {background-color: #d4ebff;}#sk-container-id-9 input.sk-hidden--visually {border: 0;clip: rect(1px 1px 1px 1px);clip: rect(1px, 1px, 1px, 1px);height: 1px;margin: -1px;overflow: hidden;padding: 0;position: absolute;width: 1px;}#sk-container-id-9 div.sk-estimator {font-family: monospace;background-color: #f0f8ff;border: 1px dotted black;border-radius: 0.25em;box-sizing: border-box;margin-bottom: 0.5em;}#sk-container-id-9 div.sk-estimator:hover {background-color: #d4ebff;}#sk-container-id-9 div.sk-parallel-item::after {content: \"\";width: 100%;border-bottom: 1px solid gray;flex-grow: 1;}#sk-container-id-9 div.sk-label:hover label.sk-toggleable__label {background-color: #d4ebff;}#sk-container-id-9 div.sk-serial::before {content: \"\";position: absolute;border-left: 1px solid gray;box-sizing: border-box;top: 0;bottom: 0;left: 50%;z-index: 0;}#sk-container-id-9 div.sk-serial {display: flex;flex-direction: column;align-items: center;background-color: white;padding-right: 0.2em;padding-left: 0.2em;position: relative;}#sk-container-id-9 div.sk-item {position: relative;z-index: 1;}#sk-container-id-9 div.sk-parallel {display: flex;align-items: stretch;justify-content: center;background-color: white;position: relative;}#sk-container-id-9 div.sk-item::before, #sk-container-id-9 div.sk-parallel-item::before {content: \"\";position: absolute;border-left: 1px solid gray;box-sizing: border-box;top: 0;bottom: 0;left: 50%;z-index: -1;}#sk-container-id-9 div.sk-parallel-item {display: flex;flex-direction: column;z-index: 1;position: relative;background-color: white;}#sk-container-id-9 div.sk-parallel-item:first-child::after {align-self: flex-end;width: 50%;}#sk-container-id-9 div.sk-parallel-item:last-child::after {align-self: flex-start;width: 50%;}#sk-container-id-9 div.sk-parallel-item:only-child::after {width: 0;}#sk-container-id-9 div.sk-dashed-wrapped {border: 1px dashed gray;margin: 0 0.4em 0.5em 0.4em;box-sizing: border-box;padding-bottom: 0.4em;background-color: white;}#sk-container-id-9 div.sk-label label {font-family: monospace;font-weight: bold;display: inline-block;line-height: 1.2em;}#sk-container-id-9 div.sk-label-container {text-align: center;}#sk-container-id-9 div.sk-container {/* jupyter's `normalize.less` sets `[hidden] { display: none; }` but bootstrap.min.css set `[hidden] { display: none !important; }` so we also need the `!important` here to be able to override the default hidden behavior on the sphinx rendered scikit-learn.org. See: https://github.com/scikit-learn/scikit-learn/issues/21755 */display: inline-block !important;position: relative;}#sk-container-id-9 div.sk-text-repr-fallback {display: none;}</style><div id=\"sk-container-id-9\" class=\"sk-top-container\"><div class=\"sk-text-repr-fallback\"><pre>SVC()</pre><b>In a Jupyter environment, please rerun this cell to show the HTML representation or trust the notebook. <br />On GitHub, the HTML representation is unable to render, please try loading this page with nbviewer.org.</b></div><div class=\"sk-container\" hidden><div class=\"sk-item\"><div class=\"sk-estimator sk-toggleable\"><input class=\"sk-toggleable__control sk-hidden--visually\" id=\"sk-estimator-id-13\" type=\"checkbox\" checked><label for=\"sk-estimator-id-13\" class=\"sk-toggleable__label sk-toggleable__label-arrow\">SVC</label><div class=\"sk-toggleable__content\"><pre>SVC()</pre></div></div></div></div></div>"
      ],
      "text/plain": [
       "SVC()"
      ]
     },
     "execution_count": 31,
     "metadata": {},
     "output_type": "execute_result"
    }
   ],
   "source": [
    "# Create an instance of the SVC classifier and train it on the training data\n",
    "svm = SVC()\n",
    "svm.fit(X_train_scaled, y_train)"
   ]
  },
  {
   "cell_type": "code",
   "execution_count": 32,
   "id": "6e2dbeba-f351-43d2-9d39-6cacbca8e391",
   "metadata": {},
   "outputs": [],
   "source": [
    "# Use the trained classifier to predict the labels of the testing data\n",
    "y_pred = svm.predict(X_test_scaled)\n"
   ]
  },
  {
   "cell_type": "code",
   "execution_count": 33,
   "id": "f8080458-9f3d-441d-b6d9-660b695c0d42",
   "metadata": {},
   "outputs": [
    {
     "name": "stdout",
     "output_type": "stream",
     "text": [
      "Accuracy: 0.0\n",
      "Classification Report:\n",
      "               precision    recall  f1-score   support\n",
      "\n",
      "        37.0       0.00      0.00      0.00       1.0\n",
      "        42.0       0.00      0.00      0.00       1.0\n",
      "        48.0       0.00      0.00      0.00       2.0\n",
      "        52.0       0.00      0.00      0.00       2.0\n",
      "        53.0       0.00      0.00      0.00       0.0\n",
      "        55.0       0.00      0.00      0.00       0.0\n",
      "        59.0       0.00      0.00      0.00       0.0\n",
      "        60.0       0.00      0.00      0.00       1.0\n",
      "        61.0       0.00      0.00      0.00       1.0\n",
      "        63.0       0.00      0.00      0.00       2.0\n",
      "        64.0       0.00      0.00      0.00       1.0\n",
      "        65.0       0.00      0.00      0.00       0.0\n",
      "        67.0       0.00      0.00      0.00       1.0\n",
      "        68.0       0.00      0.00      0.00       1.0\n",
      "        69.0       0.00      0.00      0.00       1.0\n",
      "        70.0       0.00      0.00      0.00       1.0\n",
      "        71.0       0.00      0.00      0.00       0.0\n",
      "        72.0       0.00      0.00      0.00       3.0\n",
      "        77.0       0.00      0.00      0.00       1.0\n",
      "        84.0       0.00      0.00      0.00       2.0\n",
      "        85.0       0.00      0.00      0.00       0.0\n",
      "        87.0       0.00      0.00      0.00       1.0\n",
      "        89.0       0.00      0.00      0.00       1.0\n",
      "        90.0       0.00      0.00      0.00       3.0\n",
      "        91.0       0.00      0.00      0.00       1.0\n",
      "        94.0       0.00      0.00      0.00       2.0\n",
      "        95.0       0.00      0.00      0.00       1.0\n",
      "        96.0       0.00      0.00      0.00       2.0\n",
      "        98.0       0.00      0.00      0.00       1.0\n",
      "        99.0       0.00      0.00      0.00       1.0\n",
      "       101.0       0.00      0.00      0.00       1.0\n",
      "       102.0       0.00      0.00      0.00       1.0\n",
      "       107.0       0.00      0.00      0.00       1.0\n",
      "       108.0       0.00      0.00      0.00       1.0\n",
      "       109.0       0.00      0.00      0.00       0.0\n",
      "       110.0       0.00      0.00      0.00       1.0\n",
      "       111.0       0.00      0.00      0.00       1.0\n",
      "       113.0       0.00      0.00      0.00       1.0\n",
      "       118.0       0.00      0.00      0.00       1.0\n",
      "       122.0       0.00      0.00      0.00       1.0\n",
      "       128.0       0.00      0.00      0.00       1.0\n",
      "       129.0       0.00      0.00      0.00       1.0\n",
      "       131.0       0.00      0.00      0.00       0.0\n",
      "       135.0       0.00      0.00      0.00       1.0\n",
      "       136.0       0.00      0.00      0.00       1.0\n",
      "       140.0       0.00      0.00      0.00       2.0\n",
      "       142.0       0.00      0.00      0.00       0.0\n",
      "       144.0       0.00      0.00      0.00       0.0\n",
      "       150.0       0.00      0.00      0.00       0.0\n",
      "       151.0       0.00      0.00      0.00       1.0\n",
      "       153.0       0.00      0.00      0.00       1.0\n",
      "       156.0       0.00      0.00      0.00       1.0\n",
      "       158.0       0.00      0.00      0.00       1.0\n",
      "       164.0       0.00      0.00      0.00       1.0\n",
      "       168.0       0.00      0.00      0.00       2.0\n",
      "       170.0       0.00      0.00      0.00       1.0\n",
      "       171.0       0.00      0.00      0.00       1.0\n",
      "       172.0       0.00      0.00      0.00       1.0\n",
      "       178.0       0.00      0.00      0.00       0.0\n",
      "       180.0       0.00      0.00      0.00       1.0\n",
      "       181.0       0.00      0.00      0.00       1.0\n",
      "       184.0       0.00      0.00      0.00       1.0\n",
      "       186.0       0.00      0.00      0.00       1.0\n",
      "       187.0       0.00      0.00      0.00       1.0\n",
      "       190.0       0.00      0.00      0.00       1.0\n",
      "       200.0       0.00      0.00      0.00       1.0\n",
      "       202.0       0.00      0.00      0.00       2.0\n",
      "       214.0       0.00      0.00      0.00       1.0\n",
      "       219.0       0.00      0.00      0.00       1.0\n",
      "       220.0       0.00      0.00      0.00       1.0\n",
      "       222.0       0.00      0.00      0.00       1.0\n",
      "       230.0       0.00      0.00      0.00       1.0\n",
      "       232.0       0.00      0.00      0.00       1.0\n",
      "       233.0       0.00      0.00      0.00       2.0\n",
      "       237.0       0.00      0.00      0.00       1.0\n",
      "       242.0       0.00      0.00      0.00       1.0\n",
      "       248.0       0.00      0.00      0.00       1.0\n",
      "       252.0       0.00      0.00      0.00       1.0\n",
      "       258.0       0.00      0.00      0.00       1.0\n",
      "       263.0       0.00      0.00      0.00       1.0\n",
      "       264.0       0.00      0.00      0.00       1.0\n",
      "       272.0       0.00      0.00      0.00       1.0\n",
      "       275.0       0.00      0.00      0.00       1.0\n",
      "       281.0       0.00      0.00      0.00       1.0\n",
      "       295.0       0.00      0.00      0.00       1.0\n",
      "       297.0       0.00      0.00      0.00       1.0\n",
      "       310.0       0.00      0.00      0.00       1.0\n",
      "\n",
      "    accuracy                           0.00      89.0\n",
      "   macro avg       0.00      0.00      0.00      89.0\n",
      "weighted avg       0.00      0.00      0.00      89.0\n",
      "\n"
     ]
    }
   ],
   "source": [
    "# Evaluate the performance of the classifier\n",
    "accuracy = accuracy_score(y_test, y_pred)\n",
    "report = classification_report(y_test, y_pred)\n",
    "print(\"Accuracy:\", accuracy)\n",
    "print(\"Classification Report:\\n\", report)\n"
   ]
  },
  {
   "cell_type": "code",
   "execution_count": 34,
   "id": "88b1fc3f-42d0-4f1f-9f20-d7b8c127ca48",
   "metadata": {},
   "outputs": [],
   "source": [
    "# Tune the hyperparameters of the SVC classifier using GridSearchCV\n",
    "param_grid = {\n",
    "    'C': [0.1, 1, 10],\n",
    "    'gamma': [0.1, 1, 10],\n",
    "    'kernel': ['linear', 'rbf']\n",
    "}"
   ]
  },
  {
   "cell_type": "code",
   "execution_count": 35,
   "id": "614ccea2-a8c7-4c67-b2ee-16b73ab52899",
   "metadata": {},
   "outputs": [
    {
     "data": {
      "text/html": [
       "<style>#sk-container-id-10 {color: black;background-color: white;}#sk-container-id-10 pre{padding: 0;}#sk-container-id-10 div.sk-toggleable {background-color: white;}#sk-container-id-10 label.sk-toggleable__label {cursor: pointer;display: block;width: 100%;margin-bottom: 0;padding: 0.3em;box-sizing: border-box;text-align: center;}#sk-container-id-10 label.sk-toggleable__label-arrow:before {content: \"▸\";float: left;margin-right: 0.25em;color: #696969;}#sk-container-id-10 label.sk-toggleable__label-arrow:hover:before {color: black;}#sk-container-id-10 div.sk-estimator:hover label.sk-toggleable__label-arrow:before {color: black;}#sk-container-id-10 div.sk-toggleable__content {max-height: 0;max-width: 0;overflow: hidden;text-align: left;background-color: #f0f8ff;}#sk-container-id-10 div.sk-toggleable__content pre {margin: 0.2em;color: black;border-radius: 0.25em;background-color: #f0f8ff;}#sk-container-id-10 input.sk-toggleable__control:checked~div.sk-toggleable__content {max-height: 200px;max-width: 100%;overflow: auto;}#sk-container-id-10 input.sk-toggleable__control:checked~label.sk-toggleable__label-arrow:before {content: \"▾\";}#sk-container-id-10 div.sk-estimator input.sk-toggleable__control:checked~label.sk-toggleable__label {background-color: #d4ebff;}#sk-container-id-10 div.sk-label input.sk-toggleable__control:checked~label.sk-toggleable__label {background-color: #d4ebff;}#sk-container-id-10 input.sk-hidden--visually {border: 0;clip: rect(1px 1px 1px 1px);clip: rect(1px, 1px, 1px, 1px);height: 1px;margin: -1px;overflow: hidden;padding: 0;position: absolute;width: 1px;}#sk-container-id-10 div.sk-estimator {font-family: monospace;background-color: #f0f8ff;border: 1px dotted black;border-radius: 0.25em;box-sizing: border-box;margin-bottom: 0.5em;}#sk-container-id-10 div.sk-estimator:hover {background-color: #d4ebff;}#sk-container-id-10 div.sk-parallel-item::after {content: \"\";width: 100%;border-bottom: 1px solid gray;flex-grow: 1;}#sk-container-id-10 div.sk-label:hover label.sk-toggleable__label {background-color: #d4ebff;}#sk-container-id-10 div.sk-serial::before {content: \"\";position: absolute;border-left: 1px solid gray;box-sizing: border-box;top: 0;bottom: 0;left: 50%;z-index: 0;}#sk-container-id-10 div.sk-serial {display: flex;flex-direction: column;align-items: center;background-color: white;padding-right: 0.2em;padding-left: 0.2em;position: relative;}#sk-container-id-10 div.sk-item {position: relative;z-index: 1;}#sk-container-id-10 div.sk-parallel {display: flex;align-items: stretch;justify-content: center;background-color: white;position: relative;}#sk-container-id-10 div.sk-item::before, #sk-container-id-10 div.sk-parallel-item::before {content: \"\";position: absolute;border-left: 1px solid gray;box-sizing: border-box;top: 0;bottom: 0;left: 50%;z-index: -1;}#sk-container-id-10 div.sk-parallel-item {display: flex;flex-direction: column;z-index: 1;position: relative;background-color: white;}#sk-container-id-10 div.sk-parallel-item:first-child::after {align-self: flex-end;width: 50%;}#sk-container-id-10 div.sk-parallel-item:last-child::after {align-self: flex-start;width: 50%;}#sk-container-id-10 div.sk-parallel-item:only-child::after {width: 0;}#sk-container-id-10 div.sk-dashed-wrapped {border: 1px dashed gray;margin: 0 0.4em 0.5em 0.4em;box-sizing: border-box;padding-bottom: 0.4em;background-color: white;}#sk-container-id-10 div.sk-label label {font-family: monospace;font-weight: bold;display: inline-block;line-height: 1.2em;}#sk-container-id-10 div.sk-label-container {text-align: center;}#sk-container-id-10 div.sk-container {/* jupyter's `normalize.less` sets `[hidden] { display: none; }` but bootstrap.min.css set `[hidden] { display: none !important; }` so we also need the `!important` here to be able to override the default hidden behavior on the sphinx rendered scikit-learn.org. See: https://github.com/scikit-learn/scikit-learn/issues/21755 */display: inline-block !important;position: relative;}#sk-container-id-10 div.sk-text-repr-fallback {display: none;}</style><div id=\"sk-container-id-10\" class=\"sk-top-container\"><div class=\"sk-text-repr-fallback\"><pre>GridSearchCV(cv=5, estimator=SVC(),\n",
       "             param_grid={&#x27;C&#x27;: [0.1, 1, 10], &#x27;gamma&#x27;: [0.1, 1, 10],\n",
       "                         &#x27;kernel&#x27;: [&#x27;linear&#x27;, &#x27;rbf&#x27;]})</pre><b>In a Jupyter environment, please rerun this cell to show the HTML representation or trust the notebook. <br />On GitHub, the HTML representation is unable to render, please try loading this page with nbviewer.org.</b></div><div class=\"sk-container\" hidden><div class=\"sk-item sk-dashed-wrapped\"><div class=\"sk-label-container\"><div class=\"sk-label sk-toggleable\"><input class=\"sk-toggleable__control sk-hidden--visually\" id=\"sk-estimator-id-14\" type=\"checkbox\" ><label for=\"sk-estimator-id-14\" class=\"sk-toggleable__label sk-toggleable__label-arrow\">GridSearchCV</label><div class=\"sk-toggleable__content\"><pre>GridSearchCV(cv=5, estimator=SVC(),\n",
       "             param_grid={&#x27;C&#x27;: [0.1, 1, 10], &#x27;gamma&#x27;: [0.1, 1, 10],\n",
       "                         &#x27;kernel&#x27;: [&#x27;linear&#x27;, &#x27;rbf&#x27;]})</pre></div></div></div><div class=\"sk-parallel\"><div class=\"sk-parallel-item\"><div class=\"sk-item\"><div class=\"sk-label-container\"><div class=\"sk-label sk-toggleable\"><input class=\"sk-toggleable__control sk-hidden--visually\" id=\"sk-estimator-id-15\" type=\"checkbox\" ><label for=\"sk-estimator-id-15\" class=\"sk-toggleable__label sk-toggleable__label-arrow\">estimator: SVC</label><div class=\"sk-toggleable__content\"><pre>SVC()</pre></div></div></div><div class=\"sk-serial\"><div class=\"sk-item\"><div class=\"sk-estimator sk-toggleable\"><input class=\"sk-toggleable__control sk-hidden--visually\" id=\"sk-estimator-id-16\" type=\"checkbox\" ><label for=\"sk-estimator-id-16\" class=\"sk-toggleable__label sk-toggleable__label-arrow\">SVC</label><div class=\"sk-toggleable__content\"><pre>SVC()</pre></div></div></div></div></div></div></div></div></div></div>"
      ],
      "text/plain": [
       "GridSearchCV(cv=5, estimator=SVC(),\n",
       "             param_grid={'C': [0.1, 1, 10], 'gamma': [0.1, 1, 10],\n",
       "                         'kernel': ['linear', 'rbf']})"
      ]
     },
     "execution_count": 35,
     "metadata": {},
     "output_type": "execute_result"
    }
   ],
   "source": [
    "grid_search = GridSearchCV(estimator=SVC(), param_grid=param_grid, cv=5)\n",
    "grid_search.fit(X_train_scaled, y_train)\n"
   ]
  },
  {
   "cell_type": "code",
   "execution_count": 37,
   "id": "b88cea51-7e10-4736-b7c0-427e3b54666d",
   "metadata": {},
   "outputs": [
    {
     "data": {
      "text/html": [
       "<style>#sk-container-id-12 {color: black;background-color: white;}#sk-container-id-12 pre{padding: 0;}#sk-container-id-12 div.sk-toggleable {background-color: white;}#sk-container-id-12 label.sk-toggleable__label {cursor: pointer;display: block;width: 100%;margin-bottom: 0;padding: 0.3em;box-sizing: border-box;text-align: center;}#sk-container-id-12 label.sk-toggleable__label-arrow:before {content: \"▸\";float: left;margin-right: 0.25em;color: #696969;}#sk-container-id-12 label.sk-toggleable__label-arrow:hover:before {color: black;}#sk-container-id-12 div.sk-estimator:hover label.sk-toggleable__label-arrow:before {color: black;}#sk-container-id-12 div.sk-toggleable__content {max-height: 0;max-width: 0;overflow: hidden;text-align: left;background-color: #f0f8ff;}#sk-container-id-12 div.sk-toggleable__content pre {margin: 0.2em;color: black;border-radius: 0.25em;background-color: #f0f8ff;}#sk-container-id-12 input.sk-toggleable__control:checked~div.sk-toggleable__content {max-height: 200px;max-width: 100%;overflow: auto;}#sk-container-id-12 input.sk-toggleable__control:checked~label.sk-toggleable__label-arrow:before {content: \"▾\";}#sk-container-id-12 div.sk-estimator input.sk-toggleable__control:checked~label.sk-toggleable__label {background-color: #d4ebff;}#sk-container-id-12 div.sk-label input.sk-toggleable__control:checked~label.sk-toggleable__label {background-color: #d4ebff;}#sk-container-id-12 input.sk-hidden--visually {border: 0;clip: rect(1px 1px 1px 1px);clip: rect(1px, 1px, 1px, 1px);height: 1px;margin: -1px;overflow: hidden;padding: 0;position: absolute;width: 1px;}#sk-container-id-12 div.sk-estimator {font-family: monospace;background-color: #f0f8ff;border: 1px dotted black;border-radius: 0.25em;box-sizing: border-box;margin-bottom: 0.5em;}#sk-container-id-12 div.sk-estimator:hover {background-color: #d4ebff;}#sk-container-id-12 div.sk-parallel-item::after {content: \"\";width: 100%;border-bottom: 1px solid gray;flex-grow: 1;}#sk-container-id-12 div.sk-label:hover label.sk-toggleable__label {background-color: #d4ebff;}#sk-container-id-12 div.sk-serial::before {content: \"\";position: absolute;border-left: 1px solid gray;box-sizing: border-box;top: 0;bottom: 0;left: 50%;z-index: 0;}#sk-container-id-12 div.sk-serial {display: flex;flex-direction: column;align-items: center;background-color: white;padding-right: 0.2em;padding-left: 0.2em;position: relative;}#sk-container-id-12 div.sk-item {position: relative;z-index: 1;}#sk-container-id-12 div.sk-parallel {display: flex;align-items: stretch;justify-content: center;background-color: white;position: relative;}#sk-container-id-12 div.sk-item::before, #sk-container-id-12 div.sk-parallel-item::before {content: \"\";position: absolute;border-left: 1px solid gray;box-sizing: border-box;top: 0;bottom: 0;left: 50%;z-index: -1;}#sk-container-id-12 div.sk-parallel-item {display: flex;flex-direction: column;z-index: 1;position: relative;background-color: white;}#sk-container-id-12 div.sk-parallel-item:first-child::after {align-self: flex-end;width: 50%;}#sk-container-id-12 div.sk-parallel-item:last-child::after {align-self: flex-start;width: 50%;}#sk-container-id-12 div.sk-parallel-item:only-child::after {width: 0;}#sk-container-id-12 div.sk-dashed-wrapped {border: 1px dashed gray;margin: 0 0.4em 0.5em 0.4em;box-sizing: border-box;padding-bottom: 0.4em;background-color: white;}#sk-container-id-12 div.sk-label label {font-family: monospace;font-weight: bold;display: inline-block;line-height: 1.2em;}#sk-container-id-12 div.sk-label-container {text-align: center;}#sk-container-id-12 div.sk-container {/* jupyter's `normalize.less` sets `[hidden] { display: none; }` but bootstrap.min.css set `[hidden] { display: none !important; }` so we also need the `!important` here to be able to override the default hidden behavior on the sphinx rendered scikit-learn.org. See: https://github.com/scikit-learn/scikit-learn/issues/21755 */display: inline-block !important;position: relative;}#sk-container-id-12 div.sk-text-repr-fallback {display: none;}</style><div id=\"sk-container-id-12\" class=\"sk-top-container\"><div class=\"sk-text-repr-fallback\"><pre>SVC(C=1, gamma=0.1, kernel=&#x27;linear&#x27;)</pre><b>In a Jupyter environment, please rerun this cell to show the HTML representation or trust the notebook. <br />On GitHub, the HTML representation is unable to render, please try loading this page with nbviewer.org.</b></div><div class=\"sk-container\" hidden><div class=\"sk-item\"><div class=\"sk-estimator sk-toggleable\"><input class=\"sk-toggleable__control sk-hidden--visually\" id=\"sk-estimator-id-18\" type=\"checkbox\" checked><label for=\"sk-estimator-id-18\" class=\"sk-toggleable__label sk-toggleable__label-arrow\">SVC</label><div class=\"sk-toggleable__content\"><pre>SVC(C=1, gamma=0.1, kernel=&#x27;linear&#x27;)</pre></div></div></div></div></div>"
      ],
      "text/plain": [
       "SVC(C=1, gamma=0.1, kernel='linear')"
      ]
     },
     "execution_count": 37,
     "metadata": {},
     "output_type": "execute_result"
    }
   ],
   "source": [
    "# Train the tuned classifier on the entire dataset\n",
    "best_svm = grid_search.best_estimator_\n",
    "best_svm.fit(X_train_scaled, y_train)\n"
   ]
  },
  {
   "cell_type": "code",
   "execution_count": null,
   "id": "e9792261-1e8c-4e9a-bcbd-ac2dcfcb88ff",
   "metadata": {},
   "outputs": [],
   "source": []
  },
  {
   "cell_type": "code",
   "execution_count": null,
   "id": "d349552f-46ac-4d8e-95d3-bcf4255b68ee",
   "metadata": {},
   "outputs": [],
   "source": []
  },
  {
   "cell_type": "code",
   "execution_count": 45,
   "id": "9ec608ee-48ac-4ab3-815b-b91f85a79f06",
   "metadata": {},
   "outputs": [
    {
     "name": "stdout",
     "output_type": "stream",
     "text": [
      "Classification Report:\n",
      "               precision    recall  f1-score   support\n",
      "\n",
      "        37.0       0.00      0.00      0.00       1.0\n",
      "        42.0       0.00      0.00      0.00       1.0\n",
      "        48.0       0.00      0.00      0.00       2.0\n",
      "        52.0       0.00      0.00      0.00       2.0\n",
      "        53.0       0.00      0.00      0.00       0.0\n",
      "        55.0       0.00      0.00      0.00       0.0\n",
      "        59.0       0.00      0.00      0.00       0.0\n",
      "        60.0       0.00      0.00      0.00       1.0\n",
      "        61.0       0.00      0.00      0.00       1.0\n",
      "        63.0       0.00      0.00      0.00       2.0\n",
      "        64.0       0.00      0.00      0.00       1.0\n",
      "        65.0       0.00      0.00      0.00       0.0\n",
      "        67.0       0.00      0.00      0.00       1.0\n",
      "        68.0       0.00      0.00      0.00       1.0\n",
      "        69.0       0.00      0.00      0.00       1.0\n",
      "        70.0       0.00      0.00      0.00       1.0\n",
      "        71.0       0.00      0.00      0.00       0.0\n",
      "        72.0       0.00      0.00      0.00       3.0\n",
      "        77.0       0.00      0.00      0.00       1.0\n",
      "        84.0       0.00      0.00      0.00       2.0\n",
      "        85.0       0.00      0.00      0.00       0.0\n",
      "        87.0       0.00      0.00      0.00       1.0\n",
      "        89.0       0.00      0.00      0.00       1.0\n",
      "        90.0       0.00      0.00      0.00       3.0\n",
      "        91.0       0.00      0.00      0.00       1.0\n",
      "        94.0       0.00      0.00      0.00       2.0\n",
      "        95.0       0.00      0.00      0.00       1.0\n",
      "        96.0       0.00      0.00      0.00       2.0\n",
      "        98.0       0.00      0.00      0.00       1.0\n",
      "        99.0       0.00      0.00      0.00       1.0\n",
      "       101.0       0.00      0.00      0.00       1.0\n",
      "       102.0       0.00      0.00      0.00       1.0\n",
      "       107.0       0.00      0.00      0.00       1.0\n",
      "       108.0       0.00      0.00      0.00       1.0\n",
      "       109.0       0.00      0.00      0.00       0.0\n",
      "       110.0       0.00      0.00      0.00       1.0\n",
      "       111.0       0.00      0.00      0.00       1.0\n",
      "       113.0       0.00      0.00      0.00       1.0\n",
      "       118.0       0.00      0.00      0.00       1.0\n",
      "       122.0       0.00      0.00      0.00       1.0\n",
      "       128.0       0.00      0.00      0.00       1.0\n",
      "       129.0       0.00      0.00      0.00       1.0\n",
      "       131.0       0.00      0.00      0.00       0.0\n",
      "       135.0       0.00      0.00      0.00       1.0\n",
      "       136.0       0.00      0.00      0.00       1.0\n",
      "       140.0       0.00      0.00      0.00       2.0\n",
      "       142.0       0.00      0.00      0.00       0.0\n",
      "       144.0       0.00      0.00      0.00       0.0\n",
      "       150.0       0.00      0.00      0.00       0.0\n",
      "       151.0       0.00      0.00      0.00       1.0\n",
      "       153.0       0.00      0.00      0.00       1.0\n",
      "       156.0       0.00      0.00      0.00       1.0\n",
      "       158.0       0.00      0.00      0.00       1.0\n",
      "       164.0       0.00      0.00      0.00       1.0\n",
      "       168.0       0.00      0.00      0.00       2.0\n",
      "       170.0       0.00      0.00      0.00       1.0\n",
      "       171.0       0.00      0.00      0.00       1.0\n",
      "       172.0       0.00      0.00      0.00       1.0\n",
      "       178.0       0.00      0.00      0.00       0.0\n",
      "       180.0       0.00      0.00      0.00       1.0\n",
      "       181.0       0.00      0.00      0.00       1.0\n",
      "       184.0       0.00      0.00      0.00       1.0\n",
      "       186.0       0.00      0.00      0.00       1.0\n",
      "       187.0       0.00      0.00      0.00       1.0\n",
      "       190.0       0.00      0.00      0.00       1.0\n",
      "       200.0       0.00      0.00      0.00       1.0\n",
      "       202.0       0.00      0.00      0.00       2.0\n",
      "       214.0       0.00      0.00      0.00       1.0\n",
      "       219.0       0.00      0.00      0.00       1.0\n",
      "       220.0       0.00      0.00      0.00       1.0\n",
      "       222.0       0.00      0.00      0.00       1.0\n",
      "       230.0       0.00      0.00      0.00       1.0\n",
      "       232.0       0.00      0.00      0.00       1.0\n",
      "       233.0       0.00      0.00      0.00       2.0\n",
      "       237.0       0.00      0.00      0.00       1.0\n",
      "       242.0       0.00      0.00      0.00       1.0\n",
      "       248.0       0.00      0.00      0.00       1.0\n",
      "       252.0       0.00      0.00      0.00       1.0\n",
      "       258.0       0.00      0.00      0.00       1.0\n",
      "       263.0       0.00      0.00      0.00       1.0\n",
      "       264.0       0.00      0.00      0.00       1.0\n",
      "       272.0       0.00      0.00      0.00       1.0\n",
      "       275.0       0.00      0.00      0.00       1.0\n",
      "       281.0       0.00      0.00      0.00       1.0\n",
      "       295.0       0.00      0.00      0.00       1.0\n",
      "       297.0       0.00      0.00      0.00       1.0\n",
      "       310.0       0.00      0.00      0.00       1.0\n",
      "\n",
      "    accuracy                           0.00      89.0\n",
      "   macro avg       0.00      0.00      0.00      89.0\n",
      "weighted avg       0.00      0.00      0.00      89.0\n",
      "\n"
     ]
    }
   ],
   "source": [
    "\n",
    "# Evaluate the performance of the classifier using classification report\n",
    "classification_rep = classification_report(y_test, y_pred)\n",
    "print(\"Classification Report:\\n\", classification_rep)\n"
   ]
  },
  {
   "cell_type": "code",
   "execution_count": null,
   "id": "4cadc1d3-5de7-4d41-9627-79b74ed363a7",
   "metadata": {},
   "outputs": [],
   "source": []
  }
 ],
 "metadata": {
  "kernelspec": {
   "display_name": "Python 3 (ipykernel)",
   "language": "python",
   "name": "python3"
  },
  "language_info": {
   "codemirror_mode": {
    "name": "ipython",
    "version": 3
   },
   "file_extension": ".py",
   "mimetype": "text/x-python",
   "name": "python",
   "nbconvert_exporter": "python",
   "pygments_lexer": "ipython3",
   "version": "3.10.8"
  }
 },
 "nbformat": 4,
 "nbformat_minor": 5
}
