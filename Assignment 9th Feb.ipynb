{
 "cells": [
  {
   "cell_type": "markdown",
   "id": "bb2ef2ae-eac0-4414-b957-63807b07f9b5",
   "metadata": {},
   "source": [
    "# Abstraction and Encapsulation"
   ]
  },
  {
   "cell_type": "markdown",
   "id": "fbd58a0b-65eb-4da3-aa81-2bdd6586701c",
   "metadata": {},
   "source": [
    "\n",
    "# Q1. Create a vehicle class with an init method having instance variables as name_of_vehicle, max_speed and average_of_vehicle."
   ]
  },
  {
   "cell_type": "code",
   "execution_count": 4,
   "id": "d39cb047-3a2a-4cea-a92b-9d6ca598411a",
   "metadata": {},
   "outputs": [],
   "source": [
    "class Vehicle:\n",
    "    def __init__(self, name_of_vehicle, max_speed, average_of_vehicle):\n",
    "        self.name_of_vehicle = name_of_vehicle\n",
    "        self.max_speed = max_speed\n",
    "        self.average_of_vehicle = average_of_vehicle\n",
    "        "
   ]
  },
  {
   "cell_type": "code",
   "execution_count": 5,
   "id": "3d6d1f78-5276-4fa9-9d2a-1718bb562d46",
   "metadata": {},
   "outputs": [
    {
     "name": "stdout",
     "output_type": "stream",
     "text": [
      "Name Of Vehicle : Tesla Model S\n",
      "Max Speed : 250\n",
      "Average Of vehicle : 23.7\n"
     ]
    }
   ],
   "source": [
    "car = Vehicle(\"Tesla Model S\", 250, 23.7)\n",
    "print(f'Name Of Vehicle : {car.name_of_vehicle}')  \n",
    "print(f'Max Speed : {car.max_speed}')     \n",
    "print(f'Average Of vehicle : {car.average_of_vehicle}')"
   ]
  },
  {
   "cell_type": "markdown",
   "id": "9dcec3b8-7803-4107-ab0d-42aa4d30b0da",
   "metadata": {},
   "source": [
    "# Q2.  Create a child class car from the vehicle class created in Que 1, which will inherit the vehicle class.\n",
    "Create a method named seating_capacity which takes capacity as an argument and returns the name of\n",
    "the vehicle and its seating capacity."
   ]
  },
  {
   "cell_type": "code",
   "execution_count": 11,
   "id": "26eb9fee-724f-4134-9724-4bcd0be3e18b",
   "metadata": {},
   "outputs": [],
   "source": [
    "class Car(Vehicle):\n",
    "    \n",
    "    def seating_capacity(self, capacity):\n",
    "        return f\"{self.name_of_vehicle} has a seating capacity of {capacity} people\""
   ]
  },
  {
   "cell_type": "code",
   "execution_count": 12,
   "id": "be24f012-2ddf-4945-afba-02e4a86d8b23",
   "metadata": {},
   "outputs": [
    {
     "name": "stdout",
     "output_type": "stream",
     "text": [
      "Tesla Model S has a seating capacity of 4 people\n"
     ]
    }
   ],
   "source": [
    "car = Car(\"Tesla Model S\", 250, 23.7)\n",
    "print(car.seating_capacity(4))"
   ]
  },
  {
   "cell_type": "markdown",
   "id": "0df51327-c582-4508-875d-a219a85b20bf",
   "metadata": {},
   "source": [
    "# Q3. What is multiple inheritance? Write a python code to demonstrate multiple inheritance"
   ]
  },
  {
   "cell_type": "markdown",
   "id": "f03fbaf8-2e5b-4180-a024-c4e4df939323",
   "metadata": {},
   "source": [
    "--> Multiple inheritance is a feature of object-oriented programming where a class can inherit properties and behaviors from multiple parent classes. In Python, we can achieve multiple inheritance by specifying multiple parent classes in the class definition."
   ]
  },
  {
   "cell_type": "code",
   "execution_count": 13,
   "id": "c4e122af-567e-4658-b4c7-7252511f6366",
   "metadata": {},
   "outputs": [
    {
     "name": "stdout",
     "output_type": "stream",
     "text": [
      "Polly\n",
      "parrot\n",
      "30\n",
      "Tweet! Tweet!\n",
      "This animal can fly.\n"
     ]
    }
   ],
   "source": [
    "# Here as an example\n",
    "class Animal:\n",
    "    def __init__(self, name, species):\n",
    "        self.name = name\n",
    "        self.species = species\n",
    "\n",
    "    def make_sound(self):\n",
    "        print(\"This animal makes a sound.\")\n",
    "\n",
    "class Flyable:\n",
    "    def fly(self):\n",
    "        print(\"This animal can fly.\")\n",
    "\n",
    "class Bird(Animal, Flyable):\n",
    "    def __init__(self, name, species, wingspan):\n",
    "        Animal.__init__(self, name, species)\n",
    "        self.wingspan = wingspan\n",
    "\n",
    "    def make_sound(self):\n",
    "        print(\"Tweet! Tweet!\")\n",
    "\n",
    "bird = Bird(\"Polly\", \"parrot\", 30)\n",
    "print(bird.name) \n",
    "print(bird.species)  \n",
    "print(bird.wingspan)  \n",
    "bird.make_sound()  \n",
    "bird.fly()  "
   ]
  },
  {
   "cell_type": "markdown",
   "id": "23517fc0-cd80-4fa3-85da-453aa66da4a8",
   "metadata": {},
   "source": [
    "In this example, we have two base classes Animal and Flyable, and a derived class Bird that inherits from both of them using multiple inheritance. The Bird class has access to the properties and methods of both parent classes, including make_sound from Animal and fly from Flyable."
   ]
  },
  {
   "cell_type": "markdown",
   "id": "629a8f35-cb2d-42b3-bbad-b7328a56f99a",
   "metadata": {},
   "source": [
    "# Q4. What are getter and setter in python? Create a class and create a getter and a setter method in this class."
   ]
  },
  {
   "cell_type": "markdown",
   "id": "2a438343-9e0d-4adc-9c7b-70e8038fecdc",
   "metadata": {},
   "source": [
    "Getter and setter methods are used in object-oriented programming to provide controlled access to class attributes or properties.\n",
    "\n",
    "\n",
    "A getter is a method used to get the value of an attribute.\n",
    "\n",
    "A setter is a method used to set the value of an attribute."
   ]
  },
  {
   "cell_type": "code",
   "execution_count": 18,
   "id": "4783c5b3-8a81-4b6c-8856-8346918b054c",
   "metadata": {},
   "outputs": [],
   "source": [
    "class Person:\n",
    "    def __init__(self, name, age):\n",
    "        self._name = name  \n",
    "        self._age = age    \n",
    "    \n",
    "    def get_name(self):\n",
    "        return self._name\n",
    "    \n",
    "    def set_name(self, name):\n",
    "        self._name = name\n",
    "    \n",
    "    def get_age(self):\n",
    "        return self._age\n",
    "    \n",
    "    def set_age(self, age):\n",
    "        if age > 0:\n",
    "            self._age = age\n",
    "        else:\n",
    "            print(\"Age should be a positive integer.\")\n"
   ]
  },
  {
   "cell_type": "markdown",
   "id": "2656b423-0ee1-4be8-bd9d-406bbc9e71b2",
   "metadata": {},
   "source": [
    "In this example, the Person class has private attributes _name and _age. We can use the getter and setter methods to access or modify these attributes, while still maintaining the principle of encapsulation by preventing direct access to the attributes from outside the class."
   ]
  },
  {
   "cell_type": "code",
   "execution_count": 20,
   "id": "cb06ada5-71fe-4349-aeee-620e2a23ceb6",
   "metadata": {},
   "outputs": [
    {
     "name": "stdout",
     "output_type": "stream",
     "text": [
      "John\n",
      "Jane\n",
      "30\n",
      "5\n",
      "40\n"
     ]
    }
   ],
   "source": [
    "person = Person(\"John\", 30)\n",
    "print(person.get_name())  \n",
    "person.set_name(\"Jane\")\n",
    "print(person.get_name())  \n",
    "print(person.get_age())   \n",
    "person.set_age(5) \n",
    "print(person.get_age())\n",
    "person.set_age(40)\n",
    "print(person.get_age())   \n"
   ]
  },
  {
   "cell_type": "markdown",
   "id": "188745b8-29f8-40b3-ad45-c31d01f96984",
   "metadata": {},
   "source": [
    "In this example, we created a Person object with name \"John\" and age 30. We then used the set_name method to change the name to \"Jane\", and the set_age method to change the age to 40. Finally, we used the get_name and get_age methods to retrieve the name and age values.\n",
    "\n",
    "\n",
    "\n",
    "\n"
   ]
  },
  {
   "cell_type": "markdown",
   "id": "245da083-2673-40e0-b9dc-37d2c26c16f0",
   "metadata": {},
   "source": [
    "# Q5. What is method overriding in python? Write a python code to demonstrate method overriding."
   ]
  },
  {
   "cell_type": "markdown",
   "id": "78096b36-b9b9-43c1-aaa1-5c5f4556a09a",
   "metadata": {},
   "source": [
    "Method overriding is a feature of object-oriented programming where a subclass can provide its own implementation of a method that is already defined in its parent class. This allows the subclass to customize the behavior of the inherited method to suit its specific needs."
   ]
  },
  {
   "cell_type": "code",
   "execution_count": 21,
   "id": "5c8cbd17-cf32-4a75-bc1c-81ca57df5690",
   "metadata": {},
   "outputs": [
    {
     "name": "stdout",
     "output_type": "stream",
     "text": [
      "This animal makes a sound.\n",
      "Woof! Woof!\n",
      "Meow! Meow!\n"
     ]
    }
   ],
   "source": [
    "class Animal:\n",
    "    def make_sound(self):\n",
    "        print(\"This animal makes a sound.\")\n",
    "\n",
    "class Dog(Animal):\n",
    "    def make_sound(self):\n",
    "        print(\"Woof! Woof!\")\n",
    "\n",
    "class Cat(Animal):\n",
    "    def make_sound(self):\n",
    "        print(\"Meow! Meow!\")\n",
    "\n",
    "animal = Animal()\n",
    "animal.make_sound()  \n",
    "dog = Dog()\n",
    "dog.make_sound()  \n",
    "cat = Cat()\n",
    "cat.make_sound()  \n"
   ]
  },
  {
   "cell_type": "markdown",
   "id": "056c0c47-6605-44b7-8a22-ab8d185242ec",
   "metadata": {},
   "source": [
    "In this example, we have a base class Animal and two derived classes Dog and Cat. Both Dog and Cat inherit the make_sound method from the Animal class, but they provide their own implementation of the method by overriding it. When we create instances of the Dog and Cat classes and call their make_sound methods, we get different output based on the implementation of the method in each class.\n",
    "\n",
    "Note that when a subclass overrides a method of its parent class, it provides its own implementation of the method, which replaces the implementation inherited from the parent. In other words, the subclass can completely change the behavior of the method to suit its specific needs."
   ]
  },
  {
   "cell_type": "code",
   "execution_count": null,
   "id": "707e9cce-96f2-419c-86d0-bd1a947c1dbf",
   "metadata": {},
   "outputs": [],
   "source": []
  }
 ],
 "metadata": {
  "kernelspec": {
   "display_name": "Python 3 (ipykernel)",
   "language": "python",
   "name": "python3"
  },
  "language_info": {
   "codemirror_mode": {
    "name": "ipython",
    "version": 3
   },
   "file_extension": ".py",
   "mimetype": "text/x-python",
   "name": "python",
   "nbconvert_exporter": "python",
   "pygments_lexer": "ipython3",
   "version": "3.10.8"
  }
 },
 "nbformat": 4,
 "nbformat_minor": 5
}
