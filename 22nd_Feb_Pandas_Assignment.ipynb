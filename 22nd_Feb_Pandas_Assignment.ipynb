{
  "nbformat": 4,
  "nbformat_minor": 0,
  "metadata": {
    "colab": {
      "provenance": [],
      "authorship_tag": "ABX9TyNnM5huEb2OAgXkPue/cHn+",
      "include_colab_link": true
    },
    "kernelspec": {
      "name": "python3",
      "display_name": "Python 3"
    },
    "language_info": {
      "name": "python"
    }
  },
  "cells": [
    {
      "cell_type": "markdown",
      "metadata": {
        "id": "view-in-github",
        "colab_type": "text"
      },
      "source": [
        "<a href=\"https://colab.research.google.com/github/VickyKandale/Assignment_pyhton.pwskills/blob/main/22nd_Feb_Pandas_Assignment.ipynb\" target=\"_parent\"><img src=\"https://colab.research.google.com/assets/colab-badge.svg\" alt=\"Open In Colab\"/></a>"
      ]
    },
    {
      "cell_type": "code",
      "source": [
        "import pandas as pd"
      ],
      "metadata": {
        "id": "X1Br-Sct12GV"
      },
      "execution_count": 1,
      "outputs": []
    },
    {
      "cell_type": "markdown",
      "source": [
        "##Q1. Create a Pandas Series that contains the following data: 4, 8, 15, 16, 23, and 42. Then, print the series."
      ],
      "metadata": {
        "id": "GRovcjt_1sX4"
      }
    },
    {
      "cell_type": "code",
      "execution_count": 4,
      "metadata": {
        "id": "GSK7TPTC1V9G"
      },
      "outputs": [],
      "source": [
        "Series =pd.Series([4,8,15,16,23,42])"
      ]
    },
    {
      "cell_type": "code",
      "source": [
        "Series"
      ],
      "metadata": {
        "colab": {
          "base_uri": "https://localhost:8080/"
        },
        "id": "t4ngbMaq2E5N",
        "outputId": "c3965aab-0c6f-456e-df59-54faa77a2db2"
      },
      "execution_count": 5,
      "outputs": [
        {
          "output_type": "execute_result",
          "data": {
            "text/plain": [
              "0     4\n",
              "1     8\n",
              "2    15\n",
              "3    16\n",
              "4    23\n",
              "5    42\n",
              "dtype: int64"
            ]
          },
          "metadata": {},
          "execution_count": 5
        }
      ]
    },
    {
      "cell_type": "markdown",
      "source": [
        "##Q2. Create a variable of list type containing 10 elements in it, and apply pandas.Series function on the variable print it."
      ],
      "metadata": {
        "id": "Wd9FzsZM2W3Z"
      }
    },
    {
      "cell_type": "code",
      "source": [
        "list1=['Amol','Pravin','Sagar','Raju','Sanju','Zad','Sappi','Lony','Hohu','Komi']"
      ],
      "metadata": {
        "id": "pDA3kJjT2KM0"
      },
      "execution_count": 6,
      "outputs": []
    },
    {
      "cell_type": "code",
      "source": [
        "Dseries=pd.Series(list1)"
      ],
      "metadata": {
        "id": "LBdwWguv24Pf"
      },
      "execution_count": 10,
      "outputs": []
    },
    {
      "cell_type": "code",
      "source": [
        "Dseries"
      ],
      "metadata": {
        "colab": {
          "base_uri": "https://localhost:8080/"
        },
        "id": "NVklKJBj26FW",
        "outputId": "2617987b-6ba9-4ffb-c614-00b0495f8aa8"
      },
      "execution_count": 11,
      "outputs": [
        {
          "output_type": "execute_result",
          "data": {
            "text/plain": [
              "0      Amol\n",
              "1    Pravin\n",
              "2     Sagar\n",
              "3      Raju\n",
              "4     Sanju\n",
              "5       Zad\n",
              "6     Sappi\n",
              "7      Lony\n",
              "8      Hohu\n",
              "9      Komi\n",
              "dtype: object"
            ]
          },
          "metadata": {},
          "execution_count": 11
        }
      ]
    },
    {
      "cell_type": "markdown",
      "source": [
        "## Q3. Create a Pandas DataFrame that contains the following data:"
      ],
      "metadata": {
        "id": "FqMeEF413Pb9"
      }
    },
    {
      "cell_type": "markdown",
      "source": [
        "![Pandas.PNG](data:image/png;base64,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)"
      ],
      "metadata": {
        "id": "AAkAmimX3Wu9"
      }
    },
    {
      "cell_type": "code",
      "source": [
        "data={\n",
        "    \"Name\":['Alice','Bob','Claire'],\n",
        "    'Age':[25,30,27],\n",
        "    'Gender':['Female','Male','Female']\n",
        "\n",
        "}\n",
        "\n",
        "Dataframe=pd.DataFrame(data)"
      ],
      "metadata": {
        "id": "U_qYbitx3WV8"
      },
      "execution_count": 18,
      "outputs": []
    },
    {
      "cell_type": "code",
      "source": [
        "Dataframe"
      ],
      "metadata": {
        "colab": {
          "base_uri": "https://localhost:8080/",
          "height": 143
        },
        "id": "ceElK_wp3DaC",
        "outputId": "bf241526-99c7-458a-b12a-437053d73fdd"
      },
      "execution_count": 16,
      "outputs": [
        {
          "output_type": "execute_result",
          "data": {
            "text/plain": [
              "     Name  Age  Gender\n",
              "0   Alice   25  Female\n",
              "1     Bob   30    Male\n",
              "2  Claire   27  Female"
            ],
            "text/html": [
              "\n",
              "  <div id=\"df-6c616688-a769-4a61-be93-55148f0b65e1\">\n",
              "    <div class=\"colab-df-container\">\n",
              "      <div>\n",
              "<style scoped>\n",
              "    .dataframe tbody tr th:only-of-type {\n",
              "        vertical-align: middle;\n",
              "    }\n",
              "\n",
              "    .dataframe tbody tr th {\n",
              "        vertical-align: top;\n",
              "    }\n",
              "\n",
              "    .dataframe thead th {\n",
              "        text-align: right;\n",
              "    }\n",
              "</style>\n",
              "<table border=\"1\" class=\"dataframe\">\n",
              "  <thead>\n",
              "    <tr style=\"text-align: right;\">\n",
              "      <th></th>\n",
              "      <th>Name</th>\n",
              "      <th>Age</th>\n",
              "      <th>Gender</th>\n",
              "    </tr>\n",
              "  </thead>\n",
              "  <tbody>\n",
              "    <tr>\n",
              "      <th>0</th>\n",
              "      <td>Alice</td>\n",
              "      <td>25</td>\n",
              "      <td>Female</td>\n",
              "    </tr>\n",
              "    <tr>\n",
              "      <th>1</th>\n",
              "      <td>Bob</td>\n",
              "      <td>30</td>\n",
              "      <td>Male</td>\n",
              "    </tr>\n",
              "    <tr>\n",
              "      <th>2</th>\n",
              "      <td>Claire</td>\n",
              "      <td>27</td>\n",
              "      <td>Female</td>\n",
              "    </tr>\n",
              "  </tbody>\n",
              "</table>\n",
              "</div>\n",
              "      <button class=\"colab-df-convert\" onclick=\"convertToInteractive('df-6c616688-a769-4a61-be93-55148f0b65e1')\"\n",
              "              title=\"Convert this dataframe to an interactive table.\"\n",
              "              style=\"display:none;\">\n",
              "        \n",
              "  <svg xmlns=\"http://www.w3.org/2000/svg\" height=\"24px\"viewBox=\"0 0 24 24\"\n",
              "       width=\"24px\">\n",
              "    <path d=\"M0 0h24v24H0V0z\" fill=\"none\"/>\n",
              "    <path d=\"M18.56 5.44l.94 2.06.94-2.06 2.06-.94-2.06-.94-.94-2.06-.94 2.06-2.06.94zm-11 1L8.5 8.5l.94-2.06 2.06-.94-2.06-.94L8.5 2.5l-.94 2.06-2.06.94zm10 10l.94 2.06.94-2.06 2.06-.94-2.06-.94-.94-2.06-.94 2.06-2.06.94z\"/><path d=\"M17.41 7.96l-1.37-1.37c-.4-.4-.92-.59-1.43-.59-.52 0-1.04.2-1.43.59L10.3 9.45l-7.72 7.72c-.78.78-.78 2.05 0 2.83L4 21.41c.39.39.9.59 1.41.59.51 0 1.02-.2 1.41-.59l7.78-7.78 2.81-2.81c.8-.78.8-2.07 0-2.86zM5.41 20L4 18.59l7.72-7.72 1.47 1.35L5.41 20z\"/>\n",
              "  </svg>\n",
              "      </button>\n",
              "      \n",
              "  <style>\n",
              "    .colab-df-container {\n",
              "      display:flex;\n",
              "      flex-wrap:wrap;\n",
              "      gap: 12px;\n",
              "    }\n",
              "\n",
              "    .colab-df-convert {\n",
              "      background-color: #E8F0FE;\n",
              "      border: none;\n",
              "      border-radius: 50%;\n",
              "      cursor: pointer;\n",
              "      display: none;\n",
              "      fill: #1967D2;\n",
              "      height: 32px;\n",
              "      padding: 0 0 0 0;\n",
              "      width: 32px;\n",
              "    }\n",
              "\n",
              "    .colab-df-convert:hover {\n",
              "      background-color: #E2EBFA;\n",
              "      box-shadow: 0px 1px 2px rgba(60, 64, 67, 0.3), 0px 1px 3px 1px rgba(60, 64, 67, 0.15);\n",
              "      fill: #174EA6;\n",
              "    }\n",
              "\n",
              "    [theme=dark] .colab-df-convert {\n",
              "      background-color: #3B4455;\n",
              "      fill: #D2E3FC;\n",
              "    }\n",
              "\n",
              "    [theme=dark] .colab-df-convert:hover {\n",
              "      background-color: #434B5C;\n",
              "      box-shadow: 0px 1px 3px 1px rgba(0, 0, 0, 0.15);\n",
              "      filter: drop-shadow(0px 1px 2px rgba(0, 0, 0, 0.3));\n",
              "      fill: #FFFFFF;\n",
              "    }\n",
              "  </style>\n",
              "\n",
              "      <script>\n",
              "        const buttonEl =\n",
              "          document.querySelector('#df-6c616688-a769-4a61-be93-55148f0b65e1 button.colab-df-convert');\n",
              "        buttonEl.style.display =\n",
              "          google.colab.kernel.accessAllowed ? 'block' : 'none';\n",
              "\n",
              "        async function convertToInteractive(key) {\n",
              "          const element = document.querySelector('#df-6c616688-a769-4a61-be93-55148f0b65e1');\n",
              "          const dataTable =\n",
              "            await google.colab.kernel.invokeFunction('convertToInteractive',\n",
              "                                                     [key], {});\n",
              "          if (!dataTable) return;\n",
              "\n",
              "          const docLinkHtml = 'Like what you see? Visit the ' +\n",
              "            '<a target=\"_blank\" href=https://colab.research.google.com/notebooks/data_table.ipynb>data table notebook</a>'\n",
              "            + ' to learn more about interactive tables.';\n",
              "          element.innerHTML = '';\n",
              "          dataTable['output_type'] = 'display_data';\n",
              "          await google.colab.output.renderOutput(dataTable, element);\n",
              "          const docLink = document.createElement('div');\n",
              "          docLink.innerHTML = docLinkHtml;\n",
              "          element.appendChild(docLink);\n",
              "        }\n",
              "      </script>\n",
              "    </div>\n",
              "  </div>\n",
              "  "
            ]
          },
          "metadata": {},
          "execution_count": 16
        }
      ]
    },
    {
      "cell_type": "markdown",
      "source": [
        "##Q4. What is ‘DataFrame’ in pandas and how is it different from pandas.series? Explain with an example."
      ],
      "metadata": {
        "id": "cX_ioPac5XMs"
      }
    },
    {
      "cell_type": "markdown",
      "source": [
        " \t\n",
        "\n",
        "DataFrame is a 2-dimensional labeled data structure with columns of potentially different types. You can think of it like a spreadsheet or SQL table, or a dict of Series objects. It is generally the most commonly used pandas object.\n",
        "\n",
        "> Pandas Series\n",
        "\n",
        "\n",
        "\n",
        "1.  One-dimensional\n",
        "2.  Homogenous – Series elements must be of the same data type\n",
        "3.  Size-immutable – Once created, the size of a Series object cannot be changed.\n",
        "\n",
        "\n",
        "\n",
        "\n",
        "> Pandas DataFrame\n",
        "\n",
        "\n",
        "\n",
        "1. \tTwo-dimensional\n",
        "2.  Heterogenous – DataFrame elements can have different data types.\n",
        "3.  Size-mutable – Elements can be dropped or added in an existing DataFrame.\n",
        "\n",
        "\n",
        "\n"
      ],
      "metadata": {
        "id": "-2TWJ5auFDq2"
      }
    },
    {
      "cell_type": "code",
      "source": [
        "# Pandas series look like a one dimensional \n",
        "list1=['Amol','Pravin','Sagar','Raju','Sanju','Zad','Sappi','Lony','Hohu','Komi']\n",
        "Dseries=pd.Series(list1)\n",
        "Dseries"
      ],
      "metadata": {
        "colab": {
          "base_uri": "https://localhost:8080/"
        },
        "id": "Z_j5NiJeJUiq",
        "outputId": "911b822e-23ee-4b2c-be03-8d208df2548a"
      },
      "execution_count": 34,
      "outputs": [
        {
          "output_type": "execute_result",
          "data": {
            "text/plain": [
              "0      Amol\n",
              "1    Pravin\n",
              "2     Sagar\n",
              "3      Raju\n",
              "4     Sanju\n",
              "5       Zad\n",
              "6     Sappi\n",
              "7      Lony\n",
              "8      Hohu\n",
              "9      Komi\n",
              "dtype: object"
            ]
          },
          "metadata": {},
          "execution_count": 34
        }
      ]
    },
    {
      "cell_type": "code",
      "source": [
        "Dataframe1=pd.DataFrame(list1)\n",
        "Dataframe1"
      ],
      "metadata": {
        "colab": {
          "base_uri": "https://localhost:8080/",
          "height": 363
        },
        "id": "YXSr-xsJFC8u",
        "outputId": "9a03fc35-7ca4-46cb-cf56-20dedf1cbbb3"
      },
      "execution_count": 37,
      "outputs": [
        {
          "output_type": "execute_result",
          "data": {
            "text/plain": [
              "        0\n",
              "0    Amol\n",
              "1  Pravin\n",
              "2   Sagar\n",
              "3    Raju\n",
              "4   Sanju\n",
              "5     Zad\n",
              "6   Sappi\n",
              "7    Lony\n",
              "8    Hohu\n",
              "9    Komi"
            ],
            "text/html": [
              "\n",
              "  <div id=\"df-c4cf1861-e28e-4705-8ab5-fecb70a9544c\">\n",
              "    <div class=\"colab-df-container\">\n",
              "      <div>\n",
              "<style scoped>\n",
              "    .dataframe tbody tr th:only-of-type {\n",
              "        vertical-align: middle;\n",
              "    }\n",
              "\n",
              "    .dataframe tbody tr th {\n",
              "        vertical-align: top;\n",
              "    }\n",
              "\n",
              "    .dataframe thead th {\n",
              "        text-align: right;\n",
              "    }\n",
              "</style>\n",
              "<table border=\"1\" class=\"dataframe\">\n",
              "  <thead>\n",
              "    <tr style=\"text-align: right;\">\n",
              "      <th></th>\n",
              "      <th>0</th>\n",
              "    </tr>\n",
              "  </thead>\n",
              "  <tbody>\n",
              "    <tr>\n",
              "      <th>0</th>\n",
              "      <td>Amol</td>\n",
              "    </tr>\n",
              "    <tr>\n",
              "      <th>1</th>\n",
              "      <td>Pravin</td>\n",
              "    </tr>\n",
              "    <tr>\n",
              "      <th>2</th>\n",
              "      <td>Sagar</td>\n",
              "    </tr>\n",
              "    <tr>\n",
              "      <th>3</th>\n",
              "      <td>Raju</td>\n",
              "    </tr>\n",
              "    <tr>\n",
              "      <th>4</th>\n",
              "      <td>Sanju</td>\n",
              "    </tr>\n",
              "    <tr>\n",
              "      <th>5</th>\n",
              "      <td>Zad</td>\n",
              "    </tr>\n",
              "    <tr>\n",
              "      <th>6</th>\n",
              "      <td>Sappi</td>\n",
              "    </tr>\n",
              "    <tr>\n",
              "      <th>7</th>\n",
              "      <td>Lony</td>\n",
              "    </tr>\n",
              "    <tr>\n",
              "      <th>8</th>\n",
              "      <td>Hohu</td>\n",
              "    </tr>\n",
              "    <tr>\n",
              "      <th>9</th>\n",
              "      <td>Komi</td>\n",
              "    </tr>\n",
              "  </tbody>\n",
              "</table>\n",
              "</div>\n",
              "      <button class=\"colab-df-convert\" onclick=\"convertToInteractive('df-c4cf1861-e28e-4705-8ab5-fecb70a9544c')\"\n",
              "              title=\"Convert this dataframe to an interactive table.\"\n",
              "              style=\"display:none;\">\n",
              "        \n",
              "  <svg xmlns=\"http://www.w3.org/2000/svg\" height=\"24px\"viewBox=\"0 0 24 24\"\n",
              "       width=\"24px\">\n",
              "    <path d=\"M0 0h24v24H0V0z\" fill=\"none\"/>\n",
              "    <path d=\"M18.56 5.44l.94 2.06.94-2.06 2.06-.94-2.06-.94-.94-2.06-.94 2.06-2.06.94zm-11 1L8.5 8.5l.94-2.06 2.06-.94-2.06-.94L8.5 2.5l-.94 2.06-2.06.94zm10 10l.94 2.06.94-2.06 2.06-.94-2.06-.94-.94-2.06-.94 2.06-2.06.94z\"/><path d=\"M17.41 7.96l-1.37-1.37c-.4-.4-.92-.59-1.43-.59-.52 0-1.04.2-1.43.59L10.3 9.45l-7.72 7.72c-.78.78-.78 2.05 0 2.83L4 21.41c.39.39.9.59 1.41.59.51 0 1.02-.2 1.41-.59l7.78-7.78 2.81-2.81c.8-.78.8-2.07 0-2.86zM5.41 20L4 18.59l7.72-7.72 1.47 1.35L5.41 20z\"/>\n",
              "  </svg>\n",
              "      </button>\n",
              "      \n",
              "  <style>\n",
              "    .colab-df-container {\n",
              "      display:flex;\n",
              "      flex-wrap:wrap;\n",
              "      gap: 12px;\n",
              "    }\n",
              "\n",
              "    .colab-df-convert {\n",
              "      background-color: #E8F0FE;\n",
              "      border: none;\n",
              "      border-radius: 50%;\n",
              "      cursor: pointer;\n",
              "      display: none;\n",
              "      fill: #1967D2;\n",
              "      height: 32px;\n",
              "      padding: 0 0 0 0;\n",
              "      width: 32px;\n",
              "    }\n",
              "\n",
              "    .colab-df-convert:hover {\n",
              "      background-color: #E2EBFA;\n",
              "      box-shadow: 0px 1px 2px rgba(60, 64, 67, 0.3), 0px 1px 3px 1px rgba(60, 64, 67, 0.15);\n",
              "      fill: #174EA6;\n",
              "    }\n",
              "\n",
              "    [theme=dark] .colab-df-convert {\n",
              "      background-color: #3B4455;\n",
              "      fill: #D2E3FC;\n",
              "    }\n",
              "\n",
              "    [theme=dark] .colab-df-convert:hover {\n",
              "      background-color: #434B5C;\n",
              "      box-shadow: 0px 1px 3px 1px rgba(0, 0, 0, 0.15);\n",
              "      filter: drop-shadow(0px 1px 2px rgba(0, 0, 0, 0.3));\n",
              "      fill: #FFFFFF;\n",
              "    }\n",
              "  </style>\n",
              "\n",
              "      <script>\n",
              "        const buttonEl =\n",
              "          document.querySelector('#df-c4cf1861-e28e-4705-8ab5-fecb70a9544c button.colab-df-convert');\n",
              "        buttonEl.style.display =\n",
              "          google.colab.kernel.accessAllowed ? 'block' : 'none';\n",
              "\n",
              "        async function convertToInteractive(key) {\n",
              "          const element = document.querySelector('#df-c4cf1861-e28e-4705-8ab5-fecb70a9544c');\n",
              "          const dataTable =\n",
              "            await google.colab.kernel.invokeFunction('convertToInteractive',\n",
              "                                                     [key], {});\n",
              "          if (!dataTable) return;\n",
              "\n",
              "          const docLinkHtml = 'Like what you see? Visit the ' +\n",
              "            '<a target=\"_blank\" href=https://colab.research.google.com/notebooks/data_table.ipynb>data table notebook</a>'\n",
              "            + ' to learn more about interactive tables.';\n",
              "          element.innerHTML = '';\n",
              "          dataTable['output_type'] = 'display_data';\n",
              "          await google.colab.output.renderOutput(dataTable, element);\n",
              "          const docLink = document.createElement('div');\n",
              "          docLink.innerHTML = docLinkHtml;\n",
              "          element.appendChild(docLink);\n",
              "        }\n",
              "      </script>\n",
              "    </div>\n",
              "  </div>\n",
              "  "
            ]
          },
          "metadata": {},
          "execution_count": 37
        }
      ]
    },
    {
      "cell_type": "markdown",
      "source": [
        "##Q5. What are some common functions you can use to manipulate data in a Pandas DataFrame? Can you give an example of when you might use one of these functions?"
      ],
      "metadata": {
        "id": "Zn2Efrwz5c8z"
      }
    },
    {
      "cell_type": "markdown",
      "source": [
        "##Q6. Which of the following is mutable in nature Series, DataFrame, Panel?"
      ],
      "metadata": {
        "id": "4vo3sKfH5nEN"
      }
    },
    {
      "cell_type": "markdown",
      "source": [
        "Ans-- \n",
        "> All Pandas data structures are value mutable (can be changed) and except 'Series' all are size mutable.\n",
        "\n",
        "\n",
        "> DataFrame & Panel are mutable in nature.\n",
        "\n",
        "\n",
        "\n",
        "\n",
        "\n",
        "\n",
        "\n"
      ],
      "metadata": {
        "id": "GUg_jm-o8yMC"
      }
    },
    {
      "cell_type": "markdown",
      "source": [
        "##Q7. Create a DataFrame using multiple Series. Explain with an example."
      ],
      "metadata": {
        "id": "BZBQ00i-5qpj"
      }
    },
    {
      "cell_type": "code",
      "source": [
        "Name=['Alice','Bob','Claire']\n",
        "Age=[25,30,27]\n",
        "Gender=['Female','Male','Female']\n",
        "Name=pd.Series(Name)\n",
        "Age=pd.Series(Age)\n",
        "Gender=pd.Series(Gender)"
      ],
      "metadata": {
        "id": "ryTQwe2Q5WpE"
      },
      "execution_count": 31,
      "outputs": []
    },
    {
      "cell_type": "code",
      "source": [
        "Dataframe= pd.DataFrame([Name,Age,Gender])"
      ],
      "metadata": {
        "id": "y0zTCLJK4aeO"
      },
      "execution_count": 32,
      "outputs": []
    },
    {
      "cell_type": "code",
      "source": [
        "Dataframe"
      ],
      "metadata": {
        "colab": {
          "base_uri": "https://localhost:8080/",
          "height": 143
        },
        "id": "CATO-Ree7SS7",
        "outputId": "8904ae09-0cd3-492a-d336-a0d587ab8a51"
      },
      "execution_count": 33,
      "outputs": [
        {
          "output_type": "execute_result",
          "data": {
            "text/plain": [
              "        0     1       2\n",
              "0   Alice   Bob  Claire\n",
              "1      25    30      27\n",
              "2  Female  Male  Female"
            ],
            "text/html": [
              "\n",
              "  <div id=\"df-726abbfd-9e66-434b-9eb7-9c222bd754dd\">\n",
              "    <div class=\"colab-df-container\">\n",
              "      <div>\n",
              "<style scoped>\n",
              "    .dataframe tbody tr th:only-of-type {\n",
              "        vertical-align: middle;\n",
              "    }\n",
              "\n",
              "    .dataframe tbody tr th {\n",
              "        vertical-align: top;\n",
              "    }\n",
              "\n",
              "    .dataframe thead th {\n",
              "        text-align: right;\n",
              "    }\n",
              "</style>\n",
              "<table border=\"1\" class=\"dataframe\">\n",
              "  <thead>\n",
              "    <tr style=\"text-align: right;\">\n",
              "      <th></th>\n",
              "      <th>0</th>\n",
              "      <th>1</th>\n",
              "      <th>2</th>\n",
              "    </tr>\n",
              "  </thead>\n",
              "  <tbody>\n",
              "    <tr>\n",
              "      <th>0</th>\n",
              "      <td>Alice</td>\n",
              "      <td>Bob</td>\n",
              "      <td>Claire</td>\n",
              "    </tr>\n",
              "    <tr>\n",
              "      <th>1</th>\n",
              "      <td>25</td>\n",
              "      <td>30</td>\n",
              "      <td>27</td>\n",
              "    </tr>\n",
              "    <tr>\n",
              "      <th>2</th>\n",
              "      <td>Female</td>\n",
              "      <td>Male</td>\n",
              "      <td>Female</td>\n",
              "    </tr>\n",
              "  </tbody>\n",
              "</table>\n",
              "</div>\n",
              "      <button class=\"colab-df-convert\" onclick=\"convertToInteractive('df-726abbfd-9e66-434b-9eb7-9c222bd754dd')\"\n",
              "              title=\"Convert this dataframe to an interactive table.\"\n",
              "              style=\"display:none;\">\n",
              "        \n",
              "  <svg xmlns=\"http://www.w3.org/2000/svg\" height=\"24px\"viewBox=\"0 0 24 24\"\n",
              "       width=\"24px\">\n",
              "    <path d=\"M0 0h24v24H0V0z\" fill=\"none\"/>\n",
              "    <path d=\"M18.56 5.44l.94 2.06.94-2.06 2.06-.94-2.06-.94-.94-2.06-.94 2.06-2.06.94zm-11 1L8.5 8.5l.94-2.06 2.06-.94-2.06-.94L8.5 2.5l-.94 2.06-2.06.94zm10 10l.94 2.06.94-2.06 2.06-.94-2.06-.94-.94-2.06-.94 2.06-2.06.94z\"/><path d=\"M17.41 7.96l-1.37-1.37c-.4-.4-.92-.59-1.43-.59-.52 0-1.04.2-1.43.59L10.3 9.45l-7.72 7.72c-.78.78-.78 2.05 0 2.83L4 21.41c.39.39.9.59 1.41.59.51 0 1.02-.2 1.41-.59l7.78-7.78 2.81-2.81c.8-.78.8-2.07 0-2.86zM5.41 20L4 18.59l7.72-7.72 1.47 1.35L5.41 20z\"/>\n",
              "  </svg>\n",
              "      </button>\n",
              "      \n",
              "  <style>\n",
              "    .colab-df-container {\n",
              "      display:flex;\n",
              "      flex-wrap:wrap;\n",
              "      gap: 12px;\n",
              "    }\n",
              "\n",
              "    .colab-df-convert {\n",
              "      background-color: #E8F0FE;\n",
              "      border: none;\n",
              "      border-radius: 50%;\n",
              "      cursor: pointer;\n",
              "      display: none;\n",
              "      fill: #1967D2;\n",
              "      height: 32px;\n",
              "      padding: 0 0 0 0;\n",
              "      width: 32px;\n",
              "    }\n",
              "\n",
              "    .colab-df-convert:hover {\n",
              "      background-color: #E2EBFA;\n",
              "      box-shadow: 0px 1px 2px rgba(60, 64, 67, 0.3), 0px 1px 3px 1px rgba(60, 64, 67, 0.15);\n",
              "      fill: #174EA6;\n",
              "    }\n",
              "\n",
              "    [theme=dark] .colab-df-convert {\n",
              "      background-color: #3B4455;\n",
              "      fill: #D2E3FC;\n",
              "    }\n",
              "\n",
              "    [theme=dark] .colab-df-convert:hover {\n",
              "      background-color: #434B5C;\n",
              "      box-shadow: 0px 1px 3px 1px rgba(0, 0, 0, 0.15);\n",
              "      filter: drop-shadow(0px 1px 2px rgba(0, 0, 0, 0.3));\n",
              "      fill: #FFFFFF;\n",
              "    }\n",
              "  </style>\n",
              "\n",
              "      <script>\n",
              "        const buttonEl =\n",
              "          document.querySelector('#df-726abbfd-9e66-434b-9eb7-9c222bd754dd button.colab-df-convert');\n",
              "        buttonEl.style.display =\n",
              "          google.colab.kernel.accessAllowed ? 'block' : 'none';\n",
              "\n",
              "        async function convertToInteractive(key) {\n",
              "          const element = document.querySelector('#df-726abbfd-9e66-434b-9eb7-9c222bd754dd');\n",
              "          const dataTable =\n",
              "            await google.colab.kernel.invokeFunction('convertToInteractive',\n",
              "                                                     [key], {});\n",
              "          if (!dataTable) return;\n",
              "\n",
              "          const docLinkHtml = 'Like what you see? Visit the ' +\n",
              "            '<a target=\"_blank\" href=https://colab.research.google.com/notebooks/data_table.ipynb>data table notebook</a>'\n",
              "            + ' to learn more about interactive tables.';\n",
              "          element.innerHTML = '';\n",
              "          dataTable['output_type'] = 'display_data';\n",
              "          await google.colab.output.renderOutput(dataTable, element);\n",
              "          const docLink = document.createElement('div');\n",
              "          docLink.innerHTML = docLinkHtml;\n",
              "          element.appendChild(docLink);\n",
              "        }\n",
              "      </script>\n",
              "    </div>\n",
              "  </div>\n",
              "  "
            ]
          },
          "metadata": {},
          "execution_count": 33
        }
      ]
    },
    {
      "cell_type": "code",
      "source": [],
      "metadata": {
        "id": "wKQXtW1375Aj"
      },
      "execution_count": null,
      "outputs": []
    }
  ]
}