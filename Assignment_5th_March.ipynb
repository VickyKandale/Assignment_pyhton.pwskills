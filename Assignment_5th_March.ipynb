{
  "nbformat": 4,
  "nbformat_minor": 0,
  "metadata": {
    "colab": {
      "provenance": [],
      "authorship_tag": "ABX9TyPL7jFFY9JDPzcPdN4Sykbu",
      "include_colab_link": true
    },
    "kernelspec": {
      "name": "python3",
      "display_name": "Python 3"
    },
    "language_info": {
      "name": "python"
    }
  },
  "cells": [
    {
      "cell_type": "markdown",
      "metadata": {
        "id": "view-in-github",
        "colab_type": "text"
      },
      "source": [
        "<a href=\"https://colab.research.google.com/github/VickyKandale/Assignment_pyhton.pwskills/blob/main/Assignment_5th_March.ipynb\" target=\"_parent\"><img src=\"https://colab.research.google.com/assets/colab-badge.svg\" alt=\"Open In Colab\"/></a>"
      ]
    },
    {
      "cell_type": "markdown",
      "source": [
        "#Bokeh"
      ],
      "metadata": {
        "id": "frLSfyMrzJqP"
      }
    },
    {
      "cell_type": "markdown",
      "source": [
        "##Q1. How can you create a Bokeh plot using Python code?"
      ],
      "metadata": {
        "id": "L-P9WK9fzI8C"
      }
    },
    {
      "cell_type": "code",
      "source": [
        "\n",
        "# Import the necessary libraries\n",
        "from bokeh.plotting import figure, output_file, show\n",
        "from bokeh.sampledata.iris import flowers\n",
        "\n",
        "output_file('Example.html')\n",
        "\n",
        "p= figure(title= 'Flowers')\n",
        "p.xaxis.axis_label='patel length'\n",
        "p.yaxis.axis_label='patel width'\n",
        "p.circle(flowers['petal_length'],flowers['petal_width'])\n",
        "show(p)\n",
        "\n"
      ],
      "metadata": {
        "id": "-qAIXwNRzA0E"
      },
      "execution_count": 6,
      "outputs": []
    },
    {
      "cell_type": "markdown",
      "source": [
        "##Q2. What are glyphs in Bokeh, and how can you add them to a Bokeh plot? Explain with an example.\n"
      ],
      "metadata": {
        "id": "qOfGf0tFzpei"
      }
    },
    {
      "cell_type": "markdown",
      "source": [
        "In Bokeh, glyphs are visual markers that represent data points in a plot. Some examples of glyphs include circles, squares, lines, and text. Glyphs can be customized with various attributes such as size, color, and transparency."
      ],
      "metadata": {
        "id": "7MsdZpSj4BiA"
      }
    },
    {
      "cell_type": "code",
      "source": [
        "# Import the necessary libraries\n",
        "from bokeh.plotting import figure, output_file, show\n",
        "from bokeh.models import ColumnDataSource\n",
        "\n",
        "# Create some data\n",
        "x = [1, 2, 3, 4, 5]\n",
        "y = [6, 7, 2, 4, 5]\n",
        "colors = ['red', 'green', 'blue', 'orange', 'purple']\n",
        "\n",
        "# Create a ColumnDataSource object\n",
        "source = ColumnDataSource(data=dict(x=x, y=y, colors=colors))\n",
        "\n",
        "# Specify the output file\n",
        "output_file(\"example.html\")\n",
        "\n",
        "# Create a new plot with a title and axis labels\n",
        "p = figure(title=\"Example Bokeh plot\", x_axis_label='x', y_axis_label='y')\n",
        "\n",
        "# Add a circle glyph with size, color, and alpha attributes\n",
        "p.circle(x='x', y='y', size=20, color='colors', alpha=0.5, source=source)\n",
        "\n",
        "# Show the plot\n",
        "show(p)\n"
      ],
      "metadata": {
        "id": "Wttsgy-0zBZK"
      },
      "execution_count": 7,
      "outputs": []
    },
    {
      "cell_type": "markdown",
      "source": [
        "In this example, we create some data and a ColumnDataSource object to hold the data. Then, we specify the output file and create a new plot with a title and axis labels. We add a circle glyph to the plot using the circle() method, and we specify the x and y coordinates of the data points using the x and y parameters. We also set the size, color, and alpha attributes of the circles based on the colors variable in the data source. Finally, we show the plot by calling the show() function. When we run this code, it will generate an HTML file called \"example.html\" in the same directory as the Python file, which will contain the Bokeh plot with circle glyphs."
      ],
      "metadata": {
        "id": "3pw3ag2n4NzY"
      }
    },
    {
      "cell_type": "markdown",
      "source": [
        "\n",
        "##Q3. How can you customize the appearance of a Bokeh plot, including the axes, title, and legend?\n"
      ],
      "metadata": {
        "id": "iZovOKPO3rGp"
      }
    },
    {
      "cell_type": "markdown",
      "source": [
        "Bokeh allows you to customize the appearance of a plot in many ways, including the axes, title, and legend. Here's an example of how to customize the appearance of a Bokeh plot using Python code:"
      ],
      "metadata": {
        "id": "uATkxs_h4SAo"
      }
    },
    {
      "cell_type": "code",
      "source": [
        "# Import the necessary libraries\n",
        "from bokeh.plotting import figure, output_file, show\n",
        "from bokeh.models import ColumnDataSource\n",
        "\n",
        "# Create some data\n",
        "x = [1, 2, 3, 4, 5]\n",
        "y = [6, 7, 2, 4, 5]\n",
        "colors = ['red', 'green', 'blue', 'orange', 'purple']\n",
        "\n",
        "# Create a ColumnDataSource object\n",
        "source = ColumnDataSource(data=dict(x=x, y=y, colors=colors))\n",
        "\n",
        "# Specify the output file\n",
        "output_file(\"example.html\")\n",
        "\n",
        "# Create a new plot with a title and axis labels\n",
        "p = figure(title=\"Example Bokeh plot\", x_axis_label='x', y_axis_label='y')\n",
        "\n",
        "# Add a circle glyph with size, color, and alpha attributes\n",
        "p.circle(x='x', y='y', size=20, color='colors', alpha=0.5, source=source, legend_label='Data')\n",
        "\n",
        "# Customize the appearance of the plot\n",
        "p.title.text_color = \"blue\"\n",
        "p.title.text_font_size = \"20pt\"\n",
        "p.xaxis.axis_label_text_font_size = \"16pt\"\n",
        "p.yaxis.axis_label_text_font_size = \"16pt\"\n",
        "p.legend.location = \"top_left\"\n",
        "p.legend.label_text_font_size = \"14pt\"\n",
        "\n",
        "# Show the plot\n",
        "show(p)\n"
      ],
      "metadata": {
        "id": "huydUAVb3sYM"
      },
      "execution_count": 8,
      "outputs": []
    },
    {
      "cell_type": "markdown",
      "source": [
        "\n",
        "##Q4. What is a Bokeh server, and how can you use it to create interactive plots that can be updated in real time?"
      ],
      "metadata": {
        "id": "a4i-MzrM3s8o"
      }
    },
    {
      "cell_type": "markdown",
      "source": [
        "A Bokeh server is a way to deploy Bokeh plots and applications as web applications that can be accessed through a web browser. Bokeh server allows users to create and update interactive plots in real-time, without having to regenerate the plot every time a change is made.\n",
        "\n",
        "To use the Bokeh server, you first need to create a Python script that defines the plot or application you want to deploy. The script should contain a curdoc() function that creates and returns a Bokeh document. The Bokeh document contains all the plot objects and widgets that make up the plot or application."
      ],
      "metadata": {
        "id": "ltenxS6t4cdB"
      }
    },
    {
      "cell_type": "code",
      "source": [
        "# Import the necessary libraries\n",
        "from bokeh.plotting import figure, curdoc\n",
        "from bokeh.models import ColumnDataSource\n",
        "from bokeh.layouts import row\n",
        "from bokeh.models.widgets import Slider\n",
        "\n",
        "# Create some data\n",
        "x = [1, 2, 3, 4, 5]\n",
        "y = [6, 7, 2, 4, 5]\n",
        "\n",
        "# Create a ColumnDataSource object\n",
        "source = ColumnDataSource(data=dict(x=x, y=y))\n",
        "\n",
        "# Create a new plot\n",
        "p = figure(title=\"Interactive Bokeh plot\", x_axis_label='x', y_axis_label='y')\n",
        "p.line(x='x', y='y', source=source)\n",
        "\n",
        "# Define a callback function that updates the plot\n",
        "def update_data(attrname, old, new):\n",
        "    # Get the value of the slider\n",
        "    factor = slider.value\n",
        "    \n",
        "    # Update the data source\n",
        "    new_y = [y_i * factor for y_i in y]\n",
        "    source.data = dict(x=x, y=new_y)\n",
        "\n",
        "# Create a slider widget\n",
        "slider = Slider(start=0.1, end=2, step=0.1, value=1, title=\"Factor\")\n",
        "\n",
        "# Add a callback to the slider widget\n",
        "slider.on_change('value', update_data)\n",
        "\n",
        "# Add the plot and slider widget to a layout\n",
        "layout = row(p, slider)\n",
        "\n",
        "# Add the layout to the current document\n",
        "curdoc().add_root(layout)\n"
      ],
      "metadata": {
        "id": "gjsIPjGH3uZ_"
      },
      "execution_count": 9,
      "outputs": []
    },
    {
      "cell_type": "markdown",
      "source": [
        "\n",
        "\n",
        "##Q5. How can you embed a Bokeh plot into a web page or dashboard using Flask or Django?"
      ],
      "metadata": {
        "id": "gO-KgDkm3vfy"
      }
    },
    {
      "cell_type": "markdown",
      "source": [
        "Bokeh provides several ways to embed a Bokeh plot into a web page or dashboard, including using Flask or Django. Here's an example of how to embed a Bokeh plot into a Flask web application:"
      ],
      "metadata": {
        "id": "L2srUa3A4pTQ"
      }
    },
    {
      "cell_type": "code",
      "source": [
        "# Import the necessary libraries\n",
        "from flask import Flask, render_template\n",
        "from bokeh.plotting import figure\n",
        "from bokeh.embed import components\n",
        "\n",
        "# Create a Flask application\n",
        "app = Flask(__name__)\n",
        "\n",
        "# Define a view function that generates a Bokeh plot\n",
        "@app.route('/plot/')\n",
        "def plot():\n",
        "    # Create some data\n",
        "    x = [1, 2, 3, 4, 5]\n",
        "    y = [6, 7, 2, 4, 5]\n",
        "\n",
        "    # Create a new plot\n",
        "    p = figure(title=\"Bokeh plot\", x_axis_label='x', y_axis_label='y')\n",
        "    p.line(x, y)\n",
        "\n",
        "    # Generate the Bokeh plot components\n",
        "    script, div = components(p)\n",
        "\n",
        "    # Render the template with the Bokeh plot components\n",
        "    return render_template('plot.html', script=script, div=div)\n",
        "\n",
        "# Define a simple HTML template that embeds the Bokeh plot components\n",
        "# The {{ script|safe }} and {{ div|safe }} tags allow the JavaScript and HTML code to be rendered safely\n",
        "# without any escaping of special characters."
      ],
      "metadata": {
        "colab": {
          "base_uri": "https://localhost:8080/",
          "height": 36
        },
        "id": "Vvo5Xdc23vHA",
        "outputId": "37106ad4-f620-4e38-f393-c0ab0ae571d3"
      },
      "execution_count": 11,
      "outputs": [
        {
          "output_type": "execute_result",
          "data": {
            "text/plain": [
              "'\\n<!doctype html>\\n<html>\\n<head>\\n    <title>Bokeh plot</title>\\n    {{ script|safe }}\\n    {{ div|safe }}\\n</head>\\n<body>\\n</body>\\n</html>\\n'"
            ],
            "application/vnd.google.colaboratory.intrinsic+json": {
              "type": "string"
            }
          },
          "metadata": {},
          "execution_count": 11
        }
      ]
    },
    {
      "cell_type": "markdown",
      "source": [
        "```\n",
        "<!doctype html>\n",
        "<html>\n",
        "<head>\n",
        "    <title>Bokeh plot</title>\n",
        "    {{ script|safe }}\n",
        "    {{ div|safe }}\n",
        "</head>\n",
        "<body>\n",
        "</body>\n",
        "```"
      ],
      "metadata": {
        "id": "W4ed-czg44AH"
      }
    },
    {
      "cell_type": "code",
      "source": [],
      "metadata": {
        "id": "jRBpMaYY4rzF"
      },
      "execution_count": null,
      "outputs": []
    }
  ]
}