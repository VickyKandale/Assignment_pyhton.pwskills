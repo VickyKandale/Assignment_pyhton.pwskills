{
  "nbformat": 4,
  "nbformat_minor": 0,
  "metadata": {
    "colab": {
      "provenance": []
    },
    "kernelspec": {
      "name": "python3",
      "display_name": "Python 3"
    },
    "language_info": {
      "name": "python"
    }
  },
  "cells": [
    {
      "cell_type": "markdown",
      "source": [
        "Q.1) Explain with an example each when to use a for loop and a while loop."
      ],
      "metadata": {
        "id": "MD-mqQenIM9n"
      }
    },
    {
      "cell_type": "markdown",
      "source": [
        "Answer- \n",
        "\n",
        "Use of 'For loop'\n",
        "\n",
        "A for loop is usually used when we have a known sequence of values to iterate over, such as a list or a tuple. The for loop automatically iterates over each element in the sequence until there are no more elements left to process. Here's an example:\n",
        "\n",
        "    \n"
      ],
      "metadata": {
        "id": "1NM33xuGIZgi"
      }
    },
    {
      "cell_type": "code",
      "source": [
        "numbers = [1, 2, 3, 4, 5]\n",
        "for num in numbers:\n",
        "     print(num)\n"
      ],
      "metadata": {
        "colab": {
          "base_uri": "https://localhost:8080/"
        },
        "id": "zezTw8QnIRC6",
        "outputId": "2b62d989-73b4-41dd-f524-913151a5fd28"
      },
      "execution_count": null,
      "outputs": [
        {
          "output_type": "stream",
          "name": "stdout",
          "text": [
            "1\n",
            "2\n",
            "3\n",
            "4\n",
            "5\n"
          ]
        }
      ]
    },
    {
      "cell_type": "markdown",
      "source": [
        "In this example, we have a list of numbers and we use a for loop to iterate over each element in the list and print it out. The for loop automatically takes care of iterating over the elements of the list."
      ],
      "metadata": {
        "id": "OZ7C15vlJDQR"
      }
    },
    {
      "cell_type": "markdown",
      "source": [
        "On the other hand, a **'while loop'** is best used when you want to repeat a block of code until a certain condition is met. Here's an example of a while loop in Python that adds up numbers until the sum reaches a certain value:"
      ],
      "metadata": {
        "id": "pRXrWHGfJnmx"
      }
    },
    {
      "cell_type": "code",
      "source": [
        "sum = 0\n",
        "i = 1\n",
        "while sum < 10:\n",
        "    sum += i\n",
        "    i += 1\n",
        "print(sum)"
      ],
      "metadata": {
        "colab": {
          "base_uri": "https://localhost:8080/"
        },
        "id": "NHNKq64CI-Ay",
        "outputId": "94b4d330-2979-42b9-a773-590dede150a1"
      },
      "execution_count": null,
      "outputs": [
        {
          "output_type": "stream",
          "name": "stdout",
          "text": [
            "10\n"
          ]
        }
      ]
    },
    {
      "cell_type": "markdown",
      "source": [
        "This loop will keep adding up numbers until the sum reaches 10, and then it will print the final value of the sum to the console.\n",
        "\n",
        "In summary, use a for loop when you want to iterate over a collection of items, and use a while loop when you want to repeat a block of code until a certain condition is met."
      ],
      "metadata": {
        "id": "NSTEjz3OJ8TZ"
      }
    },
    {
      "cell_type": "markdown",
      "source": [
        "-------------------------------------------------------------------------------------"
      ],
      "metadata": {
        "id": "A4H8V8ojJ_vA"
      }
    },
    {
      "cell_type": "markdown",
      "source": [
        "Q.2) Write a python program to print the sum and product of the first 10 natural numbers using for and while loop."
      ],
      "metadata": {
        "id": "PMEq-fbQKCYY"
      }
    },
    {
      "cell_type": "code",
      "source": [
        "# Using a while loop\n",
        "n = 10\n",
        "sum = 0\n",
        "product = 1\n",
        "i = 1\n",
        "\n",
        "while i <= n:\n",
        "    sum += i\n",
        "    product *= i\n",
        "    i += 1\n",
        "\n",
        "print(\"The sum of the first 10 natural numbers is:\", sum)\n",
        "print(\"The product of the first 10 natural numbers is:\", product)"
      ],
      "metadata": {
        "colab": {
          "base_uri": "https://localhost:8080/"
        },
        "id": "-4jgQn3lJz2g",
        "outputId": "69c96a93-de50-4fea-8e8f-df3b420a353b"
      },
      "execution_count": null,
      "outputs": [
        {
          "output_type": "stream",
          "name": "stdout",
          "text": [
            "The sum of the first 10 natural numbers is: 55\n",
            "The product of the first 10 natural numbers is: 3628800\n"
          ]
        }
      ]
    },
    {
      "cell_type": "code",
      "source": [
        "# Using for loop \n",
        "\n",
        "n = 10\n",
        "sum = 0\n",
        "product = 1\n",
        "\n",
        "for i in range(1, n+1):\n",
        "    sum += i\n",
        "    product *= i\n",
        "\n",
        "print(\"The sum of the first 10 natural numbers is:\", sum)\n",
        "print(\"The product of the first 10 natural numbers is:\", product)"
      ],
      "metadata": {
        "colab": {
          "base_uri": "https://localhost:8080/"
        },
        "id": "Fmpg3WEPKUrg",
        "outputId": "f5a40525-4dbd-4c67-82c8-22d78e7b88ec"
      },
      "execution_count": null,
      "outputs": [
        {
          "output_type": "stream",
          "name": "stdout",
          "text": [
            "The sum of the first 10 natural numbers is: 55\n",
            "The product of the first 10 natural numbers is: 3628800\n"
          ]
        }
      ]
    },
    {
      "cell_type": "markdown",
      "source": [
        "Q.3) Create a python program to compute the electricity bill for a household.\n",
        "\n",
        "The per-unit charges in rupees are as follows:\n",
        " For the first 100 units, the user will be charged Rs. 4.5 per\n",
        "unit, for the next 100 units, the user will be charged Rs. 6 per unit, and for the next 100 units, the user will be charged Rs. 10 per unit, After 300 units and above the user will be charged Rs. 20 per unit.\n",
        "\n",
        "You are required to take the units of electricity consumed in a month from the user as input.\n",
        "\n",
        "\n",
        "Your program must pass this test case: when the unit of electricity consumed by the user in a month is\n",
        "310, the total electricity bill should be 2250.\n",
        "\n"
      ],
      "metadata": {
        "id": "f7T_I9DOLDjg"
      }
    },
    {
      "cell_type": "code",
      "source": [
        "# Input the number of units consumed\n",
        "units = int(input(\"Enter the number of units consumed: \"))\n",
        "\n",
        "# Compute the electricity bill\n",
        "if units <= 100:\n",
        "    bill = units * 4.5\n",
        "elif units <= 200:\n",
        "    bill = 100 * 4.5 + (units - 100) * 6\n",
        "elif units <= 300:\n",
        "    bill = 100 * 4.5 + 100 * 6 + (units - 200) * 10\n",
        "else:\n",
        "    bill = 100 * 4.5 + 100 * 6 + 100 * 10 + (units - 300) * 20\n",
        "\n",
        "# Display the electricity bill\n",
        "print(\"Electricity bill: Rs.\", bill)"
      ],
      "metadata": {
        "colab": {
          "base_uri": "https://localhost:8080/"
        },
        "id": "wNjf0QesKzkm",
        "outputId": "dd768bc4-0e04-495c-df79-e10c15105251"
      },
      "execution_count": null,
      "outputs": [
        {
          "output_type": "stream",
          "name": "stdout",
          "text": [
            "Enter the number of units consumed: 310\n",
            "Electricity bill: Rs. 2250.0\n"
          ]
        }
      ]
    },
    {
      "cell_type": "markdown",
      "source": [
        "Q.4) Create a list of numbers from 1 to 100. Use for loop and while loop to calculate the cube of each\n",
        "number and if the cube of that number is divisible by 4 or 5 then append that number in a list and print\n",
        "that list."
      ],
      "metadata": {
        "id": "7wEtM2YpMIb6"
      }
    },
    {
      "cell_type": "code",
      "source": [
        "# Using for loop\n",
        "num_list = list(range(1, 101))\n",
        "cubes = []\n",
        "\n",
        "# Loop through the numbers in the list and calculate their cubes\n",
        "for num in num_list:\n",
        "    cube = num ** 3\n",
        "    if cube % 4 == 0 or cube % 5 == 0:\n",
        "        cubes.append(num)\n",
        "\n",
        "# Print the list of numbers whose cube is divisible by 4 or 5\n",
        "print(cubes)"
      ],
      "metadata": {
        "colab": {
          "base_uri": "https://localhost:8080/"
        },
        "id": "dVBReDX6LetR",
        "outputId": "36477bdc-5fd5-46ba-b5ae-8d3d09b6b36b"
      },
      "execution_count": null,
      "outputs": [
        {
          "output_type": "stream",
          "name": "stdout",
          "text": [
            "[2, 4, 5, 6, 8, 10, 12, 14, 15, 16, 18, 20, 22, 24, 25, 26, 28, 30, 32, 34, 35, 36, 38, 40, 42, 44, 45, 46, 48, 50, 52, 54, 55, 56, 58, 60, 62, 64, 65, 66, 68, 70, 72, 74, 75, 76, 78, 80, 82, 84, 85, 86, 88, 90, 92, 94, 95, 96, 98, 100]\n"
          ]
        }
      ]
    },
    {
      "cell_type": "code",
      "source": [
        "# Using while loop\n",
        "num_list = list(range(1, 101))\n",
        "cubes = []\n",
        "\n",
        "# Initialize a counter variable\n",
        "i = 0\n",
        "# Loop through the numbers in the list and calculate their cubes\n",
        "while i < len(num_list):\n",
        "    cube = num_list[i] ** 3\n",
        "    if cube % 4 == 0 or cube % 5 == 0:\n",
        "        cubes.append(num_list[i])\n",
        "    i += 1\n",
        "\n",
        "# Print the list of numbers whose cube is divisible by 4 or 5\n",
        "print(cubes)\n"
      ],
      "metadata": {
        "colab": {
          "base_uri": "https://localhost:8080/"
        },
        "id": "oj75YZAiMtAu",
        "outputId": "0df538c9-b6e7-422c-bcd4-2b5a15b09892"
      },
      "execution_count": null,
      "outputs": [
        {
          "output_type": "stream",
          "name": "stdout",
          "text": [
            "[2, 4, 5, 6, 8, 10, 12, 14, 15, 16, 18, 20, 22, 24, 25, 26, 28, 30, 32, 34, 35, 36, 38, 40, 42, 44, 45, 46, 48, 50, 52, 54, 55, 56, 58, 60, 62, 64, 65, 66, 68, 70, 72, 74, 75, 76, 78, 80, 82, 84, 85, 86, 88, 90, 92, 94, 95, 96, 98, 100]\n"
          ]
        }
      ]
    },
    {
      "cell_type": "markdown",
      "source": [
        "Q.5) Write a program to filter count vowels in the below-given string.\n",
        "\n",
        "       string = \"I want to become a data scientist\""
      ],
      "metadata": {
        "id": "FoUNUMa1NI2a"
      }
    },
    {
      "cell_type": "code",
      "source": [
        "string = \"I want to become a data scientist\"\n",
        "\n",
        "vowels = \"aeiouAEIOU\"\n",
        "count = 0\n",
        "for char in string:\n",
        "    if char in vowels:\n",
        "       count += 1\n",
        "\n",
        "print(f'Number of vowels in the string : {count}')"
      ],
      "metadata": {
        "colab": {
          "base_uri": "https://localhost:8080/"
        },
        "id": "_kavwLH8M8Wh",
        "outputId": "ad128dd0-0e1a-42dc-c42b-4be7c6339f8f"
      },
      "execution_count": null,
      "outputs": [
        {
          "output_type": "stream",
          "name": "stdout",
          "text": [
            "Number of vowels in the string : 12\n"
          ]
        }
      ]
    },
    {
      "cell_type": "code",
      "source": [],
      "metadata": {
        "id": "CV9d4_4pOE6x"
      },
      "execution_count": null,
      "outputs": []
    }
  ]
}