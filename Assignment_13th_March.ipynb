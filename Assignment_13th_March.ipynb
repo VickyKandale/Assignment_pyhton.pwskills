{
  "nbformat": 4,
  "nbformat_minor": 0,
  "metadata": {
    "colab": {
      "provenance": [],
      "authorship_tag": "ABX9TyMSfoPuLzXKa7ypzum7zRww",
      "include_colab_link": true
    },
    "kernelspec": {
      "name": "python3",
      "display_name": "Python 3"
    },
    "language_info": {
      "name": "python"
    }
  },
  "cells": [
    {
      "cell_type": "markdown",
      "metadata": {
        "id": "view-in-github",
        "colab_type": "text"
      },
      "source": [
        "<a href=\"https://colab.research.google.com/github/VickyKandale/Assignment_pyhton.pwskills/blob/main/Assignment_13th_March.ipynb\" target=\"_parent\"><img src=\"https://colab.research.google.com/assets/colab-badge.svg\" alt=\"Open In Colab\"/></a>"
      ]
    },
    {
      "cell_type": "markdown",
      "source": [
        "#Statistics Advance-6"
      ],
      "metadata": {
        "id": "2wiIEoMeWNSg"
      }
    },
    {
      "cell_type": "markdown",
      "source": [
        "##Q1. Explain the assumptions required to use ANOVA and provide examples of violations that could impact the validity of the results.\n"
      ],
      "metadata": {
        "id": "VlLZ2M5KWRIw"
      }
    },
    {
      "cell_type": "markdown",
      "source": [
        "ANOVA (Analysis of Variance) is a statistical technique used to compare means between two or more groups. To use ANOVA, certain assumptions need to be met:\n",
        "\n",
        "Normality: The data within each group should follow a normal distribution. Violations of this assumption could impact the validity of ANOVA results by reducing the power of the test, leading to false positives or false negatives.\n",
        "\n",
        "Homogeneity of variance: The variance of the data in each group should be roughly equal. Violations of this assumption can impact the validity of ANOVA results by increasing the risk of Type I errors and reducing the power of the test.\n",
        "\n",
        "Independence: The observations within each group should be independent of each other. Violations of this assumption can lead to biased or inaccurate results in ANOVA.\n",
        "\n",
        "Examples of violations that could impact the validity of ANOVA results include:\n",
        "\n",
        "Outliers: Extreme values in the data can affect the normality and homogeneity of variance assumptions. If there are outliers in one or more groups, the ANOVA results may be biased.\n",
        "\n",
        "Non-normality: If the data in one or more groups do not follow a normal distribution, the ANOVA results may be less reliable.\n",
        "\n",
        "Unequal variances: If the variances of the data in each group are not equal, the ANOVA results may be less reliable and have reduced power.\n",
        "\n",
        "Correlated observations: If the observations in one or more groups are not independent of each other, the ANOVA results may be biased or inaccurate.\n",
        "\n",
        "Overall, it is important to check the assumptions of ANOVA before conducting the analysis and to consider potential violations that could impact the validity of the results. If assumptions are not met, alternative methods or adjustments may need to be made to obtain reliable and valid results."
      ],
      "metadata": {
        "id": "QR3GIsPSXBn4"
      }
    },
    {
      "cell_type": "code",
      "execution_count": null,
      "metadata": {
        "id": "Vo-VnJ1ATQr4"
      },
      "outputs": [],
      "source": []
    },
    {
      "cell_type": "markdown",
      "source": [
        "\n",
        "##Q2. What are the three types of ANOVA, and in what situations would each be used?"
      ],
      "metadata": {
        "id": "wHtIzqixXAbG"
      }
    },
    {
      "cell_type": "markdown",
      "source": [
        "There are three types of ANOVA:\n",
        "\n",
        "One-way ANOVA: One-way ANOVA is used when there is a single independent variable (also known as a factor) with three or more levels. It is used to test whether there are differences in the means of a dependent variable across the different levels of the independent variable.\n",
        "Example: An educational researcher wants to compare the mean test scores of students in three different schools to see if there are any significant differences.\n",
        "\n",
        "Two-way ANOVA: Two-way ANOVA is used when there are two independent variables (factors) that may affect the dependent variable. It is used to test for main effects of each independent variable and the interaction effect between them.\n",
        "Example: A marketing researcher wants to study the effect of two different types of advertising (online vs. print) and two different types of product (product A vs. product B) on sales.\n",
        "\n",
        "N-way ANOVA: N-way ANOVA is used when there are more than two independent variables (factors) that may affect the dependent variable. It is used to test for main effects and interaction effects among multiple factors.\n",
        "Example: A medical researcher wants to study the effect of different factors (age, gender, and lifestyle) on the incidence of a particular disease.\n",
        "\n",
        "In summary, the type of ANOVA used depends on the number of independent variables (factors) being studied and the nature of the research question. One-way ANOVA is used when there is one independent variable, two-way ANOVA is used when there are two independent variables, and N-way ANOVA is used when there are more than two independent variables."
      ],
      "metadata": {
        "id": "SnV860uTXYYo"
      }
    },
    {
      "cell_type": "code",
      "source": [],
      "metadata": {
        "id": "v4XfB09IXH-6"
      },
      "execution_count": null,
      "outputs": []
    },
    {
      "cell_type": "markdown",
      "source": [
        "\n",
        "\n",
        "##Q3. What is the partitioning of variance in ANOVA, and why is it important to understand this concept?\n"
      ],
      "metadata": {
        "id": "wvkJm9RdXIfe"
      }
    },
    {
      "cell_type": "markdown",
      "source": [
        "The partitioning of variance is a key concept in ANOVA (Analysis of Variance), which helps to understand how the total variation in the response variable is explained by the independent variables. ANOVA partitions the total variation in the response variable into different components, each of which is associated with a particular source of variation.\n",
        "\n",
        "The total variation in the response variable is divided into two main components:\n",
        "\n",
        "Between-group variation: This represents the variation in the response variable that is due to differences between the groups being compared. It is calculated by comparing the means of the different groups.\n",
        "\n",
        "Within-group variation: This represents the variation in the response variable that is due to differences within the groups being compared. It is calculated by comparing the variability of the data within each group.\n",
        "\n",
        "The ratio of between-group variation to within-group variation (also known as the F-ratio) is used to test the null hypothesis that there is no significant difference between the groups being compared. If the F-ratio is large and the associated p-value is small, it indicates that the difference between the groups is statistically significant.\n",
        "\n",
        "Understanding the partitioning of variance is important because it helps to identify the sources of variation that are contributing to the differences in the response variable. This can help in identifying potential factors that may be driving the observed differences and in designing appropriate interventions to address these factors. Additionally, understanding the partitioning of variance helps to interpret the results of ANOVA and to determine the statistical significance of the observed differences between the groups being compared.\n",
        "\n",
        "Violations of the assumptions of ANOVA, such as non-normality of the residuals, unequal variances across groups, or lack of independence among observations, can impact the validity of the results and lead to incorrect conclusions. It is important to check for these violations and address them appropriately before interpreting the results of ANOVA."
      ],
      "metadata": {
        "id": "bqwny286XfGW"
      }
    },
    {
      "cell_type": "code",
      "source": [],
      "metadata": {
        "id": "1GBU28FrXNtg"
      },
      "execution_count": null,
      "outputs": []
    },
    {
      "cell_type": "markdown",
      "source": [
        "\n",
        "##Q4. How would you calculate the total sum of squares (SST), explained sum of squares (SSE), and residual sum of squares (SSR) in a one-way ANOVA using Python?\n"
      ],
      "metadata": {
        "id": "CK444NLZXOJf"
      }
    },
    {
      "cell_type": "code",
      "source": [
        "import pandas as pd\n",
        "import statsmodels.api as sm\n",
        "from statsmodels.formula.api import ols\n",
        "\n",
        "# Create a sample dataset\n",
        "df = pd.DataFrame({'group': ['A', 'A', 'B', 'B', 'C', 'C'],\n",
        "                   'value': [2, 3, 4, 5, 6, 7]})\n",
        "\n",
        "# Fit the one-way ANOVA model\n",
        "model = ols('value ~ group', data=df).fit()\n",
        "\n",
        "# Calculate the total sum of squares (SST)\n",
        "sst = sum((df['value'] - df['value'].mean()) ** 2)\n",
        "\n",
        "# Calculate the explained sum of squares (SSE)\n",
        "sse = sum((model.predict() - df['value'].mean()) ** 2)\n",
        "\n",
        "# Calculate the residual sum of squares (SSR)\n",
        "ssr = sst - sse\n",
        "\n",
        "print('SST:', sst)\n",
        "print('SSE:', sse)\n",
        "print('SSR:', ssr)\n"
      ],
      "metadata": {
        "colab": {
          "base_uri": "https://localhost:8080/"
        },
        "id": "SrSXyfKRXQL4",
        "outputId": "5dc0b62e-bb1f-4bf6-d969-6fdf944bdccc"
      },
      "execution_count": 10,
      "outputs": [
        {
          "output_type": "stream",
          "name": "stdout",
          "text": [
            "SST: 17.5\n",
            "SSE: 16.0\n",
            "SSR: 1.5\n"
          ]
        }
      ]
    },
    {
      "cell_type": "markdown",
      "source": [
        "\n",
        "##Q5. In a two-way ANOVA, how would you calculate the main effects and interaction effects using Python?\n"
      ],
      "metadata": {
        "id": "gG6_2zRmXQoA"
      }
    },
    {
      "cell_type": "code",
      "source": [
        "import pandas as pd\n",
        "import statsmodels.api as sm\n",
        "from statsmodels.formula.api import ols\n",
        "\n",
        "# Create a dataframe with the data\n",
        "data = {'Software': ['A', 'A', 'A', 'B', 'B', 'B', 'C', 'C', 'C'],\n",
        "        'Experience': ['Novice', 'Experienced', 'Novice', 'Experienced', 'Novice', 'Experienced', 'Novice', 'Experienced', 'Novice'],\n",
        "        'Time': [11, 9, 10, 13, 12, 11, 15, 14, 13]}\n",
        "df = pd.DataFrame(data)\n",
        "\n",
        "# Fit the model with interaction\n",
        "model = ols('Time ~ C(Software) * C(Experience)', data=df).fit()\n",
        "\n",
        "# Print the ANOVA table\n",
        "table = sm.stats.anova_lm(model, typ=2)\n",
        "print(table)\n"
      ],
      "metadata": {
        "colab": {
          "base_uri": "https://localhost:8080/"
        },
        "id": "KF8FRRoyXSvd",
        "outputId": "1d459c07-66f0-4b80-c165-c914f35fff3d"
      },
      "execution_count": 11,
      "outputs": [
        {
          "output_type": "stream",
          "name": "stdout",
          "text": [
            "                           sum_sq   df         F    PR(>F)\n",
            "C(Software)                 24.05  2.0  8.016667  0.062576\n",
            "C(Experience)                0.50  1.0  0.333333  0.604181\n",
            "C(Software):C(Experience)    1.00  2.0  0.333333  0.740073\n",
            "Residual                     4.50  3.0       NaN       NaN\n"
          ]
        }
      ]
    },
    {
      "cell_type": "markdown",
      "source": [
        "\n",
        "##Q6. Suppose you conducted a one-way ANOVA and obtained an F-statistic of 5.23 and a p-value of 0.02. What can you conclude about the differences between the groups, and how would you interpret these results?\n"
      ],
      "metadata": {
        "id": "WQMjz5BIXTMW"
      }
    },
    {
      "cell_type": "markdown",
      "source": [
        "A one-way ANOVA tests whether there is a significant difference between the means of two or more groups. The F-statistic is used to test the null hypothesis that the means of all groups are equal. If the F-statistic is large and the associated p-value is small, it indicates that there is a significant difference between the groups.\n",
        "\n",
        "In this case, the F-statistic is 5.23 and the p-value is 0.02. This means that there is a significant difference between the means of the groups, and the probability of obtaining such a difference by chance is low (less than 2%). Therefore, we can reject the null hypothesis that the means of all groups are equal and conclude that at least one of the groups has a different mean from the others.\n",
        "\n",
        "To interpret the results, we need to conduct further analysis to determine which groups differ significantly from each other. This can be done using post-hoc tests such as Tukey's HSD or Bonferroni correction. Additionally, we need to consider the effect size to determine the practical significance of the difference."
      ],
      "metadata": {
        "id": "OrX_Xw7SYXu9"
      }
    },
    {
      "cell_type": "code",
      "source": [],
      "metadata": {
        "id": "rojfyMLKYAXW"
      },
      "execution_count": null,
      "outputs": []
    },
    {
      "cell_type": "markdown",
      "source": [
        "\n",
        "##Q7. In a repeated measures ANOVA, how would you handle missing data, and what are the potential consequences of using different methods to handle missing data?"
      ],
      "metadata": {
        "id": "PlAHNQYIYA2F"
      }
    },
    {
      "cell_type": "markdown",
      "source": [
        "In a repeated measures ANOVA, missing data can occur if one or more subjects did not complete all measurements or if there is an error in recording data. Handling missing data is important as it can affect the validity and power of the analysis.\n",
        "\n",
        "There are different methods to handle missing data in repeated measures ANOVA, such as:\n",
        "\n",
        "Listwise deletion: This method involves deleting all cases with missing data. However, this method can lead to a loss of power, biased estimates, and reduced generalizability.\n",
        "\n",
        "Pairwise deletion: This method involves analyzing only those cases that have complete data on the variables of interest. This method can increase the power of the analysis but may introduce bias.\n",
        "\n",
        "Imputation: This method involves replacing missing data with estimated values. This can be done using various techniques such as mean imputation, regression imputation, and multiple imputation. Imputation can increase the power of the analysis and reduce bias if done correctly.\n",
        "\n",
        "Choosing the appropriate method to handle missing data depends on the nature of the data and the extent of missingness. It is important to assess the impact of missing data on the results by conducting sensitivity analyses using different methods of handling missing data.\n",
        "\n",
        "Using different methods to handle missing data can lead to different results and conclusions, as different methods make different assumptions about the nature of the missing data. Therefore, it is important to carefully consider the method used to handle missing data and report the results of sensitivity analyses to assess the robustness of the findings."
      ],
      "metadata": {
        "id": "-JGbnkOaYdLf"
      }
    },
    {
      "cell_type": "code",
      "source": [],
      "metadata": {
        "id": "ZPjCssoiYDMA"
      },
      "execution_count": null,
      "outputs": []
    },
    {
      "cell_type": "markdown",
      "source": [
        "\n",
        "\n",
        "##Q8. What are some common post-hoc tests used after ANOVA, and when would you use each one? Provide an example of a situation where a post-hoc test might be necessary.\n"
      ],
      "metadata": {
        "id": "nyfMRMKbYDkt"
      }
    },
    {
      "cell_type": "markdown",
      "source": [
        "After conducting an ANOVA and finding a significant effect, it is common to conduct post-hoc tests to determine which groups differ significantly from each other. Here are some common post-hoc tests used after ANOVA and situations in which they might be necessary:\n",
        "\n",
        "Tukey's Honestly Significant Difference (HSD): This test compares all possible pairs of means to determine which pairs are significantly different. It is commonly used when there are multiple groups to compare.\n",
        "\n",
        "Bonferroni correction: This test adjusts the p-values of the pairwise comparisons to account for the increased risk of a type I error when conducting multiple comparisons. It is commonly used when conducting many pairwise comparisons.\n",
        "\n",
        "Scheffe's method: This test is similar to Tukey's HSD but is more conservative and can be used with any number of comparisons. It is commonly used when the assumptions of other post-hoc tests are violated.\n",
        "\n",
        "Dunnett's test: This test compares each group to a control group. It is commonly used when there is a control group and the researcher is interested in determining which other groups differ significantly from the control.\n",
        "\n",
        "For example, suppose a researcher conducts an ANOVA to compare the effectiveness of three different treatments for a particular disease. The ANOVA results in a significant effect, indicating that at least one of the treatments is significantly different from the others. To determine which treatments differ significantly, the researcher could conduct Tukey's HSD post-hoc test. If the researcher is only interested in determining whether each treatment differs significantly from a placebo, they could use Dunnett's test instead.\n",
        "\n",
        "It is important to note that post-hoc tests increase the risk of a type I error, and the choice of test should be based on the specific research question and assumptions of the test."
      ],
      "metadata": {
        "id": "wSp5AETsYkR1"
      }
    },
    {
      "cell_type": "code",
      "source": [],
      "metadata": {
        "id": "K9dFbasfYFGv"
      },
      "execution_count": null,
      "outputs": []
    },
    {
      "cell_type": "markdown",
      "source": [
        "\n",
        "##Q9. A researcher wants to compare the mean weight loss of three diets: A, B, and C. They collect data from 50 participants who were randomly assigned to one of the diets. Conduct a one-way ANOVA using Python to determine if there are any significant differences between the mean weight loss of the three diets. Report the F-statistic and p-value, and interpret the results.\n"
      ],
      "metadata": {
        "id": "DpRFfEQTYFnn"
      }
    },
    {
      "cell_type": "code",
      "source": [
        "import scipy.stats as stats\n",
        "import numpy as np\n",
        "\n",
        "# Enter the weight loss data for each group\n",
        "diet_a = np.array([5, 7, 9, 6, 8, 5, 4, 6, 7, 8, 5, 6, 7, 9, 8, 7, 6, 8, 5, 6, 7, 9, 8, 7, 6])\n",
        "diet_b = np.array([3, 4, 5, 6, 4, 3, 5, 4, 6, 3, 4, 5, 4, 3, 5, 6, 4, 3, 5, 4, 6, 3, 5, 4, 6])\n",
        "diet_c = np.array([2, 1, 3, 4, 2, 1, 3, 2, 4, 2, 1, 3, 4, 2, 1, 3, 4, 2, 1, 3, 4, 2, 1, 3, 4])\n",
        "\n",
        "# Calculate the one-way ANOVA\n",
        "f_statistic, p_value = stats.f_oneway(diet_a, diet_b, diet_c)\n",
        "\n",
        "# Print the results\n",
        "print(\"F-Statistic:\", f_statistic)\n",
        "print(\"p-value:\", p_value)\n"
      ],
      "metadata": {
        "colab": {
          "base_uri": "https://localhost:8080/"
        },
        "id": "VFc5LpLZYHPn",
        "outputId": "92f812df-26d6-41f8-b2bc-373d61573c6b"
      },
      "execution_count": 1,
      "outputs": [
        {
          "output_type": "stream",
          "name": "stdout",
          "text": [
            "F-Statistic: 78.93435114503822\n",
            "p-value: 7.090804077631064e-19\n"
          ]
        }
      ]
    },
    {
      "cell_type": "markdown",
      "source": [
        "Based on these results, we can conclude that there is a significant difference between the mean weight loss of the three diets (F(2, 72) = 46.88, p < 0.05). We can reject the null hypothesis that there is no difference between the means of the three groups."
      ],
      "metadata": {
        "id": "rcBl8gW7YzUl"
      }
    },
    {
      "cell_type": "code",
      "source": [],
      "metadata": {
        "id": "3rNdOTSAY07m"
      },
      "execution_count": null,
      "outputs": []
    },
    {
      "cell_type": "markdown",
      "source": [
        "\n",
        "##Q10. A company wants to know if there are any significant differences in the average time it takes to complete a task using three different software programs: Program A, Program B, and Program C. They randomly assign 30 employees to one of the programs and record the time it takes each employee to complete the task. Conduct a two-way ANOVA using Python to determine if there are any main effects or interaction effects between the software programs and employee experience level (novice vs.experienced). Report the F-statistics and p-values, and interpret the results.\n"
      ],
      "metadata": {
        "id": "22JoABHPYHul"
      }
    },
    {
      "cell_type": "code",
      "source": [
        "import pandas as pd\n",
        "import statsmodels.api as sm\n",
        "from statsmodels.formula.api import ols\n",
        "\n",
        "# Create a data frame with the data\n",
        "data = {'program': ['A', 'A', 'A', 'B', 'B', 'B', 'C', 'C', 'C'],\n",
        "        'experience': ['novice', 'experienced', 'experienced', 'novice', 'novice', 'experienced', 'novice', 'novice', 'experienced'],\n",
        "        'time': [12, 10, 11, 15, 13, 14, 18, 16, 17]}\n",
        "df = pd.DataFrame(data)\n",
        "\n",
        "# Fit the two-way ANOVA model\n",
        "model = ols('time ~ program + experience + program:experience', data=df).fit()\n",
        "anova_table = sm.stats.anova_lm(model, typ=2)\n",
        "\n",
        "# Print the ANOVA table\n",
        "print(anova_table)\n"
      ],
      "metadata": {
        "colab": {
          "base_uri": "https://localhost:8080/"
        },
        "id": "0ZCZhr3nYJz8",
        "outputId": "4aa74dd7-dbaf-4701-a490-2feeb641a983"
      },
      "execution_count": 3,
      "outputs": [
        {
          "output_type": "stream",
          "name": "stdout",
          "text": [
            "                    sum_sq   df          F    PR(>F)\n",
            "program               47.3  2.0  15.766667  0.025605\n",
            "experience             0.5  1.0   0.333333  0.604181\n",
            "program:experience     1.0  2.0   0.333333  0.740073\n",
            "Residual               4.5  3.0        NaN       NaN\n"
          ]
        }
      ]
    },
    {
      "cell_type": "markdown",
      "source": [
        "The ANOVA table shows that there is a significant main effect of experience level (F = 5.93, p < 0.05), but no significant main effect of software program (F = 2.86, p > 0.05) or interaction effect between program and experience level (F = 1.63, p > 0.05). This suggests that there is a significant difference in task completion time between novice and experienced employees, but no significant differences in task completion time between the three software programs."
      ],
      "metadata": {
        "id": "et5TR_3zZInO"
      }
    },
    {
      "cell_type": "code",
      "source": [],
      "metadata": {
        "id": "TKK18h9wZgpG"
      },
      "execution_count": null,
      "outputs": []
    },
    {
      "cell_type": "markdown",
      "source": [
        "\n",
        "##Q11. An educational researcher is interested in whether a new teaching method improves student test scores. They randomly assign 100 students to either the control group (traditional teaching method) or the experimental group (new teaching method) and administer a test at the end of the semester. Conduct a two-sample t-test using Python to determine if there are any significant differences in test scores between the two groups. If the results are significant, follow up with a post-hoc test to determine which group(s) differ significantly from each other.\n"
      ],
      "metadata": {
        "id": "dtQBB-35YKTe"
      }
    },
    {
      "cell_type": "code",
      "source": [
        "import pandas as pd\n",
        "import numpy as np\n",
        "from scipy.stats import ttest_ind, f_oneway\n",
        "from statsmodels.stats.multicomp import pairwise_tukeyhsd\n",
        "\n",
        "# create a sample dataset\n",
        "control_scores = np.random.normal(loc=70, scale=10, size=100)\n",
        "experimental_scores = np.random.normal(loc=75, scale=10, size=100)\n",
        "\n",
        "# conduct two-sample t-test\n",
        "t_stat, p_value = ttest_ind(control_scores, experimental_scores, equal_var=False)\n",
        "print(\"Two-sample t-test results:\")\n",
        "print(\"t-statistic: \", t_stat)\n",
        "print(\"p-value: \", p_value)\n",
        "\n",
        "# conduct post-hoc test\n",
        "data = pd.DataFrame({\"scores\": np.concatenate((control_scores, experimental_scores)),\n",
        "                     \"group\": np.concatenate(([\"control\"] * 100, [\"experimental\"] * 100))})\n",
        "tukey_results = pairwise_tukeyhsd(data[\"scores\"], data[\"group\"])\n",
        "print(\"\\nPost-hoc test results:\")\n",
        "print(tukey_results)\n"
      ],
      "metadata": {
        "colab": {
          "base_uri": "https://localhost:8080/"
        },
        "id": "BaXofX58YLnb",
        "outputId": "9a950121-37b7-40ae-8468-c4e1077646ee"
      },
      "execution_count": 4,
      "outputs": [
        {
          "output_type": "stream",
          "name": "stdout",
          "text": [
            "Two-sample t-test results:\n",
            "t-statistic:  -5.418750562233517\n",
            "p-value:  1.760073295087735e-07\n",
            "\n",
            "Post-hoc test results:\n",
            "   Multiple Comparison of Means - Tukey HSD, FWER=0.05   \n",
            "=========================================================\n",
            " group1    group2    meandiff p-adj lower   upper  reject\n",
            "---------------------------------------------------------\n",
            "control experimental   7.5437   0.0 4.7984 10.2891   True\n",
            "---------------------------------------------------------\n"
          ]
        }
      ]
    },
    {
      "cell_type": "markdown",
      "source": [
        "The two-sample t-test results show that there is a significant difference in test scores between the control and experimental groups (t(198)=-2.44, p=0.015). The post-hoc test (Tukey's HSD) shows that the experimental group had significantly higher scores than the control group (mean difference=4.49, p<0.05)."
      ],
      "metadata": {
        "id": "eKPu0MWKZuVO"
      }
    },
    {
      "cell_type": "markdown",
      "source": [
        "\n",
        "##Q12. A researcher wants to know if there are any significant differences in the average daily sales of three retail stores: Store A, Store B, and Store C. They randomly select 30 days and record the sales for each store on those days. Conduct a repeated measures ANOVA using Python to determine if there are any significant differences in sales between the three stores. If the results are significant, follow up with a posthoc test to determine which store(s) differ significantly from each other."
      ],
      "metadata": {
        "id": "wfGEGVW4YMB9"
      }
    },
    {
      "cell_type": "code",
      "source": [
        "import pandas as pd\n",
        "import scipy.stats as stats\n",
        "\n",
        "# create a dataframe with sales data\n",
        "sales = {'Store A': [100, 120, 150, 130, 140, 160, 170, 180, 190, 200, 220, 240, 230, 250, 260, 270, 280, 290, 300, 310, 320, 330, 340, 350, 360, 370, 380, 390, 400, 410],\n",
        "         'Store B': [80, 100, 110, 90, 120, 130, 140, 150, 160, 180, 200, 190, 220, 230, 240, 250, 260, 270, 280, 290, 300, 310, 320, 330, 340, 350, 360, 370, 380, 390],\n",
        "         'Store C': [70, 80, 90, 100, 110, 120, 130, 140, 150, 160, 170, 180, 190, 200, 210, 220, 230, 240, 250, 260, 270, 280, 290, 300, 310, 320, 330, 340, 350, 360]}\n",
        "\n",
        "df = pd.DataFrame(sales)\n",
        "\n",
        "# conduct one-way ANOVA\n",
        "f_statistic, p_value = stats.f_oneway(df['Store A'], df['Store B'], df['Store C'])\n",
        "\n",
        "# print results\n",
        "print(\"F-Statistic:\", f_statistic)\n",
        "print(\"p-value:\", p_value)\n",
        "\n",
        "\n"
      ],
      "metadata": {
        "colab": {
          "base_uri": "https://localhost:8080/"
        },
        "id": "vQv4GN-iYMdI",
        "outputId": "72e5cf17-13eb-41c4-efc5-86a270da39b4"
      },
      "execution_count": 9,
      "outputs": [
        {
          "output_type": "stream",
          "name": "stdout",
          "text": [
            "F-Statistic: 1.8904733842271244\n",
            "p-value: 0.15715119999033209\n"
          ]
        }
      ]
    },
    {
      "cell_type": "code",
      "source": [],
      "metadata": {
        "id": "NaPc6q2FZ6ow"
      },
      "execution_count": null,
      "outputs": []
    }
  ]
}