{
  "nbformat": 4,
  "nbformat_minor": 0,
  "metadata": {
    "colab": {
      "provenance": []
    },
    "kernelspec": {
      "name": "python3",
      "display_name": "Python 3"
    },
    "language_info": {
      "name": "python"
    }
  },
  "cells": [
    {
      "cell_type": "markdown",
      "source": [
        "# Assignment 3rd Feb"
      ],
      "metadata": {
        "id": "tXjGmT72PYF0"
      }
    },
    {
      "cell_type": "markdown",
      "source": [
        "Q1. Which keyword is used to create a function? Create a function to return a list of odd numbers in the range of 1 to 25.\n"
      ],
      "metadata": {
        "id": "m4YSM2vXPSo0"
      }
    },
    {
      "cell_type": "code",
      "source": [
        "# The keyword used to create a function in Python is 'def'.\n",
        "\n",
        "def odd_numbers():\n",
        "    odd_numbers = []\n",
        "    for num in range(1, 25):\n",
        "        if num % 2 == 1:\n",
        "            odd_numbers.append(num)\n",
        "    return odd_numbers\n",
        "\n",
        "# Calling the function \n",
        "odd_numbers_list = odd_numbers()\n",
        "odd_numbers_list"
      ],
      "metadata": {
        "colab": {
          "base_uri": "https://localhost:8080/"
        },
        "id": "JX8Qg3fUPWfN",
        "outputId": "befc296e-d735-4ff9-9f6c-409c680e045b"
      },
      "execution_count": null,
      "outputs": [
        {
          "output_type": "execute_result",
          "data": {
            "text/plain": [
              "[1, 3, 5, 7, 9, 11, 13, 15, 17, 19, 21, 23]"
            ]
          },
          "metadata": {},
          "execution_count": 27
        }
      ]
    },
    {
      "cell_type": "markdown",
      "source": [
        "Q2. Why **args and **kwargs is used in some functions? Create a function each for *args and **kwargs to demonstrate their use."
      ],
      "metadata": {
        "id": "42XdLE_bQJ4Z"
      }
    },
    {
      "cell_type": "markdown",
      "source": [
        "\n",
        "\n",
        "> In Python, **args and **kwargs are used to pass a variable number of arguments to a function.\n",
        "\n",
        ">*args allows you to pass a variable number of non-keyword arguments to a function. These arguments are collected into a tuple that can be accessed inside the function using the args variable.\n",
        "\n"
      ],
      "metadata": {
        "id": "apOYINuJQdfQ"
      }
    },
    {
      "cell_type": "code",
      "source": [
        "# for *args\n",
        "def my_sum(*args):\n",
        "    total = 0\n",
        "    for num in args:\n",
        "        total += num\n",
        "    return total\n",
        "\n",
        "print(my_sum(1, 2, 3))"
      ],
      "metadata": {
        "colab": {
          "base_uri": "https://localhost:8080/"
        },
        "id": "W7sxI06RP5Q_",
        "outputId": "c775090e-04f4-4a4f-c59a-ad032f2ec578"
      },
      "execution_count": null,
      "outputs": [
        {
          "output_type": "stream",
          "name": "stdout",
          "text": [
            "6\n"
          ]
        }
      ]
    },
    {
      "cell_type": "markdown",
      "source": [
        "\n",
        "\n",
        "> **kwargs allows you to pass a variable number of keyword arguments to a function. These arguments are collected into a dictionary that can be accessed inside the function using the kwargs variable.\n",
        "\n"
      ],
      "metadata": {
        "id": "Hs1RE454Rhgp"
      }
    },
    {
      "cell_type": "code",
      "source": [
        "# for *kwargs\n",
        "def print_kwargs(**kwargs):\n",
        "    for key, value in kwargs.items():\n",
        "        print(key, \":\", value)\n",
        "\n",
        "print_kwargs(name=\"Bob\", city=\"New York\", country=\"USA\")"
      ],
      "metadata": {
        "colab": {
          "base_uri": "https://localhost:8080/"
        },
        "id": "Lnm12aBARAcd",
        "outputId": "d7cdf336-e7fe-4085-d59c-033e4a784bd9"
      },
      "execution_count": null,
      "outputs": [
        {
          "output_type": "stream",
          "name": "stdout",
          "text": [
            "name : Bob\n",
            "city : New York\n",
            "country : USA\n"
          ]
        }
      ]
    },
    {
      "cell_type": "markdown",
      "source": [
        "Q3.  What is an iterator in python? Name the method used to initialise the iterator object and the method used for iteration. Use these methods to print the first five elements of the given list [2, 4, 6, 8, 10, 12, 14,\n",
        "16, 18, 20]."
      ],
      "metadata": {
        "id": "wVoUdAKeRxtA"
      }
    },
    {
      "cell_type": "markdown",
      "source": [
        "\n",
        "\n",
        "> In Python, an iterator is an object that allows you to traverse through a collection of values one by one. It provides a way to access the elements of a container object, such as a list or tuple, without exposing its underlying implementation.\n",
        "\n",
        ">The method used to initialize an iterator object in Python is called iter(). This method takes an iterable object as an argument and returns an iterator object.\n",
        "\n"
      ],
      "metadata": {
        "id": "UyIeM0AsSHoA"
      }
    },
    {
      "cell_type": "code",
      "source": [
        "my_list = [2, 4, 6, 8, 10, 12, 14, 16, 18, 20]\n",
        "\n",
        "# Create an iterator object using the iter() method\n",
        "my_iterator = iter(my_list)\n",
        "\n",
        "print(next(my_iterator))\n",
        "print(next(my_iterator))\n",
        "print(next(my_iterator))\n",
        "print(next(my_iterator))\n",
        "print(next(my_iterator))\n"
      ],
      "metadata": {
        "colab": {
          "base_uri": "https://localhost:8080/"
        },
        "id": "lAIUnCCiRT9r",
        "outputId": "70a85fb6-213b-4ca9-dc75-aec19957c2ad"
      },
      "execution_count": null,
      "outputs": [
        {
          "output_type": "stream",
          "name": "stdout",
          "text": [
            "2\n",
            "4\n",
            "6\n",
            "8\n",
            "10\n"
          ]
        }
      ]
    },
    {
      "cell_type": "markdown",
      "source": [
        "Q4.  What is a generator function in python? Why yield keyword is used? Give an example of a generator function."
      ],
      "metadata": {
        "id": "wc8OtCfhTDiQ"
      }
    },
    {
      "cell_type": "markdown",
      "source": [
        "\n",
        "\n",
        "> A generator function in Python is a special type of function that can be used to generate a series of values using the yield keyword. Instead of returning a single value, like a regular function, a generator function yields a value each time it is called. This allows you to generate a sequence of values on the fly, without having to create a large list or array in memory.\n",
        "\n",
        "\n",
        "\n",
        "> The yield keyword is used in a generator function to indicate that a value should be yielded to the caller. When a generator function is called, it returns an iterator object that can be used to iterate over the sequence of values generated by the function. Each time the yield keyword is encountered in the function, the value after the keyword is yielded to the iterator. When the end of the function is reached, the iterator raises a StopIteration exception to indicate that there are no more values to be generated.\n",
        "\n",
        "\n",
        "\n"
      ],
      "metadata": {
        "id": "NsWKitL9TY1Y"
      }
    },
    {
      "cell_type": "code",
      "source": [
        "# generator function\n",
        "\n",
        "def my_generator():\n",
        "    for i in range(10):\n",
        "        yield i**2\n",
        "\n",
        "# Use the generator function to generate a sequence of values\n",
        "for val in my_generator():\n",
        "    print(val)"
      ],
      "metadata": {
        "colab": {
          "base_uri": "https://localhost:8080/"
        },
        "id": "deQUSGt2SlzO",
        "outputId": "6c1d5a31-63b7-4e1f-efe0-3530df4720e9"
      },
      "execution_count": null,
      "outputs": [
        {
          "output_type": "stream",
          "name": "stdout",
          "text": [
            "0\n",
            "1\n",
            "4\n",
            "9\n",
            "16\n",
            "25\n",
            "36\n",
            "49\n",
            "64\n",
            "81\n"
          ]
        }
      ]
    },
    {
      "cell_type": "markdown",
      "source": [
        "Q5. Create a generator function for prime numbers less than 1000. Use the next() method to print the first 20 prime numbers."
      ],
      "metadata": {
        "id": "0j_qrcWVT_Go"
      }
    },
    {
      "cell_type": "code",
      "source": [
        "def primes_generator():\n",
        "    primes = []\n",
        "    for n in range(2, 1000): # 2 started for first smallest prime no.\n",
        "        for p in primes:\n",
        "            if n % p == 0:\n",
        "                break\n",
        "        else:\n",
        "            primes.append(n)\n",
        "            yield n\n"
      ],
      "metadata": {
        "id": "9JLy9ZzpT8RW"
      },
      "execution_count": null,
      "outputs": []
    },
    {
      "cell_type": "code",
      "source": [
        "primes = primes_generator()\n",
        "for i in range(20):\n",
        "    print(next(primes))"
      ],
      "metadata": {
        "colab": {
          "base_uri": "https://localhost:8080/"
        },
        "id": "FJMf8tESUObZ",
        "outputId": "a18beee3-e111-4aa0-9e17-ff03a5e9ccbc"
      },
      "execution_count": null,
      "outputs": [
        {
          "output_type": "stream",
          "name": "stdout",
          "text": [
            "2\n",
            "3\n",
            "5\n",
            "7\n",
            "11\n",
            "13\n",
            "17\n",
            "19\n",
            "23\n",
            "29\n",
            "31\n",
            "37\n",
            "41\n",
            "43\n",
            "47\n",
            "53\n",
            "59\n",
            "61\n",
            "67\n",
            "71\n"
          ]
        }
      ]
    },
    {
      "cell_type": "markdown",
      "source": [
        "Q6. Write a python program to print the first 10 Fibonacci numbers using a while loop."
      ],
      "metadata": {
        "id": "iP_r-N2DUg5Q"
      }
    },
    {
      "cell_type": "code",
      "source": [
        "# initialize the first two numbers of the sequence\n",
        "a = 0\n",
        "b = 1\n",
        "\n",
        "# print the first 10 Fibonacci numbers\n",
        "count = 0\n",
        "while count < 10:\n",
        "    print(a)\n",
        "    c = a + b\n",
        "    # update values of a and b for the next iteration\n",
        "    a = b\n",
        "    b = c\n",
        "    count += 1"
      ],
      "metadata": {
        "colab": {
          "base_uri": "https://localhost:8080/"
        },
        "id": "y6jbILkDUSHv",
        "outputId": "a1ea5fa8-e634-4b8a-90a3-b6b4fd5df188"
      },
      "execution_count": null,
      "outputs": [
        {
          "output_type": "stream",
          "name": "stdout",
          "text": [
            "0\n",
            "1\n",
            "1\n",
            "2\n",
            "3\n",
            "5\n",
            "8\n",
            "13\n",
            "21\n",
            "34\n"
          ]
        }
      ]
    },
    {
      "cell_type": "markdown",
      "source": [
        "Q7. Write a List Comprehension to iterate through the given \n",
        "\n",
        "string: ‘pwskills’.\n",
        "\n",
        "Expected output: ['p', 'w', 's', 'k', 'i', 'l', 'l', 's']"
      ],
      "metadata": {
        "id": "ObUaM_lyUuwo"
      }
    },
    {
      "cell_type": "code",
      "source": [
        "string = 'pwskills'\n",
        "\n",
        "output = [string[i] for i in range(len(string)) if i % 1 == 0]\n",
        "\n",
        "print(output)"
      ],
      "metadata": {
        "colab": {
          "base_uri": "https://localhost:8080/"
        },
        "id": "ZBuoT62NUs1n",
        "outputId": "4ee202f2-b9da-4395-adce-7605291bd3e6"
      },
      "execution_count": null,
      "outputs": [
        {
          "output_type": "stream",
          "name": "stdout",
          "text": [
            "['p', 'w', 's', 'k', 'i', 'l', 'l', 's']\n"
          ]
        }
      ]
    },
    {
      "cell_type": "markdown",
      "source": [
        "Q8. Write a python program to check whether a given number is Palindrome or not using a while loop."
      ],
      "metadata": {
        "id": "jP6DeG58VQPA"
      }
    },
    {
      "cell_type": "code",
      "source": [
        "num = int(input(\"Enter a number: \"))\n",
        "b = num\n",
        "reverse_num = 0\n",
        "\n",
        "while b > 0:\n",
        "    digit = b % 10\n",
        "    reverse_num = reverse_num * 10 + digit\n",
        "    b = b // 10\n",
        "\n",
        "if num == reverse_num:\n",
        "    print(num, \"is a palindrome number\")\n",
        "else:\n",
        "    print(num, \"is not a palindrome number\")"
      ],
      "metadata": {
        "colab": {
          "base_uri": "https://localhost:8080/"
        },
        "id": "YuFP6P0pU94R",
        "outputId": "3ea25553-fae3-406c-84ed-d7bb534877c4"
      },
      "execution_count": null,
      "outputs": [
        {
          "output_type": "stream",
          "name": "stdout",
          "text": [
            "Enter a number: 123321\n",
            "123321 is a palindrome number\n"
          ]
        }
      ]
    },
    {
      "cell_type": "markdown",
      "source": [
        "Q9. Write a code to print odd numbers from 1 to 100 using list comprehension\n",
        "\n",
        "Note: Use a list comprehension to create a list from 1 to 100 and use another List comprehension to filter\n",
        "out odd numbers."
      ],
      "metadata": {
        "id": "g1DuPocpWD9Y"
      }
    },
    {
      "cell_type": "code",
      "source": [
        "numbers = [num for num in range(1, 101)]\n",
        "print(numbers)\n",
        "odd_numbers = [i for i in numbers if i % 2 != 0]\n",
        "print(odd_numbers)"
      ],
      "metadata": {
        "colab": {
          "base_uri": "https://localhost:8080/"
        },
        "id": "W201usVHVyBf",
        "outputId": "8c39af23-e3d1-490b-cc38-ec01f45788ab"
      },
      "execution_count": null,
      "outputs": [
        {
          "output_type": "stream",
          "name": "stdout",
          "text": [
            "[1, 2, 3, 4, 5, 6, 7, 8, 9, 10, 11, 12, 13, 14, 15, 16, 17, 18, 19, 20, 21, 22, 23, 24, 25, 26, 27, 28, 29, 30, 31, 32, 33, 34, 35, 36, 37, 38, 39, 40, 41, 42, 43, 44, 45, 46, 47, 48, 49, 50, 51, 52, 53, 54, 55, 56, 57, 58, 59, 60, 61, 62, 63, 64, 65, 66, 67, 68, 69, 70, 71, 72, 73, 74, 75, 76, 77, 78, 79, 80, 81, 82, 83, 84, 85, 86, 87, 88, 89, 90, 91, 92, 93, 94, 95, 96, 97, 98, 99, 100]\n",
            "[1, 3, 5, 7, 9, 11, 13, 15, 17, 19, 21, 23, 25, 27, 29, 31, 33, 35, 37, 39, 41, 43, 45, 47, 49, 51, 53, 55, 57, 59, 61, 63, 65, 67, 69, 71, 73, 75, 77, 79, 81, 83, 85, 87, 89, 91, 93, 95, 97, 99]\n"
          ]
        }
      ]
    },
    {
      "cell_type": "code",
      "source": [],
      "metadata": {
        "id": "Y9CqnzUoWf_y"
      },
      "execution_count": null,
      "outputs": []
    }
  ]
}