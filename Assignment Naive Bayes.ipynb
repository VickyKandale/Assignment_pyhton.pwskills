{
 "cells": [
  {
   "cell_type": "markdown",
   "id": "f811667c-0bb8-45c9-80e0-adb76f9cab56",
   "metadata": {},
   "source": [
    "# Naive bayes-1"
   ]
  },
  {
   "cell_type": "markdown",
   "id": "3a1bcacc-2733-449f-9538-677dad4d71be",
   "metadata": {},
   "source": [
    "## Q1. What is Bayes' theorem?"
   ]
  },
  {
   "cell_type": "markdown",
   "id": "156acd4b-ed60-4b57-9d61-7d117c22cae8",
   "metadata": {},
   "source": [
    "\n",
    "Bayes' theorem is a mathematical formula that describes how to update a belief, given some evidence. In other words, it describes the act of learning.\n",
    "\n",
    "The theorem is named after Thomas Bayes, an English mathematician who published it in 1763. Bayes' theorem is used in a wide variety of fields, including statistics, machine learning, and artificial intelligence.\n",
    "```\n",
    "P(A|B) = P(B|A) * P(A) / P(B)\n",
    "```\n",
    "where:\n",
    "\n",
    "P(A|B) is the probability of event A occurring, given that event B has occurred.\n",
    "P(B|A) is the probability of event B occurring, given that event A has occurred.\n",
    "P(A) is the probability of event A occurring.\n",
    "P(B) is the probability of event B occurring.\n",
    "Bayes' theorem can be used to solve a variety of problems, such as:\n",
    "\n",
    "Predicting the probability of a disease, given a set of symptoms.\n",
    "Determining the likelihood of a criminal suspect, given the evidence at the crime scene.\n",
    "Classifying a piece of text as spam or ham, given the words in the text.\n",
    "Bayes' theorem is a powerful tool that can be used to make informed decisions in the face of uncertainty. It is a fundamental concept in statistics and machine learning, and it is used in a wide variety of applications."
   ]
  },
  {
   "cell_type": "markdown",
   "id": "bc24d664-5333-4bf6-828f-f41237c1229d",
   "metadata": {},
   "source": [
    "## Q2. What is the formula for Bayes' theorem?"
   ]
  },
  {
   "cell_type": "markdown",
   "id": "481022aa-286d-4e97-8eef-7f6e05517114",
   "metadata": {},
   "source": [
    "The formula for Bayes' theorem is:\n",
    "\n",
    "P(A|B) = P(B|A) * P(A) / P(B)\n",
    "\n",
    "\n",
    "The formula for Bayes' theorem is:\n",
    "```\n",
    "P(A|B) = P(B|A) * P(A) / P(B)\n",
    "```\n",
    "where:\n",
    "\n",
    "P(A|B) is the probability of event A occurring, given that event B has occurred.\n",
    "P(B|A) is the probability of event B occurring, given that event A has occurred.\n",
    "P(A) is the probability of event A occurring.\n",
    "P(B) is the probability of event B occurring.\n",
    "In other words, Bayes' theorem tells us how to update our belief about the probability of event A occurring, given that we have observed event B.\n",
    "\n",
    "For example, let's say that we are trying to determine the probability of a patient having a disease, given that they have a positive test result. We can use Bayes' theorem to calculate this probability as follows:\n",
    "```\n",
    "P(Disease|Positive Test) = P(Positive Test|Disease) * P(Disease) / P(Positive Test)\n",
    "```\n",
    "\n",
    "In this case, event A is having the disease and event B is having a positive test result.\n",
    "\n",
    "- P(Disease|Positive Test) is the probability of having the disease, given that you have a positive test result. This is the probability that we are trying to calculate.\n",
    "- P(Positive Test|Disease) is the probability of having a positive test result, given that you have the disease. This is the probability of getting a positive test result if you actually have the disease.\n",
    "- P(Disease) is the probability of having the disease. This is the prior probability of having the disease, before we have any information about the test result.\n",
    "- P(Positive Test) is the probability of having a positive test result. This is the probability of getting a positive test result, regardless of whether or not you have the disease.\n",
    "\n",
    "Once we have calculated the probability of having the disease, given that we have a positive test result, we can use this information to make a decision about whether or not to treat the patient.\n",
    "\n",
    "Bayes' theorem is a powerful tool that can be used to update our beliefs in the face of new evidence. It is a fundamental concept in statistics and machine learning, and it is used in a wide variety of applications.\n"
   ]
  },
  {
   "cell_type": "markdown",
   "id": "fdd7f78f-1607-4506-94a7-edbe38c45dcb",
   "metadata": {},
   "source": [
    "## Q3. How is Bayes' theorem used in practice?"
   ]
  },
  {
   "cell_type": "markdown",
   "id": "371b3557-0bcf-460f-afd9-984792be41a3",
   "metadata": {},
   "source": [
    "Bayes' theorem is used in a wide variety of applications, including:\n",
    "\n",
    "- Medical diagnosis: Bayes' theorem can be used to calculate the probability of a patient having a disease, given a set of symptoms. This information can be used to make decisions about treatment.\n",
    "- Fraud detection: Bayes' theorem can be used to calculate the probability of a transaction being fraudulent, given a set of features. This information can be used to identify fraudulent transactions and prevent fraud.\n",
    "- Natural language processing: Bayes' theorem can be used to classify text as spam or ham, given the words in the text. This information can be used to filter spam emails and improve the accuracy of search results.\n",
    "- Recommender systems: Bayes' theorem can be used to calculate the probability of a user liking an item, given the user's past behavior. This information can be used to recommend items to users that they are likely to enjoy.\n",
    "\n",
    "Bayes' theorem is a powerful tool that can be used to make informed decisions in the face of uncertainty. It is a fundamental concept in statistics and machine learning, and it is used in a wide variety of applications.\n",
    "\n",
    "Here are some specific examples of how Bayes' theorem is used in practice:\n",
    "\n",
    "- In the medical field, Bayes' theorem is used to calculate the probability of a patient having a disease, given a set of symptoms. This information can be used to make decisions about treatment. For example, if a patient has a positive test result for a disease, Bayes' theorem can be used to calculate the probability that the patient actually has the disease. This information can then be used to decide whether or not to treat the patient.\n",
    "- In the financial industry, Bayes' theorem is used to calculate the probability of a loan defaulting, given a set of borrower characteristics. This information can be used to make decisions about whether or not to lend money to borrowers. For example, if a borrower has a low credit score, Bayes' theorem can be used to calculate the probability that they will default on their loan. This information can then be used to decide whether or not to lend money to the borrower.\n",
    "- In the marketing industry, Bayes' theorem is used to calculate the probability of a customer clicking on an ad, given a set of ad characteristics. This information can be used to improve the targeting of ads. For example, if an ad is about a product that a customer has previously shown interest in, Bayes' theorem can be used to calculate the probability that the customer will click on the ad. This information can then be used to show the ad to the customer more often.\n",
    "\n",
    "These are just a few examples of how Bayes' theorem is used in practice. Bayes' theorem is a powerful tool that can be used to make informed decisions in a variety of fields."
   ]
  },
  {
   "cell_type": "markdown",
   "id": "e2b2a2f3-bf01-4c5a-9a54-0c2dca03245a",
   "metadata": {},
   "source": [
    "## Q4. What is the relationship between Bayes' theorem and conditional probability?"
   ]
  },
  {
   "cell_type": "markdown",
   "id": "9617e95b-0a7b-4f96-8969-15624ffcc67e",
   "metadata": {},
   "source": [
    "Bayes' theorem and conditional probability are closely related concepts. Bayes' theorem is a formula that describes how to update a belief, given some evidence. Conditional probability is the probability of one event occurring, given that another event has already occurred.\n",
    "\n",
    "The relationship between Bayes' theorem and conditional probability can be seen in the formula for Bayes' theorem:\n",
    "\n",
    "P(A|B) = P(B|A) * P(A) / P(B)\n",
    "\n",
    "\n",
    "Bayes' theorem and conditional probability are closely related concepts. Bayes' theorem is a formula that describes how to update a belief, given some evidence. Conditional probability is the probability of one event occurring, given that another event has already occurred.\n",
    "\n",
    "The relationship between Bayes' theorem and conditional probability can be seen in the formula for Bayes' theorem:\n",
    "\n",
    "Code snippet\n",
    "P(A|B) = P(B|A) * P(A) / P(B)\n",
    "Use code with caution. Learn more\n",
    "where:\n",
    "\n",
    "P(A|B) is the probability of event A occurring, given that event B has occurred.\n",
    "\n",
    "P(B|A) is the probability of event B occurring, given that event A has occurred.\n",
    "\n",
    "P(A) is the probability of event A occurring.\n",
    "\n",
    "P(B) is the probability of event B occurring.\n",
    "\n",
    "In other words, Bayes' theorem tells us how to update our belief about the probability of event A occurring, given that we have observed event B.\n",
    "\n",
    "Conditional probability can be seen as a special case of Bayes' theorem, where the probability of event A occurring is the prior probability and the probability of event B occurring is the likelihood.\n",
    "\n",
    "For example, let's say that we are trying to determine the probability of a patient having a disease, given that they have a positive test result. We can use Bayes' theorem to calculate this probability as follows:\n",
    "\n",
    "In this case, event A is having the disease and event B is having a positive test result.\n",
    "\n",
    "- P(Disease|Positive Test) is the probability of having the disease, given that you have a positive test result. This is the probability that we are trying to calculate.\n",
    "- P(Positive Test|Disease) is the probability of having a positive test result, given that you have the disease. This is the probability of getting a positive test result if you actually have the disease.\n",
    "- P(Disease) is the probability of having the disease. This is the prior probability of having the disease, before we have any information about the test result.\n",
    "- P(Positive Test) is the probability of having a positive test result. This is the probability of getting a positive test result, regardless of whether or not you have the disease.\n",
    "\n",
    "As you can see, the probability of event A occurring, given that event B has occurred (P(Disease|Positive Test)) is calculated using the conditional probability of event B occurring, given that event A has occurred (P(Positive Test|Disease)) and the prior probability of event A occurring (P(Disease)).\n",
    "\n",
    "Bayes' theorem and conditional probability are both powerful tools that can be used to make informed decisions in the face of uncertainty. They are closely related concepts, and they can be used to solve a variety of problems."
   ]
  },
  {
   "cell_type": "markdown",
   "id": "7faef260-a196-4d5d-aadb-4fa3336384d7",
   "metadata": {},
   "source": [
    "## Q5. How do you choose which type of Naive Bayes classifier to use for any given problem?"
   ]
  },
  {
   "cell_type": "markdown",
   "id": "91cc704e-5335-403a-bbb1-476388cb6948",
   "metadata": {},
   "source": [
    "here are three main types of Naive Bayes classifiers: Gaussian Naive Bayes, Multinomial Naive Bayes, and Bernoulli Naive Bayes. The type of classifier that you choose for a given problem will depend on the nature of the data that you are using.\n",
    "\n",
    "- Gaussian Naive Bayes is used when the features of the data are continuous. For example, if you are trying to classify images of cats and dogs, the features of the data might be the pixel values of the images. Gaussian Naive Bayes assumes that the features are normally distributed.\n",
    "- Multinomial Naive Bayes is used when the features of the data are discrete. For example, if you are trying to classify text as spam or ham, the features of the data might be the words that appear in the text. Multinomial Naive Bayes assumes that the features are multinomially distributed.\n",
    "- Bernoulli Naive Bayes is a special case of Multinomial Naive Bayes where the features can only take on two values, such as 0 or 1. For example, if you are trying to classify whether a website is a phishing website or not, the features of the data might be whether or not the website contains certain keywords. Bernoulli Naive Bayes assumes that the features are Bernoulli distributed.\n",
    "\n",
    "In general, Gaussian Naive Bayes is a good choice for problems where the features are continuous and have a normal distribution. Multinomial Naive Bayes is a good choice for problems where the features are discrete and have a multinomial distribution. Bernoulli Naive Bayes is a good choice for problems where the features can only take on two values.\n",
    "\n",
    "However, the best way to choose which type of Naive Bayes classifier to use for a given problem is to experiment with different classifiers and see which one performs the best.\n",
    "\n",
    "Here are some additional factors to consider when choosing a Naive Bayes classifier:\n",
    "\n",
    "- The size of the dataset: If the dataset is small, Gaussian Naive Bayes may be a better choice than Multinomial Naive Bayes, because it is less sensitive to overfitting.\n",
    "- The number of features: If the number of features is large, Multinomial Naive Bayes may be a better choice than Gaussian Naive Bayes, because it is more scalable.\n",
    "- The prior probabilities: If the prior probabilities of the classes are known, Gaussian Naive Bayes can be used to incorporate them into the model.\n",
    "\n",
    "Ultimately, the best way to choose a Naive Bayes classifier for a given problem is to experiment with different classifiers and see which one performs the best."
   ]
  },
  {
   "cell_type": "markdown",
   "id": "4e31d52e-0e0a-4913-ae31-3aff9d059324",
   "metadata": {},
   "source": [
    "### Q6)You have a dataset with two features, X1 and X2, and two possible classes, A and B. You want to use Naive Bayes to classify a new instance with features X1 = 3 and X2 = 4. The following table shows the frequency of each feature value for each class:\n",
    "\n",
    "### Class\t X1=1 X1=2 \tX1=3 \tX2=1 \tX2=2 \tX2=3\t X2=4\n",
    "\n",
    " ### A\t 3\t 3\t 4\t 4\t 3\t 3\t 3\n",
    "\n",
    " ### B\t 2\t 2\t 1\t 2\t 2\t 2\t 3\n",
    "\n",
    "### Assuming equal prior probabilities for each class, which class would Naive Bayes predict the new instance to belong to?"
   ]
  },
  {
   "cell_type": "markdown",
   "id": "f4d01692-61f2-489e-a323-5eb42f5a6f3a",
   "metadata": {},
   "source": [
    "The Naive Bayes classifier assumes that the features are independent of each other. This means that the probability of a feature value occurring does not depend on the value of any other feature.\n",
    "\n",
    "In this case, we have two features, X1 and X2, and two possible classes, A and B. The table shows the frequency of each feature value for each class.\n",
    "\n",
    "To calculate the probability of a new instance with features X1 = 3 and X2 = 4 belonging to class A, we need to multiply the probabilities of the individual feature values. The probability of X1 = 3 occurring in class A is 4 / 12, and the probability of X2 = 4 occurring in class A is 3 / 8. So, the probability of a new instance with features X1 = 3 and X2 = 4 belonging to class A is:\n",
    "        (4 / 12) * (3 / 8) = 1/8\n",
    "\n",
    "The probability of a new instance with features X1 = 3 and X2 = 4 belonging to class B is:\n",
    "\n",
    "       (1 / 12) * (3 / 8) = 1/24\n",
    "       \n",
    "\n",
    "Sure, I can help you with that.\n",
    "\n",
    "The Naive Bayes classifier assumes that the features are independent of each other. This means that the probability of a feature value occurring does not depend on the value of any other feature.\n",
    "\n",
    "In this case, we have two features, X1 and X2, and two possible classes, A and B. The table shows the frequency of each feature value for each class.\n",
    "\n",
    "To calculate the probability of a new instance with features X1 = 3 and X2 = 4 belonging to class A, we need to multiply the probabilities of the individual feature values. The probability of X1 = 3 occurring in class A is 4 / 12, and the probability of X2 = 4 occurring in class A is 3 / 8. So, the probability of a new instance with features X1 = 3 and X2 = 4 belonging to class A is:\n",
    "\n",
    "(4 / 12) * (3 / 8) = 1/8\n",
    "\n",
    "The probability of a new instance with features X1 = 3 and X2 = 4 belonging to class B is:\n",
    "\n",
    "(1 / 12) * (3 / 8) = 1/24\n",
    "\n",
    "Since the prior probabilities of the classes are equal, the class with the higher probability will be the one that the Naive Bayes classifier predicts the new instance to belong to. In this case, the probability of the new instance belonging to class A is higher than the probability of it belonging to class B, so the Naive Bayes classifier would predict the new instance to belong to class A.\n",
    "\n",
    "Here is a summary of the calculations:\n",
    "\n",
    "Class A:\n",
    "\n",
    "P(X1 = 3) = 4 / 12 = 1/3\n",
    "P(X2 = 4) = 3 / 8\n",
    "P(A) = 1/2\n",
    "\n",
    "Class B:\n",
    "\n",
    "P(X1 = 3) = 1 / 12\n",
    "P(X2 = 4) = 3 / 8\n",
    "P(B) = 1/2\n",
    "\n",
    "Probability of new instance belonging to class A:\n",
    "\n",
    "P(A|X1 = 3, X2 = 4) = P(X1 = 3, X2 = 4|A) * P(A) = (1/3) * (3/8) = 1/8\n",
    "\n",
    "Probability of new instance belonging to class B:\n",
    "\n",
    "P(B|X1 = 3, X2 = 4) = P(X1 = 3, X2 = 4|B) * P(B) = (1/12) * (3/8) = 1/24\n",
    "Conclusion: The Naive Bayes classifier would predict the new instance to belong to class A.       "
   ]
  },
  {
   "cell_type": "code",
   "execution_count": null,
   "id": "b1a3e792-1ab4-4ea7-9388-fc0387e47d26",
   "metadata": {},
   "outputs": [],
   "source": []
  }
 ],
 "metadata": {
  "kernelspec": {
   "display_name": "Python 3 (ipykernel)",
   "language": "python",
   "name": "python3"
  },
  "language_info": {
   "codemirror_mode": {
    "name": "ipython",
    "version": 3
   },
   "file_extension": ".py",
   "mimetype": "text/x-python",
   "name": "python",
   "nbconvert_exporter": "python",
   "pygments_lexer": "ipython3",
   "version": "3.10.8"
  }
 },
 "nbformat": 4,
 "nbformat_minor": 5
}
