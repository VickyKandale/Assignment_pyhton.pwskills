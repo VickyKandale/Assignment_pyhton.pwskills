{
 "cells": [
  {
   "cell_type": "markdown",
   "id": "05913574-2e8e-499c-b809-ca649ac4c2e4",
   "metadata": {},
   "source": [
    "# Q1. Explain why we have to use the Exception class while creating a Custom Exception.\n",
    "\n",
    "# Note: Here Exception class refers to the base class for all the exceptions"
   ]
  },
  {
   "cell_type": "markdown",
   "id": "e0dcba77-fd9e-4053-96b2-28b6efffdf45",
   "metadata": {},
   "source": [
    "We use the Exception class as the base class when creating custom exceptions because it provides a standard interface and behavior for all types of exceptions in Python. The Exception class defines methods like __init__(), __str__(), and __repr__() that are used to initialize and represent an exception object.\n",
    "\n",
    "By inheriting from the Exception class, we can take advantage of these methods and customize our own exception class to suit our needs. For example, we can define custom error messages, stack traces, or additional attributes to the exception object.\n",
    "\n",
    "In addition, by using the Exception class as the base class, our custom exception will also inherit from other built-in exception classes such as RuntimeError, ValueError, or TypeError, which can be useful when catching and handling different types of exceptions in our code.\n",
    "\n",
    "Overall, using the Exception class as the base class when creating a custom exception provides consistency and compatibility with the rest of the Python exception hierarchy."
   ]
  },
  {
   "cell_type": "markdown",
   "id": "414d3712-3e0a-42bc-93aa-a69efae78902",
   "metadata": {},
   "source": [
    "# Q2. Write a python program to print Python Exception Hierarchy."
   ]
  },
  {
   "cell_type": "markdown",
   "id": "b2aac09c-f580-442b-b933-bc1492f9e61e",
   "metadata": {},
   "source": [
    "Sure, here's a Python program to print the Python Exception Hierarchy using the Exception class:"
   ]
  },
  {
   "cell_type": "code",
   "execution_count": null,
   "id": "c46a47ba-9f3d-4edd-9416-6931f117216b",
   "metadata": {},
   "outputs": [],
   "source": [
    "def print_exception_hierarchy(exception, indent=0):\n",
    "    print(\" \" * indent + exception.__name__)\n",
    "    for subclass in exception.__subclasses__():\n",
    "        print_exception_hierarchy(subclass, indent + 4)\n",
    "\n",
    "print_exception_hierarchy(BaseException)\n"
   ]
  },
  {
   "cell_type": "markdown",
   "id": "469d4e1d-aa90-438b-bdda-0f6a1394fab7",
   "metadata": {},
   "source": [
    "# Q3. What errors are defined in the ArithmeticError class? Explain any two with an example"
   ]
  },
  {
   "cell_type": "markdown",
   "id": "6af9959a-ddb4-4cc3-afc1-1736bede7847",
   "metadata": {},
   "source": [
    "The ArithmeticError is a base class for all the errors that occur during arithmetic operations such as division by zero, operation on invalid numbers, etc. It is a subclass of the Exception class and a superclass of several other exception classes, including ZeroDivisionError, OverflowError, and FloatingPointError.\n",
    "\n",
    "Here are two examples of errors that are defined in the ArithmeticError class:\n",
    "\n",
    "1. ZeroDivisionError: This error occurs when we try to divide a number by zero. For example, consider the following code:"
   ]
  },
  {
   "cell_type": "code",
   "execution_count": 3,
   "id": "042d65ae-9c34-40e6-936d-bbc56eebc73d",
   "metadata": {},
   "outputs": [
    {
     "ename": "ZeroDivisionError",
     "evalue": "division by zero",
     "output_type": "error",
     "traceback": [
      "\u001b[0;31m---------------------------------------------------------------------------\u001b[0m",
      "\u001b[0;31mZeroDivisionError\u001b[0m                         Traceback (most recent call last)",
      "Cell \u001b[0;32mIn[3], line 3\u001b[0m\n\u001b[1;32m      1\u001b[0m a \u001b[38;5;241m=\u001b[39m \u001b[38;5;241m5\u001b[39m\n\u001b[1;32m      2\u001b[0m b \u001b[38;5;241m=\u001b[39m \u001b[38;5;241m0\u001b[39m\n\u001b[0;32m----> 3\u001b[0m c \u001b[38;5;241m=\u001b[39m \u001b[43ma\u001b[49m\u001b[38;5;241;43m/\u001b[39;49m\u001b[43mb\u001b[49m\n",
      "\u001b[0;31mZeroDivisionError\u001b[0m: division by zero"
     ]
    }
   ],
   "source": [
    "a = 5\n",
    "b = 0\n",
    "c = a/b\n"
   ]
  },
  {
   "cell_type": "markdown",
   "id": "8bdc7cc4-6b6d-42da-9854-1bd5f026a062",
   "metadata": {},
   "source": [
    "Here, the variable b is assigned a value of 0, which will result in a ZeroDivisionError when we try to divide a by b. This error can be handled using a try-except block like this:"
   ]
  },
  {
   "cell_type": "code",
   "execution_count": 4,
   "id": "8ee9c2cc-98fc-4ca0-b5bd-7e306df7db7f",
   "metadata": {},
   "outputs": [
    {
     "name": "stdout",
     "output_type": "stream",
     "text": [
      "Cannot divide by zero\n"
     ]
    }
   ],
   "source": [
    "try:\n",
    "    a = 5\n",
    "    b = 0\n",
    "    c = a/b\n",
    "except ZeroDivisionError:\n",
    "    print(\"Cannot divide by zero\")\n"
   ]
  },
  {
   "cell_type": "markdown",
   "id": "402fb7d1-5bf3-498e-876a-35bd5d667015",
   "metadata": {},
   "source": [
    "In this example, the try block attempts to divide a by b, which will raise a ZeroDivisionError. The except block catches the error and prints a message to the console.\n",
    "\n",
    "2. OverflowError: This error occurs when the result of an arithmetic operation exceeds the maximum value that can be represented by the data type being used. For example, consider the following code:"
   ]
  },
  {
   "cell_type": "code",
   "execution_count": 7,
   "id": "6ac2b598-e8da-412f-a0ae-7abd91ea0935",
   "metadata": {},
   "outputs": [
    {
     "data": {
      "text/plain": [
       "inf"
      ]
     },
     "execution_count": 7,
     "metadata": {},
     "output_type": "execute_result"
    }
   ],
   "source": [
    "a = 1e1000\n",
    "b = a*a\n",
    "b"
   ]
  },
  {
   "cell_type": "markdown",
   "id": "051a3cf0-1a03-493b-8d49-5ad154302459",
   "metadata": {},
   "source": [
    "Here, the variable a is assigned a value of 1e1000, which is a very large number that cannot be represented by a standard floating-point data type. When we try to multiply a by itself, the result will be an extremely large number that cannot be represented either, resulting in an OverflowError.\n",
    "\n",
    "This error can be handled using a try-except block like this:"
   ]
  },
  {
   "cell_type": "code",
   "execution_count": 9,
   "id": "a25bbe19-a05b-4015-bba7-f4c7c2281aa2",
   "metadata": {},
   "outputs": [],
   "source": [
    "try:\n",
    "    a = 1e1000\n",
    "    b = a*a\n",
    "except OverflowError:\n",
    "    print(\"Result too large to represent\")\n"
   ]
  },
  {
   "cell_type": "markdown",
   "id": "f6de6b68-de96-457b-87dc-700e6507b1a6",
   "metadata": {},
   "source": [
    "# Q4. Why LookupError class is used? Explain with an example KeyError and IndexError."
   ]
  },
  {
   "cell_type": "markdown",
   "id": "eecd3cfc-ab03-4807-a943-ad21ba25cb8a",
   "metadata": {},
   "source": [
    "The LookupError class in Python is a built-in exception that is raised when a key or index is not found in a sequence or mapping. It is a superclass for more specific lookup error exceptions like KeyError and IndexError.\n",
    "\n",
    "A KeyError exception is raised when a key is not found in a dictionary. For example:"
   ]
  },
  {
   "cell_type": "code",
   "execution_count": 1,
   "id": "ac8dbe93-1138-4f3b-a803-daf8ed1fd2f1",
   "metadata": {},
   "outputs": [
    {
     "ename": "KeyError",
     "evalue": "'d'",
     "output_type": "error",
     "traceback": [
      "\u001b[0;31m---------------------------------------------------------------------------\u001b[0m",
      "\u001b[0;31mKeyError\u001b[0m                                  Traceback (most recent call last)",
      "Cell \u001b[0;32mIn[1], line 2\u001b[0m\n\u001b[1;32m      1\u001b[0m my_dict \u001b[38;5;241m=\u001b[39m {\u001b[38;5;124m'\u001b[39m\u001b[38;5;124ma\u001b[39m\u001b[38;5;124m'\u001b[39m: \u001b[38;5;241m1\u001b[39m, \u001b[38;5;124m'\u001b[39m\u001b[38;5;124mb\u001b[39m\u001b[38;5;124m'\u001b[39m: \u001b[38;5;241m2\u001b[39m, \u001b[38;5;124m'\u001b[39m\u001b[38;5;124mc\u001b[39m\u001b[38;5;124m'\u001b[39m: \u001b[38;5;241m3\u001b[39m}\n\u001b[0;32m----> 2\u001b[0m \u001b[38;5;28mprint\u001b[39m(\u001b[43mmy_dict\u001b[49m\u001b[43m[\u001b[49m\u001b[38;5;124;43m'\u001b[39;49m\u001b[38;5;124;43md\u001b[39;49m\u001b[38;5;124;43m'\u001b[39;49m\u001b[43m]\u001b[49m) \u001b[38;5;66;03m# Raises KeyError: 'd'\u001b[39;00m\n",
      "\u001b[0;31mKeyError\u001b[0m: 'd'"
     ]
    }
   ],
   "source": [
    "my_dict = {'a': 1, 'b': 2, 'c': 3}\n",
    "print(my_dict['d']) \n"
   ]
  },
  {
   "cell_type": "markdown",
   "id": "5334740b-e086-4ae4-8276-6340d69b95b8",
   "metadata": {},
   "source": [
    "In this example, my_dict is a dictionary with keys 'a', 'b', and 'c'. When we try to access the key 'd', which is not present in the dictionary, a KeyError is raised.\n",
    "\n",
    "An IndexError exception is raised when an index is out of range for a sequence, such as a list or tuple. For example:"
   ]
  },
  {
   "cell_type": "code",
   "execution_count": 2,
   "id": "c613a98d-d86d-4a4e-81fb-c5461f456f7b",
   "metadata": {},
   "outputs": [
    {
     "ename": "IndexError",
     "evalue": "list index out of range",
     "output_type": "error",
     "traceback": [
      "\u001b[0;31m---------------------------------------------------------------------------\u001b[0m",
      "\u001b[0;31mIndexError\u001b[0m                                Traceback (most recent call last)",
      "Cell \u001b[0;32mIn[2], line 2\u001b[0m\n\u001b[1;32m      1\u001b[0m my_list \u001b[38;5;241m=\u001b[39m [\u001b[38;5;241m1\u001b[39m, \u001b[38;5;241m2\u001b[39m, \u001b[38;5;241m3\u001b[39m]\n\u001b[0;32m----> 2\u001b[0m \u001b[38;5;28mprint\u001b[39m(\u001b[43mmy_list\u001b[49m\u001b[43m[\u001b[49m\u001b[38;5;241;43m3\u001b[39;49m\u001b[43m]\u001b[49m) \u001b[38;5;66;03m# Raises IndexError: list index out of range\u001b[39;00m\n",
      "\u001b[0;31mIndexError\u001b[0m: list index out of range"
     ]
    }
   ],
   "source": [
    "my_list = [1, 2, 3]\n",
    "print(my_list[3]) # Raises IndexError: list index out of range\n"
   ]
  },
  {
   "cell_type": "markdown",
   "id": "f382f520-0dd5-4347-abd0-a57ff50cbcd9",
   "metadata": {},
   "source": [
    "In this example, my_list is a list with elements [1, 2, 3]. When we try to access the element at index 3, which is out of range since the list only has three elements, an IndexError is raised.\n",
    "\n",
    "Both KeyError and IndexError are subclasses of LookupError, which means that they inherit from LookupError. Therefore, if you want to catch all lookup errors at once, you can catch LookupError instead of catching KeyError or IndexError separately. For example:"
   ]
  },
  {
   "cell_type": "code",
   "execution_count": 3,
   "id": "d18120a1-26d3-4edf-a6e2-33551e54fdc0",
   "metadata": {},
   "outputs": [
    {
     "name": "stdout",
     "output_type": "stream",
     "text": [
      "Lookup error: 'd'\n"
     ]
    }
   ],
   "source": [
    "my_dict = {'a': 1, 'b': 2, 'c': 3}\n",
    "my_list = [1, 2, 3]\n",
    "\n",
    "try:\n",
    "    print(my_dict['d'])\n",
    "    print(my_list[3])\n",
    "except LookupError as e:\n",
    "    print(\"Lookup error:\", e)\n"
   ]
  },
  {
   "cell_type": "markdown",
   "id": "b95c993c-cd00-4455-8ad5-f1476c752429",
   "metadata": {},
   "source": [
    "In this example, we try to access a key that doesn't exist in my_dict and an index that is out of range in my_list. Both of these raise lookup errors, which are caught by the except block and printed out as a generic lookup error message."
   ]
  },
  {
   "cell_type": "markdown",
   "id": "69c090d5-a648-4e68-bf81-bf1c01f488c0",
   "metadata": {},
   "source": [
    "# Q5. Explain ImportError. What is ModuleNotFoundError?"
   ]
  },
  {
   "cell_type": "markdown",
   "id": "a9b90ecc-1232-4e2d-9c07-1009bbf1273b",
   "metadata": {},
   "source": [
    "In Python, ImportError is an exception that is raised when an imported module cannot be found or loaded. This can happen for a variety of reasons, such as if the module's name is misspelled, if the module is not installed on the system, or if there is a circular import.\n",
    "\n",
    "For example, let's say we have a module named my_module that we want to import in another module:"
   ]
  },
  {
   "cell_type": "code",
   "execution_count": 4,
   "id": "fc0726d5-b300-4ecc-974b-73e0fc52e548",
   "metadata": {},
   "outputs": [
    {
     "ename": "ModuleNotFoundError",
     "evalue": "No module named 'my_module'",
     "output_type": "error",
     "traceback": [
      "\u001b[0;31m---------------------------------------------------------------------------\u001b[0m",
      "\u001b[0;31mModuleNotFoundError\u001b[0m                       Traceback (most recent call last)",
      "Cell \u001b[0;32mIn[4], line 1\u001b[0m\n\u001b[0;32m----> 1\u001b[0m \u001b[38;5;28;01mimport\u001b[39;00m \u001b[38;5;21;01mmy_module\u001b[39;00m\n",
      "\u001b[0;31mModuleNotFoundError\u001b[0m: No module named 'my_module'"
     ]
    }
   ],
   "source": [
    "import my_module\n"
   ]
  },
  {
   "cell_type": "markdown",
   "id": "a7f832b6-af52-4e43-a463-47335b5317fc",
   "metadata": {},
   "source": [
    "If my_module cannot be found or loaded for some reason, an ImportError will be raised.\n",
    "\n",
    "In Python 3.6 and above, there is a more specific exception called ModuleNotFoundError that is raised when a module cannot be found. This exception is a subclass of ImportError, so it inherits all of its behavior."
   ]
  },
  {
   "cell_type": "markdown",
   "id": "fd76b239-c694-4f94-b9cb-4e77a0e61c8f",
   "metadata": {},
   "source": [
    "# Q6. List down some best practices for exception handling in python. "
   ]
  },
  {
   "cell_type": "markdown",
   "id": "334f7125-ccf9-4b25-9048-360c094265b5",
   "metadata": {},
   "source": [
    "Here are some best practices for exception handling in Python:\n",
    "\n",
    "Be specific: Catch only the exceptions you expect and can handle. Avoid catching Exception or BaseException unless you have a good reason to do so.\n",
    "\n",
    "Use try-except blocks sparingly: Don't use try-except blocks to control the flow of your program. Exceptions should be used to handle unexpected errors, not to control program flow.\n",
    "\n",
    "Handle exceptions at the appropriate level: Catch exceptions at the level of the program where you can handle them most effectively. Don't catch an exception at a lower level if you can't handle it there.\n",
    "\n",
    "Provide useful error messages: When an exception occurs, provide a helpful error message that explains what went wrong and how to fix it.\n",
    "\n",
    "Don't ignore exceptions: Never ignore exceptions. Even if you can't handle an exception, you should at least log it so that you can debug the problem later.\n",
    "\n",
    "Use context managers: Use context managers (with statements) to ensure that resources are properly cleaned up, even in the case of an exception.\n",
    "\n",
    "Avoid catching KeyboardInterrupt: Avoid catching KeyboardInterrupt unless you have a good reason to do so. This exception is raised when the user presses Ctrl+C to interrupt the program, and it should be allowed to propagate to the top level so that the program can cleanly exit.\n",
    "\n",
    "Use custom exceptions: Use custom exceptions to communicate more specific error conditions to callers of your code.\n",
    "\n",
    "Test exception handling: Test your code's exception handling by writing unit tests that intentionally raise exceptions and verifying that they are caught and handled properly."
   ]
  },
  {
   "cell_type": "code",
   "execution_count": null,
   "id": "346418b8-a904-41ff-b42d-eec99c947422",
   "metadata": {},
   "outputs": [],
   "source": []
  }
 ],
 "metadata": {
  "kernelspec": {
   "display_name": "Python 3 (ipykernel)",
   "language": "python",
   "name": "python3"
  },
  "language_info": {
   "codemirror_mode": {
    "name": "ipython",
    "version": 3
   },
   "file_extension": ".py",
   "mimetype": "text/x-python",
   "name": "python",
   "nbconvert_exporter": "python",
   "pygments_lexer": "ipython3",
   "version": "3.10.8"
  }
 },
 "nbformat": 4,
 "nbformat_minor": 5
}
