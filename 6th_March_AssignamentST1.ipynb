{
  "nbformat": 4,
  "nbformat_minor": 0,
  "metadata": {
    "colab": {
      "provenance": [],
      "authorship_tag": "ABX9TyN3Qthw1ExXTQ66LbpGRmgJ",
      "include_colab_link": true
    },
    "kernelspec": {
      "name": "python3",
      "display_name": "Python 3"
    },
    "language_info": {
      "name": "python"
    }
  },
  "cells": [
    {
      "cell_type": "markdown",
      "metadata": {
        "id": "view-in-github",
        "colab_type": "text"
      },
      "source": [
        "<a href=\"https://colab.research.google.com/github/VickyKandale/Assignment_pyhton.pwskills/blob/main/6th_March_AssignamentST1.ipynb\" target=\"_parent\"><img src=\"https://colab.research.google.com/assets/colab-badge.svg\" alt=\"Open In Colab\"/></a>"
      ]
    },
    {
      "cell_type": "markdown",
      "source": [
        "##Q1. What is Statistics?"
      ],
      "metadata": {
        "id": "OcbV7QW7xM6m"
      }
    },
    {
      "cell_type": "markdown",
      "source": [
        "Statistics is a branch of mathematics that deals with the collection, analysis, interpretation, presentation, and organization of numerical data. It involves the use of mathematical tools and techniques to make sense of data and draw meaningful conclusions from it.\n",
        "\n",
        "Statistics can be applied to a wide range of fields, including business, economics, engineering, medicine, psychology, social sciences, and many others. Its primary goal is to provide a systematic and objective approach to data analysis that allows researchers to make evidence-based decisions and draw accurate conclusions.\n",
        "\n",
        "Some of the key concepts in statistics include probability theory, hypothesis testing, sampling, regression analysis, and data visualization. These tools help statisticians to analyze and interpret data in a way that is both meaningful and useful."
      ],
      "metadata": {
        "id": "q0pZ4yc7xTG8"
      }
    },
    {
      "cell_type": "code",
      "execution_count": null,
      "metadata": {
        "id": "Tx2TFsgxxFnX"
      },
      "outputs": [],
      "source": []
    },
    {
      "cell_type": "markdown",
      "source": [
        "##Q2. Define the different types of statistics and give an example of when each type might be used."
      ],
      "metadata": {
        "id": "vWJD_nq6yOgE"
      }
    },
    {
      "cell_type": "markdown",
      "source": [
        "* Types of Statistics\n",
        "There are two kinds of Statistics, which are descriptive Statistics and inferential Statistics. In descriptive Statistics, the Data or Collection Data are described in a summarized way, whereas in inferential Statistics, we make use of it in order to explain the descriptive kind. Both of them are used on a large scale. Also, there is another kind of Statistics where descriptive transitions into inferential Statistics.\n",
        "\n",
        "Statistics is mainly divided into the following two categories. \n",
        "\n",
        ">Descriptive Statistics\n",
        "\n",
        ">Inferential Statistics\n",
        "\n",
        "\n",
        "* Descriptive Statistics\n",
        "In the descriptive Statistics, the Data is described in a summarized way. The summarization is done from the sample of the population using different parameters like Mean or standard deviation. Descriptive Statistics are a way of using charts, graphs, and summary measures to organize, represent, and explain a set of Data. \n",
        "\n",
        "`Data is typically arranged and displayed in tables or graphs summarizing details such as histograms, pie charts, bars or scatter plots.`\n",
        "\n",
        "Descriptive Statistics are just descriptive and thus do not require normalization beyond the Data collected.\n",
        "\n",
        "\n",
        "* Inferential Statistics\n",
        "\n",
        "  In the Inferential Statistics, we try to interpret the Meaning of descriptive Statistics. After the Data has been collected, analyzed, and summarised we use Inferential Statistics to describe the Meaning of the collected Data. \n",
        "\n",
        "  Inferential Statistics use the probability principle to assess whether trends contained in the research sample can be generalized to the larger population from which the sample originally comes.\n",
        "\n",
        "  Inferential Statistics are intended to test hypotheses and investigate relationships between variables and can be used to make population predictions.\n",
        "\n",
        "  Inferential Statistics are used to draw conclusions and inferences, i.e., to make valid generalizations from samples.\n",
        "\n",
        "\n",
        "* Example\n",
        "\n",
        "  In a class, the Data is the set of marks obtained by 50 students. Now when we take out the Data average, the result is the average of 50 students’ marks. If the average marks obtained by 50 students are 88 out of 100, on the basis of the outcome, we will draw a conclusion. "
      ],
      "metadata": {
        "id": "m27DbPhoyMQT"
      }
    },
    {
      "cell_type": "markdown",
      "source": [
        "##Q3.  What are the different types of data and how do they differ from each other? Provide an example of each type of data."
      ],
      "metadata": {
        "id": "Yn1LPS92y037"
      }
    },
    {
      "cell_type": "markdown",
      "source": [
        "The data is classified into majorly four categories:\n",
        "\n",
        "1. Nominal data\n",
        "2. Ordinal data\n",
        "3. Discrete data\n",
        "4. Continuous data\n",
        "\n",
        "Further, we can classify these data as follows:\n",
        "\n",
        "`Qualitative or Categorical Data`\n",
        "\n",
        "Qualitative data, also known as the categorical data, describes the data that fits into the categories. Qualitative data are not numerical. The categorical information involves categorical variables that describe the features such as a person’s gender, home town etc. Categorical measures are defined in terms of natural language specifications, but not in terms of numbers.\n",
        "\n",
        "Sometimes categorical data can hold numerical values (quantitative value), but those values do not have a mathematical sense. Examples of the categorical data are birthdate, favourite sport, school postcode. Here, the birthdate and school postcode hold the quantitative value, but it does not give numerical meaning.\n",
        "\n",
        "`Nominal Data`\n",
        "\n",
        "Nominal data is one of the types of qualitative information which helps to label the variables without providing the numerical value. Nominal data is also called the nominal scale. It cannot be ordered and measured. But sometimes, the data can be qualitative and quantitative. Examples of nominal data are letters, symbols, words, gender etc.\n",
        "\n",
        "The nominal data are examined using the grouping method. In this method, the data are grouped into categories, and then the frequency or the percentage of the data can be calculated. These data are visually represented using the pie charts.\n",
        "\n",
        "`Ordinal Data`\n",
        "\n",
        "Ordinal data/variable is a type of data that follows a natural order. The significant feature of the nominal data is that the difference between the data values is not determined. This variable is mostly found in surveys, finance, economics, questionnaires, and so on.\n",
        "\n",
        "The ordinal data is commonly represented using a bar chart. These data are investigated and interpreted through many visualisation tools. The information may be expressed using tables in which each row in the table shows the distinct category.\n",
        "\n",
        "`Quantitative or Numerical Data`\n",
        "\n",
        "Quantitative data is also known as numerical data which represents the numerical value (i.e., how much, how often, how many). Numerical data gives information about the quantities of a specific thing. Some examples of numerical data are height, length, size, weight, and so on. The quantitative data can be classified into two different types based on the data sets. The two different classifications of numerical data are discrete data and continuous data.\n",
        "\n",
        "`Discrete Data`\n",
        "\n",
        "Discrete data can take only discrete values. Discrete information contains only a finite number of possible values. Those values cannot be subdivided meaningfully. Here, things can be counted in whole numbers.\n",
        "\n",
        "Example: Number of students in the class\n",
        "\n",
        "`Continuous Data`\n",
        "\n",
        "Continuous data is data that can be calculated. It has an infinite number of probable values that can be selected within a given specific range.\n",
        "\n",
        "Example: Temperature range"
      ],
      "metadata": {
        "id": "MTa0TcosXA9b"
      }
    },
    {
      "cell_type": "markdown",
      "source": [
        "## Q4. Categorise the following datasets with respect to quantitative and qualitative data types:\n",
        "\n",
        "(i)\tGrading in exam: A+, A, B+, B, C+, C, D, E\n",
        "\n",
        "(ii)\tColour of mangoes: yellow, green, orange, red\n",
        "\n",
        "(iii)\tHeight data of a class: [178.9, 179, 179.5, 176, 177.2, 178.3, 175.8,...]\n",
        "\n",
        "(iv)\tNumber of mangoes exported by a farm: [500, 600, 478, 672, …]"
      ],
      "metadata": {
        "id": "LxuPH9LwXtrv"
      }
    },
    {
      "cell_type": "markdown",
      "source": [
        "Ans-----\n",
        "\n",
        "(i) Grading in exam: A+, A, B+, B, C+, C, D, E\n",
        "--------Categorical/Qualitative Data\n",
        "\n",
        "(ii) Colour of mangoes: yellow, green, orange, red\n",
        "-------Categorical/Qualitative Data\n",
        "\n",
        "(iii) Height data of a class: [178.9, 179, 179.5, 176, 177.2, 178.3, 175.8,...]\n",
        "-------Numerical/Quantitative Data (Continuous)\n",
        "\n",
        "(iv) Number of mangoes exported by a farm: [500, 600, 478, 672, …]\n",
        "-------Numerical/Quantitative Data (Discrete)"
      ],
      "metadata": {
        "id": "Qal0q8BFX58J"
      }
    },
    {
      "cell_type": "markdown",
      "source": [
        "##Q5. Explain the concept of levels of measurement and give an example of a variable for each level"
      ],
      "metadata": {
        "id": "D1oHM8L6YSEv"
      }
    },
    {
      "cell_type": "markdown",
      "source": [
        "Levels of measurement, also known as scales of measurement, refers to a system that categorizes data based on the nature of the data and the operations that can be performed on that data. There are four levels of measurement: nominal, ordinal, interval, and ratio.\n",
        "\n",
        " `Nominal level of measurement:`\n",
        "Nominal data consists of categories or names and does not have any inherent order or numerical value. Examples of nominal variables are gender (male, female, non-binary) and blood type (A, B, AB, O).\n",
        "\n",
        "`Ordinal level of measurement:`\n",
        "Ordinal data has categories that can be ranked or ordered but do not have any specific numerical value or difference between them. An example of an ordinal variable is the education level (high school, bachelor's degree, master's degree, Ph.D.) or the level of customer satisfaction (very satisfied, satisfied, neutral, dissatisfied, very dissatisfied).\n",
        "\n",
        "`Interval level of measurement:`\n",
        "Interval data has categories that can be ordered and have equal intervals or differences between them, but there is no true zero point. An example of an interval variable is temperature measured in degrees Celsius or Fahrenheit.\n",
        "\n",
        "`Ratio level of measurement:`\n",
        "Ratio data has categories that can be ordered, have equal intervals or differences between them, and a true zero point. Examples of ratio variables are age, weight, height, and income.\n",
        "\n",
        "It is important to understand the level of measurement of a variable, as this determines the appropriate statistical analysis that can be performed on the data."
      ],
      "metadata": {
        "id": "bHVqD8BZZVTK"
      }
    },
    {
      "cell_type": "markdown",
      "source": [
        "##Q6. Why is it important to understand the level of measurement when analyzing data? Provide an example to illustrate your answer."
      ],
      "metadata": {
        "id": "rHTMY5erbd2J"
      }
    },
    {
      "cell_type": "markdown",
      "source": [
        "It is important to understand the level of measurement when analyzing data because it determines the type of statistical analyses that can be applied to the data, and the appropriate methods for summarizing and interpreting the results.\n",
        "\n",
        "For example, consider two variables - age and income - which are both numerical data. Age is measured on a ratio scale, while income is measured on an interval scale. If we want to compare the mean income of two groups, we can use a t-test because income is measured on an interval scale. However, if we want to compare the mean age of two groups, we need to use a different statistical test, such as an ANOVA, because age is measured on a ratio scale.\n",
        "\n",
        "Furthermore, understanding the level of measurement can also inform us about the appropriate graphical representation of the data. For nominal or categorical data, a bar graph or pie chart is suitable, while for numerical data, a histogram or box plot may be more appropriate.\n",
        "\n",
        "In summary, understanding the level of measurement is crucial for selecting the correct statistical analysis and graphical representation of the data. It can help ensure that the conclusions drawn from the data are accurate and valid."
      ],
      "metadata": {
        "id": "3zLX1Roeb-IK"
      }
    },
    {
      "cell_type": "markdown",
      "source": [
        "##Q7. How nominal data type is different from ordinal data type."
      ],
      "metadata": {
        "id": "KPCgCSa7cCXQ"
      }
    },
    {
      "cell_type": "markdown",
      "source": [
        "Nominal and ordinal data types are both categorical data types, but they differ in the level of measurement and the nature of the categories.\n",
        "\n",
        "Nominal data type consists of categories that have no inherent order or ranking, and there is no numerical relationship between the categories. Examples of nominal variables are gender (male, female, non-binary) and eye color (brown, blue, green, etc.). Nominal variables are often used to represent qualitative characteristics that cannot be quantified.\n",
        "\n",
        "On the other hand, ordinal data type consists of categories that can be ranked or ordered, but the intervals between the categories are not necessarily equal. For example, the rankings in a race (first, second, third, etc.) are an example of ordinal data. The rankings have a natural order, but the distance between first and second place may be different from the distance between second and third place.\n",
        "\n",
        "In summary, nominal data type represents categories that are distinct and unrelated, while ordinal data type represents categories that can be ranked or ordered, but do not have a specific numerical relationship between them. The distinction between nominal and ordinal data is important when selecting appropriate statistical tests and when interpreting the results of data analysis."
      ],
      "metadata": {
        "id": "3bjuCrM4cMw4"
      }
    },
    {
      "cell_type": "markdown",
      "source": [
        "##Q8. Which type of plot can be used to display data in terms of range?"
      ],
      "metadata": {
        "id": "HinHvjxNcUHo"
      }
    },
    {
      "cell_type": "markdown",
      "source": [
        "A box plot (also known as a box and whisker plot) is a type of plot that can be used to display data in terms of range. The box plot displays the distribution of data along a number line, with the minimum value, maximum value, median (or second quartile), and first and third quartiles represented by different parts of the box and whiskers.\n",
        "\n",
        "The box in the plot represents the interquartile range (IQR), which is the distance between the first and third quartiles. The whiskers extend from the box and represent the range of the data, excluding any outliers. Outliers are represented as individual points outside the whiskers.\n",
        "\n",
        "Box plots are useful for comparing the range of data between different groups or for displaying the distribution of data for a single variable. They can also be used to identify potential outliers or to examine the symmetry of the data distribution."
      ],
      "metadata": {
        "id": "t4lsKgpica_Z"
      }
    },
    {
      "cell_type": "markdown",
      "source": [
        "##Q9. Describe the difference between descriptive and inferential statistics. Give an example of each type of statistics and explain how they are used."
      ],
      "metadata": {
        "id": "8ipd6j7pciAA"
      }
    },
    {
      "cell_type": "markdown",
      "source": [
        "Descriptive and inferential statistics are two main branches of statistical analysis. They differ in their goals and the methods used to analyze data.\n",
        "\n",
        "Descriptive statistics involves summarizing and describing the characteristics of a sample or population. It is used to present and organize data in a meaningful way. Descriptive statistics can be used to calculate measures such as the mean, median, mode, and standard deviation. Examples of descriptive statistics include frequency distributions, histograms, and summary statistics such as mean and standard deviation.\n",
        "\n",
        "For example, if we collect data on the height of students in a classroom, we can use descriptive statistics to calculate the mean height, the range of heights, and the distribution of heights. Descriptive statistics can help us understand the characteristics of the sample or population being studied.\n",
        "\n",
        "Inferential statistics, on the other hand, involves making generalizations about a larger population based on data collected from a smaller sample. It is used to draw conclusions about the population from the sample data. Inferential statistics involves hypothesis testing, confidence intervals, and regression analysis.\n",
        "\n",
        "For example, if we want to know if there is a significant difference in the mean height of male and female students in a college, we can use inferential statistics. We can collect data from a sample of male and female students and use inferential statistics to test if there is a statistically significant difference in the mean height between the two groups.\n",
        "\n",
        "In summary, descriptive statistics is used to describe and summarize data, while inferential statistics is used to make inferences or draw conclusions about a population based on a sample of data."
      ],
      "metadata": {
        "id": "ElzpZ-KncnZo"
      }
    },
    {
      "cell_type": "markdown",
      "source": [
        "##Q10. What are some common measures of central tendency and variability used in statistics? Explain how each measure can be used to describe a dataset."
      ],
      "metadata": {
        "id": "jO5H9jKrcq7g"
      }
    },
    {
      "cell_type": "markdown",
      "source": [
        "Measures of central tendency and variability are used to describe the characteristics of a dataset. The most common measures of central tendency are the mean, median, and mode, while the most common measures of variability are range, variance, and standard deviation.\n",
        "\n",
        "`Mean:` The mean is the arithmetic average of a set of numbers. It is calculated by adding up all the values in the dataset and dividing by the number of values. The mean is a useful measure of central tendency when the data are normally distributed and there are no extreme values. However, it can be influenced by outliers or extreme values in the data.\n",
        "\n",
        "`Median:` The median is the middle value in a dataset when the values are arranged in order from lowest to highest. The median is a useful measure of central tendency when the data have extreme values or are not normally distributed. The median is not influenced by outliers or extreme values in the data.\n",
        "\n",
        "`Mode:` The mode is the value that occurs most frequently in a dataset. The mode is a useful measure of central tendency when the data are categorical or discrete. The mode can also be used to identify the most common value in a dataset.\n",
        "\n",
        "`Range:` The range is the difference between the largest and smallest values in a dataset. The range is a useful measure of variability when the data are continuous and there are no extreme values. However, it can be influenced by outliers or extreme values in the data.\n",
        "\n",
        "`Variance:` The variance measures the spread of the data around the mean. It is calculated by taking the average of the squared deviations from the mean. The variance is a useful measure of variability when the data are normally distributed and there are no extreme values.\n",
        "\n",
        "`Standard deviation:` The standard deviation is the square root of the variance. It measures the spread of the data around the mean in the same units as the data. The standard deviation is a useful measure of variability when the data are normally distributed and there are no extreme values.\n",
        "\n",
        "In summary, measures 0of central tendency and variability can be used to describe a dataset by summarizing the center and spread of the data. The choice of measure depends on the nature of the data and the research question being investigated."
      ],
      "metadata": {
        "id": "5u70OlVGde-Q"
      }
    },
    {
      "cell_type": "code",
      "source": [],
      "metadata": {
        "id": "Ox_TsyJjyPnq"
      },
      "execution_count": null,
      "outputs": []
    }
  ]
}