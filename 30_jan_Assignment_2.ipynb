{
  "nbformat": 4,
  "nbformat_minor": 0,
  "metadata": {
    "colab": {
      "provenance": []
    },
    "kernelspec": {
      "name": "python3",
      "display_name": "Python 3"
    },
    "language_info": {
      "name": "python"
    }
  },
  "cells": [
    {
      "cell_type": "markdown",
      "source": [
        "# Assignment - 2"
      ],
      "metadata": {
        "id": "ZN6ORWjyv7g_"
      }
    },
    {
      "cell_type": "markdown",
      "source": [
        "--------------------------------------------------------------------------------\n",
        " Q.1) Answer"
      ],
      "metadata": {
        "id": "TVlkrVVBwE-e"
      }
    },
    {
      "cell_type": "code",
      "source": [
        "Input= int(input(\"Enter the percentage : \"))\n",
        "\n",
        "if Input > 90:\n",
        "  print(\" 'A' Grade \")\n",
        "elif Input > 80 and Input <= 90:\n",
        "  print(\" 'B' Grade \")\n",
        "elif Input >=60 and Input <=80:\n",
        "  print(\" 'C' Grade \")\n",
        "elif Input < 60:\n",
        "  print(\" 'D' Grade \")"
      ],
      "metadata": {
        "colab": {
          "base_uri": "https://localhost:8080/"
        },
        "id": "Qs0LUD0qwKT0",
        "outputId": "c7100a87-6229-492f-d5e4-b828b54a9967"
      },
      "execution_count": null,
      "outputs": [
        {
          "output_type": "stream",
          "name": "stdout",
          "text": [
            "Enter the percentage : 55\n",
            " 'D' Grade \n"
          ]
        }
      ]
    },
    {
      "cell_type": "markdown",
      "source": [
        "--------------------------------------------------------------------------------\n",
        "Q.2) Answer"
      ],
      "metadata": {
        "id": "NiCJmOH4yFAQ"
      }
    },
    {
      "cell_type": "code",
      "source": [
        "a= int(input(\" Cost price of a Bike : \"))\n",
        "\n",
        "if a> 100000:\n",
        "  print(\" The road tax to be paid : 15 % \")\n",
        "elif a> 50000 and a <= 100000:\n",
        "  print(\" The road tax to be paid : 10 % \")\n",
        "elif a <= 50000:\n",
        "  print(\" The road tax to be paid : 5 % \")\n"
      ],
      "metadata": {
        "colab": {
          "base_uri": "https://localhost:8080/"
        },
        "id": "hdG74ET3yHsx",
        "outputId": "1ce25f05-b9fa-46fe-b791-e4026cb6c4a0"
      },
      "execution_count": null,
      "outputs": [
        {
          "output_type": "stream",
          "name": "stdout",
          "text": [
            " Cost price of a Bike : 75000\n",
            " The road tax to be paid : 10 % \n"
          ]
        }
      ]
    },
    {
      "cell_type": "markdown",
      "source": [
        "--------------------------------------------------------------------------------\n",
        "Q.3) Answer"
      ],
      "metadata": {
        "id": "hDBp5d67zXLQ"
      }
    },
    {
      "cell_type": "code",
      "source": [
        "data= { \"Delhi\": \"Red Fort\", \"Agra\":\"Taj Mahal\", \"Jaipur\":\"Jai Mahal\"}\n",
        "\n",
        "\n",
        "City= input(\"Enter the city name: \")\n",
        "print(f\"Name of Monunment of the city : {data[City]}\")"
      ],
      "metadata": {
        "colab": {
          "base_uri": "https://localhost:8080/"
        },
        "id": "GCRyMizdzaTO",
        "outputId": "aa799e3b-aa4f-4a38-bee3-49eb4b441ecb"
      },
      "execution_count": null,
      "outputs": [
        {
          "output_type": "stream",
          "name": "stdout",
          "text": [
            "Enter the city name: Agra\n",
            "Name of Monunment of the city : Taj Mahal\n"
          ]
        }
      ]
    },
    {
      "cell_type": "markdown",
      "source": [
        "--------------------------------------------------------------------------------\n",
        "Q.4) Answer"
      ],
      "metadata": {
        "id": "eX8fHuh88ZZ7"
      }
    },
    {
      "cell_type": "code",
      "source": [
        "num = int(input(\"Enter a number: \"))\n",
        "count = 0\n",
        "\n",
        "while num >= 10:\n",
        "    num = num // 3\n",
        "    count += 1\n",
        "\n",
        "print(f\"The number can be divided by 3 is  {count} times before it is less than or equal to 10.\")"
      ],
      "metadata": {
        "colab": {
          "base_uri": "https://localhost:8080/"
        },
        "id": "nnzTqItcz89W",
        "outputId": "a2a3a75d-3b99-402e-c1cb-05f2d16583fc"
      },
      "execution_count": null,
      "outputs": [
        {
          "output_type": "stream",
          "name": "stdout",
          "text": [
            "Enter a number: 1562\n",
            "The number can be divided by 3 is  5 times before it is less than or equal to 10.\n"
          ]
        }
      ]
    },
    {
      "cell_type": "markdown",
      "source": [
        "--------------------------------------------------------------------------------\n",
        "Q.5) Why and when to use while loop in python give a detailed description with example?\n",
        "\n",
        "  >In Python, a while loop is used to execute a block of code repeatedly as \n",
        "long as a certain condition is true. The loop continues to execute until the condition becomes false.\n",
        "\n",
        "  >One common use case for a while loop is to iterate over a collection of items until a certain condition is met. For example, let's say we have a list of numbers and we want to print each number in the list until we reach a number greater than 10:\n",
        "\n",
        "    numbers = [2, 5, 8, 11, 3, 7]\n",
        "\n",
        "    i = 0\n",
        "\n",
        "    while i < len(numbers) and numbers[i] <= 10:\n",
        "     print(numbers[i])\n",
        "     i += 1\n",
        "\n",
        "  >In this example, we start with an index i of 0 and check if the current number at that index is less than or equal to 10. If it is, we print the number and increment i by 1 to move on to the next number in the list. We keep looping until we reach a number greater than 10 or we reach the end of the list."
      ],
      "metadata": {
        "id": "HwQOt2UF_JuM"
      }
    },
    {
      "cell_type": "markdown",
      "source": [
        "------------------------------------------------------------------------------------\n",
        "Q.6) Answer "
      ],
      "metadata": {
        "id": "Pd2wF0ztB2xz"
      }
    },
    {
      "cell_type": "code",
      "source": [
        "# Pattern 1 \n",
        "\n",
        "i = 1\n",
        "while i <= 5:\n",
        "    j = 1\n",
        "    while j <= i:\n",
        "        print(j, end='')\n",
        "        j += 1\n",
        "    print()\n",
        "    i += 1\n"
      ],
      "metadata": {
        "colab": {
          "base_uri": "https://localhost:8080/"
        },
        "id": "oBAOVE06Ajwg",
        "outputId": "67e66989-240a-42ba-e624-b2d19299fa0a"
      },
      "execution_count": null,
      "outputs": [
        {
          "output_type": "stream",
          "name": "stdout",
          "text": [
            "1\n",
            "12\n",
            "123\n",
            "1234\n",
            "12345\n"
          ]
        }
      ]
    },
    {
      "cell_type": "code",
      "source": [
        "# Pattern 2 \n",
        "\n",
        "i = 5\n",
        "while i >= 1:\n",
        "    j = 1\n",
        "    while j <= i:\n",
        "        print('*', end='')\n",
        "        j += 1\n",
        "    print()\n",
        "    i -= 1"
      ],
      "metadata": {
        "colab": {
          "base_uri": "https://localhost:8080/"
        },
        "id": "p_sfCWYpB_TC",
        "outputId": "ce32e66c-ac51-447c-ae0b-7b3ec2d140f0"
      },
      "execution_count": null,
      "outputs": [
        {
          "output_type": "stream",
          "name": "stdout",
          "text": [
            "*****\n",
            "****\n",
            "***\n",
            "**\n",
            "*\n"
          ]
        }
      ]
    },
    {
      "cell_type": "code",
      "source": [
        "# Pattern 3 \n",
        "\n",
        "i = 1\n",
        "while i <= 5:\n",
        "    j = 1\n",
        "    while j <= i:\n",
        "        print(i, end='')\n",
        "        j += 1\n",
        "    print()\n",
        "    i += 1"
      ],
      "metadata": {
        "colab": {
          "base_uri": "https://localhost:8080/"
        },
        "id": "u7JcuO_lDAoC",
        "outputId": "c1268be0-aa2d-471a-dd61-be0235a1585e"
      },
      "execution_count": null,
      "outputs": [
        {
          "output_type": "stream",
          "name": "stdout",
          "text": [
            "1\n",
            "22\n",
            "333\n",
            "4444\n",
            "55555\n"
          ]
        }
      ]
    },
    {
      "cell_type": "markdown",
      "source": [
        "-------------------------------------------------"
      ],
      "metadata": {
        "id": "FM27ws6vDJOC"
      }
    },
    {
      "cell_type": "markdown",
      "source": [
        "Q.7) Answer"
      ],
      "metadata": {
        "id": "floGlvqXDM06"
      }
    },
    {
      "cell_type": "code",
      "source": [
        "i = 10\n",
        "while i >= 1:\n",
        "    print(i)\n",
        "    i -= 1"
      ],
      "metadata": {
        "colab": {
          "base_uri": "https://localhost:8080/"
        },
        "id": "YTgX12whDYyz",
        "outputId": "ef0b6810-7eb3-4125-e389-8d724381d45f"
      },
      "execution_count": null,
      "outputs": [
        {
          "output_type": "stream",
          "name": "stdout",
          "text": [
            "10\n",
            "9\n",
            "8\n",
            "7\n",
            "6\n",
            "5\n",
            "4\n",
            "3\n",
            "2\n",
            "1\n"
          ]
        }
      ]
    },
    {
      "cell_type": "markdown",
      "source": [
        "-----------------------------\n",
        "\n",
        "Q.8) Answer"
      ],
      "metadata": {
        "id": "nTibq3NgDvZj"
      }
    },
    {
      "cell_type": "code",
      "source": [
        "i = 10\n",
        "while i > 0:\n",
        "    print(i)\n",
        "    i -= 1"
      ],
      "metadata": {
        "colab": {
          "base_uri": "https://localhost:8080/"
        },
        "id": "8x3UGa-1Dz3F",
        "outputId": "5fbd0b05-fbb1-47af-d847-acfe887441cd"
      },
      "execution_count": null,
      "outputs": [
        {
          "output_type": "stream",
          "name": "stdout",
          "text": [
            "10\n",
            "9\n",
            "8\n",
            "7\n",
            "6\n",
            "5\n",
            "4\n",
            "3\n",
            "2\n",
            "1\n"
          ]
        }
      ]
    },
    {
      "cell_type": "code",
      "source": [],
      "metadata": {
        "id": "lqQLcfxKF17y"
      },
      "execution_count": null,
      "outputs": []
    }
  ]
}