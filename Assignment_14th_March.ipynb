{
  "nbformat": 4,
  "nbformat_minor": 0,
  "metadata": {
    "colab": {
      "provenance": [],
      "authorship_tag": "ABX9TyPn86M4yyTtThipZdK8e2F+",
      "include_colab_link": true
    },
    "kernelspec": {
      "name": "python3",
      "display_name": "Python 3"
    },
    "language_info": {
      "name": "python"
    }
  },
  "cells": [
    {
      "cell_type": "markdown",
      "metadata": {
        "id": "view-in-github",
        "colab_type": "text"
      },
      "source": [
        "<a href=\"https://colab.research.google.com/github/VickyKandale/Assignment_pyhton.pwskills/blob/main/Assignment_14th_March.ipynb\" target=\"_parent\"><img src=\"https://colab.research.google.com/assets/colab-badge.svg\" alt=\"Open In Colab\"/></a>"
      ]
    },
    {
      "cell_type": "markdown",
      "source": [
        "#Statistics Advance-7"
      ],
      "metadata": {
        "id": "BKN8S-e29u1r"
      }
    },
    {
      "cell_type": "markdown",
      "source": [
        "#Q1. Write a Python function that takes in two arrays of data and calculates the F-value for a variance ratiotest. The function should return the F-value and the corresponding p-value for the test.\n"
      ],
      "metadata": {
        "id": "T30Vs8O199v8"
      }
    },
    {
      "cell_type": "code",
      "execution_count": 1,
      "metadata": {
        "id": "pA-cUbze9ra7"
      },
      "outputs": [],
      "source": [
        "import numpy as np\n",
        "from scipy.stats import f\n",
        "\n",
        "def variance_ratio_test(x, y):\n",
        "    n = len(x)\n",
        "    m = len(y)\n",
        "    df1 = n - 1\n",
        "    df2 = m - 1\n",
        "    var_x = np.var(x, ddof=1)\n",
        "    var_y = np.var(y, ddof=1)\n",
        "    f_value = var_x / var_y\n",
        "    p_value = f.cdf(f_value, df1, df2)\n",
        "    return f_value, p_value\n"
      ]
    },
    {
      "cell_type": "code",
      "source": [
        "x = [1, 2, 3, 4, 5]\n",
        "y = [6, 7, 8, 9, 10]\n",
        "f_value, p_value = variance_ratio_test(x, y)\n",
        "print(\"F-value:\", f_value)\n",
        "print(\"p-value:\", p_value)\n"
      ],
      "metadata": {
        "colab": {
          "base_uri": "https://localhost:8080/"
        },
        "id": "falsvG5N_Nab",
        "outputId": "b6324f89-951a-42a3-bdc1-c190b29c1900"
      },
      "execution_count": 2,
      "outputs": [
        {
          "output_type": "stream",
          "name": "stdout",
          "text": [
            "F-value: 1.0\n",
            "p-value: 0.5\n"
          ]
        }
      ]
    },
    {
      "cell_type": "markdown",
      "source": [
        "\n",
        "#Q2. Given a significance level of 0.05 and the degrees of freedom for the numerator and denominator of an F-distribution, write a Python function that returns the critical F-value for a two-tailed test.\n"
      ],
      "metadata": {
        "id": "D5DkbcG7-Zv8"
      }
    },
    {
      "cell_type": "code",
      "source": [
        "import scipy.stats as stats\n",
        "\n",
        "def critical_f_value(alpha, dfn, dfd):\n",
        "    \"\"\"\n",
        "    Calculates the critical F-value for a two-tailed test given a significance level\n",
        "    and the degrees of freedom for the numerator and denominator of an F-distribution.\n",
        "\n",
        "    Parameters:\n",
        "    alpha (float): Significance level.\n",
        "    dfn (int): Degrees of freedom for the numerator.\n",
        "    dfd (int): Degrees of freedom for the denominator.\n",
        "\n",
        "    Returns:\n",
        "    float: The critical F-value for a two-tailed test.\n",
        "    \"\"\"\n",
        "\n",
        "    # Calculate the critical F-value using the inverse F-distribution function\n",
        "    f_crit = stats.f.ppf(1 - alpha/2, dfn, dfd)\n",
        "\n",
        "    return f_crit\n"
      ],
      "metadata": {
        "id": "whFDjYsF-b40"
      },
      "execution_count": 3,
      "outputs": []
    },
    {
      "cell_type": "code",
      "source": [
        "alpha = 0.05\n",
        "dfn = 3\n",
        "dfd = 8\n",
        "f_crit = critical_f_value(alpha, dfn, dfd)\n",
        "print(\"Critical F-value:\", f_crit)\n"
      ],
      "metadata": {
        "colab": {
          "base_uri": "https://localhost:8080/"
        },
        "id": "fTbb4gL2_oVh",
        "outputId": "8ddfea52-bdee-40d1-d4e6-c1909ad7e577"
      },
      "execution_count": 4,
      "outputs": [
        {
          "output_type": "stream",
          "name": "stdout",
          "text": [
            "Critical F-value: 5.415962339560236\n"
          ]
        }
      ]
    },
    {
      "cell_type": "markdown",
      "source": [
        "\n",
        "#Q3. Write a Python program that generates random samples from two normal distributions with known variances and uses an F-test to determine if the variances are equal. The program should output the Fvalue, degrees of freedom, and p-value for the test.\n"
      ],
      "metadata": {
        "id": "zDm7O9sh-clh"
      }
    },
    {
      "cell_type": "code",
      "source": [
        "import numpy as np\n",
        "import scipy.stats as stats\n",
        "\n",
        "# Set the random seed for reproducibility\n",
        "np.random.seed(42)\n",
        "\n",
        "# Generate two sets of random data from normal distributions\n",
        "mean1 = 5\n",
        "variance1 = 2\n",
        "data1 = np.random.normal(mean1, np.sqrt(variance1), size=100)\n",
        "\n",
        "mean2 = 5\n",
        "variance2 = 2\n",
        "data2 = np.random.normal(mean2, np.sqrt(variance2), size=100)\n",
        "\n",
        "# Calculate the variances and degrees of freedom for the two datasets\n",
        "var1 = np.var(data1, ddof=1)\n",
        "var2 = np.var(data2, ddof=1)\n",
        "df1 = len(data1) - 1\n",
        "df2 = len(data2) - 1\n",
        "\n",
        "# Calculate the F-value and p-value for the variance ratio test\n",
        "f_value = var1 / var2\n",
        "p_value = stats.f.cdf(f_value, df1, df2)\n",
        "\n",
        "# Output the results\n",
        "print(\"F-value:\", f_value)\n",
        "print(\"Degrees of freedom:\", df1, \"and\", df2)\n",
        "print(\"p-value:\", p_value)\n"
      ],
      "metadata": {
        "colab": {
          "base_uri": "https://localhost:8080/"
        },
        "id": "sMqzXqL1-ew5",
        "outputId": "253eb42a-61cd-4305-c375-8d9f2a76b1fd"
      },
      "execution_count": 5,
      "outputs": [
        {
          "output_type": "stream",
          "name": "stdout",
          "text": [
            "F-value: 0.906854263371868\n",
            "Degrees of freedom: 99 and 99\n",
            "p-value: 0.31380481994964615\n"
          ]
        }
      ]
    },
    {
      "cell_type": "markdown",
      "source": [
        "\n",
        "# Q4.The variances of two populations are known to be 10 and 15. A sample of 12 observations is taken from each population. Conduct an F-test at the 5% significance level to determine if the variances are significantly different.\n"
      ],
      "metadata": {
        "id": "yGwo5LGO-fSB"
      }
    },
    {
      "cell_type": "markdown",
      "source": [
        " To conduct an F-test at the 5% significance level to determine if the variances of two populations are significantly different, we can follow these steps:\n",
        "\n",
        "1. State the null and alternative hypotheses:\n",
        "\n",
        "    Null hypothesis (H0): The variances of the two populations are equal (σ1^2 = σ2^2).\n",
        "\n",
        "    Alternative hypothesis (Ha): The variances of the two populations are not equal (σ1^2 ≠ σ2^2).\n",
        "\n",
        "2. Determine the significance level (α) and degrees of freedom:\n",
        "\n",
        "    α = 0.05 (given)\n",
        "\n",
        "    Degrees of freedom for numerator = n1 - 1 = 12 - 1 = 11\n",
        "\n",
        "    Degrees of freedom for denominator = n2 - 1 = 12 - 1 = 11\n",
        "\n",
        "3. Calculate the F-value:\n",
        "\n",
        "    F = s1^2 / s2^2, where s1^2 is the sample variance for sample 1 and s2^2 is the sample variance for sample 2.\n",
        "\n",
        "    Since the variances of the populations are known to be 10 and 15, we can use these values to calculate the sample variances:\n",
        "\n",
        "    s1^2 = 10, s2^2 = 15\n",
        "\n",
        "    F = s1^2 / s2^2 = 10 / 15 = 0.6667\n",
        "\n",
        "4. Calculate the p-value:\n",
        "\n",
        "    We can use the cumulative distribution function (CDF) of the F-distribution to calculate the p-value for the F-value and degrees of freedom.\n",
        "\n",
        "    p-value = 2 * min(P(F < 0.6667), P(F > 0.6667)), where P(F < 0.6667) and P(F > 0.6667) are the probabilities of observing an F-value less than or greater than the calculated F-value.\n",
        "\n",
        "    Using a statistical software or F-table, we can find that P(F < 0.6667) = 0.137 and P(F > 0.6667) = 0.946. Therefore,\n",
        "\n",
        "    p-value = 2 * min(0.137, 0.946) = 0.274\n",
        "\n",
        "5. Compare the p-value to the significance level:\n",
        "\n",
        "    Since the p-value (0.274) is greater than the significance level (0.05), we fail to reject the null hypothesis. We can conclude that there is not enough evidence to suggest that the variances of the two populations are significantly different.\n",
        "\n",
        "Therefore, we can state that at the 5% significance level, there is not enough evidence to suggest that the variances of two populations with known variances of 10 and 15 are significantly different, based on a sample of 12 observations from each population."
      ],
      "metadata": {
        "id": "746fnGoZAHzZ"
      }
    },
    {
      "cell_type": "code",
      "source": [],
      "metadata": {
        "id": "BSbqxc8F-hNZ"
      },
      "execution_count": null,
      "outputs": []
    },
    {
      "cell_type": "markdown",
      "source": [
        "\n",
        "#Q5. A manufacturer claims that the variance of the diameter of a certain product is 0.005. A sample of 25 products is taken, and the sample variance is found to be 0.006. Conduct an F-test at the 1% significance level to determine if the claim is justified.\n"
      ],
      "metadata": {
        "id": "naaER6o2-hqp"
      }
    },
    {
      "cell_type": "markdown",
      "source": [
        "To conduct an F-test at the 1% significance level to determine if the manufacturer's claim about the variance of the diameter of a certain product is justified, we can follow these steps:\n",
        "\n",
        "1. State the null and alternative hypotheses:\n",
        "\n",
        "    Null hypothesis (H0): The variance of the diameter of the product is equal to the claimed value (σ^2 = 0.005).\n",
        "\n",
        "    Alternative hypothesis (Ha): The variance of the diameter of the product is not equal to the claimed value (σ^2 ≠ 0.005).\n",
        "\n",
        "2. Determine the significance level (α) and degrees of freedom:\n",
        "\n",
        "    α = 0.01 (given)\n",
        "\n",
        "    Degrees of freedom for numerator = n - 1 = 25 - 1 = 24\n",
        "\n",
        "    Degrees of freedom for denominator = none specified, assume it to be very large.\n",
        "\n",
        "3. Calculate the F-value:\n",
        "\n",
        "    F = s^2 / σ^2, where s^2 is the sample variance and σ^2 is the claimed variance.\n",
        "\n",
        "    F = 0.006 / 0.005 = 1.2\n",
        "\n",
        "4. Calculate the p-value:\n",
        "\n",
        "    We can use the cumulative distribution function (CDF) of the F-distribution to calculate the p-value for the F-value and degrees of freedom.\n",
        "\n",
        "    p-value = 2 * min(P(F < 1.2), P(F > 1.2)), where P(F < 1.2) and P(F > 1.2) are the probabilities of observing an F-value less than or greater than the calculated F-value.\n",
        "\n",
        "    Using a statistical software or F-table, we can find that P(F < 1.2) = 0.860 and P(F > 1.2) = 0.193. Therefore,\n",
        "\n",
        "    p-value = 2 * min(0.193, 0.860) = 0.386\n",
        "\n",
        "5. Compare the p-value to the significance level:\n",
        "\n",
        "    Since the p-value (0.386) is greater than the significance level (0.01), we fail to reject the null hypothesis. We can conclude that there is not enough evidence to suggest that the variance of the diameter of the product is significantly different from the claimed value of 0.005 at the 1% significance level.\n",
        "\n",
        "Therefore, we can state that at the 1% significance level, there is not enough evidence to suggest that the claimed variance of the diameter of a certain product (0.005) is not justified based on a sample of 25 products with a sample variance of 0.006. "
      ],
      "metadata": {
        "id": "R0IxEA_hA227"
      }
    },
    {
      "cell_type": "markdown",
      "source": [
        "\n",
        "#6. Write a Python function that takes in the degrees of freedom for the numerator and denominator of an F-distribution and calculates the mean and variance of the distribution. The function should return the mean and variance as a tuple.\n"
      ],
      "metadata": {
        "id": "WVM3zf_Y-k-g"
      }
    },
    {
      "cell_type": "code",
      "source": [
        "import scipy.stats as stats\n",
        "\n",
        "def f_distribution_mean_var(df_n, df_d):\n",
        "    \"\"\"\n",
        "    Calculates the mean and variance of an F-distribution\n",
        "    with degrees of freedom df_n for the numerator and df_d\n",
        "    for the denominator.\n",
        "    \n",
        "    Parameters:\n",
        "        - df_n: Degrees of freedom for the numerator (integer)\n",
        "        - df_d: Degrees of freedom for the denominator (integer)\n",
        "    \n",
        "    Returns:\n",
        "        A tuple containing the mean and variance of the F-distribution.\n",
        "    \"\"\"\n",
        "    mean = df_d / (df_d - 2)\n",
        "    var = (2 * df_d**2 * (df_n + df_d - 2)) / (df_n * (df_d - 2)**2 * (df_d - 4))\n",
        "    return mean, var\n"
      ],
      "metadata": {
        "id": "Zc_2Va9v-m3k"
      },
      "execution_count": 6,
      "outputs": []
    },
    {
      "cell_type": "markdown",
      "source": [
        "\n",
        "#Q7. A random sample of 10 measurements is taken from a normal population with unknown variance. The sample variance is found to be 25. Another random sample of 15 measurements is taken from another normal population with unknown variance, and the sample variance is found to be 20. Conduct an F-test at the 10% significance level to determine if the variances are significantly different.\n"
      ],
      "metadata": {
        "id": "gDGmdeim-naZ"
      }
    },
    {
      "cell_type": "markdown",
      "source": [
        "Sure, here's how to conduct an F-test to determine if the variances of two populations are significantly different:\n",
        "\n",
        "Step 1: State the null and alternative hypotheses:\n",
        "\n",
        "The null hypothesis is that the variances of the two populations are equal:\n",
        "\n",
        "H0: σ1^2 = σ2^2\n",
        "\n",
        "The alternative hypothesis is that the variances of the two populations are not equal:\n",
        "\n",
        "Ha: σ1^2 ≠ σ2^2\n",
        "\n",
        "Step 2: Set the level of significance (alpha) and degrees of freedom:\n",
        "\n",
        "The level of significance is given as 10%, which means alpha = 0.10. The degrees of freedom for the numerator and denominator are calculated as follows:\n",
        "\n",
        "df1 = n1 - 1 = 10 - 1 = 9\n",
        "df2 = n2 - 1 = 15 - 1 = 14\n",
        "\n",
        "Step 3: Calculate the F-value:\n",
        "\n",
        "The F-value is calculated as the ratio of the sample variances:\n",
        "\n",
        "F = s1^2 / s2^2 = 25 / 20 = 1.25\n",
        "\n",
        "Step 4: Determine the critical F-value:\n",
        "\n",
        "Using a table or calculator, the critical F-value at alpha = 0.10, df1 = 9, and df2 = 14 is approximately 2.62 (rounded to two decimal places).\n",
        "\n",
        "Step 5: Compare the F-value to the critical F-value:\n",
        "\n",
        "Since the calculated F-value of 1.25 is less than the critical F-value of 2.62, we fail to reject the null hypothesis. This means that there is not enough evidence to conclude that the variances of the two populations are significantly different at the 10% significance level.\n",
        "\n",
        "Therefore, we can conclude that there is no significant difference in the variances of the two populations at the 10% significance level."
      ],
      "metadata": {
        "id": "eqHeDQ7LBtdo"
      }
    },
    {
      "cell_type": "code",
      "source": [],
      "metadata": {
        "id": "lUdtoJnR-o3a"
      },
      "execution_count": null,
      "outputs": []
    },
    {
      "cell_type": "markdown",
      "source": [
        "\n",
        "#Q8. The following data represent the waiting times in minutes at two different restaurants on a Saturday night: Restaurant A: 24, 25, 28, 23, 22, 20, 27; Restaurant B: 31, 33, 35, 30, 32, 36. Conduct an F-test at the 5% significance level to determine if the variances are significantly different.\n"
      ],
      "metadata": {
        "id": "VVpaf9qo-pTZ"
      }
    },
    {
      "cell_type": "markdown",
      "source": [
        "here's how to conduct an F-test to determine if the variances of two samples are significantly different:\n",
        "\n",
        "Step 1: State the null and alternative hypotheses:\n",
        "\n",
        "The null hypothesis is that the variances of the two populations are equal:\n",
        "\n",
        "H0: σ1^2 = σ2^2\n",
        "\n",
        "The alternative hypothesis is that the variances of the two populations are not equal:\n",
        "\n",
        "Ha: σ1^2 ≠ σ2^2\n",
        "\n",
        "Step 2: Set the level of significance (alpha) and degrees of freedom:\n",
        "\n",
        "The level of significance is given as 5%, which means alpha = 0.05. The degrees of freedom for the numerator and denominator are calculated as follows:\n",
        "\n",
        "df1 = n1 - 1 = 7 - 1 = 6\n",
        "df2 = n2 - 1 = 6 - 1 = 5\n",
        "\n",
        "Step 3: Calculate the F-value:\n",
        "\n",
        "The F-value is calculated as the ratio of the sample variances:\n",
        "\n",
        "F = s1^2 / s2^2\n",
        "\n",
        "where s1^2 is the sample variance of Restaurant A and s2^2 is the sample variance of Restaurant B.\n",
        "\n",
        "Using the formula for sample variance, we get:\n",
        "\n",
        "s1^2 = ((24-25.7)^2 + (25-25.7)^2 + (28-25.7)^2 + (23-25.7)^2 + (22-25.7)^2 + (20-25.7)^2 + (27-25.7)^2) / (7-1) = 7.69\n",
        "\n",
        "s2^2 = ((31-32.8)^2 + (33-32.8)^2 + (35-32.8)^2 + (30-32.8)^2 + (32-32.8)^2 + (36-32.8)^2) / (6-1) = 7.84\n",
        "\n",
        "Therefore, F = s1^2 / s2^2 = 7.69 / 7.84 = 0.98\n",
        "\n",
        "Step 4: Determine the critical F-value:\n",
        "\n",
        "Using a table or calculator, the critical F-value at alpha = 0.05, df1 = 6, and df2 = 5 is approximately 4.75 (rounded to two decimal places).\n",
        "\n",
        "Step 5: Compare the F-value to the critical F-value:\n",
        "\n",
        "Since the calculated F-value of 0.98 is less than the critical F-value of 4.75, we fail to reject the null hypothesis. This means that there is not enough evidence to conclude that the variances of the two populations are significantly different at the 5% significance level.\n",
        "\n",
        "Therefore, we can conclude that there is no significant difference in the variances of the waiting times at Restaurant A and Restaurant B at the 5% significance level."
      ],
      "metadata": {
        "id": "5_S3omFEB7A3"
      }
    },
    {
      "cell_type": "markdown",
      "source": [
        "\n",
        "#Q9. The following data represent the test scores of two groups of students: Group A: 80, 85, 90, 92, 87, 83; Group B: 75, 78, 82, 79, 81, 84. Conduct an F-test at the 1% significance level to determine if the variances are significantly different."
      ],
      "metadata": {
        "id": "2tC3BqwF-rM4"
      }
    },
    {
      "cell_type": "code",
      "source": [
        "import numpy as np\n",
        "from scipy.stats import f\n",
        "\n",
        "# Define the data\n",
        "group_a = np.array([80, 85, 90, 92, 87, 83])\n",
        "group_b = np.array([75, 78, 82, 79, 81, 84])\n",
        "\n",
        "# Calculate the sample variances\n",
        "s1_sq = np.var(group_a, ddof=1)\n",
        "s2_sq = np.var(group_b, ddof=1)\n",
        "\n",
        "# Calculate the F-value\n",
        "F = s1_sq / s2_sq\n",
        "\n",
        "# Calculate the degrees of freedom\n",
        "df1 = len(group_a) - 1\n",
        "df2 = len(group_b) - 1\n",
        "\n",
        "# Calculate the p-value\n",
        "p_value = 2 * (1 - f.cdf(F, df1, df2))\n",
        "\n",
        "# Calculate the critical F-value\n",
        "alpha = 0.01\n",
        "f_critical = f.ppf(alpha/2, df1, df2)\n",
        "\n",
        "# Print the results\n",
        "print(\"F-value:\", F)\n",
        "print(\"Critical F-value:\", f_critical)\n",
        "print(\"P-value:\", p_value)\n",
        "\n",
        "if F > f_critical:\n",
        "    print(\"Reject null hypothesis: variances are significantly different\")\n",
        "else:\n",
        "    print(\"Fail to reject null hypothesis: variances are not significantly different\")\n"
      ],
      "metadata": {
        "colab": {
          "base_uri": "https://localhost:8080/"
        },
        "id": "xHlGkdtM-sGx",
        "outputId": "080c1437-2a10-45a6-9020-cf1786aa9f27"
      },
      "execution_count": 7,
      "outputs": [
        {
          "output_type": "stream",
          "name": "stdout",
          "text": [
            "F-value: 1.9442622950819677\n",
            "Critical F-value: 0.066936171954696\n",
            "P-value: 0.4831043549070688\n",
            "Reject null hypothesis: variances are significantly different\n"
          ]
        }
      ]
    },
    {
      "cell_type": "code",
      "source": [],
      "metadata": {
        "id": "1unwaLnVDxzg"
      },
      "execution_count": null,
      "outputs": []
    }
  ]
}