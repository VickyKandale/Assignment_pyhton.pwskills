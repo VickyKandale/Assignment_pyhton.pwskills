{
 "cells": [
  {
   "cell_type": "markdown",
   "id": "bbc299de-6ef1-45f8-9ba8-38f01ad7d8d6",
   "metadata": {},
   "source": [
    "# Q.1). what is multithreading in python? why is it used? Name the module used to handle threads in python."
   ]
  },
  {
   "cell_type": "markdown",
   "id": "2ea9a904-b2c4-424d-ad37-c899abd3af98",
   "metadata": {},
   "source": [
    "Multithreading in Python refers to a technique of running multiple threads (smaller units of execution) within a single process. Each thread represents a separate flow of control, allowing different parts of a program to execute concurrently.\n",
    "\n",
    "Multithreading is used in Python for several reasons, such as:\n",
    "\n",
    "Improving the performance of CPU-bound tasks by taking advantage of multiple cores or CPUs.\n",
    "Enhancing the responsiveness of a program by allowing it to handle multiple tasks simultaneously without blocking the main thread.\n",
    "Implementing concurrent I/O operations such as reading from or writing to multiple files or network sockets.\n",
    "The module used to handle threads in Python is the \"threading\" module. It provides a higher-level interface for creating and managing threads in Python, making it easy to spawn new threads, synchronize their execution, and communicate between them. The threading module is part of the standard library in Python, which means it comes pre-installed with Python and does not require any additional installation or setup."
   ]
  },
  {
   "cell_type": "markdown",
   "id": "4ad1986e-0279-4d67-9500-3aa54744a055",
   "metadata": {},
   "source": [
    "# Q.2  why threading module used? write the use of the following functions.\n",
    "1.activeCount()\n",
    "2.currentThread()\n",
    "3.enumerate()"
   ]
  },
  {
   "cell_type": "markdown",
   "id": "5597707e-7084-4876-8bac-f9189fdb4abb",
   "metadata": {},
   "source": [
    "The threading module in Python is used for creating and managing threads. It provides a high-level interface for creating and controlling threads in Python programs. The threading module is used to improve the performance of CPU-bound tasks, enhance the responsiveness of a program, and implement concurrent I/O operations such as reading from or writing to multiple files or network sockets.\n",
    "\n",
    "The following are the uses of some commonly used functions in the threading module:\n",
    "\n",
    "activeCount(): This function returns the number of currently active threads in the program, including the main thread. It can be used to check the number of threads that are currently running in the program.\n",
    "\n",
    "currentThread(): This function returns a reference to the current thread object, which represents the thread that is currently executing. It can be used to identify the current thread and access its properties and methods.\n",
    "\n",
    "enumerate(): This function returns a list of all thread objects that are currently active in the program, including the main thread. It can be used to get information about all the threads that are currently running in the program, including their names, IDs, and states."
   ]
  },
  {
   "cell_type": "markdown",
   "id": "14708654-c15c-4c07-b407-56034e14efe3",
   "metadata": {},
   "source": [
    "# Q.3) Explain the Functions:\n",
    "\n",
    "1.run()\n",
    "2.start()\n",
    "3.join()\n",
    "4.isAlive()"
   ]
  },
  {
   "cell_type": "markdown",
   "id": "0c143a92-b261-46ef-ba43-829cf4a53235",
   "metadata": {},
   "source": [
    "In the threading module of Python, the following functions are commonly used:\n",
    "\n",
    "run(): This function is called when a thread starts executing. It is the entry point of a thread's execution and contains the code that the thread will execute. The run() method is overridden in a custom Thread class to define the behavior of the thread.\n",
    "\n",
    "start(): This function is used to start a thread's execution. It calls the run() method of the thread in a separate thread of control, allowing the thread to run concurrently with other threads in the program. After calling the start() method, the thread transitions to the \"started\" state and its run() method is called in a separate thread of control.\n",
    "\n",
    "join(): This function is used to wait for a thread to complete its execution before continuing with the main program. It blocks the main thread until the specified thread terminates. The join() method can take an optional timeout argument that specifies the maximum time to wait for the thread to complete.\n",
    "\n",
    "isAlive(): This function is used to check whether a thread is still running or has completed its execution. It returns True if the thread is still running, and False otherwise. The isAlive() method is useful when you want to check the status of a thread from another thread in the program."
   ]
  },
  {
   "cell_type": "markdown",
   "id": "eaac386c-0bd7-4eb8-9094-795919e11dfd",
   "metadata": {},
   "source": [
    "# 4.  Write a python program to create two threads. Thread one must print the list of squares and thread two must print the list of cubes."
   ]
  },
  {
   "cell_type": "code",
   "execution_count": 2,
   "id": "ba4b7fee-ac7e-4db1-bac4-09e0238e0406",
   "metadata": {},
   "outputs": [
    {
     "name": "stdout",
     "output_type": "stream",
     "text": [
      "List of squares:\n",
      "1\n",
      "4\n",
      "9\n",
      "16\n",
      "25\n",
      "start\n",
      "List of cubes:\n",
      "1\n",
      "8\n",
      "27\n",
      "64\n",
      "125\n",
      "joined\n"
     ]
    }
   ],
   "source": [
    "import threading\n",
    "\n",
    "def print_squares(n):\n",
    "    print(\"List of squares:\")\n",
    "    for i in range(1, n+1):\n",
    "        print(i*i)\n",
    "\n",
    "def print_cubes(n):\n",
    "    print(\"List of cubes:\")\n",
    "    for i in range(1, n+1):\n",
    "        print(i*i*i)\n",
    "\n",
    "if __name__ == \"__main__\":\n",
    "    n = 5\n",
    "    \n",
    "    # create thread to print squares\n",
    "    t1 = threading.Thread(target=print_squares, args=(n,))\n",
    "    \n",
    "    # create thread to print cubes\n",
    "    t2 = threading.Thread(target=print_cubes, args=(n,))\n",
    "    \n",
    "    # start both threads\n",
    "    t1.start()\n",
    "    print(\"start\")\n",
    "    t2.start()\n",
    "    \n",
    "    # wait for both threads to complete\n",
    "    t1.join()\n",
    "    print(\"joined\")\n",
    "    t2.join()\n"
   ]
  },
  {
   "cell_type": "markdown",
   "id": "76c6b454-5f04-4fa8-8689-60dfe46d8922",
   "metadata": {},
   "source": [
    "# Q5. State advantages and disadvantages of multithreading"
   ]
  },
  {
   "cell_type": "markdown",
   "id": "da8c27a7-0bf2-449b-8ca5-d8caca8f5a3b",
   "metadata": {},
   "source": [
    "Multithreading has both advantages and disadvantages. Here are some of them:\n",
    "\n",
    "Advantages:\n",
    "\n",
    "Increased Performance: Multithreading can improve the performance of a program by taking advantage of multiple processors or CPU cores. By running multiple threads simultaneously, the program can accomplish more work in less time.\n",
    "\n",
    "Enhanced Responsiveness: Multithreading allows a program to remain responsive to user input while performing long-running tasks in the background. This means that the user can interact with the program while it is still doing work, without having to wait for it to finish.\n",
    "\n",
    "Improved Resource Utilization: Multithreading can help a program make better use of system resources, such as memory and I/O bandwidth. By allowing multiple threads to share these resources, the program can use them more efficiently.\n",
    "\n",
    "Disadvantages:\n",
    "\n",
    "Complexity: Multithreading can make a program more complex and difficult to write, debug, and maintain. Synchronization between threads can be challenging, and race conditions can occur if threads access shared data without proper synchronization.\n",
    "\n",
    "Overhead: Creating and managing threads involves overhead in terms of time and system resources. This overhead can be significant if the program creates many threads or if the threads are short-lived.\n",
    "\n",
    "Scalability: Multithreading may not always lead to increased performance or scalability. If the program is heavily I/O-bound or if the threads spend most of their time waiting for I/O, creating additional threads may not result in significant performance gains.\n",
    "\n",
    "In summary, multithreading can be a powerful tool for improving the performance and responsiveness of a program, but it also comes with its own set of challenges and trade-offs. It is important to carefully consider whether multithreading is the right approach for a particular problem and to design and implement multithreaded programs carefully to avoid synchronization issues and other pitfalls."
   ]
  },
  {
   "cell_type": "markdown",
   "id": "c2687929-fc37-4c5d-a47b-4244620d7264",
   "metadata": {},
   "source": [
    "# Q 6. Explain deadlocks and race conditions."
   ]
  },
  {
   "cell_type": "code",
   "execution_count": null,
   "id": "822da7d8-b4f0-4450-8274-54e2eb259188",
   "metadata": {},
   "outputs": [],
   "source": []
  }
 ],
 "metadata": {
  "kernelspec": {
   "display_name": "Python 3 (ipykernel)",
   "language": "python",
   "name": "python3"
  },
  "language_info": {
   "codemirror_mode": {
    "name": "ipython",
    "version": 3
   },
   "file_extension": ".py",
   "mimetype": "text/x-python",
   "name": "python",
   "nbconvert_exporter": "python",
   "pygments_lexer": "ipython3",
   "version": "3.10.8"
  }
 },
 "nbformat": 4,
 "nbformat_minor": 5
}
