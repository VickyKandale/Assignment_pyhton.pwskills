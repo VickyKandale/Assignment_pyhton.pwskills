{
  "nbformat": 4,
  "nbformat_minor": 0,
  "metadata": {
    "colab": {
      "provenance": []
    },
    "kernelspec": {
      "name": "python3",
      "display_name": "Python 3"
    },
    "language_info": {
      "name": "python"
    }
  },
  "cells": [
    {
      "cell_type": "markdown",
      "source": [
        "Q.1) Who developed python programming language?\n",
        "\n",
        "-->  Guido van Rossum"
      ],
      "metadata": {
        "id": "TZmAwM3uIqY4"
      }
    },
    {
      "cell_type": "markdown",
      "source": [
        "Q.2) Which type of programming does python support?\n",
        "\n",
        "--> Python is an interpreted programming language, supporting object-oriented, structured, and functional programming"
      ],
      "metadata": {
        "id": "aGz2_SwfI4mv"
      }
    },
    {
      "cell_type": "markdown",
      "source": [
        "Q.3) Is python case sensitive when dealing with identifiers? \n",
        "\n",
        "--> Yes, Python is a case-sensitive language, i.e., it treats uppercase and lowercase characters differently. This applies to identifiers too."
      ],
      "metadata": {
        "id": "ODJUNp4gJLVe"
      }
    },
    {
      "cell_type": "markdown",
      "source": [
        "Q.4) What is the correct extension of the python file?\n",
        "\n",
        "--> .py is the correct extension of the python file."
      ],
      "metadata": {
        "id": "j07CvEtbJ6VN"
      }
    },
    {
      "cell_type": "markdown",
      "source": [
        "Q.5) Is python code compiled or interpreted ?\n",
        "\n",
        "--> yes, Python is generally considered an interpreted language.\n",
        "\n",
        "   When you run a Python program, the interpreter reads the source code line by line and executes each line as it is read.This is different from a compiled language, where the source code is transformed into machine code that can be executed directly by the computer."
      ],
      "metadata": {
        "id": "UVEg09j4KdTW"
      }
    },
    {
      "cell_type": "markdown",
      "source": [
        "Q.6) Name of few blocks of code used to define in python language.\n",
        "\n",
        "--> a module, a function body, and a class definition."
      ],
      "metadata": {
        "id": "cfuXGVUhKd5-"
      }
    },
    {
      "cell_type": "markdown",
      "source": [
        "Q.7) state a character used to give single-line comments in python.\n",
        "\n",
        "--> In Python, the hash symbol (#) is used to indicate a single-line comment."
      ],
      "metadata": {
        "id": "yHX3pjZZKeX-"
      }
    },
    {
      "cell_type": "markdown",
      "source": [
        "Q.8) Mention functions which can help us to find the version of python that we are currently working on.\n",
        "\n",
        "--> 1.Using sys. version method.\n",
        "    2.Using python_version() function.\n",
        "    3.Using Python -V command."
      ],
      "metadata": {
        "id": "SypccsxoKebd"
      }
    },
    {
      "cell_type": "markdown",
      "source": [
        "Q.9) python supports the creation of anonymous functions at runtime using a construct called ------\n",
        "\n",
        "---> lambda "
      ],
      "metadata": {
        "id": "xWULqRfjKekV"
      }
    },
    {
      "cell_type": "markdown",
      "source": [
        "Q.10) What does pip stand for python ?\n",
        "\n",
        "---> In Python, pip stands for \"Pip Installs Packages\"or “Preferred Installer Program”."
      ],
      "metadata": {
        "id": "kJcpIba8Kepl"
      }
    },
    {
      "cell_type": "markdown",
      "source": [
        "Q.11) mention a few built in function in python\n",
        "\n",
        "-->\n",
        "print(),len(),range(),input(),type(),int(), float(), str(), bool(),max(), min(),sum()."
      ],
      "metadata": {
        "id": "Ks-a4OpCOIDI"
      }
    },
    {
      "cell_type": "markdown",
      "source": [
        "Q.12) What is maximum possible length of an identifier in python?\n",
        "\n",
        "--> An identifier can have a maximum length of 79 characters in Python."
      ],
      "metadata": {
        "id": "oeeeao3TOIF6"
      }
    },
    {
      "cell_type": "markdown",
      "source": [
        "Q.13) what are the benefits of using python? \n",
        "\n",
        "-->\n",
        "\n",
        "\n",
        "1.   Easy to Learn\n",
        "2.   High-Level Language\n",
        "3.   Portable and Cross-Platform\n",
        "4.   Interpreted Language \n",
        "5.   Wide range of applications\n",
        "6.   Large standard library\n",
        "7.   Third-party packages\n",
        "\n",
        "\n"
      ],
      "metadata": {
        "id": "_9tWTz3BOIK5"
      }
    },
    {
      "cell_type": "markdown",
      "source": [
        "Q.14) How is memory managed in python ?\n",
        "\n",
        "---> Memory management in Python involves a private heap containing all Python objects and data structures.Python memory manager takes care of the bulk of the memory management work and allows us to concentrate on our code."
      ],
      "metadata": {
        "id": "Cy5b1EAiOIOP"
      }
    },
    {
      "cell_type": "markdown",
      "source": [
        "Q.15) Is indentation required in python?\n",
        "\n",
        "--> Indentation is a very important concept of Python because without properly indenting the Python code, you will end up seeing IndentationError and the code will not get compiled.\n",
        "\n",
        "Python uses indentation to indicate a block of code."
      ],
      "metadata": {
        "id": "EOF8wmiWW_VH"
      }
    }
  ]
}