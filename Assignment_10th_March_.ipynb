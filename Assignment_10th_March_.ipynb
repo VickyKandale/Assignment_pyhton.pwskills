{
  "nbformat": 4,
  "nbformat_minor": 0,
  "metadata": {
    "colab": {
      "provenance": [],
      "authorship_tag": "ABX9TyOtoauv4sZGAh3VQOaPo68T",
      "include_colab_link": true
    },
    "kernelspec": {
      "name": "python3",
      "display_name": "Python 3"
    },
    "language_info": {
      "name": "python"
    }
  },
  "cells": [
    {
      "cell_type": "markdown",
      "metadata": {
        "id": "view-in-github",
        "colab_type": "text"
      },
      "source": [
        "<a href=\"https://colab.research.google.com/github/VickyKandale/Assignment_pyhton.pwskills/blob/main/Assignment_10th_March_.ipynb\" target=\"_parent\"><img src=\"https://colab.research.google.com/assets/colab-badge.svg\" alt=\"Open In Colab\"/></a>"
      ]
    },
    {
      "cell_type": "markdown",
      "source": [
        "#Statistics Advance-3"
      ],
      "metadata": {
        "id": "ecC_5GD9z88x"
      }
    },
    {
      "cell_type": "markdown",
      "source": [
        "##Q1: What is Estimation Statistics? Explain point estimate and interval estimate."
      ],
      "metadata": {
        "id": "zSTzsR1b0Cdr"
      }
    },
    {
      "cell_type": "markdown",
      "source": [
        "Estimation statistics is a branch of statistics that deals with the process of estimating a population parameter based on a sample statistic. It involves using data collected from a sample to make inferences about the characteristics of the larger population from which the sample was drawn.\n",
        "\n",
        "There are two types of estimates in estimation statistics: point estimates and interval estimates.\n",
        "\n",
        "`Point estimate:`\n",
        "A point estimate is a single value that is used to estimate a population parameter. It is calculated using a sample statistic, such as the mean or proportion of a sample. For example, if we want to estimate the average height of all people in a certain population, we could take a sample of people from that population and calculate the mean height of that sample. This mean height would be the point estimate of the population mean height.\n",
        "\n",
        "Interval estimate:\n",
        "An interval estimate, also known as a confidence interval, is a range of values that is likely to contain the population parameter. It is calculated using the sample statistic and the level of confidence desired. For example, if we want to estimate the average height of all people in a certain population with 95% confidence, we could calculate a confidence interval around the sample mean. This confidence interval would provide a range of values within which we can be 95% confident that the population mean height lies.\n",
        "\n",
        "In general, interval estimates are considered to be more informative than point estimates because they provide a range of possible values for the population parameter, rather than a single value."
      ],
      "metadata": {
        "id": "ZAWYK2xh00eo"
      }
    },
    {
      "cell_type": "markdown",
      "source": [
        "##Q2. Write a Python function to estimate the population mean using a sample mean and standard deviation."
      ],
      "metadata": {
        "id": "gQ1eBg0z0G2f"
      }
    },
    {
      "cell_type": "code",
      "source": [
        "import math\n",
        "\n",
        "def estimate_population_mean(sample_mean, sample_std, sample_size):\n",
        "    z_critical = 1.96 # assuming a 95% confidence level\n",
        "    std_error = sample_std / math.sqrt(sample_size)\n",
        "    margin_of_error = z_critical * std_error\n",
        "    lower_bound = sample_mean - margin_of_error\n",
        "    upper_bound = sample_mean + margin_of_error\n",
        "    return lower_bound, upper_bound\n"
      ],
      "metadata": {
        "id": "B_1QAfvi1Q94"
      },
      "execution_count": 1,
      "outputs": []
    },
    {
      "cell_type": "code",
      "source": [
        "sample_mean = 10.5\n",
        "sample_std = 2.5\n",
        "sample_size = 100\n",
        "lower_bound, upper_bound = estimate_population_mean(sample_mean, sample_std, sample_size)\n",
        "print(f\"The population mean is between {lower_bound} and {upper_bound}\")\n"
      ],
      "metadata": {
        "colab": {
          "base_uri": "https://localhost:8080/"
        },
        "id": "vHAdar1N1TB3",
        "outputId": "8ab87766-4845-42a8-c9c5-72eef1d8cf32"
      },
      "execution_count": 2,
      "outputs": [
        {
          "output_type": "stream",
          "name": "stdout",
          "text": [
            "The population mean is between 10.01 and 10.99\n"
          ]
        }
      ]
    },
    {
      "cell_type": "markdown",
      "source": [
        "##Q3: What is Hypothesis testing? Why is it used? State the importance of Hypothesis testing."
      ],
      "metadata": {
        "id": "j1FY6Enc0Pk_"
      }
    },
    {
      "cell_type": "markdown",
      "source": [
        "Hypothesis testing is a statistical method used to test the validity of a hypothesis or claim about a population parameter. It involves formulating a null hypothesis and an alternative hypothesis, collecting data, and using statistical tests to determine whether to reject or fail to reject the null hypothesis.\n",
        "\n",
        "The null hypothesis is a statement that assumes there is no significant difference between a parameter and a specific value or between two parameters. The alternative hypothesis is a statement that contradicts the null hypothesis and assumes that there is a significant difference between a parameter and a specific value or between two parameters.\n",
        "\n",
        "Hypothesis testing is used in many fields, such as medicine, social sciences, engineering, business, and more. For example, a medical researcher may use hypothesis testing to determine whether a new drug is effective in treating a particular condition. A business analyst may use hypothesis testing to determine whether a new marketing strategy has a significant impact on sales.\n",
        "\n",
        "The importance of hypothesis testing lies in its ability to provide a systematic and objective way of testing a claim or hypothesis. By using statistical tests, researchers can determine whether the results they obtained from a sample are likely due to chance or whether they represent a significant difference from what would be expected if the null hypothesis were true.\n",
        "\n",
        "Hypothesis testing also provides a framework for making decisions based on data. If the null hypothesis is rejected, it means that there is strong evidence to support the alternative hypothesis. If the null hypothesis is not rejected, it means that there is not enough evidence to support the alternative hypothesis, and the null hypothesis is retained.\n",
        "\n",
        "Overall, hypothesis testing is an important tool in statistics that allows researchers to make decisions based on data and to determine whether the results they obtained are statistically significant."
      ],
      "metadata": {
        "id": "hLG4l6Z41i2u"
      }
    },
    {
      "cell_type": "markdown",
      "source": [
        "##Q4. Create a hypothesis that states whether the average weight of male college students is greater than the average weight of female college students."
      ],
      "metadata": {
        "id": "VMh2dWbV0umv"
      }
    },
    {
      "cell_type": "markdown",
      "source": [
        "The null hypothesis is typically denoted by H0 and the alternative hypothesis by H1. For this scenario, the null and alternative hypotheses can be stated as follows:\n",
        "\n",
        "H0: The average weight of male college students is equal to or less than the average weight of female college students.\n",
        "H1: The average weight of male college students is greater than the average weight of female college students.\n",
        "\n",
        "Note that we are using a one-tailed test, since we are only interested in whether the average weight of male college students is greater than the average weight of female college students.\n",
        "\n",
        "We could test this hypothesis by collecting a random sample of male and female college students, measuring their weights, and conducting a statistical test (such as a t-test or z-test) to determine whether there is a significant difference between the two groups. The result of the test would allow us to reject or fail to reject the null hypothesis and make conclusions about the average weight of male and female college students."
      ],
      "metadata": {
        "id": "4WEYIJBb1kNW"
      }
    },
    {
      "cell_type": "markdown",
      "source": [
        "##Q5. Write a Python script to conduct a hypothesis test on the difference between two population means, given a sample from each population."
      ],
      "metadata": {
        "id": "EEYciK1Y1oNG"
      }
    },
    {
      "cell_type": "code",
      "source": [
        "import numpy as np\n",
        "from scipy.stats import ttest_ind\n",
        "\n",
        "# define sample data for two populations\n",
        "population1 = np.array([5, 6, 7, 8, 9])\n",
        "population2 = np.array([10, 11, 12, 13, 14])\n",
        "\n",
        "# take random samples from each population\n",
        "sample1 = np.random.choice(population1, size=3, replace=False)\n",
        "sample2 = np.random.choice(population2, size=3, replace=False)\n",
        "\n",
        "# conduct two-sample t-test\n",
        "stat, pvalue = ttest_ind(sample1, sample2)\n",
        "\n",
        "# interpret results\n",
        "alpha = 0.05 # significance level\n",
        "if pvalue < alpha:\n",
        "    print(\"Reject the null hypothesis. There is evidence of a significant difference between the two population means.\")\n",
        "else:\n",
        "    print(\"Fail to reject the null hypothesis. There is not enough evidence to suggest a significant difference between the two population means.\")\n"
      ],
      "metadata": {
        "colab": {
          "base_uri": "https://localhost:8080/"
        },
        "id": "uswL8xj62EDT",
        "outputId": "48e16538-5e4d-41ac-e2bc-e962d28ae25f"
      },
      "execution_count": 3,
      "outputs": [
        {
          "output_type": "stream",
          "name": "stdout",
          "text": [
            "Reject the null hypothesis. There is evidence of a significant difference between the two population means.\n"
          ]
        }
      ]
    },
    {
      "cell_type": "markdown",
      "source": [
        "##Q6: What is a null and alternative hypothesis? Give some examples."
      ],
      "metadata": {
        "id": "X7AlQpcs1xx2"
      }
    },
    {
      "cell_type": "markdown",
      "source": [
        "\n",
        "In hypothesis testing, the null hypothesis (H0) is a statement that assumes there is no significant difference between a population parameter and a specific value or between two population parameters. The alternative hypothesis (H1) is a statement that contradicts the null hypothesis and assumes that there is a significant difference between a population parameter and a specific value or between two population parameters.\n",
        "\n",
        "Here are some examples of null and alternative hypotheses:\n",
        "\n",
        "Example for one population parameter:\n",
        "\n",
        "\n",
        "```\n",
        "H0: The average weight of a certain breed of dog is 20 pounds.\n",
        "H1: The average weight of a certain breed of dog is not 20 pounds.\n",
        "```\n",
        "\n",
        "\n",
        "\n",
        "Example for two population parameters:\n",
        "```\n",
        "H0: There is no difference in the mean reaction time between men and women.\n",
        "H1: The mean reaction time for men is different from the mean reaction time for women.\n",
        "```\n",
        "Example for testing a claim:\n",
        "```\n",
        "H0: The percentage of voters who support a particular candidate is less than or equal to 50%.\n",
        "H1: The percentage of voters who support a particular candidate is greater than 50%.\n",
        "```\n",
        "Example for testing a new treatment:\n",
        "```\n",
        "H0: The new treatment does not improve the recovery time for patients.\n",
        "H1: The new treatment improves the recovery time for patients.\n",
        "```\n",
        "\n",
        "Note that in all of these examples, the null hypothesis assumes that there is no significant difference between a population parameter and a specific value or between two population parameters, while the alternative hypothesis assumes that there is a significant difference. The purpose of hypothesis testing is to determine whether the data supports the null hypothesis or the alternative hypothesis."
      ],
      "metadata": {
        "id": "tsM_JfuR2yjG"
      }
    },
    {
      "cell_type": "markdown",
      "source": [
        "##Q7: Write down the steps involved in hypothesis testing."
      ],
      "metadata": {
        "id": "6diykkbf2OoI"
      }
    },
    {
      "cell_type": "markdown",
      "source": [
        "The following are the general steps involved in hypothesis testing:\n",
        "\n",
        "Formulate the null and alternative hypotheses: The first step is to clearly state the null and alternative hypotheses based on the research question.\n",
        "\n",
        "* Determine the level of significance (alpha): The level of significance (alpha) is the probability of rejecting the null hypothesis when it is actually true. A typical value for alpha is 0.05.\n",
        "\n",
        "* Choose the appropriate statistical test: The choice of statistical test depends on the type of data and the research question. Common statistical tests include t-tests, ANOVA, chi-square tests, and regression analysis.\n",
        "\n",
        "* Collect the data: Collect a sample of data from the population of interest.\n",
        "\n",
        "* Calculate the test statistic: Calculate the appropriate test statistic based on the chosen statistical test and the sample data.\n",
        "\n",
        "* Determine the p-value: The p-value is the probability of obtaining a test statistic as extreme as, or more extreme than, the one observed, assuming the null hypothesis is true.\n",
        "\n",
        "* Compare the p-value to alpha: If the p-value is less than or equal to alpha, reject the null hypothesis. If the p-value is greater than alpha, fail to reject the null hypothesis.\n",
        "\n",
        "* Interpret the results: If the null hypothesis is rejected, it means that there is evidence to support the alternative hypothesis. If the null hypothesis is not rejected, it means that there is not enough evidence to support the alternative hypothesis.\n",
        "\n",
        "* Draw conclusions and make recommendations: Based on the results of the hypothesis test, draw conclusions and make recommendations for future research or actions.\n",
        "\n",
        "Note that these steps are general and may vary slightly depending on the specific research question and statistical test being used."
      ],
      "metadata": {
        "id": "t0AxJX1-33KN"
      }
    },
    {
      "cell_type": "markdown",
      "source": [
        "##Q8. Define p-value and explain its significance in hypothesis testing."
      ],
      "metadata": {
        "id": "HPkff1jD3HqP"
      }
    },
    {
      "cell_type": "markdown",
      "source": [
        "In hypothesis testing, the p-value is the probability of obtaining a test statistic as extreme as, or more extreme than, the one observed, assuming the null hypothesis is true. It is a measure of the strength of the evidence against the null hypothesis.\n",
        "\n",
        "The p-value helps to determine the level of significance of the results of a hypothesis test. If the p-value is less than or equal to the chosen level of significance (usually denoted by alpha), it suggests that the observed result is statistically significant and that the null hypothesis should be rejected in favor of the alternative hypothesis. On the other hand, if the p-value is greater than the level of significance, it suggests that the observed result is not statistically significant, and that there is not enough evidence to reject the null hypothesis.\n",
        "\n",
        "For example, if the chosen level of significance is 0.05 and the p-value is calculated to be 0.02, it means that there is only a 2% chance of observing a test statistic as extreme as, or more extreme than, the one observed, assuming the null hypothesis is true. This suggests strong evidence against the null hypothesis, and it is likely that the alternative hypothesis is true. On the other hand, if the p-value is calculated to be 0.10, it means that there is a 10% chance of observing a test statistic as extreme as, or more extreme than, the one observed, assuming the null hypothesis is true. This suggests weak evidence against the null hypothesis, and it is not enough to reject the null hypothesis.\n",
        "\n",
        "Therefore, the p-value is an important tool in hypothesis testing as it helps to determine the statistical significance of the results and provides evidence to support or reject the null hypothesis."
      ],
      "metadata": {
        "id": "CWiZwSIR4VZF"
      }
    },
    {
      "cell_type": "code",
      "source": [],
      "metadata": {
        "id": "CCClteVx4FHn"
      },
      "execution_count": null,
      "outputs": []
    },
    {
      "cell_type": "markdown",
      "source": [
        "##Q9. Generate a Student's t-distribution plot using Python's matplotlib library, with the degrees of freedom parameter set to 10."
      ],
      "metadata": {
        "id": "nyhnVqBA3QWO"
      }
    },
    {
      "cell_type": "code",
      "source": [
        "import numpy as np\n",
        "import matplotlib.pyplot as plt\n",
        "\n",
        "# Define the degrees of freedom\n",
        "df = 10\n",
        "\n",
        "# Generate a range of values for the x-axis\n",
        "x = np.linspace(-4, 4, 1000)\n",
        "\n",
        "# Calculate the y-values for the t-distribution\n",
        "y = (1 / (np.sqrt(df) * np.sqrt(np.pi))) * ((1 + (x**2 / df))**(-((df+1)/2)))\n",
        "\n",
        "# Create the plot\n",
        "fig, ax = plt.subplots()\n",
        "ax.plot(x, y, linewidth=2, color='blue')\n",
        "\n",
        "# Set the axis labels and title\n",
        "ax.set_xlabel('x')\n",
        "ax.set_ylabel('Probability Density')\n",
        "ax.set_title('Student\\'s t-Distribution (df=10)')\n",
        "\n",
        "# Display the plot\n",
        "plt.show()\n"
      ],
      "metadata": {
        "colab": {
          "base_uri": "https://localhost:8080/",
          "height": 472
        },
        "id": "UpbvyjYF4tSt",
        "outputId": "75432124-f099-4925-8dd7-7b6dc6f67a0d"
      },
      "execution_count": 4,
      "outputs": [
        {
          "output_type": "display_data",
          "data": {
            "text/plain": [
              "<Figure size 640x480 with 1 Axes>"
            ],
            "image/png": "[encoded data removed]"
          },
          "metadata": {}
        }
      ]
    },
    {
      "cell_type": "markdown",
      "source": [
        "##Q10. Write a Python program to calculate the two-sample t-test for independent samples, given two random samples of equal size and a null hypothesis that the population means are equal."
      ],
      "metadata": {
        "id": "FWCkVf993aP-"
      }
    },
    {
      "cell_type": "code",
      "source": [
        "import numpy as np\n",
        "from scipy import stats\n",
        "\n",
        "# Generate two random samples of equal size\n",
        "sample1 = np.random.normal(10, 2, size=50)\n",
        "sample2 = np.random.normal(12, 2, size=50)\n",
        "\n",
        "# Calculate the t-statistic and p-value using the two-sample t-test\n",
        "t_statistic, p_value = stats.ttest_ind(sample1, sample2)\n",
        "\n",
        "# Print the results\n",
        "print(\"t-statistic: {:.2f}\".format(t_statistic))\n",
        "print(\"p-value: {:.4f}\".format(p_value))\n",
        "\n",
        "# Determine if the null hypothesis should be rejected based on the p-value\n",
        "alpha = 0.05\n",
        "if p_value < alpha:\n",
        "    print(\"The null hypothesis should be rejected.\")\n",
        "else:\n",
        "    print(\"The null hypothesis should not be rejected.\")\n"
      ],
      "metadata": {
        "colab": {
          "base_uri": "https://localhost:8080/"
        },
        "id": "m6y3Mmgr5Jfm",
        "outputId": "1a9cb56b-1e65-41ef-9c88-f1022e824e3e"
      },
      "execution_count": 5,
      "outputs": [
        {
          "output_type": "stream",
          "name": "stdout",
          "text": [
            "t-statistic: -4.72\n",
            "p-value: 0.0000\n",
            "The null hypothesis should be rejected.\n"
          ]
        }
      ]
    },
    {
      "cell_type": "markdown",
      "source": [
        "##Q11: What is Student’s t distribution? When to use the t-Distribution."
      ],
      "metadata": {
        "id": "lhKCinw73vb_"
      }
    },
    {
      "cell_type": "markdown",
      "source": [
        "The Student's t-distribution, or simply t-distribution, is a probability distribution that arises when estimating the mean of a normally distributed population in situations where the sample size is small or the population standard deviation is unknown. It is similar in shape to the standard normal distribution, but with heavier tails, which reflects the increased uncertainty due to the smaller sample size.\n",
        "\n",
        "The t-distribution is commonly used in hypothesis testing when dealing with small sample sizes or unknown population standard deviation. It provides a way to estimate the population mean and compare it to a hypothesized value, and to calculate the probability of observing a particular sample mean given the hypothesized value.\n",
        "\n",
        "The t-distribution is also used to calculate confidence intervals for the population mean when the population standard deviation is unknown and the sample size is small. By using the t-distribution instead of the standard normal distribution, the confidence interval accounts for the increased uncertainty due to the smaller sample size.\n",
        "\n",
        "In general, the t-distribution should be used whenever the sample size is small (less than 30) or the population standard deviation is unknown. However, as the sample size increases, the t-distribution approaches the standard normal distribution, and it becomes appropriate to use the latter in place of the former."
      ],
      "metadata": {
        "id": "G0uOY5Ba5ck0"
      }
    },
    {
      "cell_type": "markdown",
      "source": [
        "##Q12: What is t-statistic? State the formula for t-statistic."
      ],
      "metadata": {
        "id": "ttZbJZg73wlF"
      }
    },
    {
      "cell_type": "markdown",
      "source": [
        "In statistics, the t-statistic is a measure of how much a sample mean differs from a hypothesized population mean, measured in standard error units. It is used in hypothesis testing to determine whether a sample mean is significantly different from a hypothesized population mean.\n",
        "\n",
        "The formula for calculating the t-statistic is:\n",
        "\n",
        "`t = (x̄ - μ) / (s / √n)`\n",
        "\n",
        "where:\n",
        "```\n",
        "x̄ is the sample mean\n",
        "μ is the hypothesized population mean\n",
        "s is the sample standard deviation\n",
        "n is the sample size\n",
        "√n is the square root of the sample size\n",
        "```\n",
        "The numerator of the formula (x̄ - μ) is the difference between the sample mean and the hypothesized population mean, expressed in the units of the sample standard deviation. The denominator of the formula (s / √n) is the standard error of the sample mean, which represents the variability of sample means that would be obtained from repeated sampling from the same population.\n",
        "\n",
        "The t-statistic follows a t-distribution with n-1 degrees of freedom, which depends on the sample size. By comparing the calculated t-statistic to the critical values of the t-distribution for the appropriate degrees of freedom and level of significance, we can determine whether to reject or fail to reject the null hypothesis."
      ],
      "metadata": {
        "id": "mJaicUtg5vGF"
      }
    },
    {
      "cell_type": "markdown",
      "source": [
        "##Q13. A coffee shop owner wants to estimate the average daily revenue for their shop. They take a random sample of 50 days and find the sample mean revenue to be `$500 with a standard deviation of $50`. Estimate the population mean revenue with a 95% confidence interval."
      ],
      "metadata": {
        "id": "2XieOPU34Z0e"
      }
    },
    {
      "cell_type": "markdown",
      "source": [
        "To estimate the population mean revenue with a 95% confidence interval, we can use the t-distribution since the population standard deviation is unknown and the sample size is less than 30. The formula for calculating the confidence interval is:\n",
        "\n",
        "`CI = x̄ ± tα/2 * (s/√n)`\n",
        "\n",
        "where:\n",
        "```\n",
        "x̄ is the sample mean\n",
        "tα/2 is the critical t-value for the desired confidence level and degrees of freedom (n-1)\n",
        "s is the sample standard deviation\n",
        "n is the sample size\n",
        "```\n",
        "With a 95% confidence level and 49 degrees of freedom (50-1), the critical t-value is 2.009. Plugging in the values from the problem, we get:\n",
        "```\n",
        "CI = $500 ± 2.009 * ($50 / √50)\n",
        "\n",
        "CI = $500 ± $14.20\n",
        "```\n",
        "Therefore, the 95% confidence interval for the population mean revenue is $485.80 to $514.20. We can say with 95% confidence that the true average daily revenue for the coffee shop falls within this range."
      ],
      "metadata": {
        "id": "HmmpjAbn56PE"
      }
    },
    {
      "cell_type": "markdown",
      "source": [
        "##Q14. A researcher hypothesizes that a new drug will decrease blood pressure by 10 mmHg. They conduct a clinical trial with 100 patients and find that the sample mean decrease in blood pressure is 8 mmHg with a standard deviation of 3 mmHg. Test the hypothesis with a significance level of 0.05."
      ],
      "metadata": {
        "id": "RmcLv8db45WM"
      }
    },
    {
      "cell_type": "markdown",
      "source": [
        "To test the hypothesis that the new drug decreases blood pressure by 10 mmHg, we can use a one-sample t-test. The null and alternative hypotheses are:\n",
        "```\n",
        "H0: μ = 10 (the new drug does not decrease blood pressure by 10 mmHg)\n",
        "Ha: μ < 10 (the new drug decreases blood pressure by less than 10 mmHg)\n",
        "```\n",
        "We can calculate the t-statistic using the formula:\n",
        "```\n",
        "t = (x̄ - μ) / (s / √n)\n",
        "\n",
        "where:\n",
        "\n",
        "x̄ is the sample mean decrease in blood pressure\n",
        "μ is the hypothesized decrease in blood pressure under the null hypothesis (10 mmHg)\n",
        "s is the sample standard deviation of the decrease in blood pressure\n",
        "n is the sample size (100)\n",
        "```\n",
        "Plugging in the values from the problem, we get:\n",
        "```\n",
        "t = (8 - 10) / (3 / √100)\n",
        "\n",
        "t = -2.82\n",
        "```\n",
        "\n",
        "The degrees of freedom for the t-distribution are n-1 = 99. Using a significance level of 0.05, the critical t-value for a one-tailed test is -1.66. Since our calculated t-value (-2.82) is less than the critical t-value (-1.66), we reject the null hypothesis and conclude that the new drug decreases blood pressure by less than 10 mmHg at a significance level of 0.05."
      ],
      "metadata": {
        "id": "ThlgttQ46P42"
      }
    },
    {
      "cell_type": "markdown",
      "source": [
        "##Q15. An electronics company produces a certain type of product with a mean weight of 5 pounds and a standard deviation of 0.5 pounds. A random sample of 25 products is taken, and the sample mean weight is found to be 4.8 pounds. Test the hypothesis that the true mean weight of the products is less than 5 pounds with a significance level of 0.01."
      ],
      "metadata": {
        "id": "Nt6ihIoF5Cdt"
      }
    },
    {
      "cell_type": "markdown",
      "source": [
        "To test the hypothesis that the true mean weight of the products is less than 5 pounds, we can use a one-sample t-test. The null and alternative hypotheses are:\n",
        "```\n",
        "H0: μ ≥ 5 (the true mean weight is greater than or equal to 5 pounds)\n",
        "Ha: μ < 5 (the true mean weight is less than 5 pounds)\n",
        "```\n",
        "We can calculate the t-statistic using the formula:\n",
        "```\n",
        "t = (x̄ - μ) / (s / √n)\n",
        "\n",
        "where:\n",
        "\n",
        "x̄ is the sample mean weight\n",
        "μ is the hypothesized mean weight under the null hypothesis (5 pounds)\n",
        "s is the sample standard deviation of the weight\n",
        "n is the sample size (25)\n",
        "```\n",
        "Plugging in the values from the problem, we get:\n",
        "```\n",
        "t = (4.8 - 5) / (0.5 / √25)\n",
        "\n",
        "t = -2\n",
        "```\n",
        "The degrees of freedom for the t-distribution are n-1 = 24. Using a significance level of 0.01, the critical t-value for a one-tailed test is -2.492. Since our calculated t-value (-2) is less than the critical t-value (-2.492), we reject the null hypothesis and conclude that the true mean weight of the products is less than 5 pounds at a significance level of 0.01."
      ],
      "metadata": {
        "id": "Tck66eRJ6cz8"
      }
    },
    {
      "cell_type": "markdown",
      "source": [
        "##Q16. Two groups of students are given different study materials to prepare for a test. The first group (n1 =30) has a mean score of 80 with a standard deviation of 10, and the second group (n2 = 40) has a mean score of 75 with a standard deviation of 8. Test the hypothesis that the population means for the twogroups are equal with a significance level of 0.01."
      ],
      "metadata": {
        "id": "DYXETLyI5N0V"
      }
    },
    {
      "cell_type": "markdown",
      "source": [
        "To test the hypothesis that the population means for the two groups are equal, we can use a two-sample t-test assuming equal variances. The null and alternative hypotheses are:\n",
        "```\n",
        "H0: μ1 = μ2 (the population means for the two groups are equal)\n",
        "Ha: μ1 ≠ μ2 (the population means for the two groups are not equal)\n",
        "```\n",
        "We can calculate the t-statistic using the formula:\n",
        "```\n",
        "t = (x̄1 - x̄2) / (s_p * √(1/n1 + 1/n2))\n",
        "\n",
        "where:\n",
        "\n",
        "x̄1 and x̄2 are the sample means for the two groups\n",
        "s_p is the pooled standard deviation, calculated as:\n",
        "s_p = √(((n1 - 1) * s1^2 + (n2 - 1) * s2^2) / (n1 + n2 - 2))\n",
        "\n",
        "s1 and s2 are the sample standard deviations for the two groups\n",
        "n1 and n2 are the sample sizes for the two groups\n",
        "```\n",
        "Plugging in the values from the problem, we get:\n",
        "```\n",
        "x̄1 = 80\n",
        "s1 = 10\n",
        "n1 = 30\n",
        "\n",
        "x̄2 = 75\n",
        "s2 = 8\n",
        "n2 = 40\n",
        "\n",
        "s_p = √(((30 - 1) * 10^2 + (40 - 1) * 8^2) / (30 + 40 - 2)) = 9.072\n",
        "\n",
        "t = (80 - 75) / (9.072 * √(1/30 + 1/40))\n",
        "\n",
        "t = 1.73\n",
        "```\n",
        "The degrees of freedom for the t-distribution are (n1 + n2 - 2) = 68. Using a significance level of 0.01 and a two-tailed test, the critical t-value is ±2.660. Since our calculated t-value (1.73) is less than the critical t-value, but not greater than its negative counterpart (-2.660), we fail to reject the null hypothesis and conclude that there is not enough evidence to suggest that the population means for the two groups are different at a significance level of 0.01."
      ],
      "metadata": {
        "id": "gI5xQ62v64wk"
      }
    },
    {
      "cell_type": "markdown",
      "source": [
        "##Q17. A marketing company wants to estimate the average number of ads watched by viewers during a TV program. They take a random sample of 50 viewers and find that the sample mean is 4 with a standard deviation of 1.5. Estimate the population mean with a 99% confidence interval."
      ],
      "metadata": {
        "id": "ykE1lEBi5VFd"
      }
    },
    {
      "cell_type": "markdown",
      "source": [
        "To estimate the population mean with a 99% confidence interval, we can use the following formula:\n",
        "```\n",
        "Confidence interval = sample mean ± margin of error\n",
        "\n",
        "where\n",
        "\n",
        "Margin of error = t-value * (standard deviation / sqrt(sample size))\n",
        "```\n",
        "Here,\n",
        "```\n",
        "sample mean = 4\n",
        "standard deviation = 1.5\n",
        "sample size = 50\n",
        "confidence level = 0.99\n",
        "```\n",
        "To find the t-value, we need to use the t-distribution table or the scipy.stats module in Python.\n",
        "\n",
        "Since we want a 99% confidence interval, we need to find the t-value that corresponds to a 0.005 (0.5%) tail probability with 49 degrees of freedom (n-1), which is approximately 2.68 (from the table).\n",
        "\n",
        "Now, we can calculate the margin of error as:\n",
        "```\n",
        "Margin of error = 2.68 * (1.5 / sqrt(50)) ≈ 0.61\n",
        "```\n",
        "Therefore, the 99% confidence interval is:\n",
        "```\n",
        "Confidence interval = 4 ± 0.61\n",
        "\n",
        "Confidence interval = (3.39, 4.61)\n",
        "```\n",
        "So, we can say with 99% confidence that the population mean number of ads watched by viewers during a TV program is between 3.39 and 4.61."
      ],
      "metadata": {
        "id": "3-W2Z4OM7Dtm"
      }
    },
    {
      "cell_type": "code",
      "execution_count": null,
      "metadata": {
        "id": "VHqjqK7hz2Uc"
      },
      "outputs": [],
      "source": []
    }
  ]
}