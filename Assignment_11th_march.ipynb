{
  "nbformat": 4,
  "nbformat_minor": 0,
  "metadata": {
    "colab": {
      "provenance": [],
      "authorship_tag": "ABX9TyMuHVQBPgjU2yGUV/XinEy2",
      "include_colab_link": true
    },
    "kernelspec": {
      "name": "python3",
      "display_name": "Python 3"
    },
    "language_info": {
      "name": "python"
    }
  },
  "cells": [
    {
      "cell_type": "markdown",
      "metadata": {
        "id": "view-in-github",
        "colab_type": "text"
      },
      "source": [
        "<a href=\"https://colab.research.google.com/github/VickyKandale/Assignment_pyhton.pwskills/blob/main/Assignment_11th_march.ipynb\" target=\"_parent\"><img src=\"https://colab.research.google.com/assets/colab-badge.svg\" alt=\"Open In Colab\"/></a>"
      ]
    },
    {
      "cell_type": "markdown",
      "source": [
        "#Statistics Advance-4"
      ],
      "metadata": {
        "id": "xH0SGTUC8h3O"
      }
    },
    {
      "cell_type": "markdown",
      "source": [
        "##Q1: What is the difference between a t-test and a z-test? Provide an example scenario where you would use each type of test.\n",
        "\n"
      ],
      "metadata": {
        "id": "cwzbxIGP8j7s"
      }
    },
    {
      "cell_type": "markdown",
      "source": [
        "A t-test and a z-test are both statistical tests used to determine the probability of a sample mean being significantly different from a known population mean. However, there are some differences between these two tests.\n",
        "\n",
        "The main difference between a t-test and a z-test is the type of data that they are used for. A z-test is used when the population standard deviation is known, while a t-test is used when the population standard deviation is unknown. Therefore, a t-test is generally used for smaller sample sizes or when the population standard deviation is unknown.\n",
        "\n",
        "Here's an example scenario where you would use each type of test:\n",
        "\n",
        "Scenario 1: Suppose you are investigating the effect of a new drug on blood pressure. You have a large sample size (n > 30) and the population standard deviation is known. In this case, you would use a z-test to determine if the mean blood pressure of the drug group is significantly different from the mean blood pressure of the control group.\n",
        "\n",
        "Scenario 2: Suppose you are investigating the effect of a new teaching method on student test scores. You have a small sample size (n < 30) and the population standard deviation is unknown. In this case, you would use a t-test to determine if the mean test score of the treatment group is significantly different from the mean test score of the control group."
      ],
      "metadata": {
        "id": "qwAgqpMZ-aFs"
      }
    },
    {
      "cell_type": "markdown",
      "source": [
        "##Q2: Differentiate between one-tailed and two-tailed tests.\n"
      ],
      "metadata": {
        "id": "JXaweE9l8tTj"
      }
    },
    {
      "cell_type": "markdown",
      "source": [
        "A hypothesis test can be either one-tailed or two-tailed, which refers to the directionality of the alternative hypothesis. Here's how they differ:\n",
        "\n",
        "* A one-tailed test is a hypothesis test in which the alternative hypothesis specifies the direction of the effect. In other words, the researcher is interested in determining whether the sample mean is either significantly greater than or significantly less than the population mean. For example, a one-tailed test might be used to determine whether a new drug increases the average lifespan of patients.\n",
        "\n",
        "* A two-tailed test is a hypothesis test in which the alternative hypothesis does not specify the direction of the effect. In other words, the researcher is interested in determining whether the sample mean is significantly different from the population mean, regardless of whether it is higher or lower. For example, a two-tailed test might be used to determine whether a coin is biased, i.e., whether it is equally likely to come up heads or tails.\n",
        "\n",
        "In a one-tailed test, the critical region of the distribution is only on one side of the mean, while in a two-tailed test, the critical region is on both sides of the mean. The choice between a one-tailed and two-tailed test depends on the research question and the directionality of the effect being tested. If the researcher has a strong theoretical basis for expecting the effect to be in a specific direction, a one-tailed test may be appropriate. Otherwise, a two-tailed test is usually recommended as it is more conservative and reduces the risk of a type I error."
      ],
      "metadata": {
        "id": "UWKk_C6E-bic"
      }
    },
    {
      "cell_type": "markdown",
      "source": [
        "##Q3: Explain the concept of Type 1 and Type 2 errors in hypothesis testing. Provide an example scenario for each type of error.\n"
      ],
      "metadata": {
        "id": "ITKRtTDV8xZG"
      }
    },
    {
      "cell_type": "markdown",
      "source": [
        "In hypothesis testing, a Type I error occurs when we reject the null hypothesis when it is actually true. This is also known as a false positive. On the other hand, a Type II error occurs when we fail to reject the null hypothesis when it is actually false. This is also known as a false negative.\n",
        "\n",
        "Here are some example scenarios for each type of error:\n",
        "\n",
        "* `Type I error example:`\n",
        "Suppose a company is testing a new drug to reduce anxiety. The null hypothesis is that the drug does not reduce anxiety. The alternative hypothesis is that the drug reduces anxiety. The company conducts a study and finds a significant result indicating that the drug reduces anxiety. However, in reality, the drug does not actually reduce anxiety, and the company has made a Type I error by falsely concluding that the drug works.\n",
        "\n",
        "* `Type II error example:`\n",
        "Suppose a company is again testing a new drug to reduce anxiety. The null hypothesis is that the drug does not reduce anxiety. The alternative hypothesis is that the drug reduces anxiety. The company conducts a study and finds no significant result indicating that the drug reduces anxiety. However, in reality, the drug actually does reduce anxiety, and the company has made a Type II error by failing to reject the null hypothesis and falsely concluding that the drug does not work.\n",
        "\n",
        "It is important to note that the probability of making a Type I error is denoted by the significance level (alpha), while the probability of making a Type II error is denoted by beta. These two probabilities are inversely related; decreasing the significance level (alpha) will increase the probability of making a Type II error (beta), and vice versa. It is also possible to calculate the power of a test, which is the probability of correctly rejecting the null hypothesis when it is actually false."
      ],
      "metadata": {
        "id": "gtWjyfij-qb6"
      }
    },
    {
      "cell_type": "markdown",
      "source": [
        "\n",
        "##Q4:  Explain Bayes's theorem with an example.\n"
      ],
      "metadata": {
        "id": "8C5LuAQc82j8"
      }
    },
    {
      "cell_type": "markdown",
      "source": [
        "Bayes's theorem is a mathematical formula used to calculate the probability of a hypothesis being true given some observed evidence. It provides a way to update our prior beliefs (or prior probability) about a hypothesis based on new data or information.\n",
        "\n",
        "The theorem is based on the following formula:\n",
        "```\n",
        "P(A|B) = P(B|A) * P(A) / P(B)\n",
        "\n",
        "Where:\n",
        "\n",
        "P(A|B) is the probability of hypothesis A given the observed evidence B (also known as the posterior probability).\n",
        "P(B|A) is the probability of the observed evidence B given hypothesis A (also known as the likelihood).\n",
        "P(A) is the prior probability of hypothesis A before observing the evidence.\n",
        "P(B) is the probability of the observed evidence B.\n",
        "```\n",
        "Here's an example scenario to explain Bayes's theorem:\n",
        "\n",
        "Suppose a medical test is designed to detect a disease that affects 1 in 1,000 people in the general population. The test has a 95% accuracy rate, meaning that if a person has the disease, there is a 95% chance that the test will correctly identify it. If a person does not have the disease, there is a 5% chance that the test will incorrectly indicate that they do have it.\n",
        "\n",
        "Let's say a person takes the test and it comes back positive. What is the probability that they actually have the disease?\n",
        "\n",
        "We can apply Bayes's theorem to solve this problem. First, we need to define the events and probabilities:\n",
        "```\n",
        "A: the event that the person has the disease.\n",
        "B: the event that the test is positive.\n",
        "The prior probability of having the disease (P(A)) is 1/1000 = 0.001.\n",
        "```\n",
        "The likelihood of the test being positive if the person has the disease (P(B|A)) is 0.95.\n",
        "```\n",
        "The likelihood of the test being positive if the person does not have the disease (P(B|not A)) is 0.05.\n",
        "\n",
        "The probability of the test being positive (P(B)) can be calculated using the law of total probability:\n",
        "\n",
        "P(B) = P(B|A) * P(A) + P(B|not A) * P(not A)\n",
        "P(B) = 0.95 * 0.001 + 0.05 * 0.999\n",
        "P(B) = 0.0509\n",
        "\n",
        "Now we can calculate the posterior probability of having the disease given a positive test result:\n",
        "\n",
        "P(A|B) = P(B|A) * P(A) / P(B)\n",
        "P(A|B) = 0.95 * 0.001 / 0.0509\n",
        "P(A|B) = 0.0187 or 1.87%\n",
        "```\n",
        "Therefore, even with a positive test result, the probability of actually having the disease is only 1.87%, which is relatively low."
      ],
      "metadata": {
        "id": "NThydAHB_JYS"
      }
    },
    {
      "cell_type": "markdown",
      "source": [
        "## Q5: What is a confidence interval? How to calculate the confidence interval, explain with an example.\n"
      ],
      "metadata": {
        "id": "fgQbDcBJ87rt"
      }
    },
    {
      "cell_type": "markdown",
      "source": [
        "A confidence interval is a range of values that is likely to contain the true population parameter with a certain degree of confidence. It provides a measure of the precision of the estimate and the level of uncertainty around it. In statistical terms, a confidence interval represents the range of values that is expected to contain the population parameter a certain percentage of the time (e.g., 95%, 99%).\n",
        "\n",
        "To calculate the confidence interval, we need to know the sample size, the sample mean, the standard deviation (or standard error) of the sample, and the desired level of confidence. The formula for a confidence interval for the population mean is:\n",
        "```\n",
        "Confidence interval = sample mean ± (critical value x standard error)\n",
        "```\n",
        "The critical value is obtained from a t-distribution table based on the level of confidence and degrees of freedom (sample size - 1). The standard error is calculated as the standard deviation of the sample divided by the square root of the sample size.\n",
        "\n",
        "Here's an example scenario to illustrate the calculation of a confidence interval:\n",
        "\n",
        "Suppose a random sample of 50 students was taken from a university, and their GPAs were recorded. The sample mean GPA was 3.2, and the standard deviation of the sample was 0.5. Calculate a 95% confidence interval for the population mean GPA.\n",
        "\n",
        "First, we need to calculate the standard error:\n",
        "```\n",
        "Standard error = standard deviation / sqrt(sample size)\n",
        "Standard error = 0.5 / sqrt(50)\n",
        "Standard error = 0.0707\n",
        "```\n",
        "Next, we need to find the critical value from a t-distribution table with 49 degrees of freedom (50 - 1) and a 95% confidence level. This gives us a critical value of 2.009.\n",
        "\n",
        "Finally, we can calculate the confidence interval using the formula:\n",
        "```\n",
        "Confidence interval = sample mean ± (critical value x standard error)\n",
        "Confidence interval = 3.2 ± (2.009 x 0.0707)\n",
        "Confidence interval = (3.06, 3.34)\n",
        "```\n",
        "Therefore, we can be 95% confident that the population mean GPA is between 3.06 and 3.34. This means that if we were to repeat this process many times, we would expect the true population mean to be within this range 95% of the time."
      ],
      "metadata": {
        "id": "DiAwXhDy_pHy"
      }
    },
    {
      "cell_type": "markdown",
      "source": [
        "\n",
        "##Q6. Use Bayes' Theorem to calculate the probability of an event occurring given prior knowledge of the event's probability and new evidence. Provide a sample problem and solution.\n"
      ],
      "metadata": {
        "id": "pom9qwjP9AHs"
      }
    },
    {
      "cell_type": "markdown",
      "source": [
        "Sure, here's an example problem that demonstrates the use of Bayes' Theorem:\n",
        "\n",
        "Suppose a blood test for a rare disease is 99% accurate. The disease occurs in 1 in 1000 people in the population. If a person tests positive, what is the probability that they actually have the disease?\n",
        "\n",
        "Let's use Bayes' Theorem to solve this problem. We know the following:\n",
        "```\n",
        "P(D) = 0.001 (the probability of having the disease)\n",
        "P(D') = 0.999 (the probability of not having the disease)\n",
        "P(T+|D) = 0.99 (the probability of testing positive given that the person has the disease)\n",
        "P(T+|D') = 0.01 (the probability of testing positive given that the person does not have the disease)\n",
        "```\n",
        "We want to find P(D|T+), which is the probability of having the disease given that the person tests positive.\n",
        "```\n",
        "Bayes' Theorem states that:\n",
        "\n",
        "P(D|T+) = (P(T+|D) * P(D)) / P(T+)\n",
        "```\n",
        "To calculate P(T+), we need to use the law of total probability:\n",
        "```\n",
        "P(T+) = P(T+|D) * P(D) + P(T+|D') * P(D')\n",
        "```\n",
        "Plugging in the values, we get:\n",
        "```\n",
        "P(T+) = (0.99 * 0.001) + (0.01 * 0.999) = 0.01098\n",
        "```\n",
        "Now we can calculate P(D|T+):\n",
        "```\n",
        "P(D|T+) = (P(T+|D) * P(D)) / P(T+)\n",
        "P(D|T+) = (0.99 * 0.001) / 0.01098\n",
        "P(D|T+) = 0.09016 or 9.016%\n",
        "```\n",
        "Therefore, the probability that a person who tests positive actually has the disease is only 9.016%. This is lower than what most people might expect, given that the test is 99% accurate. This highlights the importance of considering both the accuracy of the test and the prior probability of the disease when interpreting test results."
      ],
      "metadata": {
        "id": "WfwfdHi5_zDz"
      }
    },
    {
      "cell_type": "markdown",
      "source": [
        "##Q7. Calculate the 95% confidence interval for a sample of data with a mean of 50 and a standard deviation of 5. Interpret the results.\n"
      ],
      "metadata": {
        "id": "mo2-cOoC9Egb"
      }
    },
    {
      "cell_type": "markdown",
      "source": [
        "To calculate the 95% confidence interval for a sample of data with a mean of 50 and a standard deviation of 5, we need to use the formula:\n",
        "```\n",
        "Confidence interval = sample mean ± (critical value x standard error)\n",
        "```\n",
        "where the critical value is obtained from a t-distribution table based on the level of confidence (95%) and the degrees of freedom (n - 1, where n is the sample size), and the standard error is calculated as the standard deviation divided by the square root of the sample size.\n",
        "\n",
        "Since we don't have any information about the sample size, we cannot calculate the standard error and degrees of freedom. Therefore, we cannot calculate the confidence interval.\n",
        "\n",
        "However, if we assume that the sample size is large enough, we can use the standard normal distribution instead of the t-distribution, since the two converge as sample size increases. In this case, the critical value for a 95% confidence interval is approximately 1.96.\n",
        "\n",
        "Using this value, we can calculate the confidence interval as:\n",
        "```\n",
        "Confidence interval = 50 ± (1.96 x 5 / sqrt(n))\n",
        "```\n",
        "For example, if we assume that the sample size is 100, we get:\n",
        "```\n",
        "Confidence interval = 50 ± (1.96 x 5 / sqrt(100))\n",
        "Confidence interval = 50 ± 0.98\n",
        "Confidence interval = (49.02, 50.98)\n",
        "```\n",
        "Interpreting the results, we can say that we are 95% confident that the true population mean lies between 49.02 and 50.98. This means that if we were to take many samples and calculate their confidence intervals, we would expect the true population mean to be within this range 95% of the time. It is important to note that this does not mean that there is a 95% chance that the population mean is within this range, but rather that the method used to calculate the interval has a 95% success rate in capturing the true population mean."
      ],
      "metadata": {
        "id": "yyGSDdkhAgTS"
      }
    },
    {
      "cell_type": "markdown",
      "source": [
        "\n",
        "##Q8. What is the margin of error in a confidence interval? How does sample size affect the margin of error? Provide an example of a scenario where a larger sample size would result in a smaller margin of error.\n",
        "\n"
      ],
      "metadata": {
        "id": "jyNcrz9m9Jca"
      }
    },
    {
      "cell_type": "markdown",
      "source": [
        "The margin of error in a confidence interval is the range of values above and below the sample estimate that is likely to contain the true population parameter with a certain level of confidence. It is calculated by multiplying the standard error of the sample mean by the appropriate critical value based on the level of confidence and sample size.\n",
        "\n",
        "The margin of error is affected by several factors, including the sample size. Generally, as the sample size increases, the margin of error decreases, since larger samples tend to provide more precise estimates of the population parameter.\n",
        "\n",
        "For example, suppose we want to estimate the average income of a population of 10,000 individuals, and we take a random sample of 100 individuals. If the sample has a mean income of $50,000 and a standard deviation of $10,000, the 95% confidence interval can be calculated as:\n",
        "```\n",
        "Margin of error = 1.96 x (standard deviation / sqrt(sample size)) = 1.96 x (10,000 / sqrt(100)) = $1,960\n",
        "\n",
        "Confidence interval = sample mean ± margin of error = $50,000 ± $1,960 = ($48,040, $51,960)\n",
        "```\n",
        "This means that we can be 95% confident that the true population mean income falls between $48,040 and $51,960.\n",
        "\n",
        "If we increase the sample size to 1,000, the margin of error decreases since the standard error is smaller:\n",
        "```\n",
        "Margin of error = 1.96 x (standard deviation / sqrt(sample size)) = 1.96 x (10,000 / sqrt(1,000)) = $619.13\n",
        "\n",
        "Confidence interval = sample mean ± margin of error = $50,000 ± $619.13 = ($49,380.87, $50,619.13)\n",
        "```\n",
        "This means that we can be 95% confident that the true population mean income falls between $49,380.87 and $50,619.13.\n",
        "\n",
        "In this scenario, a larger sample size results in a smaller margin of error, which means that the estimate of the population mean is more precise."
      ],
      "metadata": {
        "id": "pxLCAASUAs4h"
      }
    },
    {
      "cell_type": "markdown",
      "source": [
        "\n",
        "##Q9. Calculate the z-score for a data point with a value of 75, a population mean of 70, and a population standard deviation of 5. Interpret the results.\n"
      ],
      "metadata": {
        "id": "boYlu8KZ9SHK"
      }
    },
    {
      "cell_type": "markdown",
      "source": [
        "To calculate the z-score for a data point with a value of 75, a population mean of 70, and a population standard deviation of 5, we use the formula:\n",
        "```\n",
        "z = (x - μ) / σ\n",
        "\n",
        "where x is the value of the data point, μ is the population mean, and σ is the population standard deviation.\n",
        "```\n",
        "Plugging in the values, we get:\n",
        "```\n",
        "z = (75 - 70) / 5\n",
        "z = 1\n",
        "```\n",
        "Interpreting the results, we can say that the data point of 75 is 1 standard deviation above the population mean. This means that it is relatively far from the average value in the population, and we can use this z-score to calculate probabilities or compare it to other z-scores in a standard normal distribution. For example, we can use a z-table to find that the probability of getting a z-score of 1 or higher is about 0.1587, or 15.87%."
      ],
      "metadata": {
        "id": "jp0LEQ1XA5e8"
      }
    },
    {
      "cell_type": "markdown",
      "source": [
        "## Q10. In a study of the effectiveness of a new weight loss drug, a sample of 50 participants lost an average of 6 pounds with a standard deviation of 2.5 pounds. Conduct a hypothesis test to determine if the drug is significantly effective at a 95% confidence level using a t-test.\n"
      ],
      "metadata": {
        "id": "7FSiJrbl9XUz"
      }
    },
    {
      "cell_type": "markdown",
      "source": [
        "To conduct a hypothesis test to determine if the new weight loss drug is significantly effective at a 95% confidence level, we can use a t-test. Here are the steps to follow:\n",
        "\n",
        "* Step 1: State the null and alternative hypotheses\n",
        "\n",
        ">Null hypothesis (H0): The weight loss drug has no significant effect on weight loss, and the mean weight loss in the population is equal to or less than 0 pounds.\n",
        "Alternative hypothesis (Ha): The weight loss drug has a significant effect on weight loss, and the mean weight loss in the population is greater than 0 pounds.\n",
        "\n",
        "* Step 2: Determine the level of significance and the degrees of freedom\n",
        "\n",
        ">Level of significance (α): 0.05 (since we are using a 95% confidence level)\n",
        "Degrees of freedom (df): n - 1 = 50 - 1 = 49\n",
        "\n",
        "* Step 3: Calculate the test statistic (t-value)\n",
        ">\n",
        "The formula for the t-value is t = (x̄ - μ) / (s / sqrt(n)), where x̄ is the sample mean, μ is the hypothesized population mean under the null hypothesis (which is 0 pounds in this case), s is the sample standard deviation, and n is the sample size.\n",
        "Plugging in the values, we get t = (6 - 0) / (2.5 / sqrt(50)) = 12\n",
        "Note that since the alternative hypothesis is one-tailed (we are testing if the mean weight loss is greater than 0), we use a one-tailed t-test.\n",
        "\n",
        "* Step 4: Find the critical value and compare it to the test statistic\n",
        "\n",
        ">We can find the critical value using a t-table or a calculator with a t-distribution function. Since we have 49 degrees of freedom and a 95% confidence level, the critical value is approximately 1.677.\n",
        "Since the test statistic (t-value) of 12 is much larger than the critical value of 1.677, we can reject the null hypothesis and conclude that the weight loss drug has a significant effect on weight loss at a 95% confidence level.\n",
        "\n",
        "* Step 5: Interpret the results\n",
        "\n",
        ">The results of the hypothesis test suggest that there is sufficient evidence to support the claim that the weight loss drug is effective at helping participants lose weight."
      ],
      "metadata": {
        "id": "weskWOJHBGpi"
      }
    },
    {
      "cell_type": "markdown",
      "source": [
        "\n",
        "##Q11. In a survey of 500 people, 65% reported being satisfied with their current job. Calculate the 95% confidence interval for the true proportion of people who are satisfied with their job.\n"
      ],
      "metadata": {
        "id": "MgRnDaQn9cp7"
      }
    },
    {
      "cell_type": "markdown",
      "source": [
        "To calculate the 95% confidence interval for the true proportion of people who are satisfied with their job based on a survey of 500 people with 65% reporting being satisfied, we can use the following formula:\n",
        "```\n",
        "CI = p ± z*(sqrt(p*(1-p)/n))\n",
        "```\n",
        "where CI is the confidence interval, p is the sample proportion, z is the z-score corresponding to the desired confidence level (1.96 for 95% confidence), and n is the sample size.\n",
        "```\n",
        "Plugging in the values, we get:\n",
        "\n",
        "CI = 0.65 ± 1.96*(sqrt(0.65*(1-0.65)/500))\n",
        "CI = 0.65 ± 0.046\n",
        "```\n",
        "Therefore, the 95% confidence interval for the true proportion of people who are satisfied with their job is (0.604, 0.696). We can interpret this interval as follows: if we were to repeat the survey many times, about 95% of the intervals we calculate using this method would contain the true proportion of people who are satisfied with their job. This range suggests that it is highly likely that the true proportion of people satisfied with their job lies between 0.604 and 0.696."
      ],
      "metadata": {
        "id": "VKODLeuPBX3z"
      }
    },
    {
      "cell_type": "markdown",
      "source": [
        "\n",
        "##Q12. A researcher is testing the effectiveness of two different teaching methods on student performance.Sample A has a mean score of 85 with a standard deviation of 6, while sample B has a mean score of 82 with a standard deviation of 5. Conduct a hypothesis test to determine if the two teaching methods have a significant difference in student performance using a t-test with a significance level of 0.01.\n"
      ],
      "metadata": {
        "id": "dRUws3fc9hVd"
      }
    },
    {
      "cell_type": "markdown",
      "source": [
        "To conduct a hypothesis test to determine if the two teaching methods have a significant difference in student performance, we can use a two-sample t-test. The null hypothesis is that the means of the two samples are equal, while the alternative hypothesis is that they are not equal.\n",
        "```\n",
        "H0: µA = µB\n",
        "Ha: µA ≠ µB\n",
        "\n",
        "where µA is the population mean for sample A, and µB is the population mean for sample B.\n",
        "```\n",
        "We can calculate the t-statistic using the following formula:\n",
        "```\n",
        "t = (x̄A - x̄B) / (sqrt((s^2A/nA) + (s^2B/nB)))\n",
        "\n",
        "where x̄A and x̄B are the sample means, s^2A and s^2B are the sample variances, and nA and nB are the sample sizes.\n",
        "```\n",
        "Plugging in the values, we get:\n",
        "```\n",
        "t = (85 - 82) / (sqrt((6^2/100) + (5^2/100)))\n",
        "t = 3 / 0.789\n",
        "t = 3.80\n",
        "```\n",
        "Using a t-distribution table with a significance level of 0.01 and degrees of freedom of 198 (100 for sample A and 99 for sample B, since we are assuming equal variances), the critical values are ±2.603.\n",
        "\n",
        "Since our calculated t-value (3.80) is greater than the critical value (2.603), we reject the null hypothesis and conclude that there is a significant difference in student performance between the two teaching methods at the 0.01 significance level.\n",
        "\n",
        "Therefore, we can say that there is evidence to support the alternative hypothesis that the means of the two samples are not equal, and that one teaching method is more effective than the other."
      ],
      "metadata": {
        "id": "cNiQnUA1BrzK"
      }
    },
    {
      "cell_type": "markdown",
      "source": [
        "\n",
        "##Q13. A population has a mean of 60 and a standard deviation of 8. A sample of 50 observations has a mean of 65. Calculate the 90% confidence interval for the true population mean."
      ],
      "metadata": {
        "id": "DJ281_nb9njb"
      }
    },
    {
      "cell_type": "markdown",
      "source": [
        "To calculate the 90% confidence interval for the true population mean, we can use the following formula:\n",
        "```\n",
        "CI = x̄ ± z*(σ/√n)\n",
        "\n",
        "where CI is the confidence interval, x̄ is the sample mean, z is the z-score corresponding to the desired confidence level (90% in this case), σ is the population standard deviation, and n is the sample size.\n",
        "```\n",
        "First, we need to find the value of z. From a standard normal distribution table, we find that the z-score corresponding to a 90% confidence level is 1.645.\n",
        "\n",
        "Plugging in the values, we get:\n",
        "```\n",
        "CI = 65 ± 1.645*(8/√50)\n",
        "CI = 65 ± 2.93\n",
        "```\n",
        "Therefore, the 90% confidence interval for the true population mean is (62.07, 67.93). This means that we can be 90% confident that the true population mean lies within this range based on the sample mean of 65.\n",
        "\n",
        "Interpretation: The true population mean has a 90% chance of being between 62.07 and 67.93."
      ],
      "metadata": {
        "id": "A4hbxz_gBxvp"
      }
    },
    {
      "cell_type": "markdown",
      "source": [
        "##Q14. In a study of the effects of caffeine on reaction time, a sample of 30 participants had an average reaction time of 0.25 seconds with a standard deviation of 0.05 seconds. Conduct a hypothesis test to determine if the caffeine has a significant effect on reaction time at a 90% confidence level using a t-test. "
      ],
      "metadata": {
        "id": "oDLMX57i9txz"
      }
    },
    {
      "cell_type": "markdown",
      "source": [
        "To conduct a hypothesis test to determine if caffeine has a significant effect on reaction time, we need to set up our null and alternative hypotheses:\n",
        "\n",
        "Null hypothesis: There is no significant difference in reaction time between participants who consume caffeine and those who do not.\n",
        "\n",
        "Alternative hypothesis: Participants who consume caffeine have a significantly different reaction time compared to those who do not.\n",
        "\n",
        "We can use a t-test to test the hypotheses since we have a sample size of 30 and do not know the population standard deviation.\n",
        "\n",
        "We'll use a significance level of 0.1 (90% confidence level) for this test.\n",
        "```\n",
        "First, we need to calculate the t-value using the formula:\n",
        "\n",
        "t = (x̄ - μ) / (s / sqrt(n))\n",
        "\n",
        "where x̄ is the sample mean, μ is the population mean (we assume it to be 0 for the null hypothesis), s is the sample standard deviation, and n is the sample size.\n",
        "```\n",
        "Plugging in the values, we get:\n",
        "```\n",
        "t = (0.25 - 0) / (0.05 / sqrt(30))\n",
        "t = 5.48\n",
        "```\n",
        "Next, we need to find the critical t-value from a t-distribution table with 29 degrees of freedom and a significance level of 0.1. From the table, we find the critical t-value to be ±1.699.\n",
        "\n",
        "Since our calculated t-value of 5.48 is greater than the critical t-value of 1.699, we reject the null hypothesis. This means that there is a significant difference in reaction time between participants who consume caffeine and those who do not.\n",
        "\n",
        "Therefore, we can conclude that caffeine has a significant effect on reaction time at a 90% confidence level."
      ],
      "metadata": {
        "id": "0puRPh37B4wM"
      }
    },
    {
      "cell_type": "code",
      "source": [],
      "metadata": {
        "id": "OJcX-5qG8sqV"
      },
      "execution_count": null,
      "outputs": []
    }
  ]
}