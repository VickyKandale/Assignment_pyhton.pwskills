{
  "nbformat": 4,
  "nbformat_minor": 0,
  "metadata": {
    "colab": {
      "provenance": [],
      "authorship_tag": "ABX9TyPBCIr7PFuZE5ljazQcKzrO",
      "include_colab_link": true
    },
    "kernelspec": {
      "name": "python3",
      "display_name": "Python 3"
    },
    "language_info": {
      "name": "python"
    }
  },
  "cells": [
    {
      "cell_type": "markdown",
      "metadata": {
        "id": "view-in-github",
        "colab_type": "text"
      },
      "source": [
        "<a href=\"https://colab.research.google.com/github/VickyKandale/Assignment_pyhton.pwskills/blob/main/7th_Feb_Assignment.ipynb\" target=\"_parent\"><img src=\"https://colab.research.google.com/assets/colab-badge.svg\" alt=\"Open In Colab\"/></a>"
      ]
    },
    {
      "cell_type": "markdown",
      "source": [
        "Q1. You are writing code for a company. The requirement of the company is that you create a python\n",
        "function that will check whether the password entered by the user is correct or not. The function should\n",
        "take the password as input and return the string “Valid Password” if the entered password follows the\n",
        "below-given password guidelines else it should return “Invalid Password”.\n",
        "\n",
        "\n",
        "Note: 1. The Password should contain at least two uppercase letters and at least two lowercase letters.\n",
        "\n",
        "2. The Password should contain at least a number and three special characters.\n",
        "\n",
        "3. The length of the password should be 10 characters long."
      ],
      "metadata": {
        "id": "GRYcneX_s7Pk"
      }
    },
    {
      "cell_type": "code",
      "source": [
        "def check_password(password):\n",
        "    if len(password) != 10:\n",
        "        return \"Invalid Password\"\n",
        "    upper_count = sum(1 for c in password if c.isupper())\n",
        "    lower_count = sum(1 for c in password if c.islower())\n",
        "    digit_count = sum(1 for c in password if c.isdigit())\n",
        "    \n",
        "    special_char=['!','@','#','`','~','$','%','^','&','*','(',')','_','-','+','=',';',',','?','/','.','|']\n",
        "    count=0\n",
        "    for i in password:      \n",
        "      for l in special_char:        \n",
        "        if i==l:\n",
        "           count+=1\n",
        "           #print(f\"count : {count}\")\n",
        "        elif count>3:\n",
        "          return \"Invalid Password\"\n",
        "         \n",
        "    if upper_count < 2 or lower_count < 2 or digit_count < 1:\n",
        "        return \"Invalid Password\"\n",
        "    else:\n",
        "        return \"Valid Password\""
      ],
      "metadata": {
        "id": "pkrnt-6Ts9M-"
      },
      "execution_count": null,
      "outputs": []
    },
    {
      "cell_type": "code",
      "source": [
        "check_password(input(\"Enter the password: \"))"
      ],
      "metadata": {
        "id": "6-Q23JjY7vKj"
      },
      "execution_count": null,
      "outputs": []
    },
    {
      "cell_type": "markdown",
      "source": [
        "Q2. Solve the below-given questions using at least one of the following: \n",
        "\n",
        "1. Lambda function\n",
        "2. Filter function\n",
        "3. map function\n",
        "4. List Comprehension\n",
        "\n",
        " a.Check if the string starts with a particular letter\n",
        "\n",
        " b.Check if the string is numeric\n",
        "\n",
        " c.Sort a list of tuples having fruit names and their quantity. [(\"mango\",99),(\"orange\",80), (\"grapes\", 1000)]\n",
        "\n",
        " d.Find the squares of numbers from 1 to 10\n",
        "\n",
        " e.Find the cube root of numbers from 1 to 10\n",
        "\n",
        " f.Check if a given number is even\n",
        "\n",
        " g.Filter odd numbers from the given list.\n",
        "\n",
        " [1,2,3,4,5,6,7,8,9,10]\n",
        "\n",
        " h.Sort a list of integers into positive and negative integers lists.\n",
        "\n",
        " [1,2,3,4,5,6,-1,-2,-3,-4,-5,0]"
      ],
      "metadata": {
        "id": "88Wb_Hd6vzVq"
      }
    },
    {
      "cell_type": "code",
      "source": [
        "# a. check if the string starts with a particaular letter with list comprehension\n",
        "\n",
        "string_data=['Abhi','Surya','Raju','Santosh']\n",
        "\n",
        "input1=input(\"Guess the start letter: \")\n",
        "\n",
        "result = [s for s in string_data if s.startswith(input1)]\n",
        "print(result)"
      ],
      "metadata": {
        "id": "ZFUzqZG5w_N5",
        "colab": {
          "base_uri": "https://localhost:8080/"
        },
        "outputId": "9383b3dd-fd5b-41d2-b358-90f887d66548"
      },
      "execution_count": 2,
      "outputs": [
        {
          "output_type": "stream",
          "name": "stdout",
          "text": [
            "Guess the start letter: A\n",
            "['Abhi']\n"
          ]
        }
      ]
    },
    {
      "cell_type": "code",
      "source": [
        "\n",
        "# b. Check if the string is numeric with map function\n",
        "\n",
        "data=['Abhi','Surya','12','2']\n",
        "\n",
        "def is_numeric(s):\n",
        "    try:\n",
        "        float(s)\n",
        "        return True\n",
        "    except ValueError:\n",
        "        return False\n",
        "result=list(map(is_numeric,data))\n",
        "print(result)"
      ],
      "metadata": {
        "colab": {
          "base_uri": "https://localhost:8080/"
        },
        "id": "cva5lJZd8-hz",
        "outputId": "ebaf4247-16c2-4706-b685-422981e397a8"
      },
      "execution_count": 15,
      "outputs": [
        {
          "output_type": "stream",
          "name": "stdout",
          "text": [
            "[False, False, True, True]\n"
          ]
        }
      ]
    },
    {
      "cell_type": "code",
      "source": [
        "# c. Sort a list of tuples having fruit names and their quantity. [(\"mango\",99),(\"orange\",80), (\"grapes\", 1000)] with filter  function\n",
        "\n",
        "v=[(\"mango\",99),(\"orange\",80), (\"grapes\", 1000)]\n",
        "\n",
        "# use filter() to remove tuples with quantity less than or equal to 100\n",
        "filtered_lst = list(filter(lambda x: x[1] < 1001, v))\n",
        "\n",
        "# sort the remaining tuples by quantity in descending order\n",
        "sorted_lst = sorted(filtered_lst, key=lambda x: x[1], reverse=True)\n",
        "\n",
        "# print the sorted list\n",
        "print(sorted_lst)\n"
      ],
      "metadata": {
        "colab": {
          "base_uri": "https://localhost:8080/"
        },
        "id": "k4Mvwq7b_E7M",
        "outputId": "7262e45a-84b0-43f4-cace-29106926631b"
      },
      "execution_count": 18,
      "outputs": [
        {
          "output_type": "stream",
          "name": "stdout",
          "text": [
            "[('grapes', 1000), ('mango', 99), ('orange', 80)]\n"
          ]
        }
      ]
    },
    {
      "cell_type": "code",
      "source": [
        "# d.Find the squares of numbers from 1 to 10  with map function\n",
        "\n",
        "number=[l for l in range(1,11)]\n",
        "\n",
        "def square_of_numbers(x):\n",
        "  return x**2\n",
        "\n",
        "square_of_numbers=list(map(square_of_numbers,number))\n",
        "square_of_numbers\n"
      ],
      "metadata": {
        "colab": {
          "base_uri": "https://localhost:8080/"
        },
        "id": "SZwvNApYDnVN",
        "outputId": "f67d709e-5d6c-4339-a731-d5179196fefc"
      },
      "execution_count": 23,
      "outputs": [
        {
          "output_type": "execute_result",
          "data": {
            "text/plain": [
              "[1, 4, 9, 16, 25, 36, 49, 64, 81, 100]"
            ]
          },
          "metadata": {},
          "execution_count": 23
        }
      ]
    },
    {
      "cell_type": "code",
      "source": [
        "# e.Find the cube root of numbers from 1 to 10 with lambda\n",
        "\n",
        "cube_root_of_number=list(map(lambda x:round(x**(1/3),2), range(1,11)))\n",
        "cube_root_of_number\n"
      ],
      "metadata": {
        "colab": {
          "base_uri": "https://localhost:8080/"
        },
        "id": "_ZypyIOQE7Ad",
        "outputId": "73245ebc-ee9f-4bf6-8636-c4fc25d27ba6"
      },
      "execution_count": 27,
      "outputs": [
        {
          "output_type": "execute_result",
          "data": {
            "text/plain": [
              "[1.0, 1.26, 1.44, 1.59, 1.71, 1.82, 1.91, 2.0, 2.08, 2.15]"
            ]
          },
          "metadata": {},
          "execution_count": 27
        }
      ]
    },
    {
      "cell_type": "code",
      "source": [
        "# f.Check if a given number is even\n",
        "\n",
        "def is_even(n):\n",
        "    return n % 2 == 0\n",
        "\n",
        "# use filter() with a lambda function to filter out even numbers\n",
        "numbers = range(1,11)\n",
        "even_numbers = list(filter(lambda x: is_even(x), numbers))\n",
        "\n",
        "# print the result\n",
        "print(even_numbers)"
      ],
      "metadata": {
        "colab": {
          "base_uri": "https://localhost:8080/"
        },
        "id": "0uCA5Kz5Ks_H",
        "outputId": "fa7b64e3-ad52-4065-8658-710339a83fe3"
      },
      "execution_count": 28,
      "outputs": [
        {
          "output_type": "stream",
          "name": "stdout",
          "text": [
            "[2, 4, 6, 8, 10]\n"
          ]
        }
      ]
    },
    {
      "cell_type": "code",
      "source": [
        "# g.Filter odd numbers from the given list with list comprehension.\n",
        "\n",
        "\n",
        "p=range(1,11)\n",
        "\n",
        "odd_numbers=[l for l in p if l % 2!=0]\n",
        "odd_numbers\n"
      ],
      "metadata": {
        "colab": {
          "base_uri": "https://localhost:8080/"
        },
        "id": "nfVSvbXbNWPj",
        "outputId": "358d75cc-3ba4-4daf-9ce7-cc41926dc118"
      },
      "execution_count": 31,
      "outputs": [
        {
          "output_type": "execute_result",
          "data": {
            "text/plain": [
              "[1, 3, 5, 7, 9]"
            ]
          },
          "metadata": {},
          "execution_count": 31
        }
      ]
    },
    {
      "cell_type": "code",
      "source": [
        "\n",
        "# h Sort a list of integers into positive and negative integers lists.\n",
        "x=[1,2,3,4,5,6,-1,-2,-3,-4,-5,0]\n",
        "\n",
        "\n",
        "positive_integers=[p for p in x if p>0]\n",
        "negative_integers=[p for p in x if p<0]\n",
        "\n",
        "print(f'Positive integers : {positive_integers}')\n",
        "print(f'Negative integers : {negative_integers}')\n"
      ],
      "metadata": {
        "colab": {
          "base_uri": "https://localhost:8080/"
        },
        "id": "c0-V_cQNOYOT",
        "outputId": "9bface03-b2bb-44d6-95e4-b4479a0ada66"
      },
      "execution_count": 40,
      "outputs": [
        {
          "output_type": "stream",
          "name": "stdout",
          "text": [
            "Positive integers : [1, 2, 3, 4, 5, 6]\n",
            "Negative integers : [-1, -2, -3, -4, -5]\n"
          ]
        }
      ]
    },
    {
      "cell_type": "code",
      "source": [],
      "metadata": {
        "id": "dGIBgKTrPikE"
      },
      "execution_count": null,
      "outputs": []
    }
  ]
}